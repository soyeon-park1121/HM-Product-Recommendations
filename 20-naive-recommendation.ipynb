{
  "nbformat": 4,
  "nbformat_minor": 0,
  "metadata": {
    "colab": {
      "name": "20-naive-recommendation.ipynb",
      "provenance": []
    },
    "kernelspec": {
      "name": "python3",
      "display_name": "Python 3"
    },
    "language_info": {
      "name": "python"
    }
  },
  "cells": [
    {
      "cell_type": "code",
      "execution_count": null,
      "metadata": {
        "id": "c2aI-NlEciiV"
      },
      "outputs": [],
      "source": [
        "import pandas as pd\n",
        "import numpy as np\n",
        "pd.set_option('display.max_columns', None)"
      ]
    },
    {
      "cell_type": "code",
      "source": [
        "dat_train = pd.read_csv('/content/drive/MyDrive/social-networks-project/training_test/train_revise.csv').drop('Unnamed: 0',1)\n",
        "dat_test = pd.read_csv('/content/drive/MyDrive/social-networks-project/training_test/test_revise.csv').drop('Unnamed: 0',1)"
      ],
      "metadata": {
        "id": "YGa1F-2zc2aD"
      },
      "execution_count": null,
      "outputs": []
    },
    {
      "cell_type": "code",
      "source": [
        "top10 = dat_train.groupby('article_id').count().head(10).index.tolist()\n"
      ],
      "metadata": {
        "id": "USode-FmdAM5"
      },
      "execution_count": null,
      "outputs": []
    },
    {
      "cell_type": "code",
      "source": [
        "for i in range(len(dat_test)):\n",
        "  if dat_test.iloc[i]['article_id'] in top10:\n",
        "    top_ten_accs.append(1)\n",
        "  else:\n",
        "    top_ten_accs.append(0)\n",
        "dat_test['top_ten_acc'] = top_ten_accs"
      ],
      "metadata": {
        "id": "rtcbajwpdFHZ"
      },
      "execution_count": null,
      "outputs": []
    },
    {
      "cell_type": "code",
      "source": [
        "dat_test[['rec_acc','top_ten_acc']].mean()"
      ],
      "metadata": {
        "id": "2YXwpRM_dp1J"
      },
      "execution_count": null,
      "outputs": []
    }
  ]
}