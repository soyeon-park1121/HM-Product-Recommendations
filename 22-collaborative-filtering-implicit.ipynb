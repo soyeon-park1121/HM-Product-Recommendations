{
  "nbformat": 4,
  "nbformat_minor": 0,
  "metadata": {
    "colab": {
      "name": "collaborative-filtering-implicit.ipynb",
      "provenance": [],
      "collapsed_sections": []
    },
    "kernelspec": {
      "name": "python3",
      "display_name": "Python 3"
    },
    "language_info": {
      "name": "python"
    },
    "accelerator": "GPU",
    "widgets": {
      "application/vnd.jupyter.widget-state+json": {
        "d9f7ba24a3d142e1b952b92408b0370c": {
          "model_module": "@jupyter-widgets/controls",
          "model_name": "HBoxModel",
          "model_module_version": "1.5.0",
          "state": {
            "_dom_classes": [],
            "_model_module": "@jupyter-widgets/controls",
            "_model_module_version": "1.5.0",
            "_model_name": "HBoxModel",
            "_view_count": null,
            "_view_module": "@jupyter-widgets/controls",
            "_view_module_version": "1.5.0",
            "_view_name": "HBoxView",
            "box_style": "",
            "children": [
              "IPY_MODEL_32cd36fb2ee848a7890e25fe9664a4fa",
              "IPY_MODEL_8e67b1a9c36643938c6ebcf2fb81a5a3",
              "IPY_MODEL_99290e313b3048448aa167ce482296a2"
            ],
            "layout": "IPY_MODEL_1ee73db677a64971bb8c6cd0c8376fd5"
          }
        },
        "32cd36fb2ee848a7890e25fe9664a4fa": {
          "model_module": "@jupyter-widgets/controls",
          "model_name": "HTMLModel",
          "model_module_version": "1.5.0",
          "state": {
            "_dom_classes": [],
            "_model_module": "@jupyter-widgets/controls",
            "_model_module_version": "1.5.0",
            "_model_name": "HTMLModel",
            "_view_count": null,
            "_view_module": "@jupyter-widgets/controls",
            "_view_module_version": "1.5.0",
            "_view_name": "HTMLView",
            "description": "",
            "description_tooltip": null,
            "layout": "IPY_MODEL_b341b5ac57984b1eb10a6dcfbc23b0a9",
            "placeholder": "​",
            "style": "IPY_MODEL_5e05c0101bd74dc3bf8c0226a0301908",
            "value": "100%"
          }
        },
        "8e67b1a9c36643938c6ebcf2fb81a5a3": {
          "model_module": "@jupyter-widgets/controls",
          "model_name": "FloatProgressModel",
          "model_module_version": "1.5.0",
          "state": {
            "_dom_classes": [],
            "_model_module": "@jupyter-widgets/controls",
            "_model_module_version": "1.5.0",
            "_model_name": "FloatProgressModel",
            "_view_count": null,
            "_view_module": "@jupyter-widgets/controls",
            "_view_module_version": "1.5.0",
            "_view_name": "ProgressView",
            "bar_style": "success",
            "description": "",
            "description_tooltip": null,
            "layout": "IPY_MODEL_2cce1ac59ea84ab1a3cc3851dd5084e6",
            "max": 286521,
            "min": 0,
            "orientation": "horizontal",
            "style": "IPY_MODEL_c6ab4cbdebf5427ab74c8e3b76f82e4b",
            "value": 286521
          }
        },
        "99290e313b3048448aa167ce482296a2": {
          "model_module": "@jupyter-widgets/controls",
          "model_name": "HTMLModel",
          "model_module_version": "1.5.0",
          "state": {
            "_dom_classes": [],
            "_model_module": "@jupyter-widgets/controls",
            "_model_module_version": "1.5.0",
            "_model_name": "HTMLModel",
            "_view_count": null,
            "_view_module": "@jupyter-widgets/controls",
            "_view_module_version": "1.5.0",
            "_view_name": "HTMLView",
            "description": "",
            "description_tooltip": null,
            "layout": "IPY_MODEL_51631394f20245449ce8a9fcb5027f2f",
            "placeholder": "​",
            "style": "IPY_MODEL_37ad05d6f29d4b208fb16bca0df81673",
            "value": " 286521/286521 [00:00&lt;00:00, 655753.13it/s]"
          }
        },
        "1ee73db677a64971bb8c6cd0c8376fd5": {
          "model_module": "@jupyter-widgets/base",
          "model_name": "LayoutModel",
          "model_module_version": "1.2.0",
          "state": {
            "_model_module": "@jupyter-widgets/base",
            "_model_module_version": "1.2.0",
            "_model_name": "LayoutModel",
            "_view_count": null,
            "_view_module": "@jupyter-widgets/base",
            "_view_module_version": "1.2.0",
            "_view_name": "LayoutView",
            "align_content": null,
            "align_items": null,
            "align_self": null,
            "border": null,
            "bottom": null,
            "display": null,
            "flex": null,
            "flex_flow": null,
            "grid_area": null,
            "grid_auto_columns": null,
            "grid_auto_flow": null,
            "grid_auto_rows": null,
            "grid_column": null,
            "grid_gap": null,
            "grid_row": null,
            "grid_template_areas": null,
            "grid_template_columns": null,
            "grid_template_rows": null,
            "height": null,
            "justify_content": null,
            "justify_items": null,
            "left": null,
            "margin": null,
            "max_height": null,
            "max_width": null,
            "min_height": null,
            "min_width": null,
            "object_fit": null,
            "object_position": null,
            "order": null,
            "overflow": null,
            "overflow_x": null,
            "overflow_y": null,
            "padding": null,
            "right": null,
            "top": null,
            "visibility": null,
            "width": null
          }
        },
        "b341b5ac57984b1eb10a6dcfbc23b0a9": {
          "model_module": "@jupyter-widgets/base",
          "model_name": "LayoutModel",
          "model_module_version": "1.2.0",
          "state": {
            "_model_module": "@jupyter-widgets/base",
            "_model_module_version": "1.2.0",
            "_model_name": "LayoutModel",
            "_view_count": null,
            "_view_module": "@jupyter-widgets/base",
            "_view_module_version": "1.2.0",
            "_view_name": "LayoutView",
            "align_content": null,
            "align_items": null,
            "align_self": null,
            "border": null,
            "bottom": null,
            "display": null,
            "flex": null,
            "flex_flow": null,
            "grid_area": null,
            "grid_auto_columns": null,
            "grid_auto_flow": null,
            "grid_auto_rows": null,
            "grid_column": null,
            "grid_gap": null,
            "grid_row": null,
            "grid_template_areas": null,
            "grid_template_columns": null,
            "grid_template_rows": null,
            "height": null,
            "justify_content": null,
            "justify_items": null,
            "left": null,
            "margin": null,
            "max_height": null,
            "max_width": null,
            "min_height": null,
            "min_width": null,
            "object_fit": null,
            "object_position": null,
            "order": null,
            "overflow": null,
            "overflow_x": null,
            "overflow_y": null,
            "padding": null,
            "right": null,
            "top": null,
            "visibility": null,
            "width": null
          }
        },
        "5e05c0101bd74dc3bf8c0226a0301908": {
          "model_module": "@jupyter-widgets/controls",
          "model_name": "DescriptionStyleModel",
          "model_module_version": "1.5.0",
          "state": {
            "_model_module": "@jupyter-widgets/controls",
            "_model_module_version": "1.5.0",
            "_model_name": "DescriptionStyleModel",
            "_view_count": null,
            "_view_module": "@jupyter-widgets/base",
            "_view_module_version": "1.2.0",
            "_view_name": "StyleView",
            "description_width": ""
          }
        },
        "2cce1ac59ea84ab1a3cc3851dd5084e6": {
          "model_module": "@jupyter-widgets/base",
          "model_name": "LayoutModel",
          "model_module_version": "1.2.0",
          "state": {
            "_model_module": "@jupyter-widgets/base",
            "_model_module_version": "1.2.0",
            "_model_name": "LayoutModel",
            "_view_count": null,
            "_view_module": "@jupyter-widgets/base",
            "_view_module_version": "1.2.0",
            "_view_name": "LayoutView",
            "align_content": null,
            "align_items": null,
            "align_self": null,
            "border": null,
            "bottom": null,
            "display": null,
            "flex": null,
            "flex_flow": null,
            "grid_area": null,
            "grid_auto_columns": null,
            "grid_auto_flow": null,
            "grid_auto_rows": null,
            "grid_column": null,
            "grid_gap": null,
            "grid_row": null,
            "grid_template_areas": null,
            "grid_template_columns": null,
            "grid_template_rows": null,
            "height": null,
            "justify_content": null,
            "justify_items": null,
            "left": null,
            "margin": null,
            "max_height": null,
            "max_width": null,
            "min_height": null,
            "min_width": null,
            "object_fit": null,
            "object_position": null,
            "order": null,
            "overflow": null,
            "overflow_x": null,
            "overflow_y": null,
            "padding": null,
            "right": null,
            "top": null,
            "visibility": null,
            "width": null
          }
        },
        "c6ab4cbdebf5427ab74c8e3b76f82e4b": {
          "model_module": "@jupyter-widgets/controls",
          "model_name": "ProgressStyleModel",
          "model_module_version": "1.5.0",
          "state": {
            "_model_module": "@jupyter-widgets/controls",
            "_model_module_version": "1.5.0",
            "_model_name": "ProgressStyleModel",
            "_view_count": null,
            "_view_module": "@jupyter-widgets/base",
            "_view_module_version": "1.2.0",
            "_view_name": "StyleView",
            "bar_color": null,
            "description_width": ""
          }
        },
        "51631394f20245449ce8a9fcb5027f2f": {
          "model_module": "@jupyter-widgets/base",
          "model_name": "LayoutModel",
          "model_module_version": "1.2.0",
          "state": {
            "_model_module": "@jupyter-widgets/base",
            "_model_module_version": "1.2.0",
            "_model_name": "LayoutModel",
            "_view_count": null,
            "_view_module": "@jupyter-widgets/base",
            "_view_module_version": "1.2.0",
            "_view_name": "LayoutView",
            "align_content": null,
            "align_items": null,
            "align_self": null,
            "border": null,
            "bottom": null,
            "display": null,
            "flex": null,
            "flex_flow": null,
            "grid_area": null,
            "grid_auto_columns": null,
            "grid_auto_flow": null,
            "grid_auto_rows": null,
            "grid_column": null,
            "grid_gap": null,
            "grid_row": null,
            "grid_template_areas": null,
            "grid_template_columns": null,
            "grid_template_rows": null,
            "height": null,
            "justify_content": null,
            "justify_items": null,
            "left": null,
            "margin": null,
            "max_height": null,
            "max_width": null,
            "min_height": null,
            "min_width": null,
            "object_fit": null,
            "object_position": null,
            "order": null,
            "overflow": null,
            "overflow_x": null,
            "overflow_y": null,
            "padding": null,
            "right": null,
            "top": null,
            "visibility": null,
            "width": null
          }
        },
        "37ad05d6f29d4b208fb16bca0df81673": {
          "model_module": "@jupyter-widgets/controls",
          "model_name": "DescriptionStyleModel",
          "model_module_version": "1.5.0",
          "state": {
            "_model_module": "@jupyter-widgets/controls",
            "_model_module_version": "1.5.0",
            "_model_name": "DescriptionStyleModel",
            "_view_count": null,
            "_view_module": "@jupyter-widgets/base",
            "_view_module_version": "1.2.0",
            "_view_name": "StyleView",
            "description_width": ""
          }
        },
        "1d7573718508491aa58601c4966953fd": {
          "model_module": "@jupyter-widgets/controls",
          "model_name": "HBoxModel",
          "model_module_version": "1.5.0",
          "state": {
            "_dom_classes": [],
            "_model_module": "@jupyter-widgets/controls",
            "_model_module_version": "1.5.0",
            "_model_name": "HBoxModel",
            "_view_count": null,
            "_view_module": "@jupyter-widgets/controls",
            "_view_module_version": "1.5.0",
            "_view_name": "HBoxView",
            "box_style": "",
            "children": [
              "IPY_MODEL_5f59e0b6d4944c63953da768e33f0c89",
              "IPY_MODEL_79dcb1146d7d4c8c81597e66ec5b81f7",
              "IPY_MODEL_6e21fc4cafbc4e79b49f97aa9531aca2"
            ],
            "layout": "IPY_MODEL_5f789ab92b9446e8a8add8ab3045e189"
          }
        },
        "5f59e0b6d4944c63953da768e33f0c89": {
          "model_module": "@jupyter-widgets/controls",
          "model_name": "HTMLModel",
          "model_module_version": "1.5.0",
          "state": {
            "_dom_classes": [],
            "_model_module": "@jupyter-widgets/controls",
            "_model_module_version": "1.5.0",
            "_model_name": "HTMLModel",
            "_view_count": null,
            "_view_module": "@jupyter-widgets/controls",
            "_view_module_version": "1.5.0",
            "_view_name": "HTMLView",
            "description": "",
            "description_tooltip": null,
            "layout": "IPY_MODEL_71395482fd444418a37e148b8273dc1b",
            "placeholder": "​",
            "style": "IPY_MODEL_5f44058cd9a44feb89331c316fdb84fb",
            "value": "100%"
          }
        },
        "79dcb1146d7d4c8c81597e66ec5b81f7": {
          "model_module": "@jupyter-widgets/controls",
          "model_name": "FloatProgressModel",
          "model_module_version": "1.5.0",
          "state": {
            "_dom_classes": [],
            "_model_module": "@jupyter-widgets/controls",
            "_model_module_version": "1.5.0",
            "_model_name": "FloatProgressModel",
            "_view_count": null,
            "_view_module": "@jupyter-widgets/controls",
            "_view_module_version": "1.5.0",
            "_view_name": "ProgressView",
            "bar_style": "success",
            "description": "",
            "description_tooltip": null,
            "layout": "IPY_MODEL_18081c0fea4f4684a49bcbc0f497ac71",
            "max": 286521,
            "min": 0,
            "orientation": "horizontal",
            "style": "IPY_MODEL_f90a22f5dfe2416489b6f5a993ca0a46",
            "value": 286521
          }
        },
        "6e21fc4cafbc4e79b49f97aa9531aca2": {
          "model_module": "@jupyter-widgets/controls",
          "model_name": "HTMLModel",
          "model_module_version": "1.5.0",
          "state": {
            "_dom_classes": [],
            "_model_module": "@jupyter-widgets/controls",
            "_model_module_version": "1.5.0",
            "_model_name": "HTMLModel",
            "_view_count": null,
            "_view_module": "@jupyter-widgets/controls",
            "_view_module_version": "1.5.0",
            "_view_name": "HTMLView",
            "description": "",
            "description_tooltip": null,
            "layout": "IPY_MODEL_736dbf601ca842ca81afaf8a9fb29b43",
            "placeholder": "​",
            "style": "IPY_MODEL_a0631cd2e1994143bead7679864a95ab",
            "value": " 286521/286521 [00:00&lt;00:00, 342244.28it/s]"
          }
        },
        "5f789ab92b9446e8a8add8ab3045e189": {
          "model_module": "@jupyter-widgets/base",
          "model_name": "LayoutModel",
          "model_module_version": "1.2.0",
          "state": {
            "_model_module": "@jupyter-widgets/base",
            "_model_module_version": "1.2.0",
            "_model_name": "LayoutModel",
            "_view_count": null,
            "_view_module": "@jupyter-widgets/base",
            "_view_module_version": "1.2.0",
            "_view_name": "LayoutView",
            "align_content": null,
            "align_items": null,
            "align_self": null,
            "border": null,
            "bottom": null,
            "display": null,
            "flex": null,
            "flex_flow": null,
            "grid_area": null,
            "grid_auto_columns": null,
            "grid_auto_flow": null,
            "grid_auto_rows": null,
            "grid_column": null,
            "grid_gap": null,
            "grid_row": null,
            "grid_template_areas": null,
            "grid_template_columns": null,
            "grid_template_rows": null,
            "height": null,
            "justify_content": null,
            "justify_items": null,
            "left": null,
            "margin": null,
            "max_height": null,
            "max_width": null,
            "min_height": null,
            "min_width": null,
            "object_fit": null,
            "object_position": null,
            "order": null,
            "overflow": null,
            "overflow_x": null,
            "overflow_y": null,
            "padding": null,
            "right": null,
            "top": null,
            "visibility": null,
            "width": null
          }
        },
        "71395482fd444418a37e148b8273dc1b": {
          "model_module": "@jupyter-widgets/base",
          "model_name": "LayoutModel",
          "model_module_version": "1.2.0",
          "state": {
            "_model_module": "@jupyter-widgets/base",
            "_model_module_version": "1.2.0",
            "_model_name": "LayoutModel",
            "_view_count": null,
            "_view_module": "@jupyter-widgets/base",
            "_view_module_version": "1.2.0",
            "_view_name": "LayoutView",
            "align_content": null,
            "align_items": null,
            "align_self": null,
            "border": null,
            "bottom": null,
            "display": null,
            "flex": null,
            "flex_flow": null,
            "grid_area": null,
            "grid_auto_columns": null,
            "grid_auto_flow": null,
            "grid_auto_rows": null,
            "grid_column": null,
            "grid_gap": null,
            "grid_row": null,
            "grid_template_areas": null,
            "grid_template_columns": null,
            "grid_template_rows": null,
            "height": null,
            "justify_content": null,
            "justify_items": null,
            "left": null,
            "margin": null,
            "max_height": null,
            "max_width": null,
            "min_height": null,
            "min_width": null,
            "object_fit": null,
            "object_position": null,
            "order": null,
            "overflow": null,
            "overflow_x": null,
            "overflow_y": null,
            "padding": null,
            "right": null,
            "top": null,
            "visibility": null,
            "width": null
          }
        },
        "5f44058cd9a44feb89331c316fdb84fb": {
          "model_module": "@jupyter-widgets/controls",
          "model_name": "DescriptionStyleModel",
          "model_module_version": "1.5.0",
          "state": {
            "_model_module": "@jupyter-widgets/controls",
            "_model_module_version": "1.5.0",
            "_model_name": "DescriptionStyleModel",
            "_view_count": null,
            "_view_module": "@jupyter-widgets/base",
            "_view_module_version": "1.2.0",
            "_view_name": "StyleView",
            "description_width": ""
          }
        },
        "18081c0fea4f4684a49bcbc0f497ac71": {
          "model_module": "@jupyter-widgets/base",
          "model_name": "LayoutModel",
          "model_module_version": "1.2.0",
          "state": {
            "_model_module": "@jupyter-widgets/base",
            "_model_module_version": "1.2.0",
            "_model_name": "LayoutModel",
            "_view_count": null,
            "_view_module": "@jupyter-widgets/base",
            "_view_module_version": "1.2.0",
            "_view_name": "LayoutView",
            "align_content": null,
            "align_items": null,
            "align_self": null,
            "border": null,
            "bottom": null,
            "display": null,
            "flex": null,
            "flex_flow": null,
            "grid_area": null,
            "grid_auto_columns": null,
            "grid_auto_flow": null,
            "grid_auto_rows": null,
            "grid_column": null,
            "grid_gap": null,
            "grid_row": null,
            "grid_template_areas": null,
            "grid_template_columns": null,
            "grid_template_rows": null,
            "height": null,
            "justify_content": null,
            "justify_items": null,
            "left": null,
            "margin": null,
            "max_height": null,
            "max_width": null,
            "min_height": null,
            "min_width": null,
            "object_fit": null,
            "object_position": null,
            "order": null,
            "overflow": null,
            "overflow_x": null,
            "overflow_y": null,
            "padding": null,
            "right": null,
            "top": null,
            "visibility": null,
            "width": null
          }
        },
        "f90a22f5dfe2416489b6f5a993ca0a46": {
          "model_module": "@jupyter-widgets/controls",
          "model_name": "ProgressStyleModel",
          "model_module_version": "1.5.0",
          "state": {
            "_model_module": "@jupyter-widgets/controls",
            "_model_module_version": "1.5.0",
            "_model_name": "ProgressStyleModel",
            "_view_count": null,
            "_view_module": "@jupyter-widgets/base",
            "_view_module_version": "1.2.0",
            "_view_name": "StyleView",
            "bar_color": null,
            "description_width": ""
          }
        },
        "736dbf601ca842ca81afaf8a9fb29b43": {
          "model_module": "@jupyter-widgets/base",
          "model_name": "LayoutModel",
          "model_module_version": "1.2.0",
          "state": {
            "_model_module": "@jupyter-widgets/base",
            "_model_module_version": "1.2.0",
            "_model_name": "LayoutModel",
            "_view_count": null,
            "_view_module": "@jupyter-widgets/base",
            "_view_module_version": "1.2.0",
            "_view_name": "LayoutView",
            "align_content": null,
            "align_items": null,
            "align_self": null,
            "border": null,
            "bottom": null,
            "display": null,
            "flex": null,
            "flex_flow": null,
            "grid_area": null,
            "grid_auto_columns": null,
            "grid_auto_flow": null,
            "grid_auto_rows": null,
            "grid_column": null,
            "grid_gap": null,
            "grid_row": null,
            "grid_template_areas": null,
            "grid_template_columns": null,
            "grid_template_rows": null,
            "height": null,
            "justify_content": null,
            "justify_items": null,
            "left": null,
            "margin": null,
            "max_height": null,
            "max_width": null,
            "min_height": null,
            "min_width": null,
            "object_fit": null,
            "object_position": null,
            "order": null,
            "overflow": null,
            "overflow_x": null,
            "overflow_y": null,
            "padding": null,
            "right": null,
            "top": null,
            "visibility": null,
            "width": null
          }
        },
        "a0631cd2e1994143bead7679864a95ab": {
          "model_module": "@jupyter-widgets/controls",
          "model_name": "DescriptionStyleModel",
          "model_module_version": "1.5.0",
          "state": {
            "_model_module": "@jupyter-widgets/controls",
            "_model_module_version": "1.5.0",
            "_model_name": "DescriptionStyleModel",
            "_view_count": null,
            "_view_module": "@jupyter-widgets/base",
            "_view_module_version": "1.2.0",
            "_view_name": "StyleView",
            "description_width": ""
          }
        },
        "295f3aca0a724f48a7415e6162e208e7": {
          "model_module": "@jupyter-widgets/controls",
          "model_name": "HBoxModel",
          "model_module_version": "1.5.0",
          "state": {
            "_dom_classes": [],
            "_model_module": "@jupyter-widgets/controls",
            "_model_module_version": "1.5.0",
            "_model_name": "HBoxModel",
            "_view_count": null,
            "_view_module": "@jupyter-widgets/controls",
            "_view_module_version": "1.5.0",
            "_view_name": "HBoxView",
            "box_style": "",
            "children": [
              "IPY_MODEL_5e254021b2ae4ad6be8b3a00fc6a3f15",
              "IPY_MODEL_2208725aa0ab4e2aab067989d6d35229",
              "IPY_MODEL_e41ea0c6d4084f13a21e892766067eac"
            ],
            "layout": "IPY_MODEL_d50ca5b56dcb4d0cbe02933b2f928188"
          }
        },
        "5e254021b2ae4ad6be8b3a00fc6a3f15": {
          "model_module": "@jupyter-widgets/controls",
          "model_name": "HTMLModel",
          "model_module_version": "1.5.0",
          "state": {
            "_dom_classes": [],
            "_model_module": "@jupyter-widgets/controls",
            "_model_module_version": "1.5.0",
            "_model_name": "HTMLModel",
            "_view_count": null,
            "_view_module": "@jupyter-widgets/controls",
            "_view_module_version": "1.5.0",
            "_view_name": "HTMLView",
            "description": "",
            "description_tooltip": null,
            "layout": "IPY_MODEL_2acea8992825437986a8aa7c5e67377a",
            "placeholder": "​",
            "style": "IPY_MODEL_fbb7fa7c82e14b7abb0d122239173cb1",
            "value": "100%"
          }
        },
        "2208725aa0ab4e2aab067989d6d35229": {
          "model_module": "@jupyter-widgets/controls",
          "model_name": "FloatProgressModel",
          "model_module_version": "1.5.0",
          "state": {
            "_dom_classes": [],
            "_model_module": "@jupyter-widgets/controls",
            "_model_module_version": "1.5.0",
            "_model_name": "FloatProgressModel",
            "_view_count": null,
            "_view_module": "@jupyter-widgets/controls",
            "_view_module_version": "1.5.0",
            "_view_name": "ProgressView",
            "bar_style": "success",
            "description": "",
            "description_tooltip": null,
            "layout": "IPY_MODEL_2a7170308adc4a30bb6f90c40b6a19de",
            "max": 50,
            "min": 0,
            "orientation": "horizontal",
            "style": "IPY_MODEL_148cca00a9f94b189d34453a35e18396",
            "value": 50
          }
        },
        "e41ea0c6d4084f13a21e892766067eac": {
          "model_module": "@jupyter-widgets/controls",
          "model_name": "HTMLModel",
          "model_module_version": "1.5.0",
          "state": {
            "_dom_classes": [],
            "_model_module": "@jupyter-widgets/controls",
            "_model_module_version": "1.5.0",
            "_model_name": "HTMLModel",
            "_view_count": null,
            "_view_module": "@jupyter-widgets/controls",
            "_view_module_version": "1.5.0",
            "_view_name": "HTMLView",
            "description": "",
            "description_tooltip": null,
            "layout": "IPY_MODEL_1e7e4a40e921471eb08e9767bc102079",
            "placeholder": "​",
            "style": "IPY_MODEL_40d482d99a194a90bef2e44384970366",
            "value": " 50/50 [00:03&lt;00:00, 24.13it/s, loss=0.0175]"
          }
        },
        "d50ca5b56dcb4d0cbe02933b2f928188": {
          "model_module": "@jupyter-widgets/base",
          "model_name": "LayoutModel",
          "model_module_version": "1.2.0",
          "state": {
            "_model_module": "@jupyter-widgets/base",
            "_model_module_version": "1.2.0",
            "_model_name": "LayoutModel",
            "_view_count": null,
            "_view_module": "@jupyter-widgets/base",
            "_view_module_version": "1.2.0",
            "_view_name": "LayoutView",
            "align_content": null,
            "align_items": null,
            "align_self": null,
            "border": null,
            "bottom": null,
            "display": null,
            "flex": null,
            "flex_flow": null,
            "grid_area": null,
            "grid_auto_columns": null,
            "grid_auto_flow": null,
            "grid_auto_rows": null,
            "grid_column": null,
            "grid_gap": null,
            "grid_row": null,
            "grid_template_areas": null,
            "grid_template_columns": null,
            "grid_template_rows": null,
            "height": null,
            "justify_content": null,
            "justify_items": null,
            "left": null,
            "margin": null,
            "max_height": null,
            "max_width": null,
            "min_height": null,
            "min_width": null,
            "object_fit": null,
            "object_position": null,
            "order": null,
            "overflow": null,
            "overflow_x": null,
            "overflow_y": null,
            "padding": null,
            "right": null,
            "top": null,
            "visibility": null,
            "width": null
          }
        },
        "2acea8992825437986a8aa7c5e67377a": {
          "model_module": "@jupyter-widgets/base",
          "model_name": "LayoutModel",
          "model_module_version": "1.2.0",
          "state": {
            "_model_module": "@jupyter-widgets/base",
            "_model_module_version": "1.2.0",
            "_model_name": "LayoutModel",
            "_view_count": null,
            "_view_module": "@jupyter-widgets/base",
            "_view_module_version": "1.2.0",
            "_view_name": "LayoutView",
            "align_content": null,
            "align_items": null,
            "align_self": null,
            "border": null,
            "bottom": null,
            "display": null,
            "flex": null,
            "flex_flow": null,
            "grid_area": null,
            "grid_auto_columns": null,
            "grid_auto_flow": null,
            "grid_auto_rows": null,
            "grid_column": null,
            "grid_gap": null,
            "grid_row": null,
            "grid_template_areas": null,
            "grid_template_columns": null,
            "grid_template_rows": null,
            "height": null,
            "justify_content": null,
            "justify_items": null,
            "left": null,
            "margin": null,
            "max_height": null,
            "max_width": null,
            "min_height": null,
            "min_width": null,
            "object_fit": null,
            "object_position": null,
            "order": null,
            "overflow": null,
            "overflow_x": null,
            "overflow_y": null,
            "padding": null,
            "right": null,
            "top": null,
            "visibility": null,
            "width": null
          }
        },
        "fbb7fa7c82e14b7abb0d122239173cb1": {
          "model_module": "@jupyter-widgets/controls",
          "model_name": "DescriptionStyleModel",
          "model_module_version": "1.5.0",
          "state": {
            "_model_module": "@jupyter-widgets/controls",
            "_model_module_version": "1.5.0",
            "_model_name": "DescriptionStyleModel",
            "_view_count": null,
            "_view_module": "@jupyter-widgets/base",
            "_view_module_version": "1.2.0",
            "_view_name": "StyleView",
            "description_width": ""
          }
        },
        "2a7170308adc4a30bb6f90c40b6a19de": {
          "model_module": "@jupyter-widgets/base",
          "model_name": "LayoutModel",
          "model_module_version": "1.2.0",
          "state": {
            "_model_module": "@jupyter-widgets/base",
            "_model_module_version": "1.2.0",
            "_model_name": "LayoutModel",
            "_view_count": null,
            "_view_module": "@jupyter-widgets/base",
            "_view_module_version": "1.2.0",
            "_view_name": "LayoutView",
            "align_content": null,
            "align_items": null,
            "align_self": null,
            "border": null,
            "bottom": null,
            "display": null,
            "flex": null,
            "flex_flow": null,
            "grid_area": null,
            "grid_auto_columns": null,
            "grid_auto_flow": null,
            "grid_auto_rows": null,
            "grid_column": null,
            "grid_gap": null,
            "grid_row": null,
            "grid_template_areas": null,
            "grid_template_columns": null,
            "grid_template_rows": null,
            "height": null,
            "justify_content": null,
            "justify_items": null,
            "left": null,
            "margin": null,
            "max_height": null,
            "max_width": null,
            "min_height": null,
            "min_width": null,
            "object_fit": null,
            "object_position": null,
            "order": null,
            "overflow": null,
            "overflow_x": null,
            "overflow_y": null,
            "padding": null,
            "right": null,
            "top": null,
            "visibility": null,
            "width": null
          }
        },
        "148cca00a9f94b189d34453a35e18396": {
          "model_module": "@jupyter-widgets/controls",
          "model_name": "ProgressStyleModel",
          "model_module_version": "1.5.0",
          "state": {
            "_model_module": "@jupyter-widgets/controls",
            "_model_module_version": "1.5.0",
            "_model_name": "ProgressStyleModel",
            "_view_count": null,
            "_view_module": "@jupyter-widgets/base",
            "_view_module_version": "1.2.0",
            "_view_name": "StyleView",
            "bar_color": null,
            "description_width": ""
          }
        },
        "1e7e4a40e921471eb08e9767bc102079": {
          "model_module": "@jupyter-widgets/base",
          "model_name": "LayoutModel",
          "model_module_version": "1.2.0",
          "state": {
            "_model_module": "@jupyter-widgets/base",
            "_model_module_version": "1.2.0",
            "_model_name": "LayoutModel",
            "_view_count": null,
            "_view_module": "@jupyter-widgets/base",
            "_view_module_version": "1.2.0",
            "_view_name": "LayoutView",
            "align_content": null,
            "align_items": null,
            "align_self": null,
            "border": null,
            "bottom": null,
            "display": null,
            "flex": null,
            "flex_flow": null,
            "grid_area": null,
            "grid_auto_columns": null,
            "grid_auto_flow": null,
            "grid_auto_rows": null,
            "grid_column": null,
            "grid_gap": null,
            "grid_row": null,
            "grid_template_areas": null,
            "grid_template_columns": null,
            "grid_template_rows": null,
            "height": null,
            "justify_content": null,
            "justify_items": null,
            "left": null,
            "margin": null,
            "max_height": null,
            "max_width": null,
            "min_height": null,
            "min_width": null,
            "object_fit": null,
            "object_position": null,
            "order": null,
            "overflow": null,
            "overflow_x": null,
            "overflow_y": null,
            "padding": null,
            "right": null,
            "top": null,
            "visibility": null,
            "width": null
          }
        },
        "40d482d99a194a90bef2e44384970366": {
          "model_module": "@jupyter-widgets/controls",
          "model_name": "DescriptionStyleModel",
          "model_module_version": "1.5.0",
          "state": {
            "_model_module": "@jupyter-widgets/controls",
            "_model_module_version": "1.5.0",
            "_model_name": "DescriptionStyleModel",
            "_view_count": null,
            "_view_module": "@jupyter-widgets/base",
            "_view_module_version": "1.2.0",
            "_view_name": "StyleView",
            "description_width": ""
          }
        },
        "81de53bdb1e145d6bb88b015bc75fe0e": {
          "model_module": "@jupyter-widgets/controls",
          "model_name": "HBoxModel",
          "model_module_version": "1.5.0",
          "state": {
            "_dom_classes": [],
            "_model_module": "@jupyter-widgets/controls",
            "_model_module_version": "1.5.0",
            "_model_name": "HBoxModel",
            "_view_count": null,
            "_view_module": "@jupyter-widgets/controls",
            "_view_module_version": "1.5.0",
            "_view_name": "HBoxView",
            "box_style": "",
            "children": [
              "IPY_MODEL_b1c1c05e22b241d0a2b01210e04b8817",
              "IPY_MODEL_4cb4c4bf3f3b420baef6de37fdadf51a",
              "IPY_MODEL_a6b2b67c54f548bc869c378f90c6eef1"
            ],
            "layout": "IPY_MODEL_a613c9aba0224dfc80a0cceb6ba4301d"
          }
        },
        "b1c1c05e22b241d0a2b01210e04b8817": {
          "model_module": "@jupyter-widgets/controls",
          "model_name": "HTMLModel",
          "model_module_version": "1.5.0",
          "state": {
            "_dom_classes": [],
            "_model_module": "@jupyter-widgets/controls",
            "_model_module_version": "1.5.0",
            "_model_name": "HTMLModel",
            "_view_count": null,
            "_view_module": "@jupyter-widgets/controls",
            "_view_module_version": "1.5.0",
            "_view_name": "HTMLView",
            "description": "",
            "description_tooltip": null,
            "layout": "IPY_MODEL_a0c63d643f2d450aad976d8e2caf2559",
            "placeholder": "​",
            "style": "IPY_MODEL_e7bf3fb0ab3d4ddfa368065135cd574d",
            "value": "100%"
          }
        },
        "4cb4c4bf3f3b420baef6de37fdadf51a": {
          "model_module": "@jupyter-widgets/controls",
          "model_name": "FloatProgressModel",
          "model_module_version": "1.5.0",
          "state": {
            "_dom_classes": [],
            "_model_module": "@jupyter-widgets/controls",
            "_model_module_version": "1.5.0",
            "_model_name": "FloatProgressModel",
            "_view_count": null,
            "_view_module": "@jupyter-widgets/controls",
            "_view_module_version": "1.5.0",
            "_view_name": "ProgressView",
            "bar_style": "success",
            "description": "",
            "description_tooltip": null,
            "layout": "IPY_MODEL_725179b4269141f08d8060c4f6a31906",
            "max": 50,
            "min": 0,
            "orientation": "horizontal",
            "style": "IPY_MODEL_7fd79cc101df4945bad4f49c34e88741",
            "value": 50
          }
        },
        "a6b2b67c54f548bc869c378f90c6eef1": {
          "model_module": "@jupyter-widgets/controls",
          "model_name": "HTMLModel",
          "model_module_version": "1.5.0",
          "state": {
            "_dom_classes": [],
            "_model_module": "@jupyter-widgets/controls",
            "_model_module_version": "1.5.0",
            "_model_name": "HTMLModel",
            "_view_count": null,
            "_view_module": "@jupyter-widgets/controls",
            "_view_module_version": "1.5.0",
            "_view_name": "HTMLView",
            "description": "",
            "description_tooltip": null,
            "layout": "IPY_MODEL_e97a15fdfa404c51af8861eef2c98f04",
            "placeholder": "​",
            "style": "IPY_MODEL_2ce908ba0aac4340ade5628daedfef4d",
            "value": " 50/50 [00:01&lt;00:00, 39.72it/s, loss=0.0589]"
          }
        },
        "a613c9aba0224dfc80a0cceb6ba4301d": {
          "model_module": "@jupyter-widgets/base",
          "model_name": "LayoutModel",
          "model_module_version": "1.2.0",
          "state": {
            "_model_module": "@jupyter-widgets/base",
            "_model_module_version": "1.2.0",
            "_model_name": "LayoutModel",
            "_view_count": null,
            "_view_module": "@jupyter-widgets/base",
            "_view_module_version": "1.2.0",
            "_view_name": "LayoutView",
            "align_content": null,
            "align_items": null,
            "align_self": null,
            "border": null,
            "bottom": null,
            "display": null,
            "flex": null,
            "flex_flow": null,
            "grid_area": null,
            "grid_auto_columns": null,
            "grid_auto_flow": null,
            "grid_auto_rows": null,
            "grid_column": null,
            "grid_gap": null,
            "grid_row": null,
            "grid_template_areas": null,
            "grid_template_columns": null,
            "grid_template_rows": null,
            "height": null,
            "justify_content": null,
            "justify_items": null,
            "left": null,
            "margin": null,
            "max_height": null,
            "max_width": null,
            "min_height": null,
            "min_width": null,
            "object_fit": null,
            "object_position": null,
            "order": null,
            "overflow": null,
            "overflow_x": null,
            "overflow_y": null,
            "padding": null,
            "right": null,
            "top": null,
            "visibility": null,
            "width": null
          }
        },
        "a0c63d643f2d450aad976d8e2caf2559": {
          "model_module": "@jupyter-widgets/base",
          "model_name": "LayoutModel",
          "model_module_version": "1.2.0",
          "state": {
            "_model_module": "@jupyter-widgets/base",
            "_model_module_version": "1.2.0",
            "_model_name": "LayoutModel",
            "_view_count": null,
            "_view_module": "@jupyter-widgets/base",
            "_view_module_version": "1.2.0",
            "_view_name": "LayoutView",
            "align_content": null,
            "align_items": null,
            "align_self": null,
            "border": null,
            "bottom": null,
            "display": null,
            "flex": null,
            "flex_flow": null,
            "grid_area": null,
            "grid_auto_columns": null,
            "grid_auto_flow": null,
            "grid_auto_rows": null,
            "grid_column": null,
            "grid_gap": null,
            "grid_row": null,
            "grid_template_areas": null,
            "grid_template_columns": null,
            "grid_template_rows": null,
            "height": null,
            "justify_content": null,
            "justify_items": null,
            "left": null,
            "margin": null,
            "max_height": null,
            "max_width": null,
            "min_height": null,
            "min_width": null,
            "object_fit": null,
            "object_position": null,
            "order": null,
            "overflow": null,
            "overflow_x": null,
            "overflow_y": null,
            "padding": null,
            "right": null,
            "top": null,
            "visibility": null,
            "width": null
          }
        },
        "e7bf3fb0ab3d4ddfa368065135cd574d": {
          "model_module": "@jupyter-widgets/controls",
          "model_name": "DescriptionStyleModel",
          "model_module_version": "1.5.0",
          "state": {
            "_model_module": "@jupyter-widgets/controls",
            "_model_module_version": "1.5.0",
            "_model_name": "DescriptionStyleModel",
            "_view_count": null,
            "_view_module": "@jupyter-widgets/base",
            "_view_module_version": "1.2.0",
            "_view_name": "StyleView",
            "description_width": ""
          }
        },
        "725179b4269141f08d8060c4f6a31906": {
          "model_module": "@jupyter-widgets/base",
          "model_name": "LayoutModel",
          "model_module_version": "1.2.0",
          "state": {
            "_model_module": "@jupyter-widgets/base",
            "_model_module_version": "1.2.0",
            "_model_name": "LayoutModel",
            "_view_count": null,
            "_view_module": "@jupyter-widgets/base",
            "_view_module_version": "1.2.0",
            "_view_name": "LayoutView",
            "align_content": null,
            "align_items": null,
            "align_self": null,
            "border": null,
            "bottom": null,
            "display": null,
            "flex": null,
            "flex_flow": null,
            "grid_area": null,
            "grid_auto_columns": null,
            "grid_auto_flow": null,
            "grid_auto_rows": null,
            "grid_column": null,
            "grid_gap": null,
            "grid_row": null,
            "grid_template_areas": null,
            "grid_template_columns": null,
            "grid_template_rows": null,
            "height": null,
            "justify_content": null,
            "justify_items": null,
            "left": null,
            "margin": null,
            "max_height": null,
            "max_width": null,
            "min_height": null,
            "min_width": null,
            "object_fit": null,
            "object_position": null,
            "order": null,
            "overflow": null,
            "overflow_x": null,
            "overflow_y": null,
            "padding": null,
            "right": null,
            "top": null,
            "visibility": null,
            "width": null
          }
        },
        "7fd79cc101df4945bad4f49c34e88741": {
          "model_module": "@jupyter-widgets/controls",
          "model_name": "ProgressStyleModel",
          "model_module_version": "1.5.0",
          "state": {
            "_model_module": "@jupyter-widgets/controls",
            "_model_module_version": "1.5.0",
            "_model_name": "ProgressStyleModel",
            "_view_count": null,
            "_view_module": "@jupyter-widgets/base",
            "_view_module_version": "1.2.0",
            "_view_name": "StyleView",
            "bar_color": null,
            "description_width": ""
          }
        },
        "e97a15fdfa404c51af8861eef2c98f04": {
          "model_module": "@jupyter-widgets/base",
          "model_name": "LayoutModel",
          "model_module_version": "1.2.0",
          "state": {
            "_model_module": "@jupyter-widgets/base",
            "_model_module_version": "1.2.0",
            "_model_name": "LayoutModel",
            "_view_count": null,
            "_view_module": "@jupyter-widgets/base",
            "_view_module_version": "1.2.0",
            "_view_name": "LayoutView",
            "align_content": null,
            "align_items": null,
            "align_self": null,
            "border": null,
            "bottom": null,
            "display": null,
            "flex": null,
            "flex_flow": null,
            "grid_area": null,
            "grid_auto_columns": null,
            "grid_auto_flow": null,
            "grid_auto_rows": null,
            "grid_column": null,
            "grid_gap": null,
            "grid_row": null,
            "grid_template_areas": null,
            "grid_template_columns": null,
            "grid_template_rows": null,
            "height": null,
            "justify_content": null,
            "justify_items": null,
            "left": null,
            "margin": null,
            "max_height": null,
            "max_width": null,
            "min_height": null,
            "min_width": null,
            "object_fit": null,
            "object_position": null,
            "order": null,
            "overflow": null,
            "overflow_x": null,
            "overflow_y": null,
            "padding": null,
            "right": null,
            "top": null,
            "visibility": null,
            "width": null
          }
        },
        "2ce908ba0aac4340ade5628daedfef4d": {
          "model_module": "@jupyter-widgets/controls",
          "model_name": "DescriptionStyleModel",
          "model_module_version": "1.5.0",
          "state": {
            "_model_module": "@jupyter-widgets/controls",
            "_model_module_version": "1.5.0",
            "_model_name": "DescriptionStyleModel",
            "_view_count": null,
            "_view_module": "@jupyter-widgets/base",
            "_view_module_version": "1.2.0",
            "_view_name": "StyleView",
            "description_width": ""
          }
        },
        "992114a22f1941cd86d8d1e90c48873a": {
          "model_module": "@jupyter-widgets/controls",
          "model_name": "HBoxModel",
          "model_module_version": "1.5.0",
          "state": {
            "_dom_classes": [],
            "_model_module": "@jupyter-widgets/controls",
            "_model_module_version": "1.5.0",
            "_model_name": "HBoxModel",
            "_view_count": null,
            "_view_module": "@jupyter-widgets/controls",
            "_view_module_version": "1.5.0",
            "_view_name": "HBoxView",
            "box_style": "",
            "children": [
              "IPY_MODEL_caee2aed8c3544b8bf4e710c1d16d102",
              "IPY_MODEL_79f0bcb1d06e4b0dab8c467196b4f6cd",
              "IPY_MODEL_75fddcedb8f5427383ce820cf195ad2a"
            ],
            "layout": "IPY_MODEL_38c986d9093c4ac2b12ae843974b9dca"
          }
        },
        "caee2aed8c3544b8bf4e710c1d16d102": {
          "model_module": "@jupyter-widgets/controls",
          "model_name": "HTMLModel",
          "model_module_version": "1.5.0",
          "state": {
            "_dom_classes": [],
            "_model_module": "@jupyter-widgets/controls",
            "_model_module_version": "1.5.0",
            "_model_name": "HTMLModel",
            "_view_count": null,
            "_view_module": "@jupyter-widgets/controls",
            "_view_module_version": "1.5.0",
            "_view_name": "HTMLView",
            "description": "",
            "description_tooltip": null,
            "layout": "IPY_MODEL_20880921575b42b0b927a2409afcea8a",
            "placeholder": "​",
            "style": "IPY_MODEL_38e7aed932f145b29ab3e3ee9b7be6fe",
            "value": "100%"
          }
        },
        "79f0bcb1d06e4b0dab8c467196b4f6cd": {
          "model_module": "@jupyter-widgets/controls",
          "model_name": "FloatProgressModel",
          "model_module_version": "1.5.0",
          "state": {
            "_dom_classes": [],
            "_model_module": "@jupyter-widgets/controls",
            "_model_module_version": "1.5.0",
            "_model_name": "FloatProgressModel",
            "_view_count": null,
            "_view_module": "@jupyter-widgets/controls",
            "_view_module_version": "1.5.0",
            "_view_name": "ProgressView",
            "bar_style": "success",
            "description": "",
            "description_tooltip": null,
            "layout": "IPY_MODEL_a1892732b8e8481299d888ecc21549c0",
            "max": 50,
            "min": 0,
            "orientation": "horizontal",
            "style": "IPY_MODEL_7d53168d4bb44a8c8b6308050ce03f17",
            "value": 50
          }
        },
        "75fddcedb8f5427383ce820cf195ad2a": {
          "model_module": "@jupyter-widgets/controls",
          "model_name": "HTMLModel",
          "model_module_version": "1.5.0",
          "state": {
            "_dom_classes": [],
            "_model_module": "@jupyter-widgets/controls",
            "_model_module_version": "1.5.0",
            "_model_name": "HTMLModel",
            "_view_count": null,
            "_view_module": "@jupyter-widgets/controls",
            "_view_module_version": "1.5.0",
            "_view_name": "HTMLView",
            "description": "",
            "description_tooltip": null,
            "layout": "IPY_MODEL_e0348a22f0d74328aae8d754a4c3052f",
            "placeholder": "​",
            "style": "IPY_MODEL_7f71cdf9e6324f37a5582a90a25cda73",
            "value": " 50/50 [00:01&lt;00:00, 37.19it/s, loss=0.0184]"
          }
        },
        "38c986d9093c4ac2b12ae843974b9dca": {
          "model_module": "@jupyter-widgets/base",
          "model_name": "LayoutModel",
          "model_module_version": "1.2.0",
          "state": {
            "_model_module": "@jupyter-widgets/base",
            "_model_module_version": "1.2.0",
            "_model_name": "LayoutModel",
            "_view_count": null,
            "_view_module": "@jupyter-widgets/base",
            "_view_module_version": "1.2.0",
            "_view_name": "LayoutView",
            "align_content": null,
            "align_items": null,
            "align_self": null,
            "border": null,
            "bottom": null,
            "display": null,
            "flex": null,
            "flex_flow": null,
            "grid_area": null,
            "grid_auto_columns": null,
            "grid_auto_flow": null,
            "grid_auto_rows": null,
            "grid_column": null,
            "grid_gap": null,
            "grid_row": null,
            "grid_template_areas": null,
            "grid_template_columns": null,
            "grid_template_rows": null,
            "height": null,
            "justify_content": null,
            "justify_items": null,
            "left": null,
            "margin": null,
            "max_height": null,
            "max_width": null,
            "min_height": null,
            "min_width": null,
            "object_fit": null,
            "object_position": null,
            "order": null,
            "overflow": null,
            "overflow_x": null,
            "overflow_y": null,
            "padding": null,
            "right": null,
            "top": null,
            "visibility": null,
            "width": null
          }
        },
        "20880921575b42b0b927a2409afcea8a": {
          "model_module": "@jupyter-widgets/base",
          "model_name": "LayoutModel",
          "model_module_version": "1.2.0",
          "state": {
            "_model_module": "@jupyter-widgets/base",
            "_model_module_version": "1.2.0",
            "_model_name": "LayoutModel",
            "_view_count": null,
            "_view_module": "@jupyter-widgets/base",
            "_view_module_version": "1.2.0",
            "_view_name": "LayoutView",
            "align_content": null,
            "align_items": null,
            "align_self": null,
            "border": null,
            "bottom": null,
            "display": null,
            "flex": null,
            "flex_flow": null,
            "grid_area": null,
            "grid_auto_columns": null,
            "grid_auto_flow": null,
            "grid_auto_rows": null,
            "grid_column": null,
            "grid_gap": null,
            "grid_row": null,
            "grid_template_areas": null,
            "grid_template_columns": null,
            "grid_template_rows": null,
            "height": null,
            "justify_content": null,
            "justify_items": null,
            "left": null,
            "margin": null,
            "max_height": null,
            "max_width": null,
            "min_height": null,
            "min_width": null,
            "object_fit": null,
            "object_position": null,
            "order": null,
            "overflow": null,
            "overflow_x": null,
            "overflow_y": null,
            "padding": null,
            "right": null,
            "top": null,
            "visibility": null,
            "width": null
          }
        },
        "38e7aed932f145b29ab3e3ee9b7be6fe": {
          "model_module": "@jupyter-widgets/controls",
          "model_name": "DescriptionStyleModel",
          "model_module_version": "1.5.0",
          "state": {
            "_model_module": "@jupyter-widgets/controls",
            "_model_module_version": "1.5.0",
            "_model_name": "DescriptionStyleModel",
            "_view_count": null,
            "_view_module": "@jupyter-widgets/base",
            "_view_module_version": "1.2.0",
            "_view_name": "StyleView",
            "description_width": ""
          }
        },
        "a1892732b8e8481299d888ecc21549c0": {
          "model_module": "@jupyter-widgets/base",
          "model_name": "LayoutModel",
          "model_module_version": "1.2.0",
          "state": {
            "_model_module": "@jupyter-widgets/base",
            "_model_module_version": "1.2.0",
            "_model_name": "LayoutModel",
            "_view_count": null,
            "_view_module": "@jupyter-widgets/base",
            "_view_module_version": "1.2.0",
            "_view_name": "LayoutView",
            "align_content": null,
            "align_items": null,
            "align_self": null,
            "border": null,
            "bottom": null,
            "display": null,
            "flex": null,
            "flex_flow": null,
            "grid_area": null,
            "grid_auto_columns": null,
            "grid_auto_flow": null,
            "grid_auto_rows": null,
            "grid_column": null,
            "grid_gap": null,
            "grid_row": null,
            "grid_template_areas": null,
            "grid_template_columns": null,
            "grid_template_rows": null,
            "height": null,
            "justify_content": null,
            "justify_items": null,
            "left": null,
            "margin": null,
            "max_height": null,
            "max_width": null,
            "min_height": null,
            "min_width": null,
            "object_fit": null,
            "object_position": null,
            "order": null,
            "overflow": null,
            "overflow_x": null,
            "overflow_y": null,
            "padding": null,
            "right": null,
            "top": null,
            "visibility": null,
            "width": null
          }
        },
        "7d53168d4bb44a8c8b6308050ce03f17": {
          "model_module": "@jupyter-widgets/controls",
          "model_name": "ProgressStyleModel",
          "model_module_version": "1.5.0",
          "state": {
            "_model_module": "@jupyter-widgets/controls",
            "_model_module_version": "1.5.0",
            "_model_name": "ProgressStyleModel",
            "_view_count": null,
            "_view_module": "@jupyter-widgets/base",
            "_view_module_version": "1.2.0",
            "_view_name": "StyleView",
            "bar_color": null,
            "description_width": ""
          }
        },
        "e0348a22f0d74328aae8d754a4c3052f": {
          "model_module": "@jupyter-widgets/base",
          "model_name": "LayoutModel",
          "model_module_version": "1.2.0",
          "state": {
            "_model_module": "@jupyter-widgets/base",
            "_model_module_version": "1.2.0",
            "_model_name": "LayoutModel",
            "_view_count": null,
            "_view_module": "@jupyter-widgets/base",
            "_view_module_version": "1.2.0",
            "_view_name": "LayoutView",
            "align_content": null,
            "align_items": null,
            "align_self": null,
            "border": null,
            "bottom": null,
            "display": null,
            "flex": null,
            "flex_flow": null,
            "grid_area": null,
            "grid_auto_columns": null,
            "grid_auto_flow": null,
            "grid_auto_rows": null,
            "grid_column": null,
            "grid_gap": null,
            "grid_row": null,
            "grid_template_areas": null,
            "grid_template_columns": null,
            "grid_template_rows": null,
            "height": null,
            "justify_content": null,
            "justify_items": null,
            "left": null,
            "margin": null,
            "max_height": null,
            "max_width": null,
            "min_height": null,
            "min_width": null,
            "object_fit": null,
            "object_position": null,
            "order": null,
            "overflow": null,
            "overflow_x": null,
            "overflow_y": null,
            "padding": null,
            "right": null,
            "top": null,
            "visibility": null,
            "width": null
          }
        },
        "7f71cdf9e6324f37a5582a90a25cda73": {
          "model_module": "@jupyter-widgets/controls",
          "model_name": "DescriptionStyleModel",
          "model_module_version": "1.5.0",
          "state": {
            "_model_module": "@jupyter-widgets/controls",
            "_model_module_version": "1.5.0",
            "_model_name": "DescriptionStyleModel",
            "_view_count": null,
            "_view_module": "@jupyter-widgets/base",
            "_view_module_version": "1.2.0",
            "_view_name": "StyleView",
            "description_width": ""
          }
        },
        "5f8e9a9298234981a12a4b1255f02266": {
          "model_module": "@jupyter-widgets/controls",
          "model_name": "HBoxModel",
          "model_module_version": "1.5.0",
          "state": {
            "_dom_classes": [],
            "_model_module": "@jupyter-widgets/controls",
            "_model_module_version": "1.5.0",
            "_model_name": "HBoxModel",
            "_view_count": null,
            "_view_module": "@jupyter-widgets/controls",
            "_view_module_version": "1.5.0",
            "_view_name": "HBoxView",
            "box_style": "",
            "children": [
              "IPY_MODEL_053370cbe1fd40f195d6b04acb9550cb",
              "IPY_MODEL_25dfbde78f1441fc8b2400faff36e3b7",
              "IPY_MODEL_2e1d7f3b782441e3aa7e8e150f913b92"
            ],
            "layout": "IPY_MODEL_3351c1a710cd4c77842a80432071e985"
          }
        },
        "053370cbe1fd40f195d6b04acb9550cb": {
          "model_module": "@jupyter-widgets/controls",
          "model_name": "HTMLModel",
          "model_module_version": "1.5.0",
          "state": {
            "_dom_classes": [],
            "_model_module": "@jupyter-widgets/controls",
            "_model_module_version": "1.5.0",
            "_model_name": "HTMLModel",
            "_view_count": null,
            "_view_module": "@jupyter-widgets/controls",
            "_view_module_version": "1.5.0",
            "_view_name": "HTMLView",
            "description": "",
            "description_tooltip": null,
            "layout": "IPY_MODEL_cb394890ff2b443eacfbe6dcf9485305",
            "placeholder": "​",
            "style": "IPY_MODEL_ac9e46a6b9254d7aba39006ddece7e3a",
            "value": "100%"
          }
        },
        "25dfbde78f1441fc8b2400faff36e3b7": {
          "model_module": "@jupyter-widgets/controls",
          "model_name": "FloatProgressModel",
          "model_module_version": "1.5.0",
          "state": {
            "_dom_classes": [],
            "_model_module": "@jupyter-widgets/controls",
            "_model_module_version": "1.5.0",
            "_model_name": "FloatProgressModel",
            "_view_count": null,
            "_view_module": "@jupyter-widgets/controls",
            "_view_module_version": "1.5.0",
            "_view_name": "ProgressView",
            "bar_style": "success",
            "description": "",
            "description_tooltip": null,
            "layout": "IPY_MODEL_28f3e9f90f2444a99286094b8457f2ba",
            "max": 50,
            "min": 0,
            "orientation": "horizontal",
            "style": "IPY_MODEL_3036356f505548999db7b500323bc721",
            "value": 50
          }
        },
        "2e1d7f3b782441e3aa7e8e150f913b92": {
          "model_module": "@jupyter-widgets/controls",
          "model_name": "HTMLModel",
          "model_module_version": "1.5.0",
          "state": {
            "_dom_classes": [],
            "_model_module": "@jupyter-widgets/controls",
            "_model_module_version": "1.5.0",
            "_model_name": "HTMLModel",
            "_view_count": null,
            "_view_module": "@jupyter-widgets/controls",
            "_view_module_version": "1.5.0",
            "_view_name": "HTMLView",
            "description": "",
            "description_tooltip": null,
            "layout": "IPY_MODEL_2fd6ec5e4b9843558b06782055096528",
            "placeholder": "​",
            "style": "IPY_MODEL_73c680cb95b946dc98eeb97fddf43391",
            "value": " 50/50 [00:01&lt;00:00, 35.34it/s, loss=0.0175]"
          }
        },
        "3351c1a710cd4c77842a80432071e985": {
          "model_module": "@jupyter-widgets/base",
          "model_name": "LayoutModel",
          "model_module_version": "1.2.0",
          "state": {
            "_model_module": "@jupyter-widgets/base",
            "_model_module_version": "1.2.0",
            "_model_name": "LayoutModel",
            "_view_count": null,
            "_view_module": "@jupyter-widgets/base",
            "_view_module_version": "1.2.0",
            "_view_name": "LayoutView",
            "align_content": null,
            "align_items": null,
            "align_self": null,
            "border": null,
            "bottom": null,
            "display": null,
            "flex": null,
            "flex_flow": null,
            "grid_area": null,
            "grid_auto_columns": null,
            "grid_auto_flow": null,
            "grid_auto_rows": null,
            "grid_column": null,
            "grid_gap": null,
            "grid_row": null,
            "grid_template_areas": null,
            "grid_template_columns": null,
            "grid_template_rows": null,
            "height": null,
            "justify_content": null,
            "justify_items": null,
            "left": null,
            "margin": null,
            "max_height": null,
            "max_width": null,
            "min_height": null,
            "min_width": null,
            "object_fit": null,
            "object_position": null,
            "order": null,
            "overflow": null,
            "overflow_x": null,
            "overflow_y": null,
            "padding": null,
            "right": null,
            "top": null,
            "visibility": null,
            "width": null
          }
        },
        "cb394890ff2b443eacfbe6dcf9485305": {
          "model_module": "@jupyter-widgets/base",
          "model_name": "LayoutModel",
          "model_module_version": "1.2.0",
          "state": {
            "_model_module": "@jupyter-widgets/base",
            "_model_module_version": "1.2.0",
            "_model_name": "LayoutModel",
            "_view_count": null,
            "_view_module": "@jupyter-widgets/base",
            "_view_module_version": "1.2.0",
            "_view_name": "LayoutView",
            "align_content": null,
            "align_items": null,
            "align_self": null,
            "border": null,
            "bottom": null,
            "display": null,
            "flex": null,
            "flex_flow": null,
            "grid_area": null,
            "grid_auto_columns": null,
            "grid_auto_flow": null,
            "grid_auto_rows": null,
            "grid_column": null,
            "grid_gap": null,
            "grid_row": null,
            "grid_template_areas": null,
            "grid_template_columns": null,
            "grid_template_rows": null,
            "height": null,
            "justify_content": null,
            "justify_items": null,
            "left": null,
            "margin": null,
            "max_height": null,
            "max_width": null,
            "min_height": null,
            "min_width": null,
            "object_fit": null,
            "object_position": null,
            "order": null,
            "overflow": null,
            "overflow_x": null,
            "overflow_y": null,
            "padding": null,
            "right": null,
            "top": null,
            "visibility": null,
            "width": null
          }
        },
        "ac9e46a6b9254d7aba39006ddece7e3a": {
          "model_module": "@jupyter-widgets/controls",
          "model_name": "DescriptionStyleModel",
          "model_module_version": "1.5.0",
          "state": {
            "_model_module": "@jupyter-widgets/controls",
            "_model_module_version": "1.5.0",
            "_model_name": "DescriptionStyleModel",
            "_view_count": null,
            "_view_module": "@jupyter-widgets/base",
            "_view_module_version": "1.2.0",
            "_view_name": "StyleView",
            "description_width": ""
          }
        },
        "28f3e9f90f2444a99286094b8457f2ba": {
          "model_module": "@jupyter-widgets/base",
          "model_name": "LayoutModel",
          "model_module_version": "1.2.0",
          "state": {
            "_model_module": "@jupyter-widgets/base",
            "_model_module_version": "1.2.0",
            "_model_name": "LayoutModel",
            "_view_count": null,
            "_view_module": "@jupyter-widgets/base",
            "_view_module_version": "1.2.0",
            "_view_name": "LayoutView",
            "align_content": null,
            "align_items": null,
            "align_self": null,
            "border": null,
            "bottom": null,
            "display": null,
            "flex": null,
            "flex_flow": null,
            "grid_area": null,
            "grid_auto_columns": null,
            "grid_auto_flow": null,
            "grid_auto_rows": null,
            "grid_column": null,
            "grid_gap": null,
            "grid_row": null,
            "grid_template_areas": null,
            "grid_template_columns": null,
            "grid_template_rows": null,
            "height": null,
            "justify_content": null,
            "justify_items": null,
            "left": null,
            "margin": null,
            "max_height": null,
            "max_width": null,
            "min_height": null,
            "min_width": null,
            "object_fit": null,
            "object_position": null,
            "order": null,
            "overflow": null,
            "overflow_x": null,
            "overflow_y": null,
            "padding": null,
            "right": null,
            "top": null,
            "visibility": null,
            "width": null
          }
        },
        "3036356f505548999db7b500323bc721": {
          "model_module": "@jupyter-widgets/controls",
          "model_name": "ProgressStyleModel",
          "model_module_version": "1.5.0",
          "state": {
            "_model_module": "@jupyter-widgets/controls",
            "_model_module_version": "1.5.0",
            "_model_name": "ProgressStyleModel",
            "_view_count": null,
            "_view_module": "@jupyter-widgets/base",
            "_view_module_version": "1.2.0",
            "_view_name": "StyleView",
            "bar_color": null,
            "description_width": ""
          }
        },
        "2fd6ec5e4b9843558b06782055096528": {
          "model_module": "@jupyter-widgets/base",
          "model_name": "LayoutModel",
          "model_module_version": "1.2.0",
          "state": {
            "_model_module": "@jupyter-widgets/base",
            "_model_module_version": "1.2.0",
            "_model_name": "LayoutModel",
            "_view_count": null,
            "_view_module": "@jupyter-widgets/base",
            "_view_module_version": "1.2.0",
            "_view_name": "LayoutView",
            "align_content": null,
            "align_items": null,
            "align_self": null,
            "border": null,
            "bottom": null,
            "display": null,
            "flex": null,
            "flex_flow": null,
            "grid_area": null,
            "grid_auto_columns": null,
            "grid_auto_flow": null,
            "grid_auto_rows": null,
            "grid_column": null,
            "grid_gap": null,
            "grid_row": null,
            "grid_template_areas": null,
            "grid_template_columns": null,
            "grid_template_rows": null,
            "height": null,
            "justify_content": null,
            "justify_items": null,
            "left": null,
            "margin": null,
            "max_height": null,
            "max_width": null,
            "min_height": null,
            "min_width": null,
            "object_fit": null,
            "object_position": null,
            "order": null,
            "overflow": null,
            "overflow_x": null,
            "overflow_y": null,
            "padding": null,
            "right": null,
            "top": null,
            "visibility": null,
            "width": null
          }
        },
        "73c680cb95b946dc98eeb97fddf43391": {
          "model_module": "@jupyter-widgets/controls",
          "model_name": "DescriptionStyleModel",
          "model_module_version": "1.5.0",
          "state": {
            "_model_module": "@jupyter-widgets/controls",
            "_model_module_version": "1.5.0",
            "_model_name": "DescriptionStyleModel",
            "_view_count": null,
            "_view_module": "@jupyter-widgets/base",
            "_view_module_version": "1.2.0",
            "_view_name": "StyleView",
            "description_width": ""
          }
        },
        "bbe96eaef4e840d786d4777a59561c0e": {
          "model_module": "@jupyter-widgets/controls",
          "model_name": "HBoxModel",
          "model_module_version": "1.5.0",
          "state": {
            "_dom_classes": [],
            "_model_module": "@jupyter-widgets/controls",
            "_model_module_version": "1.5.0",
            "_model_name": "HBoxModel",
            "_view_count": null,
            "_view_module": "@jupyter-widgets/controls",
            "_view_module_version": "1.5.0",
            "_view_name": "HBoxView",
            "box_style": "",
            "children": [
              "IPY_MODEL_9e0b5c5042134fcca272219364365155",
              "IPY_MODEL_bbe5ac367a9c4590ad1063abf179eb6f",
              "IPY_MODEL_7cd636bce9f442a3b24b9c4b07a3ca69"
            ],
            "layout": "IPY_MODEL_a60345f19f414da9a18d189dee0b2c3d"
          }
        },
        "9e0b5c5042134fcca272219364365155": {
          "model_module": "@jupyter-widgets/controls",
          "model_name": "HTMLModel",
          "model_module_version": "1.5.0",
          "state": {
            "_dom_classes": [],
            "_model_module": "@jupyter-widgets/controls",
            "_model_module_version": "1.5.0",
            "_model_name": "HTMLModel",
            "_view_count": null,
            "_view_module": "@jupyter-widgets/controls",
            "_view_module_version": "1.5.0",
            "_view_name": "HTMLView",
            "description": "",
            "description_tooltip": null,
            "layout": "IPY_MODEL_1b9aab31d1d94b71b3e65e69662e503b",
            "placeholder": "​",
            "style": "IPY_MODEL_7968211cea2145e49be22f4fbd0b4c86",
            "value": "100%"
          }
        },
        "bbe5ac367a9c4590ad1063abf179eb6f": {
          "model_module": "@jupyter-widgets/controls",
          "model_name": "FloatProgressModel",
          "model_module_version": "1.5.0",
          "state": {
            "_dom_classes": [],
            "_model_module": "@jupyter-widgets/controls",
            "_model_module_version": "1.5.0",
            "_model_name": "FloatProgressModel",
            "_view_count": null,
            "_view_module": "@jupyter-widgets/controls",
            "_view_module_version": "1.5.0",
            "_view_name": "ProgressView",
            "bar_style": "success",
            "description": "",
            "description_tooltip": null,
            "layout": "IPY_MODEL_906d487e47a040398b02af672d512528",
            "max": 50,
            "min": 0,
            "orientation": "horizontal",
            "style": "IPY_MODEL_5adaeb5e1fa442a38eafa179e8422145",
            "value": 50
          }
        },
        "7cd636bce9f442a3b24b9c4b07a3ca69": {
          "model_module": "@jupyter-widgets/controls",
          "model_name": "HTMLModel",
          "model_module_version": "1.5.0",
          "state": {
            "_dom_classes": [],
            "_model_module": "@jupyter-widgets/controls",
            "_model_module_version": "1.5.0",
            "_model_name": "HTMLModel",
            "_view_count": null,
            "_view_module": "@jupyter-widgets/controls",
            "_view_module_version": "1.5.0",
            "_view_name": "HTMLView",
            "description": "",
            "description_tooltip": null,
            "layout": "IPY_MODEL_2a6613e0076f420180be8e5b37261419",
            "placeholder": "​",
            "style": "IPY_MODEL_669c205b2b424bcc86fe2754094460d5",
            "value": " 50/50 [00:01&lt;00:00, 34.23it/s, loss=0.0168]"
          }
        },
        "a60345f19f414da9a18d189dee0b2c3d": {
          "model_module": "@jupyter-widgets/base",
          "model_name": "LayoutModel",
          "model_module_version": "1.2.0",
          "state": {
            "_model_module": "@jupyter-widgets/base",
            "_model_module_version": "1.2.0",
            "_model_name": "LayoutModel",
            "_view_count": null,
            "_view_module": "@jupyter-widgets/base",
            "_view_module_version": "1.2.0",
            "_view_name": "LayoutView",
            "align_content": null,
            "align_items": null,
            "align_self": null,
            "border": null,
            "bottom": null,
            "display": null,
            "flex": null,
            "flex_flow": null,
            "grid_area": null,
            "grid_auto_columns": null,
            "grid_auto_flow": null,
            "grid_auto_rows": null,
            "grid_column": null,
            "grid_gap": null,
            "grid_row": null,
            "grid_template_areas": null,
            "grid_template_columns": null,
            "grid_template_rows": null,
            "height": null,
            "justify_content": null,
            "justify_items": null,
            "left": null,
            "margin": null,
            "max_height": null,
            "max_width": null,
            "min_height": null,
            "min_width": null,
            "object_fit": null,
            "object_position": null,
            "order": null,
            "overflow": null,
            "overflow_x": null,
            "overflow_y": null,
            "padding": null,
            "right": null,
            "top": null,
            "visibility": null,
            "width": null
          }
        },
        "1b9aab31d1d94b71b3e65e69662e503b": {
          "model_module": "@jupyter-widgets/base",
          "model_name": "LayoutModel",
          "model_module_version": "1.2.0",
          "state": {
            "_model_module": "@jupyter-widgets/base",
            "_model_module_version": "1.2.0",
            "_model_name": "LayoutModel",
            "_view_count": null,
            "_view_module": "@jupyter-widgets/base",
            "_view_module_version": "1.2.0",
            "_view_name": "LayoutView",
            "align_content": null,
            "align_items": null,
            "align_self": null,
            "border": null,
            "bottom": null,
            "display": null,
            "flex": null,
            "flex_flow": null,
            "grid_area": null,
            "grid_auto_columns": null,
            "grid_auto_flow": null,
            "grid_auto_rows": null,
            "grid_column": null,
            "grid_gap": null,
            "grid_row": null,
            "grid_template_areas": null,
            "grid_template_columns": null,
            "grid_template_rows": null,
            "height": null,
            "justify_content": null,
            "justify_items": null,
            "left": null,
            "margin": null,
            "max_height": null,
            "max_width": null,
            "min_height": null,
            "min_width": null,
            "object_fit": null,
            "object_position": null,
            "order": null,
            "overflow": null,
            "overflow_x": null,
            "overflow_y": null,
            "padding": null,
            "right": null,
            "top": null,
            "visibility": null,
            "width": null
          }
        },
        "7968211cea2145e49be22f4fbd0b4c86": {
          "model_module": "@jupyter-widgets/controls",
          "model_name": "DescriptionStyleModel",
          "model_module_version": "1.5.0",
          "state": {
            "_model_module": "@jupyter-widgets/controls",
            "_model_module_version": "1.5.0",
            "_model_name": "DescriptionStyleModel",
            "_view_count": null,
            "_view_module": "@jupyter-widgets/base",
            "_view_module_version": "1.2.0",
            "_view_name": "StyleView",
            "description_width": ""
          }
        },
        "906d487e47a040398b02af672d512528": {
          "model_module": "@jupyter-widgets/base",
          "model_name": "LayoutModel",
          "model_module_version": "1.2.0",
          "state": {
            "_model_module": "@jupyter-widgets/base",
            "_model_module_version": "1.2.0",
            "_model_name": "LayoutModel",
            "_view_count": null,
            "_view_module": "@jupyter-widgets/base",
            "_view_module_version": "1.2.0",
            "_view_name": "LayoutView",
            "align_content": null,
            "align_items": null,
            "align_self": null,
            "border": null,
            "bottom": null,
            "display": null,
            "flex": null,
            "flex_flow": null,
            "grid_area": null,
            "grid_auto_columns": null,
            "grid_auto_flow": null,
            "grid_auto_rows": null,
            "grid_column": null,
            "grid_gap": null,
            "grid_row": null,
            "grid_template_areas": null,
            "grid_template_columns": null,
            "grid_template_rows": null,
            "height": null,
            "justify_content": null,
            "justify_items": null,
            "left": null,
            "margin": null,
            "max_height": null,
            "max_width": null,
            "min_height": null,
            "min_width": null,
            "object_fit": null,
            "object_position": null,
            "order": null,
            "overflow": null,
            "overflow_x": null,
            "overflow_y": null,
            "padding": null,
            "right": null,
            "top": null,
            "visibility": null,
            "width": null
          }
        },
        "5adaeb5e1fa442a38eafa179e8422145": {
          "model_module": "@jupyter-widgets/controls",
          "model_name": "ProgressStyleModel",
          "model_module_version": "1.5.0",
          "state": {
            "_model_module": "@jupyter-widgets/controls",
            "_model_module_version": "1.5.0",
            "_model_name": "ProgressStyleModel",
            "_view_count": null,
            "_view_module": "@jupyter-widgets/base",
            "_view_module_version": "1.2.0",
            "_view_name": "StyleView",
            "bar_color": null,
            "description_width": ""
          }
        },
        "2a6613e0076f420180be8e5b37261419": {
          "model_module": "@jupyter-widgets/base",
          "model_name": "LayoutModel",
          "model_module_version": "1.2.0",
          "state": {
            "_model_module": "@jupyter-widgets/base",
            "_model_module_version": "1.2.0",
            "_model_name": "LayoutModel",
            "_view_count": null,
            "_view_module": "@jupyter-widgets/base",
            "_view_module_version": "1.2.0",
            "_view_name": "LayoutView",
            "align_content": null,
            "align_items": null,
            "align_self": null,
            "border": null,
            "bottom": null,
            "display": null,
            "flex": null,
            "flex_flow": null,
            "grid_area": null,
            "grid_auto_columns": null,
            "grid_auto_flow": null,
            "grid_auto_rows": null,
            "grid_column": null,
            "grid_gap": null,
            "grid_row": null,
            "grid_template_areas": null,
            "grid_template_columns": null,
            "grid_template_rows": null,
            "height": null,
            "justify_content": null,
            "justify_items": null,
            "left": null,
            "margin": null,
            "max_height": null,
            "max_width": null,
            "min_height": null,
            "min_width": null,
            "object_fit": null,
            "object_position": null,
            "order": null,
            "overflow": null,
            "overflow_x": null,
            "overflow_y": null,
            "padding": null,
            "right": null,
            "top": null,
            "visibility": null,
            "width": null
          }
        },
        "669c205b2b424bcc86fe2754094460d5": {
          "model_module": "@jupyter-widgets/controls",
          "model_name": "DescriptionStyleModel",
          "model_module_version": "1.5.0",
          "state": {
            "_model_module": "@jupyter-widgets/controls",
            "_model_module_version": "1.5.0",
            "_model_name": "DescriptionStyleModel",
            "_view_count": null,
            "_view_module": "@jupyter-widgets/base",
            "_view_module_version": "1.2.0",
            "_view_name": "StyleView",
            "description_width": ""
          }
        },
        "b000a3c170254aea946ab79dbe115473": {
          "model_module": "@jupyter-widgets/controls",
          "model_name": "HBoxModel",
          "model_module_version": "1.5.0",
          "state": {
            "_dom_classes": [],
            "_model_module": "@jupyter-widgets/controls",
            "_model_module_version": "1.5.0",
            "_model_name": "HBoxModel",
            "_view_count": null,
            "_view_module": "@jupyter-widgets/controls",
            "_view_module_version": "1.5.0",
            "_view_name": "HBoxView",
            "box_style": "",
            "children": [
              "IPY_MODEL_d5408b8fa2064cbbac8ceb0085a134ba",
              "IPY_MODEL_cb11965fe01c453780b0a642feaeff6f",
              "IPY_MODEL_27657043a70c46a989604fc69141103e"
            ],
            "layout": "IPY_MODEL_bbd812c262b74ab19d306f7478e98c4d"
          }
        },
        "d5408b8fa2064cbbac8ceb0085a134ba": {
          "model_module": "@jupyter-widgets/controls",
          "model_name": "HTMLModel",
          "model_module_version": "1.5.0",
          "state": {
            "_dom_classes": [],
            "_model_module": "@jupyter-widgets/controls",
            "_model_module_version": "1.5.0",
            "_model_name": "HTMLModel",
            "_view_count": null,
            "_view_module": "@jupyter-widgets/controls",
            "_view_module_version": "1.5.0",
            "_view_name": "HTMLView",
            "description": "",
            "description_tooltip": null,
            "layout": "IPY_MODEL_acac40506a3a497f91aae7e7830902ea",
            "placeholder": "​",
            "style": "IPY_MODEL_de5644060e0d4805a9f978516193c90e",
            "value": "100%"
          }
        },
        "cb11965fe01c453780b0a642feaeff6f": {
          "model_module": "@jupyter-widgets/controls",
          "model_name": "FloatProgressModel",
          "model_module_version": "1.5.0",
          "state": {
            "_dom_classes": [],
            "_model_module": "@jupyter-widgets/controls",
            "_model_module_version": "1.5.0",
            "_model_name": "FloatProgressModel",
            "_view_count": null,
            "_view_module": "@jupyter-widgets/controls",
            "_view_module_version": "1.5.0",
            "_view_name": "ProgressView",
            "bar_style": "success",
            "description": "",
            "description_tooltip": null,
            "layout": "IPY_MODEL_bf75ee3f35734c4c91afc02f86c3b408",
            "max": 50,
            "min": 0,
            "orientation": "horizontal",
            "style": "IPY_MODEL_3432916b8f3a4c319090c37f41b9aedd",
            "value": 50
          }
        },
        "27657043a70c46a989604fc69141103e": {
          "model_module": "@jupyter-widgets/controls",
          "model_name": "HTMLModel",
          "model_module_version": "1.5.0",
          "state": {
            "_dom_classes": [],
            "_model_module": "@jupyter-widgets/controls",
            "_model_module_version": "1.5.0",
            "_model_name": "HTMLModel",
            "_view_count": null,
            "_view_module": "@jupyter-widgets/controls",
            "_view_module_version": "1.5.0",
            "_view_name": "HTMLView",
            "description": "",
            "description_tooltip": null,
            "layout": "IPY_MODEL_6a743d6b8d3c43faa3ffe86ee53feb5e",
            "placeholder": "​",
            "style": "IPY_MODEL_e31413d8228e4fa0b716e812702983ca",
            "value": " 50/50 [00:01&lt;00:00, 34.16it/s, loss=0.042]"
          }
        },
        "bbd812c262b74ab19d306f7478e98c4d": {
          "model_module": "@jupyter-widgets/base",
          "model_name": "LayoutModel",
          "model_module_version": "1.2.0",
          "state": {
            "_model_module": "@jupyter-widgets/base",
            "_model_module_version": "1.2.0",
            "_model_name": "LayoutModel",
            "_view_count": null,
            "_view_module": "@jupyter-widgets/base",
            "_view_module_version": "1.2.0",
            "_view_name": "LayoutView",
            "align_content": null,
            "align_items": null,
            "align_self": null,
            "border": null,
            "bottom": null,
            "display": null,
            "flex": null,
            "flex_flow": null,
            "grid_area": null,
            "grid_auto_columns": null,
            "grid_auto_flow": null,
            "grid_auto_rows": null,
            "grid_column": null,
            "grid_gap": null,
            "grid_row": null,
            "grid_template_areas": null,
            "grid_template_columns": null,
            "grid_template_rows": null,
            "height": null,
            "justify_content": null,
            "justify_items": null,
            "left": null,
            "margin": null,
            "max_height": null,
            "max_width": null,
            "min_height": null,
            "min_width": null,
            "object_fit": null,
            "object_position": null,
            "order": null,
            "overflow": null,
            "overflow_x": null,
            "overflow_y": null,
            "padding": null,
            "right": null,
            "top": null,
            "visibility": null,
            "width": null
          }
        },
        "acac40506a3a497f91aae7e7830902ea": {
          "model_module": "@jupyter-widgets/base",
          "model_name": "LayoutModel",
          "model_module_version": "1.2.0",
          "state": {
            "_model_module": "@jupyter-widgets/base",
            "_model_module_version": "1.2.0",
            "_model_name": "LayoutModel",
            "_view_count": null,
            "_view_module": "@jupyter-widgets/base",
            "_view_module_version": "1.2.0",
            "_view_name": "LayoutView",
            "align_content": null,
            "align_items": null,
            "align_self": null,
            "border": null,
            "bottom": null,
            "display": null,
            "flex": null,
            "flex_flow": null,
            "grid_area": null,
            "grid_auto_columns": null,
            "grid_auto_flow": null,
            "grid_auto_rows": null,
            "grid_column": null,
            "grid_gap": null,
            "grid_row": null,
            "grid_template_areas": null,
            "grid_template_columns": null,
            "grid_template_rows": null,
            "height": null,
            "justify_content": null,
            "justify_items": null,
            "left": null,
            "margin": null,
            "max_height": null,
            "max_width": null,
            "min_height": null,
            "min_width": null,
            "object_fit": null,
            "object_position": null,
            "order": null,
            "overflow": null,
            "overflow_x": null,
            "overflow_y": null,
            "padding": null,
            "right": null,
            "top": null,
            "visibility": null,
            "width": null
          }
        },
        "de5644060e0d4805a9f978516193c90e": {
          "model_module": "@jupyter-widgets/controls",
          "model_name": "DescriptionStyleModel",
          "model_module_version": "1.5.0",
          "state": {
            "_model_module": "@jupyter-widgets/controls",
            "_model_module_version": "1.5.0",
            "_model_name": "DescriptionStyleModel",
            "_view_count": null,
            "_view_module": "@jupyter-widgets/base",
            "_view_module_version": "1.2.0",
            "_view_name": "StyleView",
            "description_width": ""
          }
        },
        "bf75ee3f35734c4c91afc02f86c3b408": {
          "model_module": "@jupyter-widgets/base",
          "model_name": "LayoutModel",
          "model_module_version": "1.2.0",
          "state": {
            "_model_module": "@jupyter-widgets/base",
            "_model_module_version": "1.2.0",
            "_model_name": "LayoutModel",
            "_view_count": null,
            "_view_module": "@jupyter-widgets/base",
            "_view_module_version": "1.2.0",
            "_view_name": "LayoutView",
            "align_content": null,
            "align_items": null,
            "align_self": null,
            "border": null,
            "bottom": null,
            "display": null,
            "flex": null,
            "flex_flow": null,
            "grid_area": null,
            "grid_auto_columns": null,
            "grid_auto_flow": null,
            "grid_auto_rows": null,
            "grid_column": null,
            "grid_gap": null,
            "grid_row": null,
            "grid_template_areas": null,
            "grid_template_columns": null,
            "grid_template_rows": null,
            "height": null,
            "justify_content": null,
            "justify_items": null,
            "left": null,
            "margin": null,
            "max_height": null,
            "max_width": null,
            "min_height": null,
            "min_width": null,
            "object_fit": null,
            "object_position": null,
            "order": null,
            "overflow": null,
            "overflow_x": null,
            "overflow_y": null,
            "padding": null,
            "right": null,
            "top": null,
            "visibility": null,
            "width": null
          }
        },
        "3432916b8f3a4c319090c37f41b9aedd": {
          "model_module": "@jupyter-widgets/controls",
          "model_name": "ProgressStyleModel",
          "model_module_version": "1.5.0",
          "state": {
            "_model_module": "@jupyter-widgets/controls",
            "_model_module_version": "1.5.0",
            "_model_name": "ProgressStyleModel",
            "_view_count": null,
            "_view_module": "@jupyter-widgets/base",
            "_view_module_version": "1.2.0",
            "_view_name": "StyleView",
            "bar_color": null,
            "description_width": ""
          }
        },
        "6a743d6b8d3c43faa3ffe86ee53feb5e": {
          "model_module": "@jupyter-widgets/base",
          "model_name": "LayoutModel",
          "model_module_version": "1.2.0",
          "state": {
            "_model_module": "@jupyter-widgets/base",
            "_model_module_version": "1.2.0",
            "_model_name": "LayoutModel",
            "_view_count": null,
            "_view_module": "@jupyter-widgets/base",
            "_view_module_version": "1.2.0",
            "_view_name": "LayoutView",
            "align_content": null,
            "align_items": null,
            "align_self": null,
            "border": null,
            "bottom": null,
            "display": null,
            "flex": null,
            "flex_flow": null,
            "grid_area": null,
            "grid_auto_columns": null,
            "grid_auto_flow": null,
            "grid_auto_rows": null,
            "grid_column": null,
            "grid_gap": null,
            "grid_row": null,
            "grid_template_areas": null,
            "grid_template_columns": null,
            "grid_template_rows": null,
            "height": null,
            "justify_content": null,
            "justify_items": null,
            "left": null,
            "margin": null,
            "max_height": null,
            "max_width": null,
            "min_height": null,
            "min_width": null,
            "object_fit": null,
            "object_position": null,
            "order": null,
            "overflow": null,
            "overflow_x": null,
            "overflow_y": null,
            "padding": null,
            "right": null,
            "top": null,
            "visibility": null,
            "width": null
          }
        },
        "e31413d8228e4fa0b716e812702983ca": {
          "model_module": "@jupyter-widgets/controls",
          "model_name": "DescriptionStyleModel",
          "model_module_version": "1.5.0",
          "state": {
            "_model_module": "@jupyter-widgets/controls",
            "_model_module_version": "1.5.0",
            "_model_name": "DescriptionStyleModel",
            "_view_count": null,
            "_view_module": "@jupyter-widgets/base",
            "_view_module_version": "1.2.0",
            "_view_name": "StyleView",
            "description_width": ""
          }
        },
        "a8e521264ff94dbc8fff91217451b598": {
          "model_module": "@jupyter-widgets/controls",
          "model_name": "HBoxModel",
          "model_module_version": "1.5.0",
          "state": {
            "_dom_classes": [],
            "_model_module": "@jupyter-widgets/controls",
            "_model_module_version": "1.5.0",
            "_model_name": "HBoxModel",
            "_view_count": null,
            "_view_module": "@jupyter-widgets/controls",
            "_view_module_version": "1.5.0",
            "_view_name": "HBoxView",
            "box_style": "",
            "children": [
              "IPY_MODEL_e224733956e24b5d999b36abf79116e7",
              "IPY_MODEL_4f83fcecfc504340a96b918ad7200e1c",
              "IPY_MODEL_d69c161a5f5248b0ab0224c82e825fc0"
            ],
            "layout": "IPY_MODEL_527e5a0ea5464fb79405dba0c405dedb"
          }
        },
        "e224733956e24b5d999b36abf79116e7": {
          "model_module": "@jupyter-widgets/controls",
          "model_name": "HTMLModel",
          "model_module_version": "1.5.0",
          "state": {
            "_dom_classes": [],
            "_model_module": "@jupyter-widgets/controls",
            "_model_module_version": "1.5.0",
            "_model_name": "HTMLModel",
            "_view_count": null,
            "_view_module": "@jupyter-widgets/controls",
            "_view_module_version": "1.5.0",
            "_view_name": "HTMLView",
            "description": "",
            "description_tooltip": null,
            "layout": "IPY_MODEL_4cbdda07d8284fb891db6bcd12eed574",
            "placeholder": "​",
            "style": "IPY_MODEL_9f47ad2748644fab875a0ef0c09ae7de",
            "value": "100%"
          }
        },
        "4f83fcecfc504340a96b918ad7200e1c": {
          "model_module": "@jupyter-widgets/controls",
          "model_name": "FloatProgressModel",
          "model_module_version": "1.5.0",
          "state": {
            "_dom_classes": [],
            "_model_module": "@jupyter-widgets/controls",
            "_model_module_version": "1.5.0",
            "_model_name": "FloatProgressModel",
            "_view_count": null,
            "_view_module": "@jupyter-widgets/controls",
            "_view_module_version": "1.5.0",
            "_view_name": "ProgressView",
            "bar_style": "success",
            "description": "",
            "description_tooltip": null,
            "layout": "IPY_MODEL_4936dd5fc9374576b66e180dd7fd3e51",
            "max": 50,
            "min": 0,
            "orientation": "horizontal",
            "style": "IPY_MODEL_ac623f9058ee41b7832e841a132027fd",
            "value": 50
          }
        },
        "d69c161a5f5248b0ab0224c82e825fc0": {
          "model_module": "@jupyter-widgets/controls",
          "model_name": "HTMLModel",
          "model_module_version": "1.5.0",
          "state": {
            "_dom_classes": [],
            "_model_module": "@jupyter-widgets/controls",
            "_model_module_version": "1.5.0",
            "_model_name": "HTMLModel",
            "_view_count": null,
            "_view_module": "@jupyter-widgets/controls",
            "_view_module_version": "1.5.0",
            "_view_name": "HTMLView",
            "description": "",
            "description_tooltip": null,
            "layout": "IPY_MODEL_12bcd13f4cf04f90bf5e65a383a1e6ba",
            "placeholder": "​",
            "style": "IPY_MODEL_118a15f6e3c4425ab2f57e1dd6a8945b",
            "value": " 50/50 [00:01&lt;00:00, 34.13it/s, loss=0.0168]"
          }
        },
        "527e5a0ea5464fb79405dba0c405dedb": {
          "model_module": "@jupyter-widgets/base",
          "model_name": "LayoutModel",
          "model_module_version": "1.2.0",
          "state": {
            "_model_module": "@jupyter-widgets/base",
            "_model_module_version": "1.2.0",
            "_model_name": "LayoutModel",
            "_view_count": null,
            "_view_module": "@jupyter-widgets/base",
            "_view_module_version": "1.2.0",
            "_view_name": "LayoutView",
            "align_content": null,
            "align_items": null,
            "align_self": null,
            "border": null,
            "bottom": null,
            "display": null,
            "flex": null,
            "flex_flow": null,
            "grid_area": null,
            "grid_auto_columns": null,
            "grid_auto_flow": null,
            "grid_auto_rows": null,
            "grid_column": null,
            "grid_gap": null,
            "grid_row": null,
            "grid_template_areas": null,
            "grid_template_columns": null,
            "grid_template_rows": null,
            "height": null,
            "justify_content": null,
            "justify_items": null,
            "left": null,
            "margin": null,
            "max_height": null,
            "max_width": null,
            "min_height": null,
            "min_width": null,
            "object_fit": null,
            "object_position": null,
            "order": null,
            "overflow": null,
            "overflow_x": null,
            "overflow_y": null,
            "padding": null,
            "right": null,
            "top": null,
            "visibility": null,
            "width": null
          }
        },
        "4cbdda07d8284fb891db6bcd12eed574": {
          "model_module": "@jupyter-widgets/base",
          "model_name": "LayoutModel",
          "model_module_version": "1.2.0",
          "state": {
            "_model_module": "@jupyter-widgets/base",
            "_model_module_version": "1.2.0",
            "_model_name": "LayoutModel",
            "_view_count": null,
            "_view_module": "@jupyter-widgets/base",
            "_view_module_version": "1.2.0",
            "_view_name": "LayoutView",
            "align_content": null,
            "align_items": null,
            "align_self": null,
            "border": null,
            "bottom": null,
            "display": null,
            "flex": null,
            "flex_flow": null,
            "grid_area": null,
            "grid_auto_columns": null,
            "grid_auto_flow": null,
            "grid_auto_rows": null,
            "grid_column": null,
            "grid_gap": null,
            "grid_row": null,
            "grid_template_areas": null,
            "grid_template_columns": null,
            "grid_template_rows": null,
            "height": null,
            "justify_content": null,
            "justify_items": null,
            "left": null,
            "margin": null,
            "max_height": null,
            "max_width": null,
            "min_height": null,
            "min_width": null,
            "object_fit": null,
            "object_position": null,
            "order": null,
            "overflow": null,
            "overflow_x": null,
            "overflow_y": null,
            "padding": null,
            "right": null,
            "top": null,
            "visibility": null,
            "width": null
          }
        },
        "9f47ad2748644fab875a0ef0c09ae7de": {
          "model_module": "@jupyter-widgets/controls",
          "model_name": "DescriptionStyleModel",
          "model_module_version": "1.5.0",
          "state": {
            "_model_module": "@jupyter-widgets/controls",
            "_model_module_version": "1.5.0",
            "_model_name": "DescriptionStyleModel",
            "_view_count": null,
            "_view_module": "@jupyter-widgets/base",
            "_view_module_version": "1.2.0",
            "_view_name": "StyleView",
            "description_width": ""
          }
        },
        "4936dd5fc9374576b66e180dd7fd3e51": {
          "model_module": "@jupyter-widgets/base",
          "model_name": "LayoutModel",
          "model_module_version": "1.2.0",
          "state": {
            "_model_module": "@jupyter-widgets/base",
            "_model_module_version": "1.2.0",
            "_model_name": "LayoutModel",
            "_view_count": null,
            "_view_module": "@jupyter-widgets/base",
            "_view_module_version": "1.2.0",
            "_view_name": "LayoutView",
            "align_content": null,
            "align_items": null,
            "align_self": null,
            "border": null,
            "bottom": null,
            "display": null,
            "flex": null,
            "flex_flow": null,
            "grid_area": null,
            "grid_auto_columns": null,
            "grid_auto_flow": null,
            "grid_auto_rows": null,
            "grid_column": null,
            "grid_gap": null,
            "grid_row": null,
            "grid_template_areas": null,
            "grid_template_columns": null,
            "grid_template_rows": null,
            "height": null,
            "justify_content": null,
            "justify_items": null,
            "left": null,
            "margin": null,
            "max_height": null,
            "max_width": null,
            "min_height": null,
            "min_width": null,
            "object_fit": null,
            "object_position": null,
            "order": null,
            "overflow": null,
            "overflow_x": null,
            "overflow_y": null,
            "padding": null,
            "right": null,
            "top": null,
            "visibility": null,
            "width": null
          }
        },
        "ac623f9058ee41b7832e841a132027fd": {
          "model_module": "@jupyter-widgets/controls",
          "model_name": "ProgressStyleModel",
          "model_module_version": "1.5.0",
          "state": {
            "_model_module": "@jupyter-widgets/controls",
            "_model_module_version": "1.5.0",
            "_model_name": "ProgressStyleModel",
            "_view_count": null,
            "_view_module": "@jupyter-widgets/base",
            "_view_module_version": "1.2.0",
            "_view_name": "StyleView",
            "bar_color": null,
            "description_width": ""
          }
        },
        "12bcd13f4cf04f90bf5e65a383a1e6ba": {
          "model_module": "@jupyter-widgets/base",
          "model_name": "LayoutModel",
          "model_module_version": "1.2.0",
          "state": {
            "_model_module": "@jupyter-widgets/base",
            "_model_module_version": "1.2.0",
            "_model_name": "LayoutModel",
            "_view_count": null,
            "_view_module": "@jupyter-widgets/base",
            "_view_module_version": "1.2.0",
            "_view_name": "LayoutView",
            "align_content": null,
            "align_items": null,
            "align_self": null,
            "border": null,
            "bottom": null,
            "display": null,
            "flex": null,
            "flex_flow": null,
            "grid_area": null,
            "grid_auto_columns": null,
            "grid_auto_flow": null,
            "grid_auto_rows": null,
            "grid_column": null,
            "grid_gap": null,
            "grid_row": null,
            "grid_template_areas": null,
            "grid_template_columns": null,
            "grid_template_rows": null,
            "height": null,
            "justify_content": null,
            "justify_items": null,
            "left": null,
            "margin": null,
            "max_height": null,
            "max_width": null,
            "min_height": null,
            "min_width": null,
            "object_fit": null,
            "object_position": null,
            "order": null,
            "overflow": null,
            "overflow_x": null,
            "overflow_y": null,
            "padding": null,
            "right": null,
            "top": null,
            "visibility": null,
            "width": null
          }
        },
        "118a15f6e3c4425ab2f57e1dd6a8945b": {
          "model_module": "@jupyter-widgets/controls",
          "model_name": "DescriptionStyleModel",
          "model_module_version": "1.5.0",
          "state": {
            "_model_module": "@jupyter-widgets/controls",
            "_model_module_version": "1.5.0",
            "_model_name": "DescriptionStyleModel",
            "_view_count": null,
            "_view_module": "@jupyter-widgets/base",
            "_view_module_version": "1.2.0",
            "_view_name": "StyleView",
            "description_width": ""
          }
        },
        "f1b4d3283f394edebc214098acd6c82c": {
          "model_module": "@jupyter-widgets/controls",
          "model_name": "HBoxModel",
          "model_module_version": "1.5.0",
          "state": {
            "_dom_classes": [],
            "_model_module": "@jupyter-widgets/controls",
            "_model_module_version": "1.5.0",
            "_model_name": "HBoxModel",
            "_view_count": null,
            "_view_module": "@jupyter-widgets/controls",
            "_view_module_version": "1.5.0",
            "_view_name": "HBoxView",
            "box_style": "",
            "children": [
              "IPY_MODEL_8a838412fbb545a389cd66e49d493e31",
              "IPY_MODEL_fb756f2d77014b64a1d62107070ab6d9",
              "IPY_MODEL_32fc5efad8314f418b9559cb60318311"
            ],
            "layout": "IPY_MODEL_7c79461f0daf46e0a708301c981fff3a"
          }
        },
        "8a838412fbb545a389cd66e49d493e31": {
          "model_module": "@jupyter-widgets/controls",
          "model_name": "HTMLModel",
          "model_module_version": "1.5.0",
          "state": {
            "_dom_classes": [],
            "_model_module": "@jupyter-widgets/controls",
            "_model_module_version": "1.5.0",
            "_model_name": "HTMLModel",
            "_view_count": null,
            "_view_module": "@jupyter-widgets/controls",
            "_view_module_version": "1.5.0",
            "_view_name": "HTMLView",
            "description": "",
            "description_tooltip": null,
            "layout": "IPY_MODEL_577487a3ae954a54b9b67a73257d2f19",
            "placeholder": "​",
            "style": "IPY_MODEL_126b491599ab4faea6c1147bf996de74",
            "value": "100%"
          }
        },
        "fb756f2d77014b64a1d62107070ab6d9": {
          "model_module": "@jupyter-widgets/controls",
          "model_name": "FloatProgressModel",
          "model_module_version": "1.5.0",
          "state": {
            "_dom_classes": [],
            "_model_module": "@jupyter-widgets/controls",
            "_model_module_version": "1.5.0",
            "_model_name": "FloatProgressModel",
            "_view_count": null,
            "_view_module": "@jupyter-widgets/controls",
            "_view_module_version": "1.5.0",
            "_view_name": "ProgressView",
            "bar_style": "success",
            "description": "",
            "description_tooltip": null,
            "layout": "IPY_MODEL_2691874290294e32bff1607fa958b4c5",
            "max": 50,
            "min": 0,
            "orientation": "horizontal",
            "style": "IPY_MODEL_6363fd59fc1e4072836c3b624a6829c0",
            "value": 50
          }
        },
        "32fc5efad8314f418b9559cb60318311": {
          "model_module": "@jupyter-widgets/controls",
          "model_name": "HTMLModel",
          "model_module_version": "1.5.0",
          "state": {
            "_dom_classes": [],
            "_model_module": "@jupyter-widgets/controls",
            "_model_module_version": "1.5.0",
            "_model_name": "HTMLModel",
            "_view_count": null,
            "_view_module": "@jupyter-widgets/controls",
            "_view_module_version": "1.5.0",
            "_view_name": "HTMLView",
            "description": "",
            "description_tooltip": null,
            "layout": "IPY_MODEL_64d1d9b02394402a8893c202f67d9107",
            "placeholder": "​",
            "style": "IPY_MODEL_19554fca7ac74a90804b06dd27e775d7",
            "value": " 50/50 [00:01&lt;00:00, 23.00it/s, loss=0.0168]"
          }
        },
        "7c79461f0daf46e0a708301c981fff3a": {
          "model_module": "@jupyter-widgets/base",
          "model_name": "LayoutModel",
          "model_module_version": "1.2.0",
          "state": {
            "_model_module": "@jupyter-widgets/base",
            "_model_module_version": "1.2.0",
            "_model_name": "LayoutModel",
            "_view_count": null,
            "_view_module": "@jupyter-widgets/base",
            "_view_module_version": "1.2.0",
            "_view_name": "LayoutView",
            "align_content": null,
            "align_items": null,
            "align_self": null,
            "border": null,
            "bottom": null,
            "display": null,
            "flex": null,
            "flex_flow": null,
            "grid_area": null,
            "grid_auto_columns": null,
            "grid_auto_flow": null,
            "grid_auto_rows": null,
            "grid_column": null,
            "grid_gap": null,
            "grid_row": null,
            "grid_template_areas": null,
            "grid_template_columns": null,
            "grid_template_rows": null,
            "height": null,
            "justify_content": null,
            "justify_items": null,
            "left": null,
            "margin": null,
            "max_height": null,
            "max_width": null,
            "min_height": null,
            "min_width": null,
            "object_fit": null,
            "object_position": null,
            "order": null,
            "overflow": null,
            "overflow_x": null,
            "overflow_y": null,
            "padding": null,
            "right": null,
            "top": null,
            "visibility": null,
            "width": null
          }
        },
        "577487a3ae954a54b9b67a73257d2f19": {
          "model_module": "@jupyter-widgets/base",
          "model_name": "LayoutModel",
          "model_module_version": "1.2.0",
          "state": {
            "_model_module": "@jupyter-widgets/base",
            "_model_module_version": "1.2.0",
            "_model_name": "LayoutModel",
            "_view_count": null,
            "_view_module": "@jupyter-widgets/base",
            "_view_module_version": "1.2.0",
            "_view_name": "LayoutView",
            "align_content": null,
            "align_items": null,
            "align_self": null,
            "border": null,
            "bottom": null,
            "display": null,
            "flex": null,
            "flex_flow": null,
            "grid_area": null,
            "grid_auto_columns": null,
            "grid_auto_flow": null,
            "grid_auto_rows": null,
            "grid_column": null,
            "grid_gap": null,
            "grid_row": null,
            "grid_template_areas": null,
            "grid_template_columns": null,
            "grid_template_rows": null,
            "height": null,
            "justify_content": null,
            "justify_items": null,
            "left": null,
            "margin": null,
            "max_height": null,
            "max_width": null,
            "min_height": null,
            "min_width": null,
            "object_fit": null,
            "object_position": null,
            "order": null,
            "overflow": null,
            "overflow_x": null,
            "overflow_y": null,
            "padding": null,
            "right": null,
            "top": null,
            "visibility": null,
            "width": null
          }
        },
        "126b491599ab4faea6c1147bf996de74": {
          "model_module": "@jupyter-widgets/controls",
          "model_name": "DescriptionStyleModel",
          "model_module_version": "1.5.0",
          "state": {
            "_model_module": "@jupyter-widgets/controls",
            "_model_module_version": "1.5.0",
            "_model_name": "DescriptionStyleModel",
            "_view_count": null,
            "_view_module": "@jupyter-widgets/base",
            "_view_module_version": "1.2.0",
            "_view_name": "StyleView",
            "description_width": ""
          }
        },
        "2691874290294e32bff1607fa958b4c5": {
          "model_module": "@jupyter-widgets/base",
          "model_name": "LayoutModel",
          "model_module_version": "1.2.0",
          "state": {
            "_model_module": "@jupyter-widgets/base",
            "_model_module_version": "1.2.0",
            "_model_name": "LayoutModel",
            "_view_count": null,
            "_view_module": "@jupyter-widgets/base",
            "_view_module_version": "1.2.0",
            "_view_name": "LayoutView",
            "align_content": null,
            "align_items": null,
            "align_self": null,
            "border": null,
            "bottom": null,
            "display": null,
            "flex": null,
            "flex_flow": null,
            "grid_area": null,
            "grid_auto_columns": null,
            "grid_auto_flow": null,
            "grid_auto_rows": null,
            "grid_column": null,
            "grid_gap": null,
            "grid_row": null,
            "grid_template_areas": null,
            "grid_template_columns": null,
            "grid_template_rows": null,
            "height": null,
            "justify_content": null,
            "justify_items": null,
            "left": null,
            "margin": null,
            "max_height": null,
            "max_width": null,
            "min_height": null,
            "min_width": null,
            "object_fit": null,
            "object_position": null,
            "order": null,
            "overflow": null,
            "overflow_x": null,
            "overflow_y": null,
            "padding": null,
            "right": null,
            "top": null,
            "visibility": null,
            "width": null
          }
        },
        "6363fd59fc1e4072836c3b624a6829c0": {
          "model_module": "@jupyter-widgets/controls",
          "model_name": "ProgressStyleModel",
          "model_module_version": "1.5.0",
          "state": {
            "_model_module": "@jupyter-widgets/controls",
            "_model_module_version": "1.5.0",
            "_model_name": "ProgressStyleModel",
            "_view_count": null,
            "_view_module": "@jupyter-widgets/base",
            "_view_module_version": "1.2.0",
            "_view_name": "StyleView",
            "bar_color": null,
            "description_width": ""
          }
        },
        "64d1d9b02394402a8893c202f67d9107": {
          "model_module": "@jupyter-widgets/base",
          "model_name": "LayoutModel",
          "model_module_version": "1.2.0",
          "state": {
            "_model_module": "@jupyter-widgets/base",
            "_model_module_version": "1.2.0",
            "_model_name": "LayoutModel",
            "_view_count": null,
            "_view_module": "@jupyter-widgets/base",
            "_view_module_version": "1.2.0",
            "_view_name": "LayoutView",
            "align_content": null,
            "align_items": null,
            "align_self": null,
            "border": null,
            "bottom": null,
            "display": null,
            "flex": null,
            "flex_flow": null,
            "grid_area": null,
            "grid_auto_columns": null,
            "grid_auto_flow": null,
            "grid_auto_rows": null,
            "grid_column": null,
            "grid_gap": null,
            "grid_row": null,
            "grid_template_areas": null,
            "grid_template_columns": null,
            "grid_template_rows": null,
            "height": null,
            "justify_content": null,
            "justify_items": null,
            "left": null,
            "margin": null,
            "max_height": null,
            "max_width": null,
            "min_height": null,
            "min_width": null,
            "object_fit": null,
            "object_position": null,
            "order": null,
            "overflow": null,
            "overflow_x": null,
            "overflow_y": null,
            "padding": null,
            "right": null,
            "top": null,
            "visibility": null,
            "width": null
          }
        },
        "19554fca7ac74a90804b06dd27e775d7": {
          "model_module": "@jupyter-widgets/controls",
          "model_name": "DescriptionStyleModel",
          "model_module_version": "1.5.0",
          "state": {
            "_model_module": "@jupyter-widgets/controls",
            "_model_module_version": "1.5.0",
            "_model_name": "DescriptionStyleModel",
            "_view_count": null,
            "_view_module": "@jupyter-widgets/base",
            "_view_module_version": "1.2.0",
            "_view_name": "StyleView",
            "description_width": ""
          }
        },
        "6f2698d6ef744cf997b774140f92d1bf": {
          "model_module": "@jupyter-widgets/controls",
          "model_name": "HBoxModel",
          "model_module_version": "1.5.0",
          "state": {
            "_dom_classes": [],
            "_model_module": "@jupyter-widgets/controls",
            "_model_module_version": "1.5.0",
            "_model_name": "HBoxModel",
            "_view_count": null,
            "_view_module": "@jupyter-widgets/controls",
            "_view_module_version": "1.5.0",
            "_view_name": "HBoxView",
            "box_style": "",
            "children": [
              "IPY_MODEL_73bfeb49ffae452e8f617be31a12e7e9",
              "IPY_MODEL_0eef6b3bf13c466d898691f1b6edb964",
              "IPY_MODEL_38beda764bb442a085fb98c789f3d969"
            ],
            "layout": "IPY_MODEL_c31e83ee46c7456a91a49d7c79647f3c"
          }
        },
        "73bfeb49ffae452e8f617be31a12e7e9": {
          "model_module": "@jupyter-widgets/controls",
          "model_name": "HTMLModel",
          "model_module_version": "1.5.0",
          "state": {
            "_dom_classes": [],
            "_model_module": "@jupyter-widgets/controls",
            "_model_module_version": "1.5.0",
            "_model_name": "HTMLModel",
            "_view_count": null,
            "_view_module": "@jupyter-widgets/controls",
            "_view_module_version": "1.5.0",
            "_view_name": "HTMLView",
            "description": "",
            "description_tooltip": null,
            "layout": "IPY_MODEL_bb2860ffc0f54e01983015f987e8f1e2",
            "placeholder": "​",
            "style": "IPY_MODEL_a19cfda30f0e42438ed192332999ca18",
            "value": "100%"
          }
        },
        "0eef6b3bf13c466d898691f1b6edb964": {
          "model_module": "@jupyter-widgets/controls",
          "model_name": "FloatProgressModel",
          "model_module_version": "1.5.0",
          "state": {
            "_dom_classes": [],
            "_model_module": "@jupyter-widgets/controls",
            "_model_module_version": "1.5.0",
            "_model_name": "FloatProgressModel",
            "_view_count": null,
            "_view_module": "@jupyter-widgets/controls",
            "_view_module_version": "1.5.0",
            "_view_name": "ProgressView",
            "bar_style": "success",
            "description": "",
            "description_tooltip": null,
            "layout": "IPY_MODEL_9676a3c545a749bbb7f832a0125a0995",
            "max": 50,
            "min": 0,
            "orientation": "horizontal",
            "style": "IPY_MODEL_86408464891f4febbdcc2cacb8c5905a",
            "value": 50
          }
        },
        "38beda764bb442a085fb98c789f3d969": {
          "model_module": "@jupyter-widgets/controls",
          "model_name": "HTMLModel",
          "model_module_version": "1.5.0",
          "state": {
            "_dom_classes": [],
            "_model_module": "@jupyter-widgets/controls",
            "_model_module_version": "1.5.0",
            "_model_name": "HTMLModel",
            "_view_count": null,
            "_view_module": "@jupyter-widgets/controls",
            "_view_module_version": "1.5.0",
            "_view_name": "HTMLView",
            "description": "",
            "description_tooltip": null,
            "layout": "IPY_MODEL_b2f00e706cfc49c5b7142c0dcf3aa61d",
            "placeholder": "​",
            "style": "IPY_MODEL_43a6fab414a5458e9a95a63461082d69",
            "value": " 50/50 [00:01&lt;00:00, 35.49it/s, loss=0.00416]"
          }
        },
        "c31e83ee46c7456a91a49d7c79647f3c": {
          "model_module": "@jupyter-widgets/base",
          "model_name": "LayoutModel",
          "model_module_version": "1.2.0",
          "state": {
            "_model_module": "@jupyter-widgets/base",
            "_model_module_version": "1.2.0",
            "_model_name": "LayoutModel",
            "_view_count": null,
            "_view_module": "@jupyter-widgets/base",
            "_view_module_version": "1.2.0",
            "_view_name": "LayoutView",
            "align_content": null,
            "align_items": null,
            "align_self": null,
            "border": null,
            "bottom": null,
            "display": null,
            "flex": null,
            "flex_flow": null,
            "grid_area": null,
            "grid_auto_columns": null,
            "grid_auto_flow": null,
            "grid_auto_rows": null,
            "grid_column": null,
            "grid_gap": null,
            "grid_row": null,
            "grid_template_areas": null,
            "grid_template_columns": null,
            "grid_template_rows": null,
            "height": null,
            "justify_content": null,
            "justify_items": null,
            "left": null,
            "margin": null,
            "max_height": null,
            "max_width": null,
            "min_height": null,
            "min_width": null,
            "object_fit": null,
            "object_position": null,
            "order": null,
            "overflow": null,
            "overflow_x": null,
            "overflow_y": null,
            "padding": null,
            "right": null,
            "top": null,
            "visibility": null,
            "width": null
          }
        },
        "bb2860ffc0f54e01983015f987e8f1e2": {
          "model_module": "@jupyter-widgets/base",
          "model_name": "LayoutModel",
          "model_module_version": "1.2.0",
          "state": {
            "_model_module": "@jupyter-widgets/base",
            "_model_module_version": "1.2.0",
            "_model_name": "LayoutModel",
            "_view_count": null,
            "_view_module": "@jupyter-widgets/base",
            "_view_module_version": "1.2.0",
            "_view_name": "LayoutView",
            "align_content": null,
            "align_items": null,
            "align_self": null,
            "border": null,
            "bottom": null,
            "display": null,
            "flex": null,
            "flex_flow": null,
            "grid_area": null,
            "grid_auto_columns": null,
            "grid_auto_flow": null,
            "grid_auto_rows": null,
            "grid_column": null,
            "grid_gap": null,
            "grid_row": null,
            "grid_template_areas": null,
            "grid_template_columns": null,
            "grid_template_rows": null,
            "height": null,
            "justify_content": null,
            "justify_items": null,
            "left": null,
            "margin": null,
            "max_height": null,
            "max_width": null,
            "min_height": null,
            "min_width": null,
            "object_fit": null,
            "object_position": null,
            "order": null,
            "overflow": null,
            "overflow_x": null,
            "overflow_y": null,
            "padding": null,
            "right": null,
            "top": null,
            "visibility": null,
            "width": null
          }
        },
        "a19cfda30f0e42438ed192332999ca18": {
          "model_module": "@jupyter-widgets/controls",
          "model_name": "DescriptionStyleModel",
          "model_module_version": "1.5.0",
          "state": {
            "_model_module": "@jupyter-widgets/controls",
            "_model_module_version": "1.5.0",
            "_model_name": "DescriptionStyleModel",
            "_view_count": null,
            "_view_module": "@jupyter-widgets/base",
            "_view_module_version": "1.2.0",
            "_view_name": "StyleView",
            "description_width": ""
          }
        },
        "9676a3c545a749bbb7f832a0125a0995": {
          "model_module": "@jupyter-widgets/base",
          "model_name": "LayoutModel",
          "model_module_version": "1.2.0",
          "state": {
            "_model_module": "@jupyter-widgets/base",
            "_model_module_version": "1.2.0",
            "_model_name": "LayoutModel",
            "_view_count": null,
            "_view_module": "@jupyter-widgets/base",
            "_view_module_version": "1.2.0",
            "_view_name": "LayoutView",
            "align_content": null,
            "align_items": null,
            "align_self": null,
            "border": null,
            "bottom": null,
            "display": null,
            "flex": null,
            "flex_flow": null,
            "grid_area": null,
            "grid_auto_columns": null,
            "grid_auto_flow": null,
            "grid_auto_rows": null,
            "grid_column": null,
            "grid_gap": null,
            "grid_row": null,
            "grid_template_areas": null,
            "grid_template_columns": null,
            "grid_template_rows": null,
            "height": null,
            "justify_content": null,
            "justify_items": null,
            "left": null,
            "margin": null,
            "max_height": null,
            "max_width": null,
            "min_height": null,
            "min_width": null,
            "object_fit": null,
            "object_position": null,
            "order": null,
            "overflow": null,
            "overflow_x": null,
            "overflow_y": null,
            "padding": null,
            "right": null,
            "top": null,
            "visibility": null,
            "width": null
          }
        },
        "86408464891f4febbdcc2cacb8c5905a": {
          "model_module": "@jupyter-widgets/controls",
          "model_name": "ProgressStyleModel",
          "model_module_version": "1.5.0",
          "state": {
            "_model_module": "@jupyter-widgets/controls",
            "_model_module_version": "1.5.0",
            "_model_name": "ProgressStyleModel",
            "_view_count": null,
            "_view_module": "@jupyter-widgets/base",
            "_view_module_version": "1.2.0",
            "_view_name": "StyleView",
            "bar_color": null,
            "description_width": ""
          }
        },
        "b2f00e706cfc49c5b7142c0dcf3aa61d": {
          "model_module": "@jupyter-widgets/base",
          "model_name": "LayoutModel",
          "model_module_version": "1.2.0",
          "state": {
            "_model_module": "@jupyter-widgets/base",
            "_model_module_version": "1.2.0",
            "_model_name": "LayoutModel",
            "_view_count": null,
            "_view_module": "@jupyter-widgets/base",
            "_view_module_version": "1.2.0",
            "_view_name": "LayoutView",
            "align_content": null,
            "align_items": null,
            "align_self": null,
            "border": null,
            "bottom": null,
            "display": null,
            "flex": null,
            "flex_flow": null,
            "grid_area": null,
            "grid_auto_columns": null,
            "grid_auto_flow": null,
            "grid_auto_rows": null,
            "grid_column": null,
            "grid_gap": null,
            "grid_row": null,
            "grid_template_areas": null,
            "grid_template_columns": null,
            "grid_template_rows": null,
            "height": null,
            "justify_content": null,
            "justify_items": null,
            "left": null,
            "margin": null,
            "max_height": null,
            "max_width": null,
            "min_height": null,
            "min_width": null,
            "object_fit": null,
            "object_position": null,
            "order": null,
            "overflow": null,
            "overflow_x": null,
            "overflow_y": null,
            "padding": null,
            "right": null,
            "top": null,
            "visibility": null,
            "width": null
          }
        },
        "43a6fab414a5458e9a95a63461082d69": {
          "model_module": "@jupyter-widgets/controls",
          "model_name": "DescriptionStyleModel",
          "model_module_version": "1.5.0",
          "state": {
            "_model_module": "@jupyter-widgets/controls",
            "_model_module_version": "1.5.0",
            "_model_name": "DescriptionStyleModel",
            "_view_count": null,
            "_view_module": "@jupyter-widgets/base",
            "_view_module_version": "1.2.0",
            "_view_name": "StyleView",
            "description_width": ""
          }
        },
        "d371e2f346914aa0b49b76da5d371fb5": {
          "model_module": "@jupyter-widgets/controls",
          "model_name": "HBoxModel",
          "model_module_version": "1.5.0",
          "state": {
            "_dom_classes": [],
            "_model_module": "@jupyter-widgets/controls",
            "_model_module_version": "1.5.0",
            "_model_name": "HBoxModel",
            "_view_count": null,
            "_view_module": "@jupyter-widgets/controls",
            "_view_module_version": "1.5.0",
            "_view_name": "HBoxView",
            "box_style": "",
            "children": [
              "IPY_MODEL_1dbd672c29fa405db99032bb6f3edf3a",
              "IPY_MODEL_844227d961c447f593948e08145e72bc",
              "IPY_MODEL_8b7b9a0f86284030b4f3c22664d58ba6"
            ],
            "layout": "IPY_MODEL_5a13e708aa7746c4987a3b07e8ea80c5"
          }
        },
        "1dbd672c29fa405db99032bb6f3edf3a": {
          "model_module": "@jupyter-widgets/controls",
          "model_name": "HTMLModel",
          "model_module_version": "1.5.0",
          "state": {
            "_dom_classes": [],
            "_model_module": "@jupyter-widgets/controls",
            "_model_module_version": "1.5.0",
            "_model_name": "HTMLModel",
            "_view_count": null,
            "_view_module": "@jupyter-widgets/controls",
            "_view_module_version": "1.5.0",
            "_view_name": "HTMLView",
            "description": "",
            "description_tooltip": null,
            "layout": "IPY_MODEL_58c11b9c79df41c5a98068fa06c81dac",
            "placeholder": "​",
            "style": "IPY_MODEL_f663b8cdd8d048bc8856a5cd6eb9d430",
            "value": "100%"
          }
        },
        "844227d961c447f593948e08145e72bc": {
          "model_module": "@jupyter-widgets/controls",
          "model_name": "FloatProgressModel",
          "model_module_version": "1.5.0",
          "state": {
            "_dom_classes": [],
            "_model_module": "@jupyter-widgets/controls",
            "_model_module_version": "1.5.0",
            "_model_name": "FloatProgressModel",
            "_view_count": null,
            "_view_module": "@jupyter-widgets/controls",
            "_view_module_version": "1.5.0",
            "_view_name": "ProgressView",
            "bar_style": "success",
            "description": "",
            "description_tooltip": null,
            "layout": "IPY_MODEL_a621743fe9524828a7859835c7a5208f",
            "max": 50,
            "min": 0,
            "orientation": "horizontal",
            "style": "IPY_MODEL_7a51de9f16a54418a16d965578d9b7ef",
            "value": 50
          }
        },
        "8b7b9a0f86284030b4f3c22664d58ba6": {
          "model_module": "@jupyter-widgets/controls",
          "model_name": "HTMLModel",
          "model_module_version": "1.5.0",
          "state": {
            "_dom_classes": [],
            "_model_module": "@jupyter-widgets/controls",
            "_model_module_version": "1.5.0",
            "_model_name": "HTMLModel",
            "_view_count": null,
            "_view_module": "@jupyter-widgets/controls",
            "_view_module_version": "1.5.0",
            "_view_name": "HTMLView",
            "description": "",
            "description_tooltip": null,
            "layout": "IPY_MODEL_32f243fc10f7460183f14fa8db2766f8",
            "placeholder": "​",
            "style": "IPY_MODEL_3232bede6b7344bcb4843146712625ae",
            "value": " 50/50 [00:01&lt;00:00, 35.46it/s, loss=0.0175]"
          }
        },
        "5a13e708aa7746c4987a3b07e8ea80c5": {
          "model_module": "@jupyter-widgets/base",
          "model_name": "LayoutModel",
          "model_module_version": "1.2.0",
          "state": {
            "_model_module": "@jupyter-widgets/base",
            "_model_module_version": "1.2.0",
            "_model_name": "LayoutModel",
            "_view_count": null,
            "_view_module": "@jupyter-widgets/base",
            "_view_module_version": "1.2.0",
            "_view_name": "LayoutView",
            "align_content": null,
            "align_items": null,
            "align_self": null,
            "border": null,
            "bottom": null,
            "display": null,
            "flex": null,
            "flex_flow": null,
            "grid_area": null,
            "grid_auto_columns": null,
            "grid_auto_flow": null,
            "grid_auto_rows": null,
            "grid_column": null,
            "grid_gap": null,
            "grid_row": null,
            "grid_template_areas": null,
            "grid_template_columns": null,
            "grid_template_rows": null,
            "height": null,
            "justify_content": null,
            "justify_items": null,
            "left": null,
            "margin": null,
            "max_height": null,
            "max_width": null,
            "min_height": null,
            "min_width": null,
            "object_fit": null,
            "object_position": null,
            "order": null,
            "overflow": null,
            "overflow_x": null,
            "overflow_y": null,
            "padding": null,
            "right": null,
            "top": null,
            "visibility": null,
            "width": null
          }
        },
        "58c11b9c79df41c5a98068fa06c81dac": {
          "model_module": "@jupyter-widgets/base",
          "model_name": "LayoutModel",
          "model_module_version": "1.2.0",
          "state": {
            "_model_module": "@jupyter-widgets/base",
            "_model_module_version": "1.2.0",
            "_model_name": "LayoutModel",
            "_view_count": null,
            "_view_module": "@jupyter-widgets/base",
            "_view_module_version": "1.2.0",
            "_view_name": "LayoutView",
            "align_content": null,
            "align_items": null,
            "align_self": null,
            "border": null,
            "bottom": null,
            "display": null,
            "flex": null,
            "flex_flow": null,
            "grid_area": null,
            "grid_auto_columns": null,
            "grid_auto_flow": null,
            "grid_auto_rows": null,
            "grid_column": null,
            "grid_gap": null,
            "grid_row": null,
            "grid_template_areas": null,
            "grid_template_columns": null,
            "grid_template_rows": null,
            "height": null,
            "justify_content": null,
            "justify_items": null,
            "left": null,
            "margin": null,
            "max_height": null,
            "max_width": null,
            "min_height": null,
            "min_width": null,
            "object_fit": null,
            "object_position": null,
            "order": null,
            "overflow": null,
            "overflow_x": null,
            "overflow_y": null,
            "padding": null,
            "right": null,
            "top": null,
            "visibility": null,
            "width": null
          }
        },
        "f663b8cdd8d048bc8856a5cd6eb9d430": {
          "model_module": "@jupyter-widgets/controls",
          "model_name": "DescriptionStyleModel",
          "model_module_version": "1.5.0",
          "state": {
            "_model_module": "@jupyter-widgets/controls",
            "_model_module_version": "1.5.0",
            "_model_name": "DescriptionStyleModel",
            "_view_count": null,
            "_view_module": "@jupyter-widgets/base",
            "_view_module_version": "1.2.0",
            "_view_name": "StyleView",
            "description_width": ""
          }
        },
        "a621743fe9524828a7859835c7a5208f": {
          "model_module": "@jupyter-widgets/base",
          "model_name": "LayoutModel",
          "model_module_version": "1.2.0",
          "state": {
            "_model_module": "@jupyter-widgets/base",
            "_model_module_version": "1.2.0",
            "_model_name": "LayoutModel",
            "_view_count": null,
            "_view_module": "@jupyter-widgets/base",
            "_view_module_version": "1.2.0",
            "_view_name": "LayoutView",
            "align_content": null,
            "align_items": null,
            "align_self": null,
            "border": null,
            "bottom": null,
            "display": null,
            "flex": null,
            "flex_flow": null,
            "grid_area": null,
            "grid_auto_columns": null,
            "grid_auto_flow": null,
            "grid_auto_rows": null,
            "grid_column": null,
            "grid_gap": null,
            "grid_row": null,
            "grid_template_areas": null,
            "grid_template_columns": null,
            "grid_template_rows": null,
            "height": null,
            "justify_content": null,
            "justify_items": null,
            "left": null,
            "margin": null,
            "max_height": null,
            "max_width": null,
            "min_height": null,
            "min_width": null,
            "object_fit": null,
            "object_position": null,
            "order": null,
            "overflow": null,
            "overflow_x": null,
            "overflow_y": null,
            "padding": null,
            "right": null,
            "top": null,
            "visibility": null,
            "width": null
          }
        },
        "7a51de9f16a54418a16d965578d9b7ef": {
          "model_module": "@jupyter-widgets/controls",
          "model_name": "ProgressStyleModel",
          "model_module_version": "1.5.0",
          "state": {
            "_model_module": "@jupyter-widgets/controls",
            "_model_module_version": "1.5.0",
            "_model_name": "ProgressStyleModel",
            "_view_count": null,
            "_view_module": "@jupyter-widgets/base",
            "_view_module_version": "1.2.0",
            "_view_name": "StyleView",
            "bar_color": null,
            "description_width": ""
          }
        },
        "32f243fc10f7460183f14fa8db2766f8": {
          "model_module": "@jupyter-widgets/base",
          "model_name": "LayoutModel",
          "model_module_version": "1.2.0",
          "state": {
            "_model_module": "@jupyter-widgets/base",
            "_model_module_version": "1.2.0",
            "_model_name": "LayoutModel",
            "_view_count": null,
            "_view_module": "@jupyter-widgets/base",
            "_view_module_version": "1.2.0",
            "_view_name": "LayoutView",
            "align_content": null,
            "align_items": null,
            "align_self": null,
            "border": null,
            "bottom": null,
            "display": null,
            "flex": null,
            "flex_flow": null,
            "grid_area": null,
            "grid_auto_columns": null,
            "grid_auto_flow": null,
            "grid_auto_rows": null,
            "grid_column": null,
            "grid_gap": null,
            "grid_row": null,
            "grid_template_areas": null,
            "grid_template_columns": null,
            "grid_template_rows": null,
            "height": null,
            "justify_content": null,
            "justify_items": null,
            "left": null,
            "margin": null,
            "max_height": null,
            "max_width": null,
            "min_height": null,
            "min_width": null,
            "object_fit": null,
            "object_position": null,
            "order": null,
            "overflow": null,
            "overflow_x": null,
            "overflow_y": null,
            "padding": null,
            "right": null,
            "top": null,
            "visibility": null,
            "width": null
          }
        },
        "3232bede6b7344bcb4843146712625ae": {
          "model_module": "@jupyter-widgets/controls",
          "model_name": "DescriptionStyleModel",
          "model_module_version": "1.5.0",
          "state": {
            "_model_module": "@jupyter-widgets/controls",
            "_model_module_version": "1.5.0",
            "_model_name": "DescriptionStyleModel",
            "_view_count": null,
            "_view_module": "@jupyter-widgets/base",
            "_view_module_version": "1.2.0",
            "_view_name": "StyleView",
            "description_width": ""
          }
        },
        "7d7dd1124f534812ae07da88f13b8d87": {
          "model_module": "@jupyter-widgets/controls",
          "model_name": "HBoxModel",
          "model_module_version": "1.5.0",
          "state": {
            "_dom_classes": [],
            "_model_module": "@jupyter-widgets/controls",
            "_model_module_version": "1.5.0",
            "_model_name": "HBoxModel",
            "_view_count": null,
            "_view_module": "@jupyter-widgets/controls",
            "_view_module_version": "1.5.0",
            "_view_name": "HBoxView",
            "box_style": "",
            "children": [
              "IPY_MODEL_6c27bbe566cb45af996e7aa3b1af6b33",
              "IPY_MODEL_a681aa4a47874bbd86f3d475b06eec71",
              "IPY_MODEL_c7886efbb0b94e28b0aa0409e9ff0acc"
            ],
            "layout": "IPY_MODEL_d0949e4be9a74972b9cea1ba3f7e5f90"
          }
        },
        "6c27bbe566cb45af996e7aa3b1af6b33": {
          "model_module": "@jupyter-widgets/controls",
          "model_name": "HTMLModel",
          "model_module_version": "1.5.0",
          "state": {
            "_dom_classes": [],
            "_model_module": "@jupyter-widgets/controls",
            "_model_module_version": "1.5.0",
            "_model_name": "HTMLModel",
            "_view_count": null,
            "_view_module": "@jupyter-widgets/controls",
            "_view_module_version": "1.5.0",
            "_view_name": "HTMLView",
            "description": "",
            "description_tooltip": null,
            "layout": "IPY_MODEL_6e94faf1858147e88a46d6882ff70a93",
            "placeholder": "​",
            "style": "IPY_MODEL_0661d8a65b8048ac8381e1e4e5b358a2",
            "value": "100%"
          }
        },
        "a681aa4a47874bbd86f3d475b06eec71": {
          "model_module": "@jupyter-widgets/controls",
          "model_name": "FloatProgressModel",
          "model_module_version": "1.5.0",
          "state": {
            "_dom_classes": [],
            "_model_module": "@jupyter-widgets/controls",
            "_model_module_version": "1.5.0",
            "_model_name": "FloatProgressModel",
            "_view_count": null,
            "_view_module": "@jupyter-widgets/controls",
            "_view_module_version": "1.5.0",
            "_view_name": "ProgressView",
            "bar_style": "success",
            "description": "",
            "description_tooltip": null,
            "layout": "IPY_MODEL_dca07ec7f11248f4b618a36c838ce496",
            "max": 50,
            "min": 0,
            "orientation": "horizontal",
            "style": "IPY_MODEL_1fe688d0417c4da1a87986de31438378",
            "value": 50
          }
        },
        "c7886efbb0b94e28b0aa0409e9ff0acc": {
          "model_module": "@jupyter-widgets/controls",
          "model_name": "HTMLModel",
          "model_module_version": "1.5.0",
          "state": {
            "_dom_classes": [],
            "_model_module": "@jupyter-widgets/controls",
            "_model_module_version": "1.5.0",
            "_model_name": "HTMLModel",
            "_view_count": null,
            "_view_module": "@jupyter-widgets/controls",
            "_view_module_version": "1.5.0",
            "_view_name": "HTMLView",
            "description": "",
            "description_tooltip": null,
            "layout": "IPY_MODEL_91a590a2601a4496bdff04078b989393",
            "placeholder": "​",
            "style": "IPY_MODEL_8d929770941a4bedb78b8561b54ba958",
            "value": " 50/50 [00:01&lt;00:00, 34.71it/s, loss=0.046]"
          }
        },
        "d0949e4be9a74972b9cea1ba3f7e5f90": {
          "model_module": "@jupyter-widgets/base",
          "model_name": "LayoutModel",
          "model_module_version": "1.2.0",
          "state": {
            "_model_module": "@jupyter-widgets/base",
            "_model_module_version": "1.2.0",
            "_model_name": "LayoutModel",
            "_view_count": null,
            "_view_module": "@jupyter-widgets/base",
            "_view_module_version": "1.2.0",
            "_view_name": "LayoutView",
            "align_content": null,
            "align_items": null,
            "align_self": null,
            "border": null,
            "bottom": null,
            "display": null,
            "flex": null,
            "flex_flow": null,
            "grid_area": null,
            "grid_auto_columns": null,
            "grid_auto_flow": null,
            "grid_auto_rows": null,
            "grid_column": null,
            "grid_gap": null,
            "grid_row": null,
            "grid_template_areas": null,
            "grid_template_columns": null,
            "grid_template_rows": null,
            "height": null,
            "justify_content": null,
            "justify_items": null,
            "left": null,
            "margin": null,
            "max_height": null,
            "max_width": null,
            "min_height": null,
            "min_width": null,
            "object_fit": null,
            "object_position": null,
            "order": null,
            "overflow": null,
            "overflow_x": null,
            "overflow_y": null,
            "padding": null,
            "right": null,
            "top": null,
            "visibility": null,
            "width": null
          }
        },
        "6e94faf1858147e88a46d6882ff70a93": {
          "model_module": "@jupyter-widgets/base",
          "model_name": "LayoutModel",
          "model_module_version": "1.2.0",
          "state": {
            "_model_module": "@jupyter-widgets/base",
            "_model_module_version": "1.2.0",
            "_model_name": "LayoutModel",
            "_view_count": null,
            "_view_module": "@jupyter-widgets/base",
            "_view_module_version": "1.2.0",
            "_view_name": "LayoutView",
            "align_content": null,
            "align_items": null,
            "align_self": null,
            "border": null,
            "bottom": null,
            "display": null,
            "flex": null,
            "flex_flow": null,
            "grid_area": null,
            "grid_auto_columns": null,
            "grid_auto_flow": null,
            "grid_auto_rows": null,
            "grid_column": null,
            "grid_gap": null,
            "grid_row": null,
            "grid_template_areas": null,
            "grid_template_columns": null,
            "grid_template_rows": null,
            "height": null,
            "justify_content": null,
            "justify_items": null,
            "left": null,
            "margin": null,
            "max_height": null,
            "max_width": null,
            "min_height": null,
            "min_width": null,
            "object_fit": null,
            "object_position": null,
            "order": null,
            "overflow": null,
            "overflow_x": null,
            "overflow_y": null,
            "padding": null,
            "right": null,
            "top": null,
            "visibility": null,
            "width": null
          }
        },
        "0661d8a65b8048ac8381e1e4e5b358a2": {
          "model_module": "@jupyter-widgets/controls",
          "model_name": "DescriptionStyleModel",
          "model_module_version": "1.5.0",
          "state": {
            "_model_module": "@jupyter-widgets/controls",
            "_model_module_version": "1.5.0",
            "_model_name": "DescriptionStyleModel",
            "_view_count": null,
            "_view_module": "@jupyter-widgets/base",
            "_view_module_version": "1.2.0",
            "_view_name": "StyleView",
            "description_width": ""
          }
        },
        "dca07ec7f11248f4b618a36c838ce496": {
          "model_module": "@jupyter-widgets/base",
          "model_name": "LayoutModel",
          "model_module_version": "1.2.0",
          "state": {
            "_model_module": "@jupyter-widgets/base",
            "_model_module_version": "1.2.0",
            "_model_name": "LayoutModel",
            "_view_count": null,
            "_view_module": "@jupyter-widgets/base",
            "_view_module_version": "1.2.0",
            "_view_name": "LayoutView",
            "align_content": null,
            "align_items": null,
            "align_self": null,
            "border": null,
            "bottom": null,
            "display": null,
            "flex": null,
            "flex_flow": null,
            "grid_area": null,
            "grid_auto_columns": null,
            "grid_auto_flow": null,
            "grid_auto_rows": null,
            "grid_column": null,
            "grid_gap": null,
            "grid_row": null,
            "grid_template_areas": null,
            "grid_template_columns": null,
            "grid_template_rows": null,
            "height": null,
            "justify_content": null,
            "justify_items": null,
            "left": null,
            "margin": null,
            "max_height": null,
            "max_width": null,
            "min_height": null,
            "min_width": null,
            "object_fit": null,
            "object_position": null,
            "order": null,
            "overflow": null,
            "overflow_x": null,
            "overflow_y": null,
            "padding": null,
            "right": null,
            "top": null,
            "visibility": null,
            "width": null
          }
        },
        "1fe688d0417c4da1a87986de31438378": {
          "model_module": "@jupyter-widgets/controls",
          "model_name": "ProgressStyleModel",
          "model_module_version": "1.5.0",
          "state": {
            "_model_module": "@jupyter-widgets/controls",
            "_model_module_version": "1.5.0",
            "_model_name": "ProgressStyleModel",
            "_view_count": null,
            "_view_module": "@jupyter-widgets/base",
            "_view_module_version": "1.2.0",
            "_view_name": "StyleView",
            "bar_color": null,
            "description_width": ""
          }
        },
        "91a590a2601a4496bdff04078b989393": {
          "model_module": "@jupyter-widgets/base",
          "model_name": "LayoutModel",
          "model_module_version": "1.2.0",
          "state": {
            "_model_module": "@jupyter-widgets/base",
            "_model_module_version": "1.2.0",
            "_model_name": "LayoutModel",
            "_view_count": null,
            "_view_module": "@jupyter-widgets/base",
            "_view_module_version": "1.2.0",
            "_view_name": "LayoutView",
            "align_content": null,
            "align_items": null,
            "align_self": null,
            "border": null,
            "bottom": null,
            "display": null,
            "flex": null,
            "flex_flow": null,
            "grid_area": null,
            "grid_auto_columns": null,
            "grid_auto_flow": null,
            "grid_auto_rows": null,
            "grid_column": null,
            "grid_gap": null,
            "grid_row": null,
            "grid_template_areas": null,
            "grid_template_columns": null,
            "grid_template_rows": null,
            "height": null,
            "justify_content": null,
            "justify_items": null,
            "left": null,
            "margin": null,
            "max_height": null,
            "max_width": null,
            "min_height": null,
            "min_width": null,
            "object_fit": null,
            "object_position": null,
            "order": null,
            "overflow": null,
            "overflow_x": null,
            "overflow_y": null,
            "padding": null,
            "right": null,
            "top": null,
            "visibility": null,
            "width": null
          }
        },
        "8d929770941a4bedb78b8561b54ba958": {
          "model_module": "@jupyter-widgets/controls",
          "model_name": "DescriptionStyleModel",
          "model_module_version": "1.5.0",
          "state": {
            "_model_module": "@jupyter-widgets/controls",
            "_model_module_version": "1.5.0",
            "_model_name": "DescriptionStyleModel",
            "_view_count": null,
            "_view_module": "@jupyter-widgets/base",
            "_view_module_version": "1.2.0",
            "_view_name": "StyleView",
            "description_width": ""
          }
        },
        "9aedfe3d4934456885cd3a01cd89243f": {
          "model_module": "@jupyter-widgets/controls",
          "model_name": "HBoxModel",
          "model_module_version": "1.5.0",
          "state": {
            "_dom_classes": [],
            "_model_module": "@jupyter-widgets/controls",
            "_model_module_version": "1.5.0",
            "_model_name": "HBoxModel",
            "_view_count": null,
            "_view_module": "@jupyter-widgets/controls",
            "_view_module_version": "1.5.0",
            "_view_name": "HBoxView",
            "box_style": "",
            "children": [
              "IPY_MODEL_dde329e3ec6046959316f494bfcce564",
              "IPY_MODEL_9dfa0808a18940ff954c23727a4a4e6b",
              "IPY_MODEL_b6d8f584435b43bd93f12f985f0490d3"
            ],
            "layout": "IPY_MODEL_f3b01cf0c08441aca168006a106d7a1c"
          }
        },
        "dde329e3ec6046959316f494bfcce564": {
          "model_module": "@jupyter-widgets/controls",
          "model_name": "HTMLModel",
          "model_module_version": "1.5.0",
          "state": {
            "_dom_classes": [],
            "_model_module": "@jupyter-widgets/controls",
            "_model_module_version": "1.5.0",
            "_model_name": "HTMLModel",
            "_view_count": null,
            "_view_module": "@jupyter-widgets/controls",
            "_view_module_version": "1.5.0",
            "_view_name": "HTMLView",
            "description": "",
            "description_tooltip": null,
            "layout": "IPY_MODEL_bec7b1c3095045e9820478469fb630fc",
            "placeholder": "​",
            "style": "IPY_MODEL_4ad88056240b4a2c8a88c4ca226ee687",
            "value": "100%"
          }
        },
        "9dfa0808a18940ff954c23727a4a4e6b": {
          "model_module": "@jupyter-widgets/controls",
          "model_name": "FloatProgressModel",
          "model_module_version": "1.5.0",
          "state": {
            "_dom_classes": [],
            "_model_module": "@jupyter-widgets/controls",
            "_model_module_version": "1.5.0",
            "_model_name": "FloatProgressModel",
            "_view_count": null,
            "_view_module": "@jupyter-widgets/controls",
            "_view_module_version": "1.5.0",
            "_view_name": "ProgressView",
            "bar_style": "success",
            "description": "",
            "description_tooltip": null,
            "layout": "IPY_MODEL_fd022eb0e32945379d46231a80f2add8",
            "max": 50,
            "min": 0,
            "orientation": "horizontal",
            "style": "IPY_MODEL_359cb2faa21246c6b51c41a213460dab",
            "value": 50
          }
        },
        "b6d8f584435b43bd93f12f985f0490d3": {
          "model_module": "@jupyter-widgets/controls",
          "model_name": "HTMLModel",
          "model_module_version": "1.5.0",
          "state": {
            "_dom_classes": [],
            "_model_module": "@jupyter-widgets/controls",
            "_model_module_version": "1.5.0",
            "_model_name": "HTMLModel",
            "_view_count": null,
            "_view_module": "@jupyter-widgets/controls",
            "_view_module_version": "1.5.0",
            "_view_name": "HTMLView",
            "description": "",
            "description_tooltip": null,
            "layout": "IPY_MODEL_af8f4770f8d2455c9e85c78f6b4f2260",
            "placeholder": "​",
            "style": "IPY_MODEL_22840087ea7544ea8fdecc1515aa2f79",
            "value": " 50/50 [00:01&lt;00:00, 35.13it/s, loss=0.0628]"
          }
        },
        "f3b01cf0c08441aca168006a106d7a1c": {
          "model_module": "@jupyter-widgets/base",
          "model_name": "LayoutModel",
          "model_module_version": "1.2.0",
          "state": {
            "_model_module": "@jupyter-widgets/base",
            "_model_module_version": "1.2.0",
            "_model_name": "LayoutModel",
            "_view_count": null,
            "_view_module": "@jupyter-widgets/base",
            "_view_module_version": "1.2.0",
            "_view_name": "LayoutView",
            "align_content": null,
            "align_items": null,
            "align_self": null,
            "border": null,
            "bottom": null,
            "display": null,
            "flex": null,
            "flex_flow": null,
            "grid_area": null,
            "grid_auto_columns": null,
            "grid_auto_flow": null,
            "grid_auto_rows": null,
            "grid_column": null,
            "grid_gap": null,
            "grid_row": null,
            "grid_template_areas": null,
            "grid_template_columns": null,
            "grid_template_rows": null,
            "height": null,
            "justify_content": null,
            "justify_items": null,
            "left": null,
            "margin": null,
            "max_height": null,
            "max_width": null,
            "min_height": null,
            "min_width": null,
            "object_fit": null,
            "object_position": null,
            "order": null,
            "overflow": null,
            "overflow_x": null,
            "overflow_y": null,
            "padding": null,
            "right": null,
            "top": null,
            "visibility": null,
            "width": null
          }
        },
        "bec7b1c3095045e9820478469fb630fc": {
          "model_module": "@jupyter-widgets/base",
          "model_name": "LayoutModel",
          "model_module_version": "1.2.0",
          "state": {
            "_model_module": "@jupyter-widgets/base",
            "_model_module_version": "1.2.0",
            "_model_name": "LayoutModel",
            "_view_count": null,
            "_view_module": "@jupyter-widgets/base",
            "_view_module_version": "1.2.0",
            "_view_name": "LayoutView",
            "align_content": null,
            "align_items": null,
            "align_self": null,
            "border": null,
            "bottom": null,
            "display": null,
            "flex": null,
            "flex_flow": null,
            "grid_area": null,
            "grid_auto_columns": null,
            "grid_auto_flow": null,
            "grid_auto_rows": null,
            "grid_column": null,
            "grid_gap": null,
            "grid_row": null,
            "grid_template_areas": null,
            "grid_template_columns": null,
            "grid_template_rows": null,
            "height": null,
            "justify_content": null,
            "justify_items": null,
            "left": null,
            "margin": null,
            "max_height": null,
            "max_width": null,
            "min_height": null,
            "min_width": null,
            "object_fit": null,
            "object_position": null,
            "order": null,
            "overflow": null,
            "overflow_x": null,
            "overflow_y": null,
            "padding": null,
            "right": null,
            "top": null,
            "visibility": null,
            "width": null
          }
        },
        "4ad88056240b4a2c8a88c4ca226ee687": {
          "model_module": "@jupyter-widgets/controls",
          "model_name": "DescriptionStyleModel",
          "model_module_version": "1.5.0",
          "state": {
            "_model_module": "@jupyter-widgets/controls",
            "_model_module_version": "1.5.0",
            "_model_name": "DescriptionStyleModel",
            "_view_count": null,
            "_view_module": "@jupyter-widgets/base",
            "_view_module_version": "1.2.0",
            "_view_name": "StyleView",
            "description_width": ""
          }
        },
        "fd022eb0e32945379d46231a80f2add8": {
          "model_module": "@jupyter-widgets/base",
          "model_name": "LayoutModel",
          "model_module_version": "1.2.0",
          "state": {
            "_model_module": "@jupyter-widgets/base",
            "_model_module_version": "1.2.0",
            "_model_name": "LayoutModel",
            "_view_count": null,
            "_view_module": "@jupyter-widgets/base",
            "_view_module_version": "1.2.0",
            "_view_name": "LayoutView",
            "align_content": null,
            "align_items": null,
            "align_self": null,
            "border": null,
            "bottom": null,
            "display": null,
            "flex": null,
            "flex_flow": null,
            "grid_area": null,
            "grid_auto_columns": null,
            "grid_auto_flow": null,
            "grid_auto_rows": null,
            "grid_column": null,
            "grid_gap": null,
            "grid_row": null,
            "grid_template_areas": null,
            "grid_template_columns": null,
            "grid_template_rows": null,
            "height": null,
            "justify_content": null,
            "justify_items": null,
            "left": null,
            "margin": null,
            "max_height": null,
            "max_width": null,
            "min_height": null,
            "min_width": null,
            "object_fit": null,
            "object_position": null,
            "order": null,
            "overflow": null,
            "overflow_x": null,
            "overflow_y": null,
            "padding": null,
            "right": null,
            "top": null,
            "visibility": null,
            "width": null
          }
        },
        "359cb2faa21246c6b51c41a213460dab": {
          "model_module": "@jupyter-widgets/controls",
          "model_name": "ProgressStyleModel",
          "model_module_version": "1.5.0",
          "state": {
            "_model_module": "@jupyter-widgets/controls",
            "_model_module_version": "1.5.0",
            "_model_name": "ProgressStyleModel",
            "_view_count": null,
            "_view_module": "@jupyter-widgets/base",
            "_view_module_version": "1.2.0",
            "_view_name": "StyleView",
            "bar_color": null,
            "description_width": ""
          }
        },
        "af8f4770f8d2455c9e85c78f6b4f2260": {
          "model_module": "@jupyter-widgets/base",
          "model_name": "LayoutModel",
          "model_module_version": "1.2.0",
          "state": {
            "_model_module": "@jupyter-widgets/base",
            "_model_module_version": "1.2.0",
            "_model_name": "LayoutModel",
            "_view_count": null,
            "_view_module": "@jupyter-widgets/base",
            "_view_module_version": "1.2.0",
            "_view_name": "LayoutView",
            "align_content": null,
            "align_items": null,
            "align_self": null,
            "border": null,
            "bottom": null,
            "display": null,
            "flex": null,
            "flex_flow": null,
            "grid_area": null,
            "grid_auto_columns": null,
            "grid_auto_flow": null,
            "grid_auto_rows": null,
            "grid_column": null,
            "grid_gap": null,
            "grid_row": null,
            "grid_template_areas": null,
            "grid_template_columns": null,
            "grid_template_rows": null,
            "height": null,
            "justify_content": null,
            "justify_items": null,
            "left": null,
            "margin": null,
            "max_height": null,
            "max_width": null,
            "min_height": null,
            "min_width": null,
            "object_fit": null,
            "object_position": null,
            "order": null,
            "overflow": null,
            "overflow_x": null,
            "overflow_y": null,
            "padding": null,
            "right": null,
            "top": null,
            "visibility": null,
            "width": null
          }
        },
        "22840087ea7544ea8fdecc1515aa2f79": {
          "model_module": "@jupyter-widgets/controls",
          "model_name": "DescriptionStyleModel",
          "model_module_version": "1.5.0",
          "state": {
            "_model_module": "@jupyter-widgets/controls",
            "_model_module_version": "1.5.0",
            "_model_name": "DescriptionStyleModel",
            "_view_count": null,
            "_view_module": "@jupyter-widgets/base",
            "_view_module_version": "1.2.0",
            "_view_name": "StyleView",
            "description_width": ""
          }
        },
        "0f1d09f7d3fd4db7a6e6fa72e980d65e": {
          "model_module": "@jupyter-widgets/controls",
          "model_name": "HBoxModel",
          "model_module_version": "1.5.0",
          "state": {
            "_dom_classes": [],
            "_model_module": "@jupyter-widgets/controls",
            "_model_module_version": "1.5.0",
            "_model_name": "HBoxModel",
            "_view_count": null,
            "_view_module": "@jupyter-widgets/controls",
            "_view_module_version": "1.5.0",
            "_view_name": "HBoxView",
            "box_style": "",
            "children": [
              "IPY_MODEL_9f680c6811ae4cc2a0221d1780f4bf20",
              "IPY_MODEL_fd058adb232c4046989dd030a6e40204",
              "IPY_MODEL_8051597a53bc419b8a8ed9c49eef0816"
            ],
            "layout": "IPY_MODEL_83262b1871c54fb99d2845ea974d4bc2"
          }
        },
        "9f680c6811ae4cc2a0221d1780f4bf20": {
          "model_module": "@jupyter-widgets/controls",
          "model_name": "HTMLModel",
          "model_module_version": "1.5.0",
          "state": {
            "_dom_classes": [],
            "_model_module": "@jupyter-widgets/controls",
            "_model_module_version": "1.5.0",
            "_model_name": "HTMLModel",
            "_view_count": null,
            "_view_module": "@jupyter-widgets/controls",
            "_view_module_version": "1.5.0",
            "_view_name": "HTMLView",
            "description": "",
            "description_tooltip": null,
            "layout": "IPY_MODEL_6cbf18753f4841179d7a06a6b0389a3d",
            "placeholder": "​",
            "style": "IPY_MODEL_425dd4fce67b45a2937c7c064edfae7e",
            "value": "100%"
          }
        },
        "fd058adb232c4046989dd030a6e40204": {
          "model_module": "@jupyter-widgets/controls",
          "model_name": "FloatProgressModel",
          "model_module_version": "1.5.0",
          "state": {
            "_dom_classes": [],
            "_model_module": "@jupyter-widgets/controls",
            "_model_module_version": "1.5.0",
            "_model_name": "FloatProgressModel",
            "_view_count": null,
            "_view_module": "@jupyter-widgets/controls",
            "_view_module_version": "1.5.0",
            "_view_name": "ProgressView",
            "bar_style": "success",
            "description": "",
            "description_tooltip": null,
            "layout": "IPY_MODEL_5dd64181164e4d2dab929c027f683e1c",
            "max": 50,
            "min": 0,
            "orientation": "horizontal",
            "style": "IPY_MODEL_639668e003524e1d96107df0778cd9da",
            "value": 50
          }
        },
        "8051597a53bc419b8a8ed9c49eef0816": {
          "model_module": "@jupyter-widgets/controls",
          "model_name": "HTMLModel",
          "model_module_version": "1.5.0",
          "state": {
            "_dom_classes": [],
            "_model_module": "@jupyter-widgets/controls",
            "_model_module_version": "1.5.0",
            "_model_name": "HTMLModel",
            "_view_count": null,
            "_view_module": "@jupyter-widgets/controls",
            "_view_module_version": "1.5.0",
            "_view_name": "HTMLView",
            "description": "",
            "description_tooltip": null,
            "layout": "IPY_MODEL_d956cdb6ffd34ec58f08c0b877dcdd01",
            "placeholder": "​",
            "style": "IPY_MODEL_b1173cb37f3642b6a0494fc08e3240ad",
            "value": " 50/50 [00:01&lt;00:00, 31.42it/s, loss=0.0553]"
          }
        },
        "83262b1871c54fb99d2845ea974d4bc2": {
          "model_module": "@jupyter-widgets/base",
          "model_name": "LayoutModel",
          "model_module_version": "1.2.0",
          "state": {
            "_model_module": "@jupyter-widgets/base",
            "_model_module_version": "1.2.0",
            "_model_name": "LayoutModel",
            "_view_count": null,
            "_view_module": "@jupyter-widgets/base",
            "_view_module_version": "1.2.0",
            "_view_name": "LayoutView",
            "align_content": null,
            "align_items": null,
            "align_self": null,
            "border": null,
            "bottom": null,
            "display": null,
            "flex": null,
            "flex_flow": null,
            "grid_area": null,
            "grid_auto_columns": null,
            "grid_auto_flow": null,
            "grid_auto_rows": null,
            "grid_column": null,
            "grid_gap": null,
            "grid_row": null,
            "grid_template_areas": null,
            "grid_template_columns": null,
            "grid_template_rows": null,
            "height": null,
            "justify_content": null,
            "justify_items": null,
            "left": null,
            "margin": null,
            "max_height": null,
            "max_width": null,
            "min_height": null,
            "min_width": null,
            "object_fit": null,
            "object_position": null,
            "order": null,
            "overflow": null,
            "overflow_x": null,
            "overflow_y": null,
            "padding": null,
            "right": null,
            "top": null,
            "visibility": null,
            "width": null
          }
        },
        "6cbf18753f4841179d7a06a6b0389a3d": {
          "model_module": "@jupyter-widgets/base",
          "model_name": "LayoutModel",
          "model_module_version": "1.2.0",
          "state": {
            "_model_module": "@jupyter-widgets/base",
            "_model_module_version": "1.2.0",
            "_model_name": "LayoutModel",
            "_view_count": null,
            "_view_module": "@jupyter-widgets/base",
            "_view_module_version": "1.2.0",
            "_view_name": "LayoutView",
            "align_content": null,
            "align_items": null,
            "align_self": null,
            "border": null,
            "bottom": null,
            "display": null,
            "flex": null,
            "flex_flow": null,
            "grid_area": null,
            "grid_auto_columns": null,
            "grid_auto_flow": null,
            "grid_auto_rows": null,
            "grid_column": null,
            "grid_gap": null,
            "grid_row": null,
            "grid_template_areas": null,
            "grid_template_columns": null,
            "grid_template_rows": null,
            "height": null,
            "justify_content": null,
            "justify_items": null,
            "left": null,
            "margin": null,
            "max_height": null,
            "max_width": null,
            "min_height": null,
            "min_width": null,
            "object_fit": null,
            "object_position": null,
            "order": null,
            "overflow": null,
            "overflow_x": null,
            "overflow_y": null,
            "padding": null,
            "right": null,
            "top": null,
            "visibility": null,
            "width": null
          }
        },
        "425dd4fce67b45a2937c7c064edfae7e": {
          "model_module": "@jupyter-widgets/controls",
          "model_name": "DescriptionStyleModel",
          "model_module_version": "1.5.0",
          "state": {
            "_model_module": "@jupyter-widgets/controls",
            "_model_module_version": "1.5.0",
            "_model_name": "DescriptionStyleModel",
            "_view_count": null,
            "_view_module": "@jupyter-widgets/base",
            "_view_module_version": "1.2.0",
            "_view_name": "StyleView",
            "description_width": ""
          }
        },
        "5dd64181164e4d2dab929c027f683e1c": {
          "model_module": "@jupyter-widgets/base",
          "model_name": "LayoutModel",
          "model_module_version": "1.2.0",
          "state": {
            "_model_module": "@jupyter-widgets/base",
            "_model_module_version": "1.2.0",
            "_model_name": "LayoutModel",
            "_view_count": null,
            "_view_module": "@jupyter-widgets/base",
            "_view_module_version": "1.2.0",
            "_view_name": "LayoutView",
            "align_content": null,
            "align_items": null,
            "align_self": null,
            "border": null,
            "bottom": null,
            "display": null,
            "flex": null,
            "flex_flow": null,
            "grid_area": null,
            "grid_auto_columns": null,
            "grid_auto_flow": null,
            "grid_auto_rows": null,
            "grid_column": null,
            "grid_gap": null,
            "grid_row": null,
            "grid_template_areas": null,
            "grid_template_columns": null,
            "grid_template_rows": null,
            "height": null,
            "justify_content": null,
            "justify_items": null,
            "left": null,
            "margin": null,
            "max_height": null,
            "max_width": null,
            "min_height": null,
            "min_width": null,
            "object_fit": null,
            "object_position": null,
            "order": null,
            "overflow": null,
            "overflow_x": null,
            "overflow_y": null,
            "padding": null,
            "right": null,
            "top": null,
            "visibility": null,
            "width": null
          }
        },
        "639668e003524e1d96107df0778cd9da": {
          "model_module": "@jupyter-widgets/controls",
          "model_name": "ProgressStyleModel",
          "model_module_version": "1.5.0",
          "state": {
            "_model_module": "@jupyter-widgets/controls",
            "_model_module_version": "1.5.0",
            "_model_name": "ProgressStyleModel",
            "_view_count": null,
            "_view_module": "@jupyter-widgets/base",
            "_view_module_version": "1.2.0",
            "_view_name": "StyleView",
            "bar_color": null,
            "description_width": ""
          }
        },
        "d956cdb6ffd34ec58f08c0b877dcdd01": {
          "model_module": "@jupyter-widgets/base",
          "model_name": "LayoutModel",
          "model_module_version": "1.2.0",
          "state": {
            "_model_module": "@jupyter-widgets/base",
            "_model_module_version": "1.2.0",
            "_model_name": "LayoutModel",
            "_view_count": null,
            "_view_module": "@jupyter-widgets/base",
            "_view_module_version": "1.2.0",
            "_view_name": "LayoutView",
            "align_content": null,
            "align_items": null,
            "align_self": null,
            "border": null,
            "bottom": null,
            "display": null,
            "flex": null,
            "flex_flow": null,
            "grid_area": null,
            "grid_auto_columns": null,
            "grid_auto_flow": null,
            "grid_auto_rows": null,
            "grid_column": null,
            "grid_gap": null,
            "grid_row": null,
            "grid_template_areas": null,
            "grid_template_columns": null,
            "grid_template_rows": null,
            "height": null,
            "justify_content": null,
            "justify_items": null,
            "left": null,
            "margin": null,
            "max_height": null,
            "max_width": null,
            "min_height": null,
            "min_width": null,
            "object_fit": null,
            "object_position": null,
            "order": null,
            "overflow": null,
            "overflow_x": null,
            "overflow_y": null,
            "padding": null,
            "right": null,
            "top": null,
            "visibility": null,
            "width": null
          }
        },
        "b1173cb37f3642b6a0494fc08e3240ad": {
          "model_module": "@jupyter-widgets/controls",
          "model_name": "DescriptionStyleModel",
          "model_module_version": "1.5.0",
          "state": {
            "_model_module": "@jupyter-widgets/controls",
            "_model_module_version": "1.5.0",
            "_model_name": "DescriptionStyleModel",
            "_view_count": null,
            "_view_module": "@jupyter-widgets/base",
            "_view_module_version": "1.2.0",
            "_view_name": "StyleView",
            "description_width": ""
          }
        },
        "b169760946c146bb964c3644a7f1d43f": {
          "model_module": "@jupyter-widgets/controls",
          "model_name": "HBoxModel",
          "model_module_version": "1.5.0",
          "state": {
            "_dom_classes": [],
            "_model_module": "@jupyter-widgets/controls",
            "_model_module_version": "1.5.0",
            "_model_name": "HBoxModel",
            "_view_count": null,
            "_view_module": "@jupyter-widgets/controls",
            "_view_module_version": "1.5.0",
            "_view_name": "HBoxView",
            "box_style": "",
            "children": [
              "IPY_MODEL_6b4ec9962c164bfda874e3ff66c89730",
              "IPY_MODEL_bc2ce4e07c984b8d9ffaef23174d96cb",
              "IPY_MODEL_371d7c90670a49538978f3dc16f516c2"
            ],
            "layout": "IPY_MODEL_eb45ceb4ce1e46509a8be4043fcbb7ca"
          }
        },
        "6b4ec9962c164bfda874e3ff66c89730": {
          "model_module": "@jupyter-widgets/controls",
          "model_name": "HTMLModel",
          "model_module_version": "1.5.0",
          "state": {
            "_dom_classes": [],
            "_model_module": "@jupyter-widgets/controls",
            "_model_module_version": "1.5.0",
            "_model_name": "HTMLModel",
            "_view_count": null,
            "_view_module": "@jupyter-widgets/controls",
            "_view_module_version": "1.5.0",
            "_view_name": "HTMLView",
            "description": "",
            "description_tooltip": null,
            "layout": "IPY_MODEL_54e80c953bdf4870b764383596d2c7c9",
            "placeholder": "​",
            "style": "IPY_MODEL_e754f320807f4f9c9960597fd08c423b",
            "value": "100%"
          }
        },
        "bc2ce4e07c984b8d9ffaef23174d96cb": {
          "model_module": "@jupyter-widgets/controls",
          "model_name": "FloatProgressModel",
          "model_module_version": "1.5.0",
          "state": {
            "_dom_classes": [],
            "_model_module": "@jupyter-widgets/controls",
            "_model_module_version": "1.5.0",
            "_model_name": "FloatProgressModel",
            "_view_count": null,
            "_view_module": "@jupyter-widgets/controls",
            "_view_module_version": "1.5.0",
            "_view_name": "ProgressView",
            "bar_style": "success",
            "description": "",
            "description_tooltip": null,
            "layout": "IPY_MODEL_7860b318a2e6472ca5706b7a652a01bb",
            "max": 50,
            "min": 0,
            "orientation": "horizontal",
            "style": "IPY_MODEL_d7516ab891c64405adcc7b60b40a26b6",
            "value": 50
          }
        },
        "371d7c90670a49538978f3dc16f516c2": {
          "model_module": "@jupyter-widgets/controls",
          "model_name": "HTMLModel",
          "model_module_version": "1.5.0",
          "state": {
            "_dom_classes": [],
            "_model_module": "@jupyter-widgets/controls",
            "_model_module_version": "1.5.0",
            "_model_name": "HTMLModel",
            "_view_count": null,
            "_view_module": "@jupyter-widgets/controls",
            "_view_module_version": "1.5.0",
            "_view_name": "HTMLView",
            "description": "",
            "description_tooltip": null,
            "layout": "IPY_MODEL_6606cc62ddf4439eb315aac7183ceb3d",
            "placeholder": "​",
            "style": "IPY_MODEL_8e0761e8ef3b4e2d8cbfec14bb48acc3",
            "value": " 50/50 [00:01&lt;00:00, 28.12it/s, loss=0.0168]"
          }
        },
        "eb45ceb4ce1e46509a8be4043fcbb7ca": {
          "model_module": "@jupyter-widgets/base",
          "model_name": "LayoutModel",
          "model_module_version": "1.2.0",
          "state": {
            "_model_module": "@jupyter-widgets/base",
            "_model_module_version": "1.2.0",
            "_model_name": "LayoutModel",
            "_view_count": null,
            "_view_module": "@jupyter-widgets/base",
            "_view_module_version": "1.2.0",
            "_view_name": "LayoutView",
            "align_content": null,
            "align_items": null,
            "align_self": null,
            "border": null,
            "bottom": null,
            "display": null,
            "flex": null,
            "flex_flow": null,
            "grid_area": null,
            "grid_auto_columns": null,
            "grid_auto_flow": null,
            "grid_auto_rows": null,
            "grid_column": null,
            "grid_gap": null,
            "grid_row": null,
            "grid_template_areas": null,
            "grid_template_columns": null,
            "grid_template_rows": null,
            "height": null,
            "justify_content": null,
            "justify_items": null,
            "left": null,
            "margin": null,
            "max_height": null,
            "max_width": null,
            "min_height": null,
            "min_width": null,
            "object_fit": null,
            "object_position": null,
            "order": null,
            "overflow": null,
            "overflow_x": null,
            "overflow_y": null,
            "padding": null,
            "right": null,
            "top": null,
            "visibility": null,
            "width": null
          }
        },
        "54e80c953bdf4870b764383596d2c7c9": {
          "model_module": "@jupyter-widgets/base",
          "model_name": "LayoutModel",
          "model_module_version": "1.2.0",
          "state": {
            "_model_module": "@jupyter-widgets/base",
            "_model_module_version": "1.2.0",
            "_model_name": "LayoutModel",
            "_view_count": null,
            "_view_module": "@jupyter-widgets/base",
            "_view_module_version": "1.2.0",
            "_view_name": "LayoutView",
            "align_content": null,
            "align_items": null,
            "align_self": null,
            "border": null,
            "bottom": null,
            "display": null,
            "flex": null,
            "flex_flow": null,
            "grid_area": null,
            "grid_auto_columns": null,
            "grid_auto_flow": null,
            "grid_auto_rows": null,
            "grid_column": null,
            "grid_gap": null,
            "grid_row": null,
            "grid_template_areas": null,
            "grid_template_columns": null,
            "grid_template_rows": null,
            "height": null,
            "justify_content": null,
            "justify_items": null,
            "left": null,
            "margin": null,
            "max_height": null,
            "max_width": null,
            "min_height": null,
            "min_width": null,
            "object_fit": null,
            "object_position": null,
            "order": null,
            "overflow": null,
            "overflow_x": null,
            "overflow_y": null,
            "padding": null,
            "right": null,
            "top": null,
            "visibility": null,
            "width": null
          }
        },
        "e754f320807f4f9c9960597fd08c423b": {
          "model_module": "@jupyter-widgets/controls",
          "model_name": "DescriptionStyleModel",
          "model_module_version": "1.5.0",
          "state": {
            "_model_module": "@jupyter-widgets/controls",
            "_model_module_version": "1.5.0",
            "_model_name": "DescriptionStyleModel",
            "_view_count": null,
            "_view_module": "@jupyter-widgets/base",
            "_view_module_version": "1.2.0",
            "_view_name": "StyleView",
            "description_width": ""
          }
        },
        "7860b318a2e6472ca5706b7a652a01bb": {
          "model_module": "@jupyter-widgets/base",
          "model_name": "LayoutModel",
          "model_module_version": "1.2.0",
          "state": {
            "_model_module": "@jupyter-widgets/base",
            "_model_module_version": "1.2.0",
            "_model_name": "LayoutModel",
            "_view_count": null,
            "_view_module": "@jupyter-widgets/base",
            "_view_module_version": "1.2.0",
            "_view_name": "LayoutView",
            "align_content": null,
            "align_items": null,
            "align_self": null,
            "border": null,
            "bottom": null,
            "display": null,
            "flex": null,
            "flex_flow": null,
            "grid_area": null,
            "grid_auto_columns": null,
            "grid_auto_flow": null,
            "grid_auto_rows": null,
            "grid_column": null,
            "grid_gap": null,
            "grid_row": null,
            "grid_template_areas": null,
            "grid_template_columns": null,
            "grid_template_rows": null,
            "height": null,
            "justify_content": null,
            "justify_items": null,
            "left": null,
            "margin": null,
            "max_height": null,
            "max_width": null,
            "min_height": null,
            "min_width": null,
            "object_fit": null,
            "object_position": null,
            "order": null,
            "overflow": null,
            "overflow_x": null,
            "overflow_y": null,
            "padding": null,
            "right": null,
            "top": null,
            "visibility": null,
            "width": null
          }
        },
        "d7516ab891c64405adcc7b60b40a26b6": {
          "model_module": "@jupyter-widgets/controls",
          "model_name": "ProgressStyleModel",
          "model_module_version": "1.5.0",
          "state": {
            "_model_module": "@jupyter-widgets/controls",
            "_model_module_version": "1.5.0",
            "_model_name": "ProgressStyleModel",
            "_view_count": null,
            "_view_module": "@jupyter-widgets/base",
            "_view_module_version": "1.2.0",
            "_view_name": "StyleView",
            "bar_color": null,
            "description_width": ""
          }
        },
        "6606cc62ddf4439eb315aac7183ceb3d": {
          "model_module": "@jupyter-widgets/base",
          "model_name": "LayoutModel",
          "model_module_version": "1.2.0",
          "state": {
            "_model_module": "@jupyter-widgets/base",
            "_model_module_version": "1.2.0",
            "_model_name": "LayoutModel",
            "_view_count": null,
            "_view_module": "@jupyter-widgets/base",
            "_view_module_version": "1.2.0",
            "_view_name": "LayoutView",
            "align_content": null,
            "align_items": null,
            "align_self": null,
            "border": null,
            "bottom": null,
            "display": null,
            "flex": null,
            "flex_flow": null,
            "grid_area": null,
            "grid_auto_columns": null,
            "grid_auto_flow": null,
            "grid_auto_rows": null,
            "grid_column": null,
            "grid_gap": null,
            "grid_row": null,
            "grid_template_areas": null,
            "grid_template_columns": null,
            "grid_template_rows": null,
            "height": null,
            "justify_content": null,
            "justify_items": null,
            "left": null,
            "margin": null,
            "max_height": null,
            "max_width": null,
            "min_height": null,
            "min_width": null,
            "object_fit": null,
            "object_position": null,
            "order": null,
            "overflow": null,
            "overflow_x": null,
            "overflow_y": null,
            "padding": null,
            "right": null,
            "top": null,
            "visibility": null,
            "width": null
          }
        },
        "8e0761e8ef3b4e2d8cbfec14bb48acc3": {
          "model_module": "@jupyter-widgets/controls",
          "model_name": "DescriptionStyleModel",
          "model_module_version": "1.5.0",
          "state": {
            "_model_module": "@jupyter-widgets/controls",
            "_model_module_version": "1.5.0",
            "_model_name": "DescriptionStyleModel",
            "_view_count": null,
            "_view_module": "@jupyter-widgets/base",
            "_view_module_version": "1.2.0",
            "_view_name": "StyleView",
            "description_width": ""
          }
        },
        "431c38c82b664379a92fc40477893a41": {
          "model_module": "@jupyter-widgets/controls",
          "model_name": "HBoxModel",
          "model_module_version": "1.5.0",
          "state": {
            "_dom_classes": [],
            "_model_module": "@jupyter-widgets/controls",
            "_model_module_version": "1.5.0",
            "_model_name": "HBoxModel",
            "_view_count": null,
            "_view_module": "@jupyter-widgets/controls",
            "_view_module_version": "1.5.0",
            "_view_name": "HBoxView",
            "box_style": "",
            "children": [
              "IPY_MODEL_a068ba85511f46d68551141f0c146766",
              "IPY_MODEL_bc5d5e536e00405ba7b73136fb24ddff",
              "IPY_MODEL_32fe37adff5b4eb1bb76c326acdffd85"
            ],
            "layout": "IPY_MODEL_38281ccd1c324e688cb3604962d37391"
          }
        },
        "a068ba85511f46d68551141f0c146766": {
          "model_module": "@jupyter-widgets/controls",
          "model_name": "HTMLModel",
          "model_module_version": "1.5.0",
          "state": {
            "_dom_classes": [],
            "_model_module": "@jupyter-widgets/controls",
            "_model_module_version": "1.5.0",
            "_model_name": "HTMLModel",
            "_view_count": null,
            "_view_module": "@jupyter-widgets/controls",
            "_view_module_version": "1.5.0",
            "_view_name": "HTMLView",
            "description": "",
            "description_tooltip": null,
            "layout": "IPY_MODEL_421fbd2ea2f448afb0982fa756bf10e5",
            "placeholder": "​",
            "style": "IPY_MODEL_87268127072b4c99955d7595bcb2c404",
            "value": "100%"
          }
        },
        "bc5d5e536e00405ba7b73136fb24ddff": {
          "model_module": "@jupyter-widgets/controls",
          "model_name": "FloatProgressModel",
          "model_module_version": "1.5.0",
          "state": {
            "_dom_classes": [],
            "_model_module": "@jupyter-widgets/controls",
            "_model_module_version": "1.5.0",
            "_model_name": "FloatProgressModel",
            "_view_count": null,
            "_view_module": "@jupyter-widgets/controls",
            "_view_module_version": "1.5.0",
            "_view_name": "ProgressView",
            "bar_style": "success",
            "description": "",
            "description_tooltip": null,
            "layout": "IPY_MODEL_c3320a108e1a498faa9978cc73fa09b1",
            "max": 50,
            "min": 0,
            "orientation": "horizontal",
            "style": "IPY_MODEL_36ec3a66fd924ac2b5e6a9bcdad4c812",
            "value": 50
          }
        },
        "32fe37adff5b4eb1bb76c326acdffd85": {
          "model_module": "@jupyter-widgets/controls",
          "model_name": "HTMLModel",
          "model_module_version": "1.5.0",
          "state": {
            "_dom_classes": [],
            "_model_module": "@jupyter-widgets/controls",
            "_model_module_version": "1.5.0",
            "_model_name": "HTMLModel",
            "_view_count": null,
            "_view_module": "@jupyter-widgets/controls",
            "_view_module_version": "1.5.0",
            "_view_name": "HTMLView",
            "description": "",
            "description_tooltip": null,
            "layout": "IPY_MODEL_d95c7234a22d4db787f60cc9dc287967",
            "placeholder": "​",
            "style": "IPY_MODEL_e6df7e2959b74ebea1b1c999bb5bd446",
            "value": " 50/50 [00:01&lt;00:00, 32.57it/s, loss=0.00408]"
          }
        },
        "38281ccd1c324e688cb3604962d37391": {
          "model_module": "@jupyter-widgets/base",
          "model_name": "LayoutModel",
          "model_module_version": "1.2.0",
          "state": {
            "_model_module": "@jupyter-widgets/base",
            "_model_module_version": "1.2.0",
            "_model_name": "LayoutModel",
            "_view_count": null,
            "_view_module": "@jupyter-widgets/base",
            "_view_module_version": "1.2.0",
            "_view_name": "LayoutView",
            "align_content": null,
            "align_items": null,
            "align_self": null,
            "border": null,
            "bottom": null,
            "display": null,
            "flex": null,
            "flex_flow": null,
            "grid_area": null,
            "grid_auto_columns": null,
            "grid_auto_flow": null,
            "grid_auto_rows": null,
            "grid_column": null,
            "grid_gap": null,
            "grid_row": null,
            "grid_template_areas": null,
            "grid_template_columns": null,
            "grid_template_rows": null,
            "height": null,
            "justify_content": null,
            "justify_items": null,
            "left": null,
            "margin": null,
            "max_height": null,
            "max_width": null,
            "min_height": null,
            "min_width": null,
            "object_fit": null,
            "object_position": null,
            "order": null,
            "overflow": null,
            "overflow_x": null,
            "overflow_y": null,
            "padding": null,
            "right": null,
            "top": null,
            "visibility": null,
            "width": null
          }
        },
        "421fbd2ea2f448afb0982fa756bf10e5": {
          "model_module": "@jupyter-widgets/base",
          "model_name": "LayoutModel",
          "model_module_version": "1.2.0",
          "state": {
            "_model_module": "@jupyter-widgets/base",
            "_model_module_version": "1.2.0",
            "_model_name": "LayoutModel",
            "_view_count": null,
            "_view_module": "@jupyter-widgets/base",
            "_view_module_version": "1.2.0",
            "_view_name": "LayoutView",
            "align_content": null,
            "align_items": null,
            "align_self": null,
            "border": null,
            "bottom": null,
            "display": null,
            "flex": null,
            "flex_flow": null,
            "grid_area": null,
            "grid_auto_columns": null,
            "grid_auto_flow": null,
            "grid_auto_rows": null,
            "grid_column": null,
            "grid_gap": null,
            "grid_row": null,
            "grid_template_areas": null,
            "grid_template_columns": null,
            "grid_template_rows": null,
            "height": null,
            "justify_content": null,
            "justify_items": null,
            "left": null,
            "margin": null,
            "max_height": null,
            "max_width": null,
            "min_height": null,
            "min_width": null,
            "object_fit": null,
            "object_position": null,
            "order": null,
            "overflow": null,
            "overflow_x": null,
            "overflow_y": null,
            "padding": null,
            "right": null,
            "top": null,
            "visibility": null,
            "width": null
          }
        },
        "87268127072b4c99955d7595bcb2c404": {
          "model_module": "@jupyter-widgets/controls",
          "model_name": "DescriptionStyleModel",
          "model_module_version": "1.5.0",
          "state": {
            "_model_module": "@jupyter-widgets/controls",
            "_model_module_version": "1.5.0",
            "_model_name": "DescriptionStyleModel",
            "_view_count": null,
            "_view_module": "@jupyter-widgets/base",
            "_view_module_version": "1.2.0",
            "_view_name": "StyleView",
            "description_width": ""
          }
        },
        "c3320a108e1a498faa9978cc73fa09b1": {
          "model_module": "@jupyter-widgets/base",
          "model_name": "LayoutModel",
          "model_module_version": "1.2.0",
          "state": {
            "_model_module": "@jupyter-widgets/base",
            "_model_module_version": "1.2.0",
            "_model_name": "LayoutModel",
            "_view_count": null,
            "_view_module": "@jupyter-widgets/base",
            "_view_module_version": "1.2.0",
            "_view_name": "LayoutView",
            "align_content": null,
            "align_items": null,
            "align_self": null,
            "border": null,
            "bottom": null,
            "display": null,
            "flex": null,
            "flex_flow": null,
            "grid_area": null,
            "grid_auto_columns": null,
            "grid_auto_flow": null,
            "grid_auto_rows": null,
            "grid_column": null,
            "grid_gap": null,
            "grid_row": null,
            "grid_template_areas": null,
            "grid_template_columns": null,
            "grid_template_rows": null,
            "height": null,
            "justify_content": null,
            "justify_items": null,
            "left": null,
            "margin": null,
            "max_height": null,
            "max_width": null,
            "min_height": null,
            "min_width": null,
            "object_fit": null,
            "object_position": null,
            "order": null,
            "overflow": null,
            "overflow_x": null,
            "overflow_y": null,
            "padding": null,
            "right": null,
            "top": null,
            "visibility": null,
            "width": null
          }
        },
        "36ec3a66fd924ac2b5e6a9bcdad4c812": {
          "model_module": "@jupyter-widgets/controls",
          "model_name": "ProgressStyleModel",
          "model_module_version": "1.5.0",
          "state": {
            "_model_module": "@jupyter-widgets/controls",
            "_model_module_version": "1.5.0",
            "_model_name": "ProgressStyleModel",
            "_view_count": null,
            "_view_module": "@jupyter-widgets/base",
            "_view_module_version": "1.2.0",
            "_view_name": "StyleView",
            "bar_color": null,
            "description_width": ""
          }
        },
        "d95c7234a22d4db787f60cc9dc287967": {
          "model_module": "@jupyter-widgets/base",
          "model_name": "LayoutModel",
          "model_module_version": "1.2.0",
          "state": {
            "_model_module": "@jupyter-widgets/base",
            "_model_module_version": "1.2.0",
            "_model_name": "LayoutModel",
            "_view_count": null,
            "_view_module": "@jupyter-widgets/base",
            "_view_module_version": "1.2.0",
            "_view_name": "LayoutView",
            "align_content": null,
            "align_items": null,
            "align_self": null,
            "border": null,
            "bottom": null,
            "display": null,
            "flex": null,
            "flex_flow": null,
            "grid_area": null,
            "grid_auto_columns": null,
            "grid_auto_flow": null,
            "grid_auto_rows": null,
            "grid_column": null,
            "grid_gap": null,
            "grid_row": null,
            "grid_template_areas": null,
            "grid_template_columns": null,
            "grid_template_rows": null,
            "height": null,
            "justify_content": null,
            "justify_items": null,
            "left": null,
            "margin": null,
            "max_height": null,
            "max_width": null,
            "min_height": null,
            "min_width": null,
            "object_fit": null,
            "object_position": null,
            "order": null,
            "overflow": null,
            "overflow_x": null,
            "overflow_y": null,
            "padding": null,
            "right": null,
            "top": null,
            "visibility": null,
            "width": null
          }
        },
        "e6df7e2959b74ebea1b1c999bb5bd446": {
          "model_module": "@jupyter-widgets/controls",
          "model_name": "DescriptionStyleModel",
          "model_module_version": "1.5.0",
          "state": {
            "_model_module": "@jupyter-widgets/controls",
            "_model_module_version": "1.5.0",
            "_model_name": "DescriptionStyleModel",
            "_view_count": null,
            "_view_module": "@jupyter-widgets/base",
            "_view_module_version": "1.2.0",
            "_view_name": "StyleView",
            "description_width": ""
          }
        },
        "fc65219717164d8aa775a2e5f46cb001": {
          "model_module": "@jupyter-widgets/controls",
          "model_name": "HBoxModel",
          "model_module_version": "1.5.0",
          "state": {
            "_dom_classes": [],
            "_model_module": "@jupyter-widgets/controls",
            "_model_module_version": "1.5.0",
            "_model_name": "HBoxModel",
            "_view_count": null,
            "_view_module": "@jupyter-widgets/controls",
            "_view_module_version": "1.5.0",
            "_view_name": "HBoxView",
            "box_style": "",
            "children": [
              "IPY_MODEL_a7456a315ba44426aada42e2e7d6da12",
              "IPY_MODEL_10a4bd5edc164cf492626ee8bb60676f",
              "IPY_MODEL_ea91a518279a4a4aa104b4030ed8d07d"
            ],
            "layout": "IPY_MODEL_07b7f33bde014d02bce45446c9ec67d3"
          }
        },
        "a7456a315ba44426aada42e2e7d6da12": {
          "model_module": "@jupyter-widgets/controls",
          "model_name": "HTMLModel",
          "model_module_version": "1.5.0",
          "state": {
            "_dom_classes": [],
            "_model_module": "@jupyter-widgets/controls",
            "_model_module_version": "1.5.0",
            "_model_name": "HTMLModel",
            "_view_count": null,
            "_view_module": "@jupyter-widgets/controls",
            "_view_module_version": "1.5.0",
            "_view_name": "HTMLView",
            "description": "",
            "description_tooltip": null,
            "layout": "IPY_MODEL_34403fd5e8ec434a87f51e6574b64845",
            "placeholder": "​",
            "style": "IPY_MODEL_fdb817d6defa4b34964eb3910c1bde73",
            "value": "100%"
          }
        },
        "10a4bd5edc164cf492626ee8bb60676f": {
          "model_module": "@jupyter-widgets/controls",
          "model_name": "FloatProgressModel",
          "model_module_version": "1.5.0",
          "state": {
            "_dom_classes": [],
            "_model_module": "@jupyter-widgets/controls",
            "_model_module_version": "1.5.0",
            "_model_name": "FloatProgressModel",
            "_view_count": null,
            "_view_module": "@jupyter-widgets/controls",
            "_view_module_version": "1.5.0",
            "_view_name": "ProgressView",
            "bar_style": "success",
            "description": "",
            "description_tooltip": null,
            "layout": "IPY_MODEL_3504cc10005b498db3f03314e185c5d2",
            "max": 50,
            "min": 0,
            "orientation": "horizontal",
            "style": "IPY_MODEL_289a16d95a0643bdac97a885d67ffd46",
            "value": 50
          }
        },
        "ea91a518279a4a4aa104b4030ed8d07d": {
          "model_module": "@jupyter-widgets/controls",
          "model_name": "HTMLModel",
          "model_module_version": "1.5.0",
          "state": {
            "_dom_classes": [],
            "_model_module": "@jupyter-widgets/controls",
            "_model_module_version": "1.5.0",
            "_model_name": "HTMLModel",
            "_view_count": null,
            "_view_module": "@jupyter-widgets/controls",
            "_view_module_version": "1.5.0",
            "_view_name": "HTMLView",
            "description": "",
            "description_tooltip": null,
            "layout": "IPY_MODEL_2b0c5aa03cfb44ee8ac6f0c0584728c0",
            "placeholder": "​",
            "style": "IPY_MODEL_82c65d2d43d5450183bac0a882ff9c30",
            "value": " 50/50 [00:01&lt;00:00, 35.26it/s, loss=0.046]"
          }
        },
        "07b7f33bde014d02bce45446c9ec67d3": {
          "model_module": "@jupyter-widgets/base",
          "model_name": "LayoutModel",
          "model_module_version": "1.2.0",
          "state": {
            "_model_module": "@jupyter-widgets/base",
            "_model_module_version": "1.2.0",
            "_model_name": "LayoutModel",
            "_view_count": null,
            "_view_module": "@jupyter-widgets/base",
            "_view_module_version": "1.2.0",
            "_view_name": "LayoutView",
            "align_content": null,
            "align_items": null,
            "align_self": null,
            "border": null,
            "bottom": null,
            "display": null,
            "flex": null,
            "flex_flow": null,
            "grid_area": null,
            "grid_auto_columns": null,
            "grid_auto_flow": null,
            "grid_auto_rows": null,
            "grid_column": null,
            "grid_gap": null,
            "grid_row": null,
            "grid_template_areas": null,
            "grid_template_columns": null,
            "grid_template_rows": null,
            "height": null,
            "justify_content": null,
            "justify_items": null,
            "left": null,
            "margin": null,
            "max_height": null,
            "max_width": null,
            "min_height": null,
            "min_width": null,
            "object_fit": null,
            "object_position": null,
            "order": null,
            "overflow": null,
            "overflow_x": null,
            "overflow_y": null,
            "padding": null,
            "right": null,
            "top": null,
            "visibility": null,
            "width": null
          }
        },
        "34403fd5e8ec434a87f51e6574b64845": {
          "model_module": "@jupyter-widgets/base",
          "model_name": "LayoutModel",
          "model_module_version": "1.2.0",
          "state": {
            "_model_module": "@jupyter-widgets/base",
            "_model_module_version": "1.2.0",
            "_model_name": "LayoutModel",
            "_view_count": null,
            "_view_module": "@jupyter-widgets/base",
            "_view_module_version": "1.2.0",
            "_view_name": "LayoutView",
            "align_content": null,
            "align_items": null,
            "align_self": null,
            "border": null,
            "bottom": null,
            "display": null,
            "flex": null,
            "flex_flow": null,
            "grid_area": null,
            "grid_auto_columns": null,
            "grid_auto_flow": null,
            "grid_auto_rows": null,
            "grid_column": null,
            "grid_gap": null,
            "grid_row": null,
            "grid_template_areas": null,
            "grid_template_columns": null,
            "grid_template_rows": null,
            "height": null,
            "justify_content": null,
            "justify_items": null,
            "left": null,
            "margin": null,
            "max_height": null,
            "max_width": null,
            "min_height": null,
            "min_width": null,
            "object_fit": null,
            "object_position": null,
            "order": null,
            "overflow": null,
            "overflow_x": null,
            "overflow_y": null,
            "padding": null,
            "right": null,
            "top": null,
            "visibility": null,
            "width": null
          }
        },
        "fdb817d6defa4b34964eb3910c1bde73": {
          "model_module": "@jupyter-widgets/controls",
          "model_name": "DescriptionStyleModel",
          "model_module_version": "1.5.0",
          "state": {
            "_model_module": "@jupyter-widgets/controls",
            "_model_module_version": "1.5.0",
            "_model_name": "DescriptionStyleModel",
            "_view_count": null,
            "_view_module": "@jupyter-widgets/base",
            "_view_module_version": "1.2.0",
            "_view_name": "StyleView",
            "description_width": ""
          }
        },
        "3504cc10005b498db3f03314e185c5d2": {
          "model_module": "@jupyter-widgets/base",
          "model_name": "LayoutModel",
          "model_module_version": "1.2.0",
          "state": {
            "_model_module": "@jupyter-widgets/base",
            "_model_module_version": "1.2.0",
            "_model_name": "LayoutModel",
            "_view_count": null,
            "_view_module": "@jupyter-widgets/base",
            "_view_module_version": "1.2.0",
            "_view_name": "LayoutView",
            "align_content": null,
            "align_items": null,
            "align_self": null,
            "border": null,
            "bottom": null,
            "display": null,
            "flex": null,
            "flex_flow": null,
            "grid_area": null,
            "grid_auto_columns": null,
            "grid_auto_flow": null,
            "grid_auto_rows": null,
            "grid_column": null,
            "grid_gap": null,
            "grid_row": null,
            "grid_template_areas": null,
            "grid_template_columns": null,
            "grid_template_rows": null,
            "height": null,
            "justify_content": null,
            "justify_items": null,
            "left": null,
            "margin": null,
            "max_height": null,
            "max_width": null,
            "min_height": null,
            "min_width": null,
            "object_fit": null,
            "object_position": null,
            "order": null,
            "overflow": null,
            "overflow_x": null,
            "overflow_y": null,
            "padding": null,
            "right": null,
            "top": null,
            "visibility": null,
            "width": null
          }
        },
        "289a16d95a0643bdac97a885d67ffd46": {
          "model_module": "@jupyter-widgets/controls",
          "model_name": "ProgressStyleModel",
          "model_module_version": "1.5.0",
          "state": {
            "_model_module": "@jupyter-widgets/controls",
            "_model_module_version": "1.5.0",
            "_model_name": "ProgressStyleModel",
            "_view_count": null,
            "_view_module": "@jupyter-widgets/base",
            "_view_module_version": "1.2.0",
            "_view_name": "StyleView",
            "bar_color": null,
            "description_width": ""
          }
        },
        "2b0c5aa03cfb44ee8ac6f0c0584728c0": {
          "model_module": "@jupyter-widgets/base",
          "model_name": "LayoutModel",
          "model_module_version": "1.2.0",
          "state": {
            "_model_module": "@jupyter-widgets/base",
            "_model_module_version": "1.2.0",
            "_model_name": "LayoutModel",
            "_view_count": null,
            "_view_module": "@jupyter-widgets/base",
            "_view_module_version": "1.2.0",
            "_view_name": "LayoutView",
            "align_content": null,
            "align_items": null,
            "align_self": null,
            "border": null,
            "bottom": null,
            "display": null,
            "flex": null,
            "flex_flow": null,
            "grid_area": null,
            "grid_auto_columns": null,
            "grid_auto_flow": null,
            "grid_auto_rows": null,
            "grid_column": null,
            "grid_gap": null,
            "grid_row": null,
            "grid_template_areas": null,
            "grid_template_columns": null,
            "grid_template_rows": null,
            "height": null,
            "justify_content": null,
            "justify_items": null,
            "left": null,
            "margin": null,
            "max_height": null,
            "max_width": null,
            "min_height": null,
            "min_width": null,
            "object_fit": null,
            "object_position": null,
            "order": null,
            "overflow": null,
            "overflow_x": null,
            "overflow_y": null,
            "padding": null,
            "right": null,
            "top": null,
            "visibility": null,
            "width": null
          }
        },
        "82c65d2d43d5450183bac0a882ff9c30": {
          "model_module": "@jupyter-widgets/controls",
          "model_name": "DescriptionStyleModel",
          "model_module_version": "1.5.0",
          "state": {
            "_model_module": "@jupyter-widgets/controls",
            "_model_module_version": "1.5.0",
            "_model_name": "DescriptionStyleModel",
            "_view_count": null,
            "_view_module": "@jupyter-widgets/base",
            "_view_module_version": "1.2.0",
            "_view_name": "StyleView",
            "description_width": ""
          }
        },
        "cae6c53535b14c88bd4851bb422e037a": {
          "model_module": "@jupyter-widgets/controls",
          "model_name": "HBoxModel",
          "model_module_version": "1.5.0",
          "state": {
            "_dom_classes": [],
            "_model_module": "@jupyter-widgets/controls",
            "_model_module_version": "1.5.0",
            "_model_name": "HBoxModel",
            "_view_count": null,
            "_view_module": "@jupyter-widgets/controls",
            "_view_module_version": "1.5.0",
            "_view_name": "HBoxView",
            "box_style": "",
            "children": [
              "IPY_MODEL_256c16fac9d44d8e8a31126077ac72a8",
              "IPY_MODEL_cc1b0768e53945009a50e6efdf5ccdb7",
              "IPY_MODEL_570685cdf0b4474289e02bbfc7dd4f77"
            ],
            "layout": "IPY_MODEL_5f43a6136bb44e47a9462957799f512f"
          }
        },
        "256c16fac9d44d8e8a31126077ac72a8": {
          "model_module": "@jupyter-widgets/controls",
          "model_name": "HTMLModel",
          "model_module_version": "1.5.0",
          "state": {
            "_dom_classes": [],
            "_model_module": "@jupyter-widgets/controls",
            "_model_module_version": "1.5.0",
            "_model_name": "HTMLModel",
            "_view_count": null,
            "_view_module": "@jupyter-widgets/controls",
            "_view_module_version": "1.5.0",
            "_view_name": "HTMLView",
            "description": "",
            "description_tooltip": null,
            "layout": "IPY_MODEL_b42b1ab3db5543d79e68aff7c7cbff17",
            "placeholder": "​",
            "style": "IPY_MODEL_2ac6045769aa49bc8fbb57a063041922",
            "value": "100%"
          }
        },
        "cc1b0768e53945009a50e6efdf5ccdb7": {
          "model_module": "@jupyter-widgets/controls",
          "model_name": "FloatProgressModel",
          "model_module_version": "1.5.0",
          "state": {
            "_dom_classes": [],
            "_model_module": "@jupyter-widgets/controls",
            "_model_module_version": "1.5.0",
            "_model_name": "FloatProgressModel",
            "_view_count": null,
            "_view_module": "@jupyter-widgets/controls",
            "_view_module_version": "1.5.0",
            "_view_name": "ProgressView",
            "bar_style": "success",
            "description": "",
            "description_tooltip": null,
            "layout": "IPY_MODEL_ae92ebc369e840b4a72b7af670aa6f19",
            "max": 50,
            "min": 0,
            "orientation": "horizontal",
            "style": "IPY_MODEL_78dea699b97a417597c5a1a64dabeafd",
            "value": 50
          }
        },
        "570685cdf0b4474289e02bbfc7dd4f77": {
          "model_module": "@jupyter-widgets/controls",
          "model_name": "HTMLModel",
          "model_module_version": "1.5.0",
          "state": {
            "_dom_classes": [],
            "_model_module": "@jupyter-widgets/controls",
            "_model_module_version": "1.5.0",
            "_model_name": "HTMLModel",
            "_view_count": null,
            "_view_module": "@jupyter-widgets/controls",
            "_view_module_version": "1.5.0",
            "_view_name": "HTMLView",
            "description": "",
            "description_tooltip": null,
            "layout": "IPY_MODEL_9d846fda0cdd4fd2b1b63963fbbdc034",
            "placeholder": "​",
            "style": "IPY_MODEL_21671e621ac245a8aeacb33b10e7bd13",
            "value": " 50/50 [00:01&lt;00:00, 33.94it/s, loss=0.0556]"
          }
        },
        "5f43a6136bb44e47a9462957799f512f": {
          "model_module": "@jupyter-widgets/base",
          "model_name": "LayoutModel",
          "model_module_version": "1.2.0",
          "state": {
            "_model_module": "@jupyter-widgets/base",
            "_model_module_version": "1.2.0",
            "_model_name": "LayoutModel",
            "_view_count": null,
            "_view_module": "@jupyter-widgets/base",
            "_view_module_version": "1.2.0",
            "_view_name": "LayoutView",
            "align_content": null,
            "align_items": null,
            "align_self": null,
            "border": null,
            "bottom": null,
            "display": null,
            "flex": null,
            "flex_flow": null,
            "grid_area": null,
            "grid_auto_columns": null,
            "grid_auto_flow": null,
            "grid_auto_rows": null,
            "grid_column": null,
            "grid_gap": null,
            "grid_row": null,
            "grid_template_areas": null,
            "grid_template_columns": null,
            "grid_template_rows": null,
            "height": null,
            "justify_content": null,
            "justify_items": null,
            "left": null,
            "margin": null,
            "max_height": null,
            "max_width": null,
            "min_height": null,
            "min_width": null,
            "object_fit": null,
            "object_position": null,
            "order": null,
            "overflow": null,
            "overflow_x": null,
            "overflow_y": null,
            "padding": null,
            "right": null,
            "top": null,
            "visibility": null,
            "width": null
          }
        },
        "b42b1ab3db5543d79e68aff7c7cbff17": {
          "model_module": "@jupyter-widgets/base",
          "model_name": "LayoutModel",
          "model_module_version": "1.2.0",
          "state": {
            "_model_module": "@jupyter-widgets/base",
            "_model_module_version": "1.2.0",
            "_model_name": "LayoutModel",
            "_view_count": null,
            "_view_module": "@jupyter-widgets/base",
            "_view_module_version": "1.2.0",
            "_view_name": "LayoutView",
            "align_content": null,
            "align_items": null,
            "align_self": null,
            "border": null,
            "bottom": null,
            "display": null,
            "flex": null,
            "flex_flow": null,
            "grid_area": null,
            "grid_auto_columns": null,
            "grid_auto_flow": null,
            "grid_auto_rows": null,
            "grid_column": null,
            "grid_gap": null,
            "grid_row": null,
            "grid_template_areas": null,
            "grid_template_columns": null,
            "grid_template_rows": null,
            "height": null,
            "justify_content": null,
            "justify_items": null,
            "left": null,
            "margin": null,
            "max_height": null,
            "max_width": null,
            "min_height": null,
            "min_width": null,
            "object_fit": null,
            "object_position": null,
            "order": null,
            "overflow": null,
            "overflow_x": null,
            "overflow_y": null,
            "padding": null,
            "right": null,
            "top": null,
            "visibility": null,
            "width": null
          }
        },
        "2ac6045769aa49bc8fbb57a063041922": {
          "model_module": "@jupyter-widgets/controls",
          "model_name": "DescriptionStyleModel",
          "model_module_version": "1.5.0",
          "state": {
            "_model_module": "@jupyter-widgets/controls",
            "_model_module_version": "1.5.0",
            "_model_name": "DescriptionStyleModel",
            "_view_count": null,
            "_view_module": "@jupyter-widgets/base",
            "_view_module_version": "1.2.0",
            "_view_name": "StyleView",
            "description_width": ""
          }
        },
        "ae92ebc369e840b4a72b7af670aa6f19": {
          "model_module": "@jupyter-widgets/base",
          "model_name": "LayoutModel",
          "model_module_version": "1.2.0",
          "state": {
            "_model_module": "@jupyter-widgets/base",
            "_model_module_version": "1.2.0",
            "_model_name": "LayoutModel",
            "_view_count": null,
            "_view_module": "@jupyter-widgets/base",
            "_view_module_version": "1.2.0",
            "_view_name": "LayoutView",
            "align_content": null,
            "align_items": null,
            "align_self": null,
            "border": null,
            "bottom": null,
            "display": null,
            "flex": null,
            "flex_flow": null,
            "grid_area": null,
            "grid_auto_columns": null,
            "grid_auto_flow": null,
            "grid_auto_rows": null,
            "grid_column": null,
            "grid_gap": null,
            "grid_row": null,
            "grid_template_areas": null,
            "grid_template_columns": null,
            "grid_template_rows": null,
            "height": null,
            "justify_content": null,
            "justify_items": null,
            "left": null,
            "margin": null,
            "max_height": null,
            "max_width": null,
            "min_height": null,
            "min_width": null,
            "object_fit": null,
            "object_position": null,
            "order": null,
            "overflow": null,
            "overflow_x": null,
            "overflow_y": null,
            "padding": null,
            "right": null,
            "top": null,
            "visibility": null,
            "width": null
          }
        },
        "78dea699b97a417597c5a1a64dabeafd": {
          "model_module": "@jupyter-widgets/controls",
          "model_name": "ProgressStyleModel",
          "model_module_version": "1.5.0",
          "state": {
            "_model_module": "@jupyter-widgets/controls",
            "_model_module_version": "1.5.0",
            "_model_name": "ProgressStyleModel",
            "_view_count": null,
            "_view_module": "@jupyter-widgets/base",
            "_view_module_version": "1.2.0",
            "_view_name": "StyleView",
            "bar_color": null,
            "description_width": ""
          }
        },
        "9d846fda0cdd4fd2b1b63963fbbdc034": {
          "model_module": "@jupyter-widgets/base",
          "model_name": "LayoutModel",
          "model_module_version": "1.2.0",
          "state": {
            "_model_module": "@jupyter-widgets/base",
            "_model_module_version": "1.2.0",
            "_model_name": "LayoutModel",
            "_view_count": null,
            "_view_module": "@jupyter-widgets/base",
            "_view_module_version": "1.2.0",
            "_view_name": "LayoutView",
            "align_content": null,
            "align_items": null,
            "align_self": null,
            "border": null,
            "bottom": null,
            "display": null,
            "flex": null,
            "flex_flow": null,
            "grid_area": null,
            "grid_auto_columns": null,
            "grid_auto_flow": null,
            "grid_auto_rows": null,
            "grid_column": null,
            "grid_gap": null,
            "grid_row": null,
            "grid_template_areas": null,
            "grid_template_columns": null,
            "grid_template_rows": null,
            "height": null,
            "justify_content": null,
            "justify_items": null,
            "left": null,
            "margin": null,
            "max_height": null,
            "max_width": null,
            "min_height": null,
            "min_width": null,
            "object_fit": null,
            "object_position": null,
            "order": null,
            "overflow": null,
            "overflow_x": null,
            "overflow_y": null,
            "padding": null,
            "right": null,
            "top": null,
            "visibility": null,
            "width": null
          }
        },
        "21671e621ac245a8aeacb33b10e7bd13": {
          "model_module": "@jupyter-widgets/controls",
          "model_name": "DescriptionStyleModel",
          "model_module_version": "1.5.0",
          "state": {
            "_model_module": "@jupyter-widgets/controls",
            "_model_module_version": "1.5.0",
            "_model_name": "DescriptionStyleModel",
            "_view_count": null,
            "_view_module": "@jupyter-widgets/base",
            "_view_module_version": "1.2.0",
            "_view_name": "StyleView",
            "description_width": ""
          }
        }
      }
    }
  },
  "cells": [
    {
      "cell_type": "markdown",
      "source": [
        "# Collaborative Filtering Using `implicit` library"
      ],
      "metadata": {
        "id": "PkMq-rvYm0ZX"
      }
    },
    {
      "cell_type": "code",
      "source": [
        "!pip install implicit"
      ],
      "metadata": {
        "id": "GOkaLzEGnClz",
        "colab": {
          "base_uri": "https://localhost:8080/"
        },
        "outputId": "63a89663-5388-48dc-857f-309df542caac"
      },
      "execution_count": null,
      "outputs": [
        {
          "output_type": "stream",
          "name": "stdout",
          "text": [
            "Collecting implicit\n",
            "  Downloading implicit-0.5.2-cp37-cp37m-manylinux2014_x86_64.whl (18.5 MB)\n",
            "\u001b[K     |████████████████████████████████| 18.5 MB 1.8 MB/s \n",
            "\u001b[?25hRequirement already satisfied: numpy in /usr/local/lib/python3.7/dist-packages (from implicit) (1.21.6)\n",
            "Requirement already satisfied: scipy>=0.16 in /usr/local/lib/python3.7/dist-packages (from implicit) (1.4.1)\n",
            "Requirement already satisfied: tqdm>=4.27 in /usr/local/lib/python3.7/dist-packages (from implicit) (4.64.0)\n",
            "Installing collected packages: implicit\n",
            "Successfully installed implicit-0.5.2\n"
          ]
        }
      ]
    },
    {
      "cell_type": "code",
      "execution_count": null,
      "metadata": {
        "id": "h57KT3ZzmeQ9"
      },
      "outputs": [],
      "source": [
        "import sys\n",
        "import pandas as pd\n",
        "import numpy as np\n",
        "import scipy.sparse as sparse\n",
        "from scipy.sparse.linalg import spsolve\n",
        "from sklearn.preprocessing import MinMaxScaler\n",
        "import random\n",
        "import implicit\n",
        "from implicit.evaluation import ranking_metrics_at_k"
      ]
    },
    {
      "cell_type": "code",
      "source": [
        "from google.colab import drive\n",
        "import os\n",
        "drive.mount('/content/drive')\n",
        "cur_path = \"/content/drive/My Drive/social-networks-project/\"\n",
        "os.chdir(cur_path)"
      ],
      "metadata": {
        "colab": {
          "base_uri": "https://localhost:8080/"
        },
        "id": "lXT62Im0nBQa",
        "outputId": "1c2e1553-8ea5-44b2-e6e4-f5810447f8db"
      },
      "execution_count": null,
      "outputs": [
        {
          "output_type": "stream",
          "name": "stdout",
          "text": [
            "Mounted at /content/drive\n"
          ]
        }
      ]
    },
    {
      "cell_type": "markdown",
      "source": [
        "# Data"
      ],
      "metadata": {
        "id": "vTR6yTDiCcwd"
      }
    },
    {
      "cell_type": "markdown",
      "source": [
        "Read in, select only necessary cols: customer_id, article_id. Add column for purchase, because rows in this df indicate purchases"
      ],
      "metadata": {
        "id": "t6h5YbqpJ30X"
      }
    },
    {
      "cell_type": "code",
      "source": [
        "# read in\n",
        "train_df = pd.read_csv(cur_path + 'training_test/train_revise.csv')\n",
        "test_df = pd.read_csv(cur_path + 'training_test/test_revise.csv')\n",
        "\n",
        "# select cols\n",
        "train_df = train_df[['customer_id','article_id']]\n",
        "test_df = test_df[['customer_id','article_id']]\n",
        "\n",
        "# add purchase col\n",
        "train_df['purchase'] = 1\n",
        "test_df['purchase'] = 1\n",
        "\n",
        "print('train',len(train_df))\n",
        "print('test',len(test_df))"
      ],
      "metadata": {
        "id": "n5zy8HkpEaR9",
        "colab": {
          "base_uri": "https://localhost:8080/"
        },
        "outputId": "c6b7e52a-6d08-49a4-c7e6-e2f82b2fa225"
      },
      "execution_count": null,
      "outputs": [
        {
          "output_type": "stream",
          "name": "stdout",
          "text": [
            "train 1781011\n",
            "test 445253\n"
          ]
        }
      ]
    },
    {
      "cell_type": "code",
      "source": [
        "print('train', train_df['customer_id'].nunique())\n",
        "print('test', test_df['customer_id'].nunique())"
      ],
      "metadata": {
        "colab": {
          "base_uri": "https://localhost:8080/"
        },
        "id": "TtevygSO6kxd",
        "outputId": "325f6ee4-0156-40f7-c087-8c9c08038282"
      },
      "execution_count": null,
      "outputs": [
        {
          "output_type": "stream",
          "name": "stdout",
          "text": [
            "train 390826\n",
            "test 286521\n"
          ]
        }
      ]
    },
    {
      "cell_type": "markdown",
      "source": [
        "The overlap between the train and test set customers is the test set. This makes sense considering the test set includes customers who bought >=2 things."
      ],
      "metadata": {
        "id": "pkCAZcocFnuN"
      }
    },
    {
      "cell_type": "code",
      "source": [
        "len(set(train_df['customer_id'].unique()).intersection(test_df['customer_id'].unique()))"
      ],
      "metadata": {
        "colab": {
          "base_uri": "https://localhost:8080/"
        },
        "id": "yMFWGJyNFY1F",
        "outputId": "614619ba-dbd1-4c1e-f654-c6713d355698"
      },
      "execution_count": null,
      "outputs": [
        {
          "output_type": "execute_result",
          "data": {
            "text/plain": [
              "286521"
            ]
          },
          "metadata": {},
          "execution_count": 6
        }
      ]
    },
    {
      "cell_type": "markdown",
      "source": [
        "Aggregate rows where user has purchased an item more than once!"
      ],
      "metadata": {
        "id": "Ef9Yf-JpGAmw"
      }
    },
    {
      "cell_type": "code",
      "source": [
        "train_df = train_df.groupby(['customer_id', 'article_id'])['purchase'].sum().reset_index()\n",
        "test_df = test_df.groupby(['customer_id', 'article_id'])['purchase'].sum().reset_index()"
      ],
      "metadata": {
        "id": "U5IIsaFLq5PC"
      },
      "execution_count": null,
      "outputs": []
    },
    {
      "cell_type": "code",
      "source": [
        "# use a binary representation (one row for each customer X article, rmv multiple purchases)\n",
        "#train_df = train_df.drop_duplicates(['customer_id', 'article_id'], inplace=False)\n",
        "#test_df = test_df.drop_duplicates(['customer_id', 'article_id'], inplace=False)"
      ],
      "metadata": {
        "id": "T1CdSujqMqWn"
      },
      "execution_count": null,
      "outputs": []
    },
    {
      "cell_type": "markdown",
      "source": [
        "Create a numeric user_id column. article_id is already numeric"
      ],
      "metadata": {
        "id": "jm1ogAnYrRDv"
      }
    },
    {
      "cell_type": "code",
      "source": [
        "# get all customer ids\n",
        "users_df = train_df['customer_id'].append(test_df['customer_id'], ignore_index=True)\\\n",
        "           .reset_index()\\\n",
        "           .drop('index', axis=1)\\\n",
        "           .drop_duplicates('customer_id')\\\n",
        "           .reset_index()\\\n",
        "           .drop('index', axis=1)\\\n",
        "           .sort_values('customer_id')\n",
        "users_df['user'] = users_df['customer_id'].astype(\"category\")\n",
        "users_df['user_id'] = users_df['user'].cat.codes\n",
        "\n",
        "# get all item ids across both and add new ids\n",
        "items_df = train_df['article_id'].append(test_df['article_id'], ignore_index=True)\\\n",
        "           .reset_index()\\\n",
        "           .drop('index', axis=1)\\\n",
        "           .drop_duplicates('article_id')\\\n",
        "           .reset_index()\\\n",
        "           .drop('index', axis=1)\\\n",
        "           .sort_values('article_id')\n",
        "items_df['item'] = items_df['article_id'].astype(\"category\")\n",
        "items_df['item_id'] = items_df['item'].cat.codes\n",
        "\n",
        "# add user and item ids to train and test dfs\n",
        "train_df = train_df.merge(users_df, how='inner', on='customer_id')\n",
        "train_df = train_df.merge(items_df, how='inner', on='article_id')\n",
        "test_df = test_df.merge(users_df, how='inner', on='customer_id')\n",
        "test_df = test_df.merge(items_df, how='inner', on='article_id')"
      ],
      "metadata": {
        "id": "-i4fqIEt9o34"
      },
      "execution_count": null,
      "outputs": []
    },
    {
      "cell_type": "code",
      "source": [
        "# one row per customer per item\n",
        "print(len(train_df))\n",
        "print(len(test_df))"
      ],
      "metadata": {
        "colab": {
          "base_uri": "https://localhost:8080/"
        },
        "id": "CidWUzVpBTIo",
        "outputId": "87afa7fb-0ade-40ad-99f3-a86133a8f7c1"
      },
      "execution_count": null,
      "outputs": [
        {
          "output_type": "stream",
          "name": "stdout",
          "text": [
            "1512046\n",
            "430815\n"
          ]
        }
      ]
    },
    {
      "cell_type": "code",
      "source": [
        "# add all ids straight up\n",
        "'''train_df['user'] = train_df['customer_id'].astype(\"category\")\n",
        "train_df['item'] = train_df['article_id'].astype(\"category\")\n",
        "train_df['user_id'] = train_df['user'].cat.codes\n",
        "train_df['item_id'] = train_df['item'].cat.codes\n",
        "\n",
        "test_df['user'] = test_df['customer_id'].astype(\"category\")\n",
        "test_df['item'] = test_df['article_id'].astype(\"category\")\n",
        "test_df['user_id'] = test_df['user'].cat.codes\n",
        "test_df['item_id'] = test_df['item'].cat.codes\n",
        "\n",
        "train_df.head(2)'''\n",
        "\n",
        "# create users df (all ids)\n",
        "'''users_df = train_df['customer_id'].append(test_df['customer_id'], ignore_index=True)\\\n",
        "           .reset_index()\\\n",
        "           .drop('index', axis=1)\\\n",
        "           .drop_duplicates('customer_id')\\\n",
        "           .reset_index()\\\n",
        "           .drop('index', axis=1)\\\n",
        "           .sort_values('customer_id')\n",
        "users_df['user'] = users_df['customer_id'].astype(\"category\")\n",
        "users_df['user_id'] = users_df['user'].cat.codes'''\n",
        "\n",
        "'''train_df = train_df.merge(users_df, how='inner', on='customer_id')\n",
        "train_df = train_df.merge(items_df, how='inner', on='article_id')\n",
        "test_df = test_df.merge(users_df, how='inner', on='customer_id')\n",
        "test_df = test_df.merge(items_df, how='inner', on='article_id')'''\n",
        "\n",
        "'''train_user_cust = dict(zip(train_df.user_id, train_df.customer_id))\n",
        "train_item_art = dict(zip(train_df.item_id, train_df.article_id))\n",
        "\n",
        "test_user_cust = dict(zip(test_df.user_id, test_df.customer_id))\n",
        "test_item_art = dict(zip(test_df.item_id, test_df.article_id))'''\n",
        "\n",
        "#train_user_cust = dict(zip(train_df.user_id, train_df.customer_id))\n",
        "#test_user_cust = dict(zip(test_df.user_id, test_df.customer_id))"
      ],
      "metadata": {
        "id": "_NnzOtG6rYQ1",
        "colab": {
          "base_uri": "https://localhost:8080/",
          "height": 35
        },
        "outputId": "5740f23d-d3f7-4bf5-b359-81d2f5f3a446"
      },
      "execution_count": null,
      "outputs": [
        {
          "output_type": "execute_result",
          "data": {
            "text/plain": [
              "'train_user_cust = dict(zip(train_df.user_id, train_df.customer_id))\\ntrain_item_art = dict(zip(train_df.item_id, train_df.article_id))\\n\\ntest_user_cust = dict(zip(test_df.user_id, test_df.customer_id))\\ntest_item_art = dict(zip(test_df.item_id, test_df.article_id))'"
            ],
            "application/vnd.google.colaboratory.intrinsic+json": {
              "type": "string"
            }
          },
          "metadata": {},
          "execution_count": 11
        }
      ]
    },
    {
      "cell_type": "markdown",
      "source": [
        "Save a dictionary that maps user_id back to customer_id and item_id back to article_id"
      ],
      "metadata": {
        "id": "oK3KFd0AMJi9"
      }
    },
    {
      "cell_type": "code",
      "source": [
        "user_cust = dict(zip(users_df.user_id, users_df.customer_id))\n",
        "item_art = dict(zip(items_df.item_id, items_df.article_id))"
      ],
      "metadata": {
        "id": "iSnSMVOlxXBe"
      },
      "execution_count": null,
      "outputs": []
    },
    {
      "cell_type": "markdown",
      "source": [
        "If we use the implicit library, we need a user-item matrix. So, we should create two matrices: \n",
        "\n",
        "* one for fitting the model (item-user)\n",
        "* one for recommendations (user-item)"
      ],
      "metadata": {
        "id": "dYIwqkkrrvJy"
      }
    },
    {
      "cell_type": "code",
      "source": [
        "# using train data\n",
        "train_iu = sparse.csr_matrix((train_df['purchase'].astype(float),\n",
        "                                     (train_df['item_id'], train_df['user_id'])))\n",
        "train_ui = sparse.csr_matrix((train_df['purchase'].astype(float),\n",
        "                                     (train_df['user_id'], train_df['item_id'])))\n",
        "\n",
        "# for test data, we won't be fitting model, so only create second matrix\n",
        "test_iu = sparse.csr_matrix((test_df['purchase'].astype(float),\n",
        "                                     (test_df['item_id'], test_df['user_id'])))\n",
        "test_ui = sparse.csr_matrix((test_df['purchase'].astype(float),\n",
        "                                     (test_df['user_id'], test_df['item_id'])))"
      ],
      "metadata": {
        "id": "F2nihEZ8r6G1"
      },
      "execution_count": null,
      "outputs": []
    },
    {
      "cell_type": "markdown",
      "source": [
        "# Implicit Model"
      ],
      "metadata": {
        "id": "-dJ56lUosnMN"
      }
    },
    {
      "cell_type": "markdown",
      "source": [
        "Init the model\n",
        "\n",
        "* factors: number of latent factors to compute\n",
        "* regularization: regularization factor\n",
        "* iterations: number of ALS iterations\n",
        "* calculate_training_loss: log training loss at each interation\n",
        "* random_state: random state for seeding init user and item factors"
      ],
      "metadata": {
        "id": "wY4Mhx2JspMq"
      }
    },
    {
      "cell_type": "code",
      "source": [
        "# init model\n",
        "model = implicit.als.AlternatingLeastSquares(factors=15, regularization=0.01,\n",
        "                                             iterations=50, random_state = 99,\n",
        "                                             calculate_training_loss=True)"
      ],
      "metadata": {
        "id": "hPadvKeMsp1S"
      },
      "execution_count": null,
      "outputs": []
    },
    {
      "cell_type": "markdown",
      "source": [
        "Fit model!\n",
        "\n",
        "According to the documentation, when we fit the model we need:\n",
        "* user_items: csr_matrix\n",
        "            Matrix of confidences for the liked items. This matrix should be a csr_matrix where\n",
        "            the rows of the matrix are the users, the columns are the items liked that user,\n",
        "            and the value is the confidence that the user liked the item.\n",
        "\n",
        "For some reason, as github user MDTsai pointed out in an [issue](https://github.com/benfred/implicit/issues/567), that the tutorial the creators of the package put out send sparse_iu to the model.fit() function, but the docs (above) say to do the opposite. There must have been some change after tutorials released.\n",
        "\n",
        "Therefore, I use train_ui in model.fit(), as the rows of this matrix are users and the columns are products. "
      ],
      "metadata": {
        "id": "pBUk2KQAtrEz"
      }
    },
    {
      "cell_type": "code",
      "source": [
        "train_iu.shape"
      ],
      "metadata": {
        "colab": {
          "base_uri": "https://localhost:8080/"
        },
        "id": "2xAfhx45GaGg",
        "outputId": "f73e3387-2df9-4b0d-9a6a-48718f337484"
      },
      "execution_count": null,
      "outputs": [
        {
          "output_type": "execute_result",
          "data": {
            "text/plain": [
              "(1000, 390826)"
            ]
          },
          "metadata": {},
          "execution_count": 14
        }
      ]
    },
    {
      "cell_type": "code",
      "source": [
        "train_ui.shape"
      ],
      "metadata": {
        "colab": {
          "base_uri": "https://localhost:8080/"
        },
        "id": "rBit37YNGiU6",
        "outputId": "2e909602-5873-4749-b3d9-2db0a721f6bd"
      },
      "execution_count": null,
      "outputs": [
        {
          "output_type": "execute_result",
          "data": {
            "text/plain": [
              "(390826, 1000)"
            ]
          },
          "metadata": {},
          "execution_count": 15
        }
      ]
    },
    {
      "cell_type": "markdown",
      "source": [
        "Calculate confidence\n",
        "\n",
        "* alpha_val (int): The rate in which we'll increase our confidence in a preference with more interactions."
      ],
      "metadata": {
        "id": "fXFrN3fJtjCd"
      }
    },
    {
      "cell_type": "code",
      "source": [
        "alpha_val = 5 #default is 40\n",
        "# from tutorial\n",
        "#data_conf = (train_iu * alpha_val).astype('double')\n",
        "# what we should do according to documentation\n",
        "data_conf = (train_ui * alpha_val).astype('double')"
      ],
      "metadata": {
        "id": "EMWGFdP5tlhV"
      },
      "execution_count": null,
      "outputs": []
    },
    {
      "cell_type": "markdown",
      "source": [
        "Fit model"
      ],
      "metadata": {
        "id": "HqC5tY30WSj6"
      }
    },
    {
      "cell_type": "code",
      "source": [
        "model.fit(data_conf)"
      ],
      "metadata": {
        "colab": {
          "base_uri": "https://localhost:8080/",
          "height": 49,
          "referenced_widgets": [
            "295f3aca0a724f48a7415e6162e208e7",
            "5e254021b2ae4ad6be8b3a00fc6a3f15",
            "2208725aa0ab4e2aab067989d6d35229",
            "e41ea0c6d4084f13a21e892766067eac",
            "d50ca5b56dcb4d0cbe02933b2f928188",
            "2acea8992825437986a8aa7c5e67377a",
            "fbb7fa7c82e14b7abb0d122239173cb1",
            "2a7170308adc4a30bb6f90c40b6a19de",
            "148cca00a9f94b189d34453a35e18396",
            "1e7e4a40e921471eb08e9767bc102079",
            "40d482d99a194a90bef2e44384970366"
          ]
        },
        "id": "Fsd-mtOOtr4u",
        "outputId": "ae7cd0b6-5e41-4181-9aae-e73bee1e3f92"
      },
      "execution_count": null,
      "outputs": [
        {
          "output_type": "display_data",
          "data": {
            "text/plain": [
              "  0%|          | 0/50 [00:00<?, ?it/s]"
            ],
            "application/vnd.jupyter.widget-view+json": {
              "version_major": 2,
              "version_minor": 0,
              "model_id": "295f3aca0a724f48a7415e6162e208e7"
            }
          },
          "metadata": {}
        }
      ]
    },
    {
      "cell_type": "markdown",
      "source": [
        "Run many versions"
      ],
      "metadata": {
        "id": "j6F6_9r2JCxY"
      }
    },
    {
      "cell_type": "markdown",
      "source": [
        "# Find Similar Items\n",
        "\n"
      ],
      "metadata": {
        "id": "_2fEwXQjtx0A"
      }
    },
    {
      "cell_type": "code",
      "source": [
        "# Find the 10 most similar to item id\n",
        "item_id = 85 \n",
        "n_similar = 10\n",
        "\n",
        "# Use implicit to get similar items.\n",
        "similar = model.similar_items(item_id, n_similar)\n",
        "\n",
        "idx = similar[0]\n",
        "score = similar[1]\n",
        "\n",
        "# Print the names of our most similar artists\n",
        "for i in range(len(idx)):\n",
        "  print(train_df['article_id'].loc[train_df['item_id'] == idx[i]].head(1))"
      ],
      "metadata": {
        "colab": {
          "base_uri": "https://localhost:8080/"
        },
        "id": "OSB04GHztzCr",
        "outputId": "9d561a33-15d0-4002-df7f-acb48a967a2f"
      },
      "execution_count": null,
      "outputs": [
        {
          "output_type": "stream",
          "name": "stdout",
          "text": [
            "1452682    399201002\n",
            "Name: article_id, dtype: int64\n",
            "736108    399201020\n",
            "Name: article_id, dtype: int64\n",
            "364917    399201005\n",
            "Name: article_id, dtype: int64\n",
            "737940    399201026\n",
            "Name: article_id, dtype: int64\n",
            "1412647    399201023\n",
            "Name: article_id, dtype: int64\n",
            "129133    399201022\n",
            "Name: article_id, dtype: int64\n",
            "990193    399201024\n",
            "Name: article_id, dtype: int64\n",
            "605929    399136009\n",
            "Name: article_id, dtype: int64\n",
            "998296    399136061\n",
            "Name: article_id, dtype: int64\n",
            "1492674    399136033\n",
            "Name: article_id, dtype: int64\n"
          ]
        }
      ]
    },
    {
      "cell_type": "markdown",
      "source": [
        "# Recommendations"
      ],
      "metadata": {
        "id": "2D2ODFObtwyL"
      }
    },
    {
      "cell_type": "markdown",
      "source": [
        "An example using one user id. "
      ],
      "metadata": {
        "id": "9eb5pY7JyTOX"
      }
    },
    {
      "cell_type": "code",
      "source": [
        "# Create recommendations for user with id 2025\n",
        "user_id = 72945\n",
        "\n",
        "# Use the implicit recommender.\n",
        "recommended = model.recommend(user_id, train_ui[user_id],\n",
        "                              filter_already_liked_items=True)\n",
        "\n",
        "articles = []\n",
        "scores = []\n",
        "\n",
        "idx = recommended[0]\n",
        "score = recommended[1]\n",
        "\n",
        "# Get artist names from ids\n",
        "for i in range(len(idx)):\n",
        "  articles.append(train_df['article_id'].loc[train_df['item_id'] == idx[i]].iloc[0])\n",
        "  scores.append(score[i])\n",
        "\n",
        "# Create a dataframe of artist names and scores\n",
        "recommendations = pd.DataFrame({'user_id':user_id,'articles': articles, 'score': scores})\n",
        "\n",
        "print(recommendations)"
      ],
      "metadata": {
        "colab": {
          "base_uri": "https://localhost:8080/"
        },
        "id": "_KvKhz0mySU0",
        "outputId": "6c96a202-42d9-4b5c-edae-979dda7f6b1c"
      },
      "execution_count": null,
      "outputs": [
        {
          "output_type": "stream",
          "name": "stdout",
          "text": [
            "   user_id   articles     score\n",
            "0    72945  507910001  0.204355\n",
            "1    72945  568601006  0.179209\n",
            "2    72945  507909001  0.170565\n",
            "3    72945  573716012  0.161125\n",
            "4    72945  539723005  0.154264\n",
            "5    72945  507909003  0.133605\n",
            "6    72945  539723001  0.128036\n",
            "7    72945  399256001  0.115379\n",
            "8    72945  673677002  0.112244\n",
            "9    72945  568597006  0.104448\n"
          ]
        }
      ]
    },
    {
      "cell_type": "markdown",
      "source": [
        "On all train IDs"
      ],
      "metadata": {
        "id": "nwryI8v1K5_K"
      }
    },
    {
      "cell_type": "code",
      "source": [
        "# number of products to recommend\n",
        "n_recs = 10\n",
        "\n",
        "# user ids\n",
        "user_ids = np.array(train_df['user_id'])\n",
        "\n",
        "# use the implicit recommender \n",
        "recommended = model.recommend(user_ids, train_ui[user_ids], filter_already_liked_items=False)"
      ],
      "metadata": {
        "id": "fLDdiqpc0S-B"
      },
      "execution_count": null,
      "outputs": []
    },
    {
      "cell_type": "markdown",
      "source": [
        "Create dataframe to store recommendations"
      ],
      "metadata": {
        "id": "4TWgYfo9UY5n"
      }
    },
    {
      "cell_type": "code",
      "source": [
        "# convert item_id to article_id\n",
        "rec_article_ids = np.ndarray(recommended[0].shape)\n",
        "for k in item_art:\n",
        "  rec_article_ids[recommended[0] == k] = item_art[k]\n",
        "\n",
        "# get items\n",
        "item_rec_df = pd.DataFrame(rec_article_ids, columns=['rec_' + str(n+1) for n in range(n_recs)])\n",
        "item_rec_df = item_rec_df.astype({'rec_1': int, 'rec_2': int, 'rec_3': int, 'rec_4': int,\n",
        "                                  'rec_5': int, 'rec_6': int, 'rec_7': int, 'rec_8': int,\n",
        "                                  'rec_9': int, 'rec_10': int,})\n",
        "\n",
        "# add user id\n",
        "item_rec_df.insert(0, 'user_id', user_ids)\n",
        "\n",
        "# get scores in a df, add user_id\n",
        "score_rec_df = pd.DataFrame(recommended[1], columns=['score_' + str(n+1) for n in range(n_recs)])\n",
        "score_rec_df.insert(0, 'user_id', user_ids)\n",
        "\n",
        "# merge dataframes by user_id\n",
        "train_rec_df = item_rec_df.merge(score_rec_df, how=\"inner\", on=\"user_id\")\n",
        "\n",
        "# map user_id to customer_id\n",
        "train_rec_df.insert(0, 'customer_id', train_rec_df['user_id'].map(user_cust))\n",
        "train_rec_df.drop('user_id', axis=1, inplace=True)\n",
        "\n",
        "train_rec_df = train_rec_df.drop_duplicates('customer_id',inplace=False)"
      ],
      "metadata": {
        "id": "YX2uShf0OBAB"
      },
      "execution_count": null,
      "outputs": []
    },
    {
      "cell_type": "code",
      "source": [
        "len(train_rec_df)"
      ],
      "metadata": {
        "colab": {
          "base_uri": "https://localhost:8080/"
        },
        "id": "btKNriPbLm2h",
        "outputId": "5ef0999b-9826-4df3-dff3-8515021a6f94"
      },
      "execution_count": null,
      "outputs": [
        {
          "output_type": "execute_result",
          "data": {
            "text/plain": [
              "390826"
            ]
          },
          "metadata": {},
          "execution_count": 23
        }
      ]
    },
    {
      "cell_type": "code",
      "source": [
        "# above matches len for nunique users in train\n",
        "print(train_df['customer_id'].nunique())"
      ],
      "metadata": {
        "colab": {
          "base_uri": "https://localhost:8080/"
        },
        "id": "aIQZzsoTLq23",
        "outputId": "6573b6db-692c-47ef-9f51-621aaeef8ca1"
      },
      "execution_count": null,
      "outputs": [
        {
          "output_type": "stream",
          "name": "stdout",
          "text": [
            "390826\n"
          ]
        }
      ]
    },
    {
      "cell_type": "markdown",
      "source": [
        "Test"
      ],
      "metadata": {
        "id": "In-RrbiEFmw-"
      }
    },
    {
      "cell_type": "code",
      "source": [
        "# number of products to recommend\n",
        "n_recs = 5\n",
        "\n",
        "# user ids\n",
        "user_ids = np.array(test_df['user_id'].unique())\n",
        "\n",
        "# use the implicit recommender \n",
        "recommended = model.recommend(user_ids, test_ui[user_ids], N=n_recs,\n",
        "                              recalculate_user=False,\n",
        "                              filter_already_liked_items=False)\n",
        "\n",
        "#### make dataframe #####################################\n",
        "\n",
        "# convert item_id to article_id\n",
        "rec_article_ids = np.ndarray(recommended[0].shape)\n",
        "for k in item_art:\n",
        "  rec_article_ids[recommended[0] == k] = item_art[k]\n",
        "\n",
        "# get items\n",
        "item_rec_df = pd.DataFrame(rec_article_ids, columns=['rec_' + str(n+1) for n in range(n_recs)])\n",
        "item_rec_df = item_rec_df.astype({'rec_1': int, 'rec_2': int, 'rec_3': int, 'rec_4': int,\n",
        "                                  'rec_5': int, })\n",
        "                                  #'rec_6': int, 'rec_7': int, 'rec_8': int,\n",
        "                                  #'rec_9': int, 'rec_10': int,})\n",
        "                                  #'rec_11': int, 'rec_12': int,'rec_13': int, 'rec_14': int,\n",
        "                                  #'rec_15': int, 'rec_16': int, 'rec_17': int, 'rec_18': int,\n",
        "                                  #'rec_19': int, 'rec_20': int,})\n",
        "\n",
        "# add user id\n",
        "item_rec_df.insert(0, 'user_id', user_ids)\n",
        "\n",
        "# get scores in a df, add user_id\n",
        "score_rec_df = pd.DataFrame(recommended[1], columns=['score_' + str(n+1) for n in range(n_recs)])\n",
        "score_rec_df.insert(0, 'user_id', user_ids)\n",
        "\n",
        "# merge dataframes by user_id\n",
        "test_rec_df = item_rec_df.merge(score_rec_df, how=\"inner\", on=\"user_id\")\n",
        "\n",
        "# map user_id to customer_id\n",
        "test_rec_df.insert(0, 'customer_id', test_rec_df['user_id'].map(user_cust))\n",
        "test_rec_df.drop('user_id', axis=1, inplace=True)\n",
        "\n",
        "test_rec_df = test_rec_df.drop_duplicates('customer_id',inplace=False)"
      ],
      "metadata": {
        "id": "KADeVV2rFoRO"
      },
      "execution_count": null,
      "outputs": []
    },
    {
      "cell_type": "code",
      "source": [
        "len(test_rec_df)"
      ],
      "metadata": {
        "colab": {
          "base_uri": "https://localhost:8080/"
        },
        "id": "w9xE5p1tIA0M",
        "outputId": "7527338a-7920-4ece-af99-8c7f8d30bfb8"
      },
      "execution_count": null,
      "outputs": [
        {
          "output_type": "execute_result",
          "data": {
            "text/plain": [
              "286521"
            ]
          },
          "metadata": {},
          "execution_count": 26
        }
      ]
    },
    {
      "cell_type": "code",
      "source": [
        "# above matches len for nunique users in train\n",
        "print(test_df['customer_id'].nunique())"
      ],
      "metadata": {
        "colab": {
          "base_uri": "https://localhost:8080/"
        },
        "id": "t4dfodQ-IICV",
        "outputId": "30288fe9-a11f-43c3-82c0-a8b9fde41043"
      },
      "execution_count": null,
      "outputs": [
        {
          "output_type": "stream",
          "name": "stdout",
          "text": [
            "286521\n"
          ]
        }
      ]
    },
    {
      "cell_type": "markdown",
      "source": [
        "# Evaluate "
      ],
      "metadata": {
        "id": "BHRy7FUaWudv"
      }
    },
    {
      "cell_type": "markdown",
      "source": [
        "Built in function (not sure if this is exactly right)"
      ],
      "metadata": {
        "id": "ef3io684uWKf"
      }
    },
    {
      "cell_type": "code",
      "source": [
        "# k = 10\n",
        "ranking_metrics_at_k(model, train_ui, test_ui, K=10, show_progress=True, num_threads=1)"
      ],
      "metadata": {
        "id": "lQ4_c1-hWv9j",
        "colab": {
          "base_uri": "https://localhost:8080/",
          "height": 118,
          "referenced_widgets": [
            "d9f7ba24a3d142e1b952b92408b0370c",
            "32cd36fb2ee848a7890e25fe9664a4fa",
            "8e67b1a9c36643938c6ebcf2fb81a5a3",
            "99290e313b3048448aa167ce482296a2",
            "1ee73db677a64971bb8c6cd0c8376fd5",
            "b341b5ac57984b1eb10a6dcfbc23b0a9",
            "5e05c0101bd74dc3bf8c0226a0301908",
            "2cce1ac59ea84ab1a3cc3851dd5084e6",
            "c6ab4cbdebf5427ab74c8e3b76f82e4b",
            "51631394f20245449ce8a9fcb5027f2f",
            "37ad05d6f29d4b208fb16bca0df81673"
          ]
        },
        "outputId": "fb0f3f7a-7348-4422-aa57-7b6c65db05f6"
      },
      "execution_count": null,
      "outputs": [
        {
          "output_type": "display_data",
          "data": {
            "text/plain": [
              "  0%|          | 0/286521 [00:00<?, ?it/s]"
            ],
            "application/vnd.jupyter.widget-view+json": {
              "version_major": 2,
              "version_minor": 0,
              "model_id": "d9f7ba24a3d142e1b952b92408b0370c"
            }
          },
          "metadata": {}
        },
        {
          "output_type": "execute_result",
          "data": {
            "text/plain": [
              "{'auc': 0.5461308374079085,\n",
              " 'map': 0.0432126812800124,\n",
              " 'ndcg': 0.06040387611492828,\n",
              " 'precision': 0.09093211693927866}"
            ]
          },
          "metadata": {},
          "execution_count": 28
        }
      ]
    },
    {
      "cell_type": "code",
      "source": [
        "# k = 20 same, k = 100 same auc but precision increases\n",
        "ranking_metrics_at_k(model, train_ui, test_ui, K=100, show_progress=True, num_threads=1)"
      ],
      "metadata": {
        "colab": {
          "base_uri": "https://localhost:8080/",
          "height": 118,
          "referenced_widgets": [
            "1d7573718508491aa58601c4966953fd",
            "5f59e0b6d4944c63953da768e33f0c89",
            "79dcb1146d7d4c8c81597e66ec5b81f7",
            "6e21fc4cafbc4e79b49f97aa9531aca2",
            "5f789ab92b9446e8a8add8ab3045e189",
            "71395482fd444418a37e148b8273dc1b",
            "5f44058cd9a44feb89331c316fdb84fb",
            "18081c0fea4f4684a49bcbc0f497ac71",
            "f90a22f5dfe2416489b6f5a993ca0a46",
            "736dbf601ca842ca81afaf8a9fb29b43",
            "a0631cd2e1994143bead7679864a95ab"
          ]
        },
        "id": "gscd4Lw4ux3r",
        "outputId": "bdfa4901-5b24-4c51-e8a6-2e773124d502"
      },
      "execution_count": null,
      "outputs": [
        {
          "output_type": "display_data",
          "data": {
            "text/plain": [
              "  0%|          | 0/286521 [00:00<?, ?it/s]"
            ],
            "application/vnd.jupyter.widget-view+json": {
              "version_major": 2,
              "version_minor": 0,
              "model_id": "1d7573718508491aa58601c4966953fd"
            }
          },
          "metadata": {}
        },
        {
          "output_type": "execute_result",
          "data": {
            "text/plain": [
              "{'auc': 0.6084337117159164,\n",
              " 'map': 0.05038062438925609,\n",
              " 'ndcg': 0.10373796300881959,\n",
              " 'precision': 0.28602300291308336}"
            ]
          },
          "metadata": {},
          "execution_count": 29
        }
      ]
    },
    {
      "cell_type": "markdown",
      "source": [
        "Manual"
      ],
      "metadata": {
        "id": "1G4_ZRpOubGM"
      }
    },
    {
      "cell_type": "markdown",
      "source": [
        "Get df with customer_id and predictions"
      ],
      "metadata": {
        "id": "NfpDfRlK0nlF"
      }
    },
    {
      "cell_type": "code",
      "source": [
        "test_rec_df['test_recs'] = test_rec_df[['rec_'+str(n+1) for n in range(n_recs)]].values.tolist()\n",
        "train_rec_df['train_recs'] = train_rec_df[['rec_'+str(n+1) for n in range(n_recs)]].values.tolist()\n",
        "test_recs = test_rec_df[['customer_id', 'test_recs']]\n",
        "train_recs = train_rec_df[['customer_id', 'train_recs']]"
      ],
      "metadata": {
        "id": "S8gVDEIwvKhD"
      },
      "execution_count": null,
      "outputs": []
    },
    {
      "cell_type": "markdown",
      "source": [
        "Get df with customer_id and true purchases"
      ],
      "metadata": {
        "id": "t9MqI8Qa0pk9"
      }
    },
    {
      "cell_type": "code",
      "source": [
        "train_true = train_df.groupby('customer_id').agg({\"article_id\": lambda x: list(x)}).reset_index()\n",
        "test_true = test_df.groupby('customer_id').agg({\"article_id\": lambda x: list(x)}).reset_index()"
      ],
      "metadata": {
        "id": "2fDLXqjOzo8N"
      },
      "execution_count": null,
      "outputs": []
    },
    {
      "cell_type": "markdown",
      "source": [
        "Get number of correct predictions divided by total number of actual purchases"
      ],
      "metadata": {
        "id": "de34j90o0_fN"
      }
    },
    {
      "cell_type": "code",
      "source": [
        "train_acc = train_true.merge(train_recs, how = \"left\", on = \"customer_id\")\n",
        "train_acc['correct_preds'] =  [set(a).intersection(b) for a, b in zip(train_acc['article_id'], train_acc['train_recs'])]\n",
        "train_acc['num_correct'] = train_acc['correct_preds'].apply(len)\n",
        "train_acc.head()"
      ],
      "metadata": {
        "id": "iRWK7VHB1HFZ",
        "colab": {
          "base_uri": "https://localhost:8080/",
          "height": 206
        },
        "outputId": "d9fb60f9-4598-4c4c-9edf-f45fe191296b"
      },
      "execution_count": null,
      "outputs": [
        {
          "output_type": "execute_result",
          "data": {
            "text/plain": [
              "                                         customer_id  \\\n",
              "0  0000423b00ade91418cceaf3b26c6af3dd342b51fd051e...   \n",
              "1  00007d2de826758b65a93dd24ce629ed66842531df6699...   \n",
              "2  00008469a21b50b3d147c97135e25b4201a8c58997f787...   \n",
              "3  00009d946eec3ea54add5ba56d5210ea898def4b46c685...   \n",
              "4  0000b2f1829e23b24feec422ef13df3ccedaedc85368e6...   \n",
              "\n",
              "                                          article_id  \\\n",
              "0                             [666448006, 673677002]   \n",
              "1  [351933001, 444325004, 478549001, 572187001, 6...   \n",
              "2                             [673677001, 673677004]   \n",
              "3  [573085010, 573085028, 573716053, 573716054, 6...   \n",
              "4                                        [591334019]   \n",
              "\n",
              "                                          train_recs correct_preds  \\\n",
              "0  [673677002, 507910001, 372860001, 537116001, 5...   {673677002}   \n",
              "1  [355072002, 615141002, 355569001, 589222001, 3...            {}   \n",
              "2  [673677002, 507910001, 537116001, 507909001, 3...            {}   \n",
              "3  [706016001, 706016002, 539723005, 712587003, 5...            {}   \n",
              "4  [507910001, 673677002, 507909001, 579541001, 6...            {}   \n",
              "\n",
              "   num_correct  \n",
              "0            1  \n",
              "1            0  \n",
              "2            0  \n",
              "3            0  \n",
              "4            0  "
            ],
            "text/html": [
              "\n",
              "  <div id=\"df-c204677a-421e-4a84-9125-0a69ed23e4c4\">\n",
              "    <div class=\"colab-df-container\">\n",
              "      <div>\n",
              "<style scoped>\n",
              "    .dataframe tbody tr th:only-of-type {\n",
              "        vertical-align: middle;\n",
              "    }\n",
              "\n",
              "    .dataframe tbody tr th {\n",
              "        vertical-align: top;\n",
              "    }\n",
              "\n",
              "    .dataframe thead th {\n",
              "        text-align: right;\n",
              "    }\n",
              "</style>\n",
              "<table border=\"1\" class=\"dataframe\">\n",
              "  <thead>\n",
              "    <tr style=\"text-align: right;\">\n",
              "      <th></th>\n",
              "      <th>customer_id</th>\n",
              "      <th>article_id</th>\n",
              "      <th>train_recs</th>\n",
              "      <th>correct_preds</th>\n",
              "      <th>num_correct</th>\n",
              "    </tr>\n",
              "  </thead>\n",
              "  <tbody>\n",
              "    <tr>\n",
              "      <th>0</th>\n",
              "      <td>0000423b00ade91418cceaf3b26c6af3dd342b51fd051e...</td>\n",
              "      <td>[666448006, 673677002]</td>\n",
              "      <td>[673677002, 507910001, 372860001, 537116001, 5...</td>\n",
              "      <td>{673677002}</td>\n",
              "      <td>1</td>\n",
              "    </tr>\n",
              "    <tr>\n",
              "      <th>1</th>\n",
              "      <td>00007d2de826758b65a93dd24ce629ed66842531df6699...</td>\n",
              "      <td>[351933001, 444325004, 478549001, 572187001, 6...</td>\n",
              "      <td>[355072002, 615141002, 355569001, 589222001, 3...</td>\n",
              "      <td>{}</td>\n",
              "      <td>0</td>\n",
              "    </tr>\n",
              "    <tr>\n",
              "      <th>2</th>\n",
              "      <td>00008469a21b50b3d147c97135e25b4201a8c58997f787...</td>\n",
              "      <td>[673677001, 673677004]</td>\n",
              "      <td>[673677002, 507910001, 537116001, 507909001, 3...</td>\n",
              "      <td>{}</td>\n",
              "      <td>0</td>\n",
              "    </tr>\n",
              "    <tr>\n",
              "      <th>3</th>\n",
              "      <td>00009d946eec3ea54add5ba56d5210ea898def4b46c685...</td>\n",
              "      <td>[573085010, 573085028, 573716053, 573716054, 6...</td>\n",
              "      <td>[706016001, 706016002, 539723005, 712587003, 5...</td>\n",
              "      <td>{}</td>\n",
              "      <td>0</td>\n",
              "    </tr>\n",
              "    <tr>\n",
              "      <th>4</th>\n",
              "      <td>0000b2f1829e23b24feec422ef13df3ccedaedc85368e6...</td>\n",
              "      <td>[591334019]</td>\n",
              "      <td>[507910001, 673677002, 507909001, 579541001, 6...</td>\n",
              "      <td>{}</td>\n",
              "      <td>0</td>\n",
              "    </tr>\n",
              "  </tbody>\n",
              "</table>\n",
              "</div>\n",
              "      <button class=\"colab-df-convert\" onclick=\"convertToInteractive('df-c204677a-421e-4a84-9125-0a69ed23e4c4')\"\n",
              "              title=\"Convert this dataframe to an interactive table.\"\n",
              "              style=\"display:none;\">\n",
              "        \n",
              "  <svg xmlns=\"http://www.w3.org/2000/svg\" height=\"24px\"viewBox=\"0 0 24 24\"\n",
              "       width=\"24px\">\n",
              "    <path d=\"M0 0h24v24H0V0z\" fill=\"none\"/>\n",
              "    <path d=\"M18.56 5.44l.94 2.06.94-2.06 2.06-.94-2.06-.94-.94-2.06-.94 2.06-2.06.94zm-11 1L8.5 8.5l.94-2.06 2.06-.94-2.06-.94L8.5 2.5l-.94 2.06-2.06.94zm10 10l.94 2.06.94-2.06 2.06-.94-2.06-.94-.94-2.06-.94 2.06-2.06.94z\"/><path d=\"M17.41 7.96l-1.37-1.37c-.4-.4-.92-.59-1.43-.59-.52 0-1.04.2-1.43.59L10.3 9.45l-7.72 7.72c-.78.78-.78 2.05 0 2.83L4 21.41c.39.39.9.59 1.41.59.51 0 1.02-.2 1.41-.59l7.78-7.78 2.81-2.81c.8-.78.8-2.07 0-2.86zM5.41 20L4 18.59l7.72-7.72 1.47 1.35L5.41 20z\"/>\n",
              "  </svg>\n",
              "      </button>\n",
              "      \n",
              "  <style>\n",
              "    .colab-df-container {\n",
              "      display:flex;\n",
              "      flex-wrap:wrap;\n",
              "      gap: 12px;\n",
              "    }\n",
              "\n",
              "    .colab-df-convert {\n",
              "      background-color: #E8F0FE;\n",
              "      border: none;\n",
              "      border-radius: 50%;\n",
              "      cursor: pointer;\n",
              "      display: none;\n",
              "      fill: #1967D2;\n",
              "      height: 32px;\n",
              "      padding: 0 0 0 0;\n",
              "      width: 32px;\n",
              "    }\n",
              "\n",
              "    .colab-df-convert:hover {\n",
              "      background-color: #E2EBFA;\n",
              "      box-shadow: 0px 1px 2px rgba(60, 64, 67, 0.3), 0px 1px 3px 1px rgba(60, 64, 67, 0.15);\n",
              "      fill: #174EA6;\n",
              "    }\n",
              "\n",
              "    [theme=dark] .colab-df-convert {\n",
              "      background-color: #3B4455;\n",
              "      fill: #D2E3FC;\n",
              "    }\n",
              "\n",
              "    [theme=dark] .colab-df-convert:hover {\n",
              "      background-color: #434B5C;\n",
              "      box-shadow: 0px 1px 3px 1px rgba(0, 0, 0, 0.15);\n",
              "      filter: drop-shadow(0px 1px 2px rgba(0, 0, 0, 0.3));\n",
              "      fill: #FFFFFF;\n",
              "    }\n",
              "  </style>\n",
              "\n",
              "      <script>\n",
              "        const buttonEl =\n",
              "          document.querySelector('#df-c204677a-421e-4a84-9125-0a69ed23e4c4 button.colab-df-convert');\n",
              "        buttonEl.style.display =\n",
              "          google.colab.kernel.accessAllowed ? 'block' : 'none';\n",
              "\n",
              "        async function convertToInteractive(key) {\n",
              "          const element = document.querySelector('#df-c204677a-421e-4a84-9125-0a69ed23e4c4');\n",
              "          const dataTable =\n",
              "            await google.colab.kernel.invokeFunction('convertToInteractive',\n",
              "                                                     [key], {});\n",
              "          if (!dataTable) return;\n",
              "\n",
              "          const docLinkHtml = 'Like what you see? Visit the ' +\n",
              "            '<a target=\"_blank\" href=https://colab.research.google.com/notebooks/data_table.ipynb>data table notebook</a>'\n",
              "            + ' to learn more about interactive tables.';\n",
              "          element.innerHTML = '';\n",
              "          dataTable['output_type'] = 'display_data';\n",
              "          await google.colab.output.renderOutput(dataTable, element);\n",
              "          const docLink = document.createElement('div');\n",
              "          docLink.innerHTML = docLinkHtml;\n",
              "          element.appendChild(docLink);\n",
              "        }\n",
              "      </script>\n",
              "    </div>\n",
              "  </div>\n",
              "  "
            ]
          },
          "metadata": {},
          "execution_count": 32
        }
      ]
    },
    {
      "cell_type": "markdown",
      "source": [
        "Metrics\n",
        "\n",
        "* number of correct recommendations\n",
        "* precision (num correct recs / total purchases)\n",
        "* recall (num correct recs / total recs)"
      ],
      "metadata": {
        "id": "W6BdESYR7FYD"
      }
    },
    {
      "cell_type": "code",
      "source": [
        "print('avg number of correct recs:', train_acc['num_correct'].mean())\n",
        "train_acc['corr'] = (train_acc['num_correct']>0)*1\n",
        "print('accuracy', train_acc['corr'].sum()/len(train_acc))\n",
        "print('precision:', train_acc['num_correct'].sum() / sum(train_acc['article_id'].map(len)))\n",
        "print('recall:', train_acc['num_correct'].sum() / sum(train_acc['train_recs'].map(len)))"
      ],
      "metadata": {
        "colab": {
          "base_uri": "https://localhost:8080/"
        },
        "id": "eC-N6UGQ7CRD",
        "outputId": "acf15d68-fe27-4d2e-f16a-76b646d78954"
      },
      "execution_count": null,
      "outputs": [
        {
          "output_type": "stream",
          "name": "stdout",
          "text": [
            "avg number of correct recs: 0.7910527958733554\n",
            "accuracy 0.5958150174246339\n",
            "precision: 0.20446732440679716\n",
            "recall: 0.15821055917467108\n"
          ]
        }
      ]
    },
    {
      "cell_type": "markdown",
      "source": [
        "For test"
      ],
      "metadata": {
        "id": "p5jiW7E58sR8"
      }
    },
    {
      "cell_type": "code",
      "source": [
        "test_acc = test_true.merge(test_recs, how = \"left\", on = \"customer_id\")\n",
        "test_acc['correct_preds'] =  [set(a).intersection(b) for a, b in zip(test_acc['article_id'], test_acc['test_recs'])]\n",
        "test_acc['num_correct'] = test_acc['correct_preds'].apply(len)\n",
        "test_acc.head()"
      ],
      "metadata": {
        "colab": {
          "base_uri": "https://localhost:8080/",
          "height": 206
        },
        "id": "UQLdhv2U4bhg",
        "outputId": "79595e30-07f5-443a-8108-4dae72c6fa78"
      },
      "execution_count": null,
      "outputs": [
        {
          "output_type": "execute_result",
          "data": {
            "text/plain": [
              "                                         customer_id  \\\n",
              "0  0000423b00ade91418cceaf3b26c6af3dd342b51fd051e...   \n",
              "1  00007d2de826758b65a93dd24ce629ed66842531df6699...   \n",
              "2  00009d946eec3ea54add5ba56d5210ea898def4b46c685...   \n",
              "3  0000f1c71aafe5963c3d195cf273f7bfd50bbf17761c91...   \n",
              "4  0000f2ea26b7f0a9175f428c8cf7743e9e10e193465ecd...   \n",
              "\n",
              "                          article_id  \\\n",
              "0                        [666448006]   \n",
              "1  [671502001, 681376001, 685687001]   \n",
              "2  [573085010, 636455003, 684210001]   \n",
              "3                        [632982036]   \n",
              "4                        [562245059]   \n",
              "\n",
              "                                           test_recs correct_preds  \\\n",
              "0  [673677002, 507910001, 372860001, 537116001, 5...            {}   \n",
              "1  [355072002, 615141002, 355569001, 589222001, 3...            {}   \n",
              "2  [706016001, 706016002, 539723005, 712587003, 5...            {}   \n",
              "3  [673677002, 372860001, 537116001, 673396002, 6...            {}   \n",
              "4  [615141002, 673396002, 708352001, 692454002, 6...            {}   \n",
              "\n",
              "   num_correct  \n",
              "0            0  \n",
              "1            0  \n",
              "2            0  \n",
              "3            0  \n",
              "4            0  "
            ],
            "text/html": [
              "\n",
              "  <div id=\"df-067380e2-4f58-4995-94bb-d931fa8a5417\">\n",
              "    <div class=\"colab-df-container\">\n",
              "      <div>\n",
              "<style scoped>\n",
              "    .dataframe tbody tr th:only-of-type {\n",
              "        vertical-align: middle;\n",
              "    }\n",
              "\n",
              "    .dataframe tbody tr th {\n",
              "        vertical-align: top;\n",
              "    }\n",
              "\n",
              "    .dataframe thead th {\n",
              "        text-align: right;\n",
              "    }\n",
              "</style>\n",
              "<table border=\"1\" class=\"dataframe\">\n",
              "  <thead>\n",
              "    <tr style=\"text-align: right;\">\n",
              "      <th></th>\n",
              "      <th>customer_id</th>\n",
              "      <th>article_id</th>\n",
              "      <th>test_recs</th>\n",
              "      <th>correct_preds</th>\n",
              "      <th>num_correct</th>\n",
              "    </tr>\n",
              "  </thead>\n",
              "  <tbody>\n",
              "    <tr>\n",
              "      <th>0</th>\n",
              "      <td>0000423b00ade91418cceaf3b26c6af3dd342b51fd051e...</td>\n",
              "      <td>[666448006]</td>\n",
              "      <td>[673677002, 507910001, 372860001, 537116001, 5...</td>\n",
              "      <td>{}</td>\n",
              "      <td>0</td>\n",
              "    </tr>\n",
              "    <tr>\n",
              "      <th>1</th>\n",
              "      <td>00007d2de826758b65a93dd24ce629ed66842531df6699...</td>\n",
              "      <td>[671502001, 681376001, 685687001]</td>\n",
              "      <td>[355072002, 615141002, 355569001, 589222001, 3...</td>\n",
              "      <td>{}</td>\n",
              "      <td>0</td>\n",
              "    </tr>\n",
              "    <tr>\n",
              "      <th>2</th>\n",
              "      <td>00009d946eec3ea54add5ba56d5210ea898def4b46c685...</td>\n",
              "      <td>[573085010, 636455003, 684210001]</td>\n",
              "      <td>[706016001, 706016002, 539723005, 712587003, 5...</td>\n",
              "      <td>{}</td>\n",
              "      <td>0</td>\n",
              "    </tr>\n",
              "    <tr>\n",
              "      <th>3</th>\n",
              "      <td>0000f1c71aafe5963c3d195cf273f7bfd50bbf17761c91...</td>\n",
              "      <td>[632982036]</td>\n",
              "      <td>[673677002, 372860001, 537116001, 673396002, 6...</td>\n",
              "      <td>{}</td>\n",
              "      <td>0</td>\n",
              "    </tr>\n",
              "    <tr>\n",
              "      <th>4</th>\n",
              "      <td>0000f2ea26b7f0a9175f428c8cf7743e9e10e193465ecd...</td>\n",
              "      <td>[562245059]</td>\n",
              "      <td>[615141002, 673396002, 708352001, 692454002, 6...</td>\n",
              "      <td>{}</td>\n",
              "      <td>0</td>\n",
              "    </tr>\n",
              "  </tbody>\n",
              "</table>\n",
              "</div>\n",
              "      <button class=\"colab-df-convert\" onclick=\"convertToInteractive('df-067380e2-4f58-4995-94bb-d931fa8a5417')\"\n",
              "              title=\"Convert this dataframe to an interactive table.\"\n",
              "              style=\"display:none;\">\n",
              "        \n",
              "  <svg xmlns=\"http://www.w3.org/2000/svg\" height=\"24px\"viewBox=\"0 0 24 24\"\n",
              "       width=\"24px\">\n",
              "    <path d=\"M0 0h24v24H0V0z\" fill=\"none\"/>\n",
              "    <path d=\"M18.56 5.44l.94 2.06.94-2.06 2.06-.94-2.06-.94-.94-2.06-.94 2.06-2.06.94zm-11 1L8.5 8.5l.94-2.06 2.06-.94-2.06-.94L8.5 2.5l-.94 2.06-2.06.94zm10 10l.94 2.06.94-2.06 2.06-.94-2.06-.94-.94-2.06-.94 2.06-2.06.94z\"/><path d=\"M17.41 7.96l-1.37-1.37c-.4-.4-.92-.59-1.43-.59-.52 0-1.04.2-1.43.59L10.3 9.45l-7.72 7.72c-.78.78-.78 2.05 0 2.83L4 21.41c.39.39.9.59 1.41.59.51 0 1.02-.2 1.41-.59l7.78-7.78 2.81-2.81c.8-.78.8-2.07 0-2.86zM5.41 20L4 18.59l7.72-7.72 1.47 1.35L5.41 20z\"/>\n",
              "  </svg>\n",
              "      </button>\n",
              "      \n",
              "  <style>\n",
              "    .colab-df-container {\n",
              "      display:flex;\n",
              "      flex-wrap:wrap;\n",
              "      gap: 12px;\n",
              "    }\n",
              "\n",
              "    .colab-df-convert {\n",
              "      background-color: #E8F0FE;\n",
              "      border: none;\n",
              "      border-radius: 50%;\n",
              "      cursor: pointer;\n",
              "      display: none;\n",
              "      fill: #1967D2;\n",
              "      height: 32px;\n",
              "      padding: 0 0 0 0;\n",
              "      width: 32px;\n",
              "    }\n",
              "\n",
              "    .colab-df-convert:hover {\n",
              "      background-color: #E2EBFA;\n",
              "      box-shadow: 0px 1px 2px rgba(60, 64, 67, 0.3), 0px 1px 3px 1px rgba(60, 64, 67, 0.15);\n",
              "      fill: #174EA6;\n",
              "    }\n",
              "\n",
              "    [theme=dark] .colab-df-convert {\n",
              "      background-color: #3B4455;\n",
              "      fill: #D2E3FC;\n",
              "    }\n",
              "\n",
              "    [theme=dark] .colab-df-convert:hover {\n",
              "      background-color: #434B5C;\n",
              "      box-shadow: 0px 1px 3px 1px rgba(0, 0, 0, 0.15);\n",
              "      filter: drop-shadow(0px 1px 2px rgba(0, 0, 0, 0.3));\n",
              "      fill: #FFFFFF;\n",
              "    }\n",
              "  </style>\n",
              "\n",
              "      <script>\n",
              "        const buttonEl =\n",
              "          document.querySelector('#df-067380e2-4f58-4995-94bb-d931fa8a5417 button.colab-df-convert');\n",
              "        buttonEl.style.display =\n",
              "          google.colab.kernel.accessAllowed ? 'block' : 'none';\n",
              "\n",
              "        async function convertToInteractive(key) {\n",
              "          const element = document.querySelector('#df-067380e2-4f58-4995-94bb-d931fa8a5417');\n",
              "          const dataTable =\n",
              "            await google.colab.kernel.invokeFunction('convertToInteractive',\n",
              "                                                     [key], {});\n",
              "          if (!dataTable) return;\n",
              "\n",
              "          const docLinkHtml = 'Like what you see? Visit the ' +\n",
              "            '<a target=\"_blank\" href=https://colab.research.google.com/notebooks/data_table.ipynb>data table notebook</a>'\n",
              "            + ' to learn more about interactive tables.';\n",
              "          element.innerHTML = '';\n",
              "          dataTable['output_type'] = 'display_data';\n",
              "          await google.colab.output.renderOutput(dataTable, element);\n",
              "          const docLink = document.createElement('div');\n",
              "          docLink.innerHTML = docLinkHtml;\n",
              "          element.appendChild(docLink);\n",
              "        }\n",
              "      </script>\n",
              "    </div>\n",
              "  </div>\n",
              "  "
            ]
          },
          "metadata": {},
          "execution_count": 34
        }
      ]
    },
    {
      "cell_type": "code",
      "source": [
        "test_acc['correct_preds'] =  [set(a).intersection(b) for a, b in zip(test_acc['article_id'], test_acc['test_recs'])]\n",
        "test_acc['num_correct'] = test_acc['correct_preds'].apply(len)\n",
        "print('avg number of correct recs:', test_acc['num_correct'].mean())\n",
        "test_acc['corr'] = (test_acc['num_correct']>0)*1\n",
        "print('accuracy', test_acc['num_correct'].sum()/445253)\n",
        "print('precision:', test_acc['num_correct'].sum() / sum(test_acc['article_id'].map(len)))\n",
        "print('recall:', test_acc['num_correct'].sum() / sum(test_acc['test_recs'].map(len)))"
      ],
      "metadata": {
        "colab": {
          "base_uri": "https://localhost:8080/"
        },
        "id": "v9EFafEz6i8C",
        "outputId": "983548b6-393a-4b88-def6-993fc4efb84c"
      },
      "execution_count": null,
      "outputs": [
        {
          "output_type": "stream",
          "name": "stdout",
          "text": [
            "avg number of correct recs: 0.20222601484707928\n",
            "accuracy 0.13013275598367668\n",
            "precision: 0.13449392430625676\n",
            "recall: 0.04044520296941585\n"
          ]
        }
      ]
    },
    {
      "cell_type": "markdown",
      "source": [
        "Save"
      ],
      "metadata": {
        "id": "zBYQRbmnzD9e"
      }
    },
    {
      "cell_type": "code",
      "source": [
        "final_res = test_acc[['customer_id', 'article_id', 'test_recs']]\n",
        "final_res.rename({'test_recs': 'cf_recs', 'article_id':'purchases'}, axis=1, inplace=True)\n",
        "final_res.to_csv(\"top5_collaborative_filtering_results.csv\", index=False)"
      ],
      "metadata": {
        "colab": {
          "base_uri": "https://localhost:8080/"
        },
        "id": "RY1C982QxKa9",
        "outputId": "1a003979-6cc6-4876-866c-b383525ee8a2"
      },
      "execution_count": null,
      "outputs": [
        {
          "output_type": "stream",
          "name": "stderr",
          "text": [
            "/usr/local/lib/python3.7/dist-packages/pandas/core/frame.py:5047: SettingWithCopyWarning: \n",
            "A value is trying to be set on a copy of a slice from a DataFrame\n",
            "\n",
            "See the caveats in the documentation: https://pandas.pydata.org/pandas-docs/stable/user_guide/indexing.html#returning-a-view-versus-a-copy\n",
            "  errors=errors,\n"
          ]
        }
      ]
    },
    {
      "cell_type": "code",
      "source": [
        "[float(i.rstrip()) for i in str(model.item_factors[0]).replace('[','').replace(']','').split(' ') if i != '' ]\n"
      ],
      "metadata": {
        "colab": {
          "base_uri": "https://localhost:8080/"
        },
        "id": "eLV4FTkJFpbr",
        "outputId": "95784b4d-3543-402b-bddd-bef1356a4ffc"
      },
      "execution_count": null,
      "outputs": [
        {
          "output_type": "execute_result",
          "data": {
            "text/plain": [
              "[-0.06226186,\n",
              " -0.06586203,\n",
              " -0.03584025,\n",
              " 0.03642365,\n",
              " 0.24569519,\n",
              " 0.0306516,\n",
              " 0.04594054,\n",
              " -0.00867645,\n",
              " 0.03291946,\n",
              " -0.05255023,\n",
              " -0.01077794,\n",
              " -0.15198345,\n",
              " 0.15606453,\n",
              " 0.03707664,\n",
              " -0.08060411]"
            ]
          },
          "metadata": {},
          "execution_count": 60
        }
      ]
    },
    {
      "cell_type": "code",
      "source": [
        "[[float(i.rstrip()) for i in str(model.item_factors[j]).replace('[','').replace(']','').split(' ') if i != '' ] for j in range(model.item_factors.shape[0])]"
      ],
      "metadata": {
        "id": "pdD9KRl2I9n2"
      },
      "execution_count": null,
      "outputs": []
    },
    {
      "cell_type": "markdown",
      "source": [
        "# Change parameters"
      ],
      "metadata": {
        "id": "VjIDJdeBKE4O"
      }
    },
    {
      "cell_type": "code",
      "source": [
        "# fit model & generate df of test recommendations\n",
        "def als_search(train_ui, test_ui, n_recs, factors, reg, alpha, iters):\n",
        "\n",
        "  #### model ###################################################################\n",
        "\n",
        "  # init model\n",
        "  model = implicit.als.AlternatingLeastSquares(factors=factors, regularization=reg,\n",
        "                                              iterations=iters, random_state = 99,\n",
        "                                              calculate_training_loss=True)\n",
        "  \n",
        "  # incorporate alpha\n",
        "  data_conf = (train_ui * alpha).astype('double')\n",
        "\n",
        "  # fit\n",
        "  model.fit(data_conf)\n",
        "\n",
        "  #### test recommendations from model #########################################\n",
        "  \n",
        "  # user ids\n",
        "  user_ids = np.array(test_df['user_id'].unique())\n",
        "\n",
        "  # use the implicit recommender \n",
        "  recommended = model.recommend(user_ids, test_ui[user_ids], N=n_recs,\n",
        "                                recalculate_user=False,\n",
        "                                filter_already_liked_items=False)\n",
        "\n",
        "  #### make dataframe ##########################################################\n",
        "\n",
        "  # convert item_id to article_id\n",
        "  rec_article_ids = np.ndarray(recommended[0].shape)\n",
        "  for k in item_art:\n",
        "    rec_article_ids[recommended[0] == k] = item_art[k]\n",
        "\n",
        "  # get items\n",
        "  item_rec_df = pd.DataFrame(rec_article_ids, columns=['rec_' + str(n+1) for n in range(n_recs)])\n",
        "\n",
        "  # n = 5\n",
        "  if n_recs == 5:\n",
        "    item_rec_df = item_rec_df.astype({'rec_1': int, 'rec_2': int, 'rec_3': int, 'rec_4': int,\n",
        "                                    'rec_5': int})\n",
        "  else:\n",
        "    item_rec_df = item_rec_df.astype({'rec_1': int, 'rec_2': int, 'rec_3': int, 'rec_4': int,\n",
        "                                      'rec_5': int, #})\n",
        "                                      'rec_6': int, 'rec_7': int, 'rec_8': int,\n",
        "                                      'rec_9': int, 'rec_10': int,})\n",
        "                                      #'rec_11': int, 'rec_12': int,'rec_13': int, 'rec_14': int,\n",
        "                                      #'rec_15': int, 'rec_16': int, 'rec_17': int, 'rec_18': int,\n",
        "                                      #'rec_19': int, 'rec_20': int,})\n",
        "\n",
        "  # add user id\n",
        "  item_rec_df.insert(0, 'user_id', user_ids)\n",
        "\n",
        "  # get scores in a df, add user_id\n",
        "  score_rec_df = pd.DataFrame(recommended[1], columns=['score_' + str(n+1) for n in range(n_recs)])\n",
        "  score_rec_df.insert(0, 'user_id', user_ids)\n",
        "\n",
        "  # merge dataframes by user_id\n",
        "  test_rec_df = item_rec_df.merge(score_rec_df, how=\"inner\", on=\"user_id\")\n",
        "\n",
        "  # map user_id to customer_id\n",
        "  test_rec_df.insert(0, 'customer_id', test_rec_df['user_id'].map(user_cust))\n",
        "  test_rec_df.drop('user_id', axis=1, inplace=True)\n",
        "\n",
        "  test_rec_df = test_rec_df.drop_duplicates('customer_id',inplace=False)\n",
        "\n",
        "  return test_rec_df"
      ],
      "metadata": {
        "id": "kmrJSXjGJFPh"
      },
      "execution_count": null,
      "outputs": []
    },
    {
      "cell_type": "code",
      "source": [
        "# calculates eval metrics for recs; returns df of actual, test, and num correct for each user\n",
        "def eval_als(test_recs, test_df, n_recs):\n",
        "\n",
        "  # set up test recs df\n",
        "  test_recs['test_recs'] = test_recs[['rec_'+str(n+1) for n in range(n_recs)]].values.tolist()\n",
        "  test_recs = test_recs[['customer_id', 'test_recs']]\n",
        "\n",
        "  # get true values\n",
        "  test_true = test_df.groupby('customer_id').agg({\"article_id\": lambda x: list(x)}).reset_index()\n",
        "  test_acc = test_true.merge(test_recs, how = \"left\", on = \"customer_id\")\n",
        "\n",
        "  # calc number correct\n",
        "  test_acc['correct_preds'] =  [set(a).intersection(b) for a, b in zip(test_acc['article_id'], test_acc['test_recs'])]\n",
        "  test_acc['num_correct'] = test_acc['correct_preds'].apply(len)\n",
        "\n",
        "  # total number of transactions\n",
        "  tot_T = len(test_df)\n",
        "  \n",
        "  # print accuracy metrics\n",
        "  print('avg number of correct recs:', test_acc['num_correct'].mean())\n",
        "  print('accuracy', test_acc['num_correct'].sum()/tot_T)\n",
        "  print('precision:', test_acc['num_correct'].sum() / sum(test_acc['article_id'].map(len)))\n",
        "  print('recall:', test_acc['num_correct'].sum() / sum(test_acc['test_recs'].map(len)))\n",
        "\n",
        "  return(test_acc)"
      ],
      "metadata": {
        "id": "rLunsySWKRG1"
      },
      "execution_count": null,
      "outputs": []
    },
    {
      "cell_type": "markdown",
      "source": [
        "## Changing factors"
      ],
      "metadata": {
        "id": "H9QlaGhZMW3V"
      }
    },
    {
      "cell_type": "markdown",
      "source": [
        "Run: factors = 5, reg = 0.01, alpha = 5"
      ],
      "metadata": {
        "id": "V12A3-lSMW3W"
      }
    },
    {
      "cell_type": "code",
      "source": [
        "test_recs = als_search(train_ui, test_ui, n_recs=10, factors=5, reg=0.01, alpha=20, iters=50)\n",
        "test_acc = eval_als(test_recs, test_df, n_recs=10)"
      ],
      "metadata": {
        "colab": {
          "base_uri": "https://localhost:8080/",
          "height": 120,
          "referenced_widgets": [
            "81de53bdb1e145d6bb88b015bc75fe0e",
            "b1c1c05e22b241d0a2b01210e04b8817",
            "4cb4c4bf3f3b420baef6de37fdadf51a",
            "a6b2b67c54f548bc869c378f90c6eef1",
            "a613c9aba0224dfc80a0cceb6ba4301d",
            "a0c63d643f2d450aad976d8e2caf2559",
            "e7bf3fb0ab3d4ddfa368065135cd574d",
            "725179b4269141f08d8060c4f6a31906",
            "7fd79cc101df4945bad4f49c34e88741",
            "e97a15fdfa404c51af8861eef2c98f04",
            "2ce908ba0aac4340ade5628daedfef4d"
          ]
        },
        "outputId": "e722c490-f3f7-499a-e6f1-e50b0158448a",
        "id": "3eIcpflCMW3W"
      },
      "execution_count": null,
      "outputs": [
        {
          "output_type": "display_data",
          "data": {
            "text/plain": [
              "  0%|          | 0/50 [00:00<?, ?it/s]"
            ],
            "application/vnd.jupyter.widget-view+json": {
              "version_major": 2,
              "version_minor": 0,
              "model_id": "81de53bdb1e145d6bb88b015bc75fe0e"
            }
          },
          "metadata": {}
        },
        {
          "output_type": "stream",
          "name": "stdout",
          "text": [
            "avg number of correct recs: 0.17364521274182346\n",
            "accuracy 0.11548576535171709\n",
            "precision: 0.11548576535171709\n",
            "recall: 0.017364521274182348\n"
          ]
        }
      ]
    },
    {
      "cell_type": "markdown",
      "source": [
        "Run: factors = 10, reg = 0.01, alpha = 5"
      ],
      "metadata": {
        "id": "Zzlu9_KoMW3W"
      }
    },
    {
      "cell_type": "code",
      "source": [
        "test_recs = als_search(train_ui, test_ui, n_recs=10, factors=10, reg=0.01, alpha=5, iters=50)\n",
        "test_acc = eval_als(test_recs, test_df, n_recs=10)"
      ],
      "metadata": {
        "colab": {
          "base_uri": "https://localhost:8080/",
          "height": 120,
          "referenced_widgets": [
            "992114a22f1941cd86d8d1e90c48873a",
            "caee2aed8c3544b8bf4e710c1d16d102",
            "79f0bcb1d06e4b0dab8c467196b4f6cd",
            "75fddcedb8f5427383ce820cf195ad2a",
            "38c986d9093c4ac2b12ae843974b9dca",
            "20880921575b42b0b927a2409afcea8a",
            "38e7aed932f145b29ab3e3ee9b7be6fe",
            "a1892732b8e8481299d888ecc21549c0",
            "7d53168d4bb44a8c8b6308050ce03f17",
            "e0348a22f0d74328aae8d754a4c3052f",
            "7f71cdf9e6324f37a5582a90a25cda73"
          ]
        },
        "outputId": "71979fd0-cfbe-4614-da0a-e8c24b0a6c22",
        "id": "9s_HCk5jMW3W"
      },
      "execution_count": null,
      "outputs": [
        {
          "output_type": "display_data",
          "data": {
            "text/plain": [
              "  0%|          | 0/50 [00:00<?, ?it/s]"
            ],
            "application/vnd.jupyter.widget-view+json": {
              "version_major": 2,
              "version_minor": 0,
              "model_id": "992114a22f1941cd86d8d1e90c48873a"
            }
          },
          "metadata": {}
        },
        {
          "output_type": "stream",
          "name": "stdout",
          "text": [
            "avg number of correct recs: 0.24496982769151301\n",
            "accuracy 0.1629214395970428\n",
            "precision: 0.1629214395970428\n",
            "recall: 0.024496982769151302\n"
          ]
        }
      ]
    },
    {
      "cell_type": "markdown",
      "source": [
        "Run: factors = 15, reg = 0.01, alpha = 5"
      ],
      "metadata": {
        "id": "Pp0sJAMeMW3X"
      }
    },
    {
      "cell_type": "code",
      "source": [
        "test_recs = als_search(train_ui, test_ui, n_recs=10, factors=15, reg=0.01, alpha=5, iters=50)\n",
        "test_acc = eval_als(test_recs, test_df, n_recs=10)"
      ],
      "metadata": {
        "colab": {
          "base_uri": "https://localhost:8080/",
          "height": 120,
          "referenced_widgets": [
            "5f8e9a9298234981a12a4b1255f02266",
            "053370cbe1fd40f195d6b04acb9550cb",
            "25dfbde78f1441fc8b2400faff36e3b7",
            "2e1d7f3b782441e3aa7e8e150f913b92",
            "3351c1a710cd4c77842a80432071e985",
            "cb394890ff2b443eacfbe6dcf9485305",
            "ac9e46a6b9254d7aba39006ddece7e3a",
            "28f3e9f90f2444a99286094b8457f2ba",
            "3036356f505548999db7b500323bc721",
            "2fd6ec5e4b9843558b06782055096528",
            "73c680cb95b946dc98eeb97fddf43391"
          ]
        },
        "outputId": "a3072feb-758c-4f69-ea01-4058e8e3f152",
        "id": "8a_uJ3nXMW3X"
      },
      "execution_count": null,
      "outputs": [
        {
          "output_type": "display_data",
          "data": {
            "text/plain": [
              "  0%|          | 0/50 [00:00<?, ?it/s]"
            ],
            "application/vnd.jupyter.widget-view+json": {
              "version_major": 2,
              "version_minor": 0,
              "model_id": "5f8e9a9298234981a12a4b1255f02266"
            }
          },
          "metadata": {}
        },
        {
          "output_type": "stream",
          "name": "stdout",
          "text": [
            "avg number of correct recs: 0.2939540208222085\n",
            "accuracy 0.195499228207003\n",
            "precision: 0.195499228207003\n",
            "recall: 0.02939540208222085\n"
          ]
        }
      ]
    },
    {
      "cell_type": "markdown",
      "source": [
        "Run: factors = 20, reg = 0.01, alpha = 5"
      ],
      "metadata": {
        "id": "Y6UV3TLiMW3X"
      }
    },
    {
      "cell_type": "code",
      "source": [
        "test_recs = als_search(train_ui, test_ui, n_recs=10, factors=20, reg=0.01, alpha=5, iters=50)\n",
        "test_acc = eval_als(test_recs, test_df, n_recs=10)"
      ],
      "metadata": {
        "colab": {
          "base_uri": "https://localhost:8080/",
          "height": 120,
          "referenced_widgets": [
            "bbe96eaef4e840d786d4777a59561c0e",
            "9e0b5c5042134fcca272219364365155",
            "bbe5ac367a9c4590ad1063abf179eb6f",
            "7cd636bce9f442a3b24b9c4b07a3ca69",
            "a60345f19f414da9a18d189dee0b2c3d",
            "1b9aab31d1d94b71b3e65e69662e503b",
            "7968211cea2145e49be22f4fbd0b4c86",
            "906d487e47a040398b02af672d512528",
            "5adaeb5e1fa442a38eafa179e8422145",
            "2a6613e0076f420180be8e5b37261419",
            "669c205b2b424bcc86fe2754094460d5"
          ]
        },
        "outputId": "ed276ade-9c1d-40ce-b2b8-6dd0a6b2a718",
        "id": "D1KkTm9_MW3X"
      },
      "execution_count": null,
      "outputs": [
        {
          "output_type": "display_data",
          "data": {
            "text/plain": [
              "  0%|          | 0/50 [00:00<?, ?it/s]"
            ],
            "application/vnd.jupyter.widget-view+json": {
              "version_major": 2,
              "version_minor": 0,
              "model_id": "bbe96eaef4e840d786d4777a59561c0e"
            }
          },
          "metadata": {}
        },
        {
          "output_type": "stream",
          "name": "stdout",
          "text": [
            "avg number of correct recs: 0.3277141989592386\n",
            "accuracy 0.21795202116917933\n",
            "precision: 0.21795202116917933\n",
            "recall: 0.03277141989592386\n"
          ]
        }
      ]
    },
    {
      "cell_type": "markdown",
      "source": [
        "## Changing reg"
      ],
      "metadata": {
        "id": "-_aPz_lyNfsW"
      }
    },
    {
      "cell_type": "markdown",
      "source": [
        "**Run: factors = 20, reg = 0.01, alpha = 5**"
      ],
      "metadata": {
        "id": "0uiz-mcrNfse"
      }
    },
    {
      "cell_type": "code",
      "source": [
        "test_recs = als_search(train_ui, test_ui, n_recs=10, factors=20, reg=0.01, alpha=20, iters=50)\n",
        "test_acc = eval_als(test_recs, test_df, n_recs=10)"
      ],
      "metadata": {
        "colab": {
          "base_uri": "https://localhost:8080/",
          "height": 120,
          "referenced_widgets": [
            "b000a3c170254aea946ab79dbe115473",
            "d5408b8fa2064cbbac8ceb0085a134ba",
            "cb11965fe01c453780b0a642feaeff6f",
            "27657043a70c46a989604fc69141103e",
            "bbd812c262b74ab19d306f7478e98c4d",
            "acac40506a3a497f91aae7e7830902ea",
            "de5644060e0d4805a9f978516193c90e",
            "bf75ee3f35734c4c91afc02f86c3b408",
            "3432916b8f3a4c319090c37f41b9aedd",
            "6a743d6b8d3c43faa3ffe86ee53feb5e",
            "e31413d8228e4fa0b716e812702983ca"
          ]
        },
        "outputId": "21549292-adcb-4e5d-947b-9e5176e3c996",
        "id": "I1r7PQ5uNfse"
      },
      "execution_count": null,
      "outputs": [
        {
          "output_type": "display_data",
          "data": {
            "text/plain": [
              "  0%|          | 0/50 [00:00<?, ?it/s]"
            ],
            "application/vnd.jupyter.widget-view+json": {
              "version_major": 2,
              "version_minor": 0,
              "model_id": "b000a3c170254aea946ab79dbe115473"
            }
          },
          "metadata": {}
        },
        {
          "output_type": "stream",
          "name": "stdout",
          "text": [
            "avg number of correct recs: 0.35408922906174417\n",
            "accuracy 0.23549319313394382\n",
            "precision: 0.23549319313394382\n",
            "recall: 0.035408922906174416\n"
          ]
        }
      ]
    },
    {
      "cell_type": "markdown",
      "source": [
        "Run: factors = 20, reg = 0.1, alpha = 5"
      ],
      "metadata": {
        "id": "7-E2BCL2Nfse"
      }
    },
    {
      "cell_type": "code",
      "source": [
        "test_recs = als_search(train_ui, test_ui, n_recs=10, factors=20, reg=0.1, alpha=5, iters=50)\n",
        "test_acc = eval_als(test_recs, test_df, n_recs=10)"
      ],
      "metadata": {
        "colab": {
          "base_uri": "https://localhost:8080/",
          "height": 120,
          "referenced_widgets": [
            "a8e521264ff94dbc8fff91217451b598",
            "e224733956e24b5d999b36abf79116e7",
            "4f83fcecfc504340a96b918ad7200e1c",
            "d69c161a5f5248b0ab0224c82e825fc0",
            "527e5a0ea5464fb79405dba0c405dedb",
            "4cbdda07d8284fb891db6bcd12eed574",
            "9f47ad2748644fab875a0ef0c09ae7de",
            "4936dd5fc9374576b66e180dd7fd3e51",
            "ac623f9058ee41b7832e841a132027fd",
            "12bcd13f4cf04f90bf5e65a383a1e6ba",
            "118a15f6e3c4425ab2f57e1dd6a8945b"
          ]
        },
        "outputId": "81672094-0931-4f03-b06a-8ec8759a223d",
        "id": "WpBltXCDNfse"
      },
      "execution_count": null,
      "outputs": [
        {
          "output_type": "display_data",
          "data": {
            "text/plain": [
              "  0%|          | 0/50 [00:00<?, ?it/s]"
            ],
            "application/vnd.jupyter.widget-view+json": {
              "version_major": 2,
              "version_minor": 0,
              "model_id": "a8e521264ff94dbc8fff91217451b598"
            }
          },
          "metadata": {}
        },
        {
          "output_type": "stream",
          "name": "stdout",
          "text": [
            "avg number of correct recs: 0.3276897679402208\n",
            "accuracy 0.2179357728955584\n",
            "precision: 0.2179357728955584\n",
            "recall: 0.032768976794022076\n"
          ]
        }
      ]
    },
    {
      "cell_type": "markdown",
      "source": [
        "Run: factors = 15, reg = 0.2, alpha = 5"
      ],
      "metadata": {
        "id": "Z1OdY9efNfsf"
      }
    },
    {
      "cell_type": "code",
      "source": [
        "test_recs = als_search(train_ui, test_ui, n_recs=10, factors=20, reg=0.2, alpha=5, iters=50)\n",
        "test_acc = eval_als(test_recs, test_df, n_recs=10)"
      ],
      "metadata": {
        "colab": {
          "base_uri": "https://localhost:8080/",
          "height": 120,
          "referenced_widgets": [
            "f1b4d3283f394edebc214098acd6c82c",
            "8a838412fbb545a389cd66e49d493e31",
            "fb756f2d77014b64a1d62107070ab6d9",
            "32fc5efad8314f418b9559cb60318311",
            "7c79461f0daf46e0a708301c981fff3a",
            "577487a3ae954a54b9b67a73257d2f19",
            "126b491599ab4faea6c1147bf996de74",
            "2691874290294e32bff1607fa958b4c5",
            "6363fd59fc1e4072836c3b624a6829c0",
            "64d1d9b02394402a8893c202f67d9107",
            "19554fca7ac74a90804b06dd27e775d7"
          ]
        },
        "outputId": "65a2cbec-c32c-4756-bb78-b647d0506d1c",
        "id": "sRJAO35ONfsf"
      },
      "execution_count": null,
      "outputs": [
        {
          "output_type": "display_data",
          "data": {
            "text/plain": [
              "  0%|          | 0/50 [00:00<?, ?it/s]"
            ],
            "application/vnd.jupyter.widget-view+json": {
              "version_major": 2,
              "version_minor": 0,
              "model_id": "f1b4d3283f394edebc214098acd6c82c"
            }
          },
          "metadata": {}
        },
        {
          "output_type": "stream",
          "name": "stdout",
          "text": [
            "avg number of correct recs: 0.32773513983268243\n",
            "accuracy 0.21796594826085441\n",
            "precision: 0.21796594826085441\n",
            "recall: 0.03277351398326824\n"
          ]
        }
      ]
    },
    {
      "cell_type": "markdown",
      "source": [
        "Run: factors = 20, reg = 0.01, alpha = 5"
      ],
      "metadata": {
        "id": "TNB6m7A3Nfsf"
      }
    },
    {
      "cell_type": "code",
      "source": [
        "test_recs = als_search(train_ui, test_ui, n_recs=10, factors=20, reg=0.01, alpha=5, iters=50)\n",
        "test_acc = eval_als(test_recs, test_df, n_recs=10)"
      ],
      "metadata": {
        "colab": {
          "base_uri": "https://localhost:8080/",
          "height": 120,
          "referenced_widgets": [
            "bbe96eaef4e840d786d4777a59561c0e",
            "9e0b5c5042134fcca272219364365155",
            "bbe5ac367a9c4590ad1063abf179eb6f",
            "7cd636bce9f442a3b24b9c4b07a3ca69",
            "a60345f19f414da9a18d189dee0b2c3d",
            "1b9aab31d1d94b71b3e65e69662e503b",
            "7968211cea2145e49be22f4fbd0b4c86",
            "906d487e47a040398b02af672d512528",
            "5adaeb5e1fa442a38eafa179e8422145",
            "2a6613e0076f420180be8e5b37261419",
            "669c205b2b424bcc86fe2754094460d5"
          ]
        },
        "outputId": "ed276ade-9c1d-40ce-b2b8-6dd0a6b2a718",
        "id": "m0HL4JSgNfsf"
      },
      "execution_count": null,
      "outputs": [
        {
          "output_type": "display_data",
          "data": {
            "text/plain": [
              "  0%|          | 0/50 [00:00<?, ?it/s]"
            ],
            "application/vnd.jupyter.widget-view+json": {
              "version_major": 2,
              "version_minor": 0,
              "model_id": "bbe96eaef4e840d786d4777a59561c0e"
            }
          },
          "metadata": {}
        },
        {
          "output_type": "stream",
          "name": "stdout",
          "text": [
            "avg number of correct recs: 0.3277141989592386\n",
            "accuracy 0.21795202116917933\n",
            "precision: 0.21795202116917933\n",
            "recall: 0.03277141989592386\n"
          ]
        }
      ]
    },
    {
      "cell_type": "markdown",
      "source": [
        "## Changing alpha"
      ],
      "metadata": {
        "id": "URe3gcdfMUGp"
      }
    },
    {
      "cell_type": "markdown",
      "source": [
        "Run: factors = 15, reg = 0.01, alpha = 1"
      ],
      "metadata": {
        "id": "E3UiWWarMKlC"
      }
    },
    {
      "cell_type": "code",
      "source": [
        "test_recs = als_search(train_ui, test_ui, n_recs=10, factors=15, reg=0.01, alpha=1, iters=50)\n",
        "test_acc = eval_als(test_recs, test_df, n_recs=10)"
      ],
      "metadata": {
        "colab": {
          "base_uri": "https://localhost:8080/",
          "height": 120,
          "referenced_widgets": [
            "6f2698d6ef744cf997b774140f92d1bf",
            "73bfeb49ffae452e8f617be31a12e7e9",
            "0eef6b3bf13c466d898691f1b6edb964",
            "38beda764bb442a085fb98c789f3d969",
            "c31e83ee46c7456a91a49d7c79647f3c",
            "bb2860ffc0f54e01983015f987e8f1e2",
            "a19cfda30f0e42438ed192332999ca18",
            "9676a3c545a749bbb7f832a0125a0995",
            "86408464891f4febbdcc2cacb8c5905a",
            "b2f00e706cfc49c5b7142c0dcf3aa61d",
            "43a6fab414a5458e9a95a63461082d69"
          ]
        },
        "outputId": "5536fca2-d851-4206-c596-7c21f35b0a09",
        "id": "b_Ye-sYhMKlC"
      },
      "execution_count": null,
      "outputs": [
        {
          "output_type": "display_data",
          "data": {
            "text/plain": [
              "  0%|          | 0/50 [00:00<?, ?it/s]"
            ],
            "application/vnd.jupyter.widget-view+json": {
              "version_major": 2,
              "version_minor": 0,
              "model_id": "6f2698d6ef744cf997b774140f92d1bf"
            }
          },
          "metadata": {}
        },
        {
          "output_type": "stream",
          "name": "stdout",
          "text": [
            "avg number of correct recs: 0.22026657731893998\n",
            "accuracy 0.146492113784339\n",
            "precision: 0.146492113784339\n",
            "recall: 0.022026657731894\n"
          ]
        }
      ]
    },
    {
      "cell_type": "markdown",
      "source": [
        "Run: factors = 15, reg = 0.01, alpha = 5"
      ],
      "metadata": {
        "id": "fjPdKt4ULBAh"
      }
    },
    {
      "cell_type": "code",
      "source": [
        "test_recs = als_search(train_ui, test_ui, n_recs=10, factors=15, reg=0.01, alpha=5, iters=50)\n",
        "test_acc = eval_als(test_recs, test_df, n_recs=10)"
      ],
      "metadata": {
        "colab": {
          "base_uri": "https://localhost:8080/",
          "height": 120,
          "referenced_widgets": [
            "d371e2f346914aa0b49b76da5d371fb5",
            "1dbd672c29fa405db99032bb6f3edf3a",
            "844227d961c447f593948e08145e72bc",
            "8b7b9a0f86284030b4f3c22664d58ba6",
            "5a13e708aa7746c4987a3b07e8ea80c5",
            "58c11b9c79df41c5a98068fa06c81dac",
            "f663b8cdd8d048bc8856a5cd6eb9d430",
            "a621743fe9524828a7859835c7a5208f",
            "7a51de9f16a54418a16d965578d9b7ef",
            "32f243fc10f7460183f14fa8db2766f8",
            "3232bede6b7344bcb4843146712625ae"
          ]
        },
        "id": "7HJTwfzqLDHK",
        "outputId": "1a2cf135-db97-45ba-a278-e469bdac988e"
      },
      "execution_count": null,
      "outputs": [
        {
          "output_type": "display_data",
          "data": {
            "text/plain": [
              "  0%|          | 0/50 [00:00<?, ?it/s]"
            ],
            "application/vnd.jupyter.widget-view+json": {
              "version_major": 2,
              "version_minor": 0,
              "model_id": "d371e2f346914aa0b49b76da5d371fb5"
            }
          },
          "metadata": {}
        },
        {
          "output_type": "stream",
          "name": "stdout",
          "text": [
            "avg number of correct recs: 0.2939540208222085\n",
            "accuracy 0.18915987090485634\n",
            "precision: 0.195499228207003\n",
            "recall: 0.02939540208222085\n"
          ]
        }
      ]
    },
    {
      "cell_type": "markdown",
      "source": [
        "Run: factors = 15, reg = 0.01, alpha = 20"
      ],
      "metadata": {
        "id": "fNLjcOEwL7Gi"
      }
    },
    {
      "cell_type": "code",
      "source": [
        "test_recs = als_search(train_ui, test_ui, n_recs=10, factors=15, reg=0.01, alpha=20, iters=50)\n",
        "test_acc = eval_als(test_recs, test_df, n_recs=10)"
      ],
      "metadata": {
        "colab": {
          "base_uri": "https://localhost:8080/",
          "height": 120,
          "referenced_widgets": [
            "7d7dd1124f534812ae07da88f13b8d87",
            "6c27bbe566cb45af996e7aa3b1af6b33",
            "a681aa4a47874bbd86f3d475b06eec71",
            "c7886efbb0b94e28b0aa0409e9ff0acc",
            "d0949e4be9a74972b9cea1ba3f7e5f90",
            "6e94faf1858147e88a46d6882ff70a93",
            "0661d8a65b8048ac8381e1e4e5b358a2",
            "dca07ec7f11248f4b618a36c838ce496",
            "1fe688d0417c4da1a87986de31438378",
            "91a590a2601a4496bdff04078b989393",
            "8d929770941a4bedb78b8561b54ba958"
          ]
        },
        "id": "PHouLUXrL7Pt",
        "outputId": "199bff02-956a-417f-de3c-bbd33229d412"
      },
      "execution_count": null,
      "outputs": [
        {
          "output_type": "display_data",
          "data": {
            "text/plain": [
              "  0%|          | 0/50 [00:00<?, ?it/s]"
            ],
            "application/vnd.jupyter.widget-view+json": {
              "version_major": 2,
              "version_minor": 0,
              "model_id": "7d7dd1124f534812ae07da88f13b8d87"
            }
          },
          "metadata": {}
        },
        {
          "output_type": "stream",
          "name": "stdout",
          "text": [
            "avg number of correct recs: 0.3118724281989802\n",
            "accuracy 0.20741617631698062\n",
            "precision: 0.20741617631698062\n",
            "recall: 0.031187242819898018\n"
          ]
        }
      ]
    },
    {
      "cell_type": "markdown",
      "source": [
        "Run: factors = 15, reg = 0.01, alpha = 40"
      ],
      "metadata": {
        "id": "egzcT8UALh_l"
      }
    },
    {
      "cell_type": "code",
      "source": [
        "test_recs = als_search(train_ui, test_ui, n_recs=10, factors=15, reg=0.01, alpha=40, iters=50)\n",
        "test_acc = eval_als(test_recs, test_df, n_recs=10)"
      ],
      "metadata": {
        "colab": {
          "base_uri": "https://localhost:8080/",
          "height": 120,
          "referenced_widgets": [
            "9aedfe3d4934456885cd3a01cd89243f",
            "dde329e3ec6046959316f494bfcce564",
            "9dfa0808a18940ff954c23727a4a4e6b",
            "b6d8f584435b43bd93f12f985f0490d3",
            "f3b01cf0c08441aca168006a106d7a1c",
            "bec7b1c3095045e9820478469fb630fc",
            "4ad88056240b4a2c8a88c4ca226ee687",
            "fd022eb0e32945379d46231a80f2add8",
            "359cb2faa21246c6b51c41a213460dab",
            "af8f4770f8d2455c9e85c78f6b4f2260",
            "22840087ea7544ea8fdecc1515aa2f79"
          ]
        },
        "id": "KbseGZFcLiOm",
        "outputId": "2fbf97f7-9ff7-4b80-a1b3-b4c6f7accb01"
      },
      "execution_count": null,
      "outputs": [
        {
          "output_type": "display_data",
          "data": {
            "text/plain": [
              "  0%|          | 0/50 [00:00<?, ?it/s]"
            ],
            "application/vnd.jupyter.widget-view+json": {
              "version_major": 2,
              "version_minor": 0,
              "model_id": "9aedfe3d4934456885cd3a01cd89243f"
            }
          },
          "metadata": {}
        },
        {
          "output_type": "stream",
          "name": "stdout",
          "text": [
            "avg number of correct recs: 0.3104205276402079\n",
            "accuracy 0.20645056462750833\n",
            "precision: 0.20645056462750833\n",
            "recall: 0.031042052764020788\n"
          ]
        }
      ]
    },
    {
      "cell_type": "markdown",
      "source": [
        "factors = 20, reg = 0.01, alpha = 40"
      ],
      "metadata": {
        "id": "VZrlLi1zPdAM"
      }
    },
    {
      "cell_type": "code",
      "source": [
        "test_recs = als_search(train_ui, test_ui, n_recs=10, factors=20, reg=0.01, alpha=40, iters=50)\n",
        "test_acc = eval_als(test_recs, test_df, n_recs=10)"
      ],
      "metadata": {
        "colab": {
          "base_uri": "https://localhost:8080/",
          "height": 120,
          "referenced_widgets": [
            "0f1d09f7d3fd4db7a6e6fa72e980d65e",
            "9f680c6811ae4cc2a0221d1780f4bf20",
            "fd058adb232c4046989dd030a6e40204",
            "8051597a53bc419b8a8ed9c49eef0816",
            "83262b1871c54fb99d2845ea974d4bc2",
            "6cbf18753f4841179d7a06a6b0389a3d",
            "425dd4fce67b45a2937c7c064edfae7e",
            "5dd64181164e4d2dab929c027f683e1c",
            "639668e003524e1d96107df0778cd9da",
            "d956cdb6ffd34ec58f08c0b877dcdd01",
            "b1173cb37f3642b6a0494fc08e3240ad"
          ]
        },
        "id": "PcWTJ38nORg_",
        "outputId": "01762ce7-7499-4462-ddff-3e838e851f8a"
      },
      "execution_count": null,
      "outputs": [
        {
          "output_type": "display_data",
          "data": {
            "text/plain": [
              "  0%|          | 0/50 [00:00<?, ?it/s]"
            ],
            "application/vnd.jupyter.widget-view+json": {
              "version_major": 2,
              "version_minor": 0,
              "model_id": "0f1d09f7d3fd4db7a6e6fa72e980d65e"
            }
          },
          "metadata": {}
        },
        {
          "output_type": "stream",
          "name": "stdout",
          "text": [
            "avg number of correct recs: 0.3542218545935551\n",
            "accuracy 0.23558139804788597\n",
            "precision: 0.23558139804788597\n",
            "recall: 0.03542218545935551\n"
          ]
        }
      ]
    },
    {
      "cell_type": "code",
      "source": [
        "# get top 5 form this method and save \n",
        "test_recs = als_search(train_ui, test_ui, n_recs=5, factors=20, reg=0.01, alpha=40, iters=50)\n",
        "test_acc = eval_als(test_recs, test_df, n_recs=5)\n",
        "final_res = test_acc[['customer_id', 'article_id', 'test_recs']]\n",
        "final_res.rename({'test_recs': 'cf_recs', 'article_id':'purchases'}, axis=1, inplace=True)\n",
        "final_res.to_csv(\"top5_collaborative_filtering_results2.csv\", index=False)"
      ],
      "metadata": {
        "id": "4EoBpGFySVob"
      },
      "execution_count": null,
      "outputs": []
    },
    {
      "cell_type": "markdown",
      "source": [
        "factors = 20, reg = 0.01, alpha = 5"
      ],
      "metadata": {
        "id": "clKPgQjPPfXK"
      }
    },
    {
      "cell_type": "code",
      "source": [
        "test_recs = als_search(train_ui, test_ui, n_recs=10, factors=20, reg=0.01, alpha=5, iters=50)\n",
        "test_acc = eval_als(test_recs, test_df, n_recs=10)"
      ],
      "metadata": {
        "colab": {
          "base_uri": "https://localhost:8080/",
          "height": 120,
          "referenced_widgets": [
            "b169760946c146bb964c3644a7f1d43f",
            "6b4ec9962c164bfda874e3ff66c89730",
            "bc2ce4e07c984b8d9ffaef23174d96cb",
            "371d7c90670a49538978f3dc16f516c2",
            "eb45ceb4ce1e46509a8be4043fcbb7ca",
            "54e80c953bdf4870b764383596d2c7c9",
            "e754f320807f4f9c9960597fd08c423b",
            "7860b318a2e6472ca5706b7a652a01bb",
            "d7516ab891c64405adcc7b60b40a26b6",
            "6606cc62ddf4439eb315aac7183ceb3d",
            "8e0761e8ef3b4e2d8cbfec14bb48acc3"
          ]
        },
        "id": "8MOPvaKYOKPr",
        "outputId": "d0ffb49f-65e3-4e20-c57e-b42a148348b5"
      },
      "execution_count": null,
      "outputs": [
        {
          "output_type": "display_data",
          "data": {
            "text/plain": [
              "  0%|          | 0/50 [00:00<?, ?it/s]"
            ],
            "application/vnd.jupyter.widget-view+json": {
              "version_major": 2,
              "version_minor": 0,
              "model_id": "b169760946c146bb964c3644a7f1d43f"
            }
          },
          "metadata": {}
        },
        {
          "output_type": "stream",
          "name": "stdout",
          "text": [
            "avg number of correct recs: 0.3277141989592386\n",
            "accuracy 0.21795202116917933\n",
            "precision: 0.21795202116917933\n",
            "recall: 0.03277141989592386\n"
          ]
        }
      ]
    },
    {
      "cell_type": "markdown",
      "source": [
        "factors = 20, reg = 0.01, alpha = 1"
      ],
      "metadata": {
        "id": "mE-VHy6SPg-6"
      }
    },
    {
      "cell_type": "code",
      "source": [
        "test_recs = als_search(train_ui, test_ui, n_recs=10, factors=20, reg=0.01, alpha=1, iters=50)\n",
        "test_acc = eval_als(test_recs, test_df, n_recs=10)"
      ],
      "metadata": {
        "colab": {
          "base_uri": "https://localhost:8080/",
          "height": 120,
          "referenced_widgets": [
            "431c38c82b664379a92fc40477893a41",
            "a068ba85511f46d68551141f0c146766",
            "bc5d5e536e00405ba7b73136fb24ddff",
            "32fe37adff5b4eb1bb76c326acdffd85",
            "38281ccd1c324e688cb3604962d37391",
            "421fbd2ea2f448afb0982fa756bf10e5",
            "87268127072b4c99955d7595bcb2c404",
            "c3320a108e1a498faa9978cc73fa09b1",
            "36ec3a66fd924ac2b5e6a9bcdad4c812",
            "d95c7234a22d4db787f60cc9dc287967",
            "e6df7e2959b74ebea1b1c999bb5bd446"
          ]
        },
        "id": "LTaOPvYmOOit",
        "outputId": "f88b3f68-6579-4448-b7b4-55ac3a59e105"
      },
      "execution_count": null,
      "outputs": [
        {
          "output_type": "display_data",
          "data": {
            "text/plain": [
              "  0%|          | 0/50 [00:00<?, ?it/s]"
            ],
            "application/vnd.jupyter.widget-view+json": {
              "version_major": 2,
              "version_minor": 0,
              "model_id": "431c38c82b664379a92fc40477893a41"
            }
          },
          "metadata": {}
        },
        {
          "output_type": "stream",
          "name": "stdout",
          "text": [
            "avg number of correct recs: 0.24242900171366147\n",
            "accuracy 0.16123161914046633\n",
            "precision: 0.16123161914046633\n",
            "recall: 0.024242900171366148\n"
          ]
        }
      ]
    },
    {
      "cell_type": "markdown",
      "source": [
        "## Misc"
      ],
      "metadata": {
        "id": "4Xs8WWnTOD9O"
      }
    },
    {
      "cell_type": "code",
      "source": [
        "test_recs = als_search(train_ui, test_ui, n_recs=10, factors=15, reg=0.01, alpha=20, iters=50)\n",
        "test_acc = eval_als(test_recs, test_df, n_recs=10)"
      ],
      "metadata": {
        "colab": {
          "base_uri": "https://localhost:8080/",
          "height": 120,
          "referenced_widgets": [
            "fc65219717164d8aa775a2e5f46cb001",
            "a7456a315ba44426aada42e2e7d6da12",
            "10a4bd5edc164cf492626ee8bb60676f",
            "ea91a518279a4a4aa104b4030ed8d07d",
            "07b7f33bde014d02bce45446c9ec67d3",
            "34403fd5e8ec434a87f51e6574b64845",
            "fdb817d6defa4b34964eb3910c1bde73",
            "3504cc10005b498db3f03314e185c5d2",
            "289a16d95a0643bdac97a885d67ffd46",
            "2b0c5aa03cfb44ee8ac6f0c0584728c0",
            "82c65d2d43d5450183bac0a882ff9c30"
          ]
        },
        "id": "F26Ov3kaOEum",
        "outputId": "a7675b0f-917d-41d3-f598-d973dcc20514"
      },
      "execution_count": null,
      "outputs": [
        {
          "output_type": "display_data",
          "data": {
            "text/plain": [
              "  0%|          | 0/50 [00:00<?, ?it/s]"
            ],
            "application/vnd.jupyter.widget-view+json": {
              "version_major": 2,
              "version_minor": 0,
              "model_id": "fc65219717164d8aa775a2e5f46cb001"
            }
          },
          "metadata": {}
        },
        {
          "output_type": "stream",
          "name": "stdout",
          "text": [
            "avg number of correct recs: 0.3118724281989802\n",
            "accuracy 0.20741617631698062\n",
            "precision: 0.20741617631698062\n",
            "recall: 0.031187242819898018\n"
          ]
        }
      ]
    },
    {
      "cell_type": "code",
      "source": [
        "test_recs = als_search(train_ui, test_ui, n_recs=10, factors=20, reg=0.1, alpha=40, iters=50)\n",
        "test_acc = eval_als(test_recs, test_df, n_recs=10)"
      ],
      "metadata": {
        "colab": {
          "base_uri": "https://localhost:8080/",
          "height": 120,
          "referenced_widgets": [
            "cae6c53535b14c88bd4851bb422e037a",
            "256c16fac9d44d8e8a31126077ac72a8",
            "cc1b0768e53945009a50e6efdf5ccdb7",
            "570685cdf0b4474289e02bbfc7dd4f77",
            "5f43a6136bb44e47a9462957799f512f",
            "b42b1ab3db5543d79e68aff7c7cbff17",
            "2ac6045769aa49bc8fbb57a063041922",
            "ae92ebc369e840b4a72b7af670aa6f19",
            "78dea699b97a417597c5a1a64dabeafd",
            "9d846fda0cdd4fd2b1b63963fbbdc034",
            "21671e621ac245a8aeacb33b10e7bd13"
          ]
        },
        "id": "TvKdmY7WRuZA",
        "outputId": "8268083e-6972-47d9-e658-b20d3afc1af6"
      },
      "execution_count": null,
      "outputs": [
        {
          "output_type": "display_data",
          "data": {
            "text/plain": [
              "  0%|          | 0/50 [00:00<?, ?it/s]"
            ],
            "application/vnd.jupyter.widget-view+json": {
              "version_major": 2,
              "version_minor": 0,
              "model_id": "cae6c53535b14c88bd4851bb422e037a"
            }
          },
          "metadata": {}
        },
        {
          "output_type": "stream",
          "name": "stdout",
          "text": [
            "avg number of correct recs: 0.35460926075226595\n",
            "accuracy 0.23583904924387497\n",
            "precision: 0.23583904924387497\n",
            "recall: 0.0354609260752266\n"
          ]
        }
      ]
    }
  ]
}