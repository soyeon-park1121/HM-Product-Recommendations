{
  "nbformat": 4,
  "nbformat_minor": 0,
  "metadata": {
    "colab": {
      "name": "collaborative-filtering-implicit.ipynb",
      "provenance": [],
      "collapsed_sections": []
    },
    "kernelspec": {
      "name": "python3",
      "display_name": "Python 3"
    },
    "language_info": {
      "name": "python"
    },
    "accelerator": "GPU",
    "widgets": {
      "application/vnd.jupyter.widget-state+json": {
        "a4a7da145aea4b47b93c50edab2e1d7a": {
          "model_module": "@jupyter-widgets/controls",
          "model_name": "HBoxModel",
          "model_module_version": "1.5.0",
          "state": {
            "_dom_classes": [],
            "_model_module": "@jupyter-widgets/controls",
            "_model_module_version": "1.5.0",
            "_model_name": "HBoxModel",
            "_view_count": null,
            "_view_module": "@jupyter-widgets/controls",
            "_view_module_version": "1.5.0",
            "_view_name": "HBoxView",
            "box_style": "",
            "children": [
              "IPY_MODEL_85550f29ae744860b28689eaa93fa6d5",
              "IPY_MODEL_667721d2398b4a418056e21542c096fd",
              "IPY_MODEL_78c42e51e7444dd1aeff54dfccede818"
            ],
            "layout": "IPY_MODEL_1464756cf5aa4297b780360ec1ab6fd9"
          }
        },
        "85550f29ae744860b28689eaa93fa6d5": {
          "model_module": "@jupyter-widgets/controls",
          "model_name": "HTMLModel",
          "model_module_version": "1.5.0",
          "state": {
            "_dom_classes": [],
            "_model_module": "@jupyter-widgets/controls",
            "_model_module_version": "1.5.0",
            "_model_name": "HTMLModel",
            "_view_count": null,
            "_view_module": "@jupyter-widgets/controls",
            "_view_module_version": "1.5.0",
            "_view_name": "HTMLView",
            "description": "",
            "description_tooltip": null,
            "layout": "IPY_MODEL_e3e11118752f4a318f3e8db805a32bd8",
            "placeholder": "​",
            "style": "IPY_MODEL_ac11e42ff61e4f11b8cc2e4c34f4414a",
            "value": "100%"
          }
        },
        "667721d2398b4a418056e21542c096fd": {
          "model_module": "@jupyter-widgets/controls",
          "model_name": "FloatProgressModel",
          "model_module_version": "1.5.0",
          "state": {
            "_dom_classes": [],
            "_model_module": "@jupyter-widgets/controls",
            "_model_module_version": "1.5.0",
            "_model_name": "FloatProgressModel",
            "_view_count": null,
            "_view_module": "@jupyter-widgets/controls",
            "_view_module_version": "1.5.0",
            "_view_name": "ProgressView",
            "bar_style": "success",
            "description": "",
            "description_tooltip": null,
            "layout": "IPY_MODEL_64e920e3f2fc4bbab3224098a8c48b95",
            "max": 50,
            "min": 0,
            "orientation": "horizontal",
            "style": "IPY_MODEL_822d83aa6d664655a23591c7dc7185b6",
            "value": 50
          }
        },
        "78c42e51e7444dd1aeff54dfccede818": {
          "model_module": "@jupyter-widgets/controls",
          "model_name": "HTMLModel",
          "model_module_version": "1.5.0",
          "state": {
            "_dom_classes": [],
            "_model_module": "@jupyter-widgets/controls",
            "_model_module_version": "1.5.0",
            "_model_name": "HTMLModel",
            "_view_count": null,
            "_view_module": "@jupyter-widgets/controls",
            "_view_module_version": "1.5.0",
            "_view_name": "HTMLView",
            "description": "",
            "description_tooltip": null,
            "layout": "IPY_MODEL_a36facfef21e4c2faafa13a9c2cccea4",
            "placeholder": "​",
            "style": "IPY_MODEL_c9ef997102c740f99660c9c1c1e3a4b6",
            "value": " 50/50 [00:02&lt;00:00, 34.63it/s, loss=0.0175]"
          }
        },
        "1464756cf5aa4297b780360ec1ab6fd9": {
          "model_module": "@jupyter-widgets/base",
          "model_name": "LayoutModel",
          "model_module_version": "1.2.0",
          "state": {
            "_model_module": "@jupyter-widgets/base",
            "_model_module_version": "1.2.0",
            "_model_name": "LayoutModel",
            "_view_count": null,
            "_view_module": "@jupyter-widgets/base",
            "_view_module_version": "1.2.0",
            "_view_name": "LayoutView",
            "align_content": null,
            "align_items": null,
            "align_self": null,
            "border": null,
            "bottom": null,
            "display": null,
            "flex": null,
            "flex_flow": null,
            "grid_area": null,
            "grid_auto_columns": null,
            "grid_auto_flow": null,
            "grid_auto_rows": null,
            "grid_column": null,
            "grid_gap": null,
            "grid_row": null,
            "grid_template_areas": null,
            "grid_template_columns": null,
            "grid_template_rows": null,
            "height": null,
            "justify_content": null,
            "justify_items": null,
            "left": null,
            "margin": null,
            "max_height": null,
            "max_width": null,
            "min_height": null,
            "min_width": null,
            "object_fit": null,
            "object_position": null,
            "order": null,
            "overflow": null,
            "overflow_x": null,
            "overflow_y": null,
            "padding": null,
            "right": null,
            "top": null,
            "visibility": null,
            "width": null
          }
        },
        "e3e11118752f4a318f3e8db805a32bd8": {
          "model_module": "@jupyter-widgets/base",
          "model_name": "LayoutModel",
          "model_module_version": "1.2.0",
          "state": {
            "_model_module": "@jupyter-widgets/base",
            "_model_module_version": "1.2.0",
            "_model_name": "LayoutModel",
            "_view_count": null,
            "_view_module": "@jupyter-widgets/base",
            "_view_module_version": "1.2.0",
            "_view_name": "LayoutView",
            "align_content": null,
            "align_items": null,
            "align_self": null,
            "border": null,
            "bottom": null,
            "display": null,
            "flex": null,
            "flex_flow": null,
            "grid_area": null,
            "grid_auto_columns": null,
            "grid_auto_flow": null,
            "grid_auto_rows": null,
            "grid_column": null,
            "grid_gap": null,
            "grid_row": null,
            "grid_template_areas": null,
            "grid_template_columns": null,
            "grid_template_rows": null,
            "height": null,
            "justify_content": null,
            "justify_items": null,
            "left": null,
            "margin": null,
            "max_height": null,
            "max_width": null,
            "min_height": null,
            "min_width": null,
            "object_fit": null,
            "object_position": null,
            "order": null,
            "overflow": null,
            "overflow_x": null,
            "overflow_y": null,
            "padding": null,
            "right": null,
            "top": null,
            "visibility": null,
            "width": null
          }
        },
        "ac11e42ff61e4f11b8cc2e4c34f4414a": {
          "model_module": "@jupyter-widgets/controls",
          "model_name": "DescriptionStyleModel",
          "model_module_version": "1.5.0",
          "state": {
            "_model_module": "@jupyter-widgets/controls",
            "_model_module_version": "1.5.0",
            "_model_name": "DescriptionStyleModel",
            "_view_count": null,
            "_view_module": "@jupyter-widgets/base",
            "_view_module_version": "1.2.0",
            "_view_name": "StyleView",
            "description_width": ""
          }
        },
        "64e920e3f2fc4bbab3224098a8c48b95": {
          "model_module": "@jupyter-widgets/base",
          "model_name": "LayoutModel",
          "model_module_version": "1.2.0",
          "state": {
            "_model_module": "@jupyter-widgets/base",
            "_model_module_version": "1.2.0",
            "_model_name": "LayoutModel",
            "_view_count": null,
            "_view_module": "@jupyter-widgets/base",
            "_view_module_version": "1.2.0",
            "_view_name": "LayoutView",
            "align_content": null,
            "align_items": null,
            "align_self": null,
            "border": null,
            "bottom": null,
            "display": null,
            "flex": null,
            "flex_flow": null,
            "grid_area": null,
            "grid_auto_columns": null,
            "grid_auto_flow": null,
            "grid_auto_rows": null,
            "grid_column": null,
            "grid_gap": null,
            "grid_row": null,
            "grid_template_areas": null,
            "grid_template_columns": null,
            "grid_template_rows": null,
            "height": null,
            "justify_content": null,
            "justify_items": null,
            "left": null,
            "margin": null,
            "max_height": null,
            "max_width": null,
            "min_height": null,
            "min_width": null,
            "object_fit": null,
            "object_position": null,
            "order": null,
            "overflow": null,
            "overflow_x": null,
            "overflow_y": null,
            "padding": null,
            "right": null,
            "top": null,
            "visibility": null,
            "width": null
          }
        },
        "822d83aa6d664655a23591c7dc7185b6": {
          "model_module": "@jupyter-widgets/controls",
          "model_name": "ProgressStyleModel",
          "model_module_version": "1.5.0",
          "state": {
            "_model_module": "@jupyter-widgets/controls",
            "_model_module_version": "1.5.0",
            "_model_name": "ProgressStyleModel",
            "_view_count": null,
            "_view_module": "@jupyter-widgets/base",
            "_view_module_version": "1.2.0",
            "_view_name": "StyleView",
            "bar_color": null,
            "description_width": ""
          }
        },
        "a36facfef21e4c2faafa13a9c2cccea4": {
          "model_module": "@jupyter-widgets/base",
          "model_name": "LayoutModel",
          "model_module_version": "1.2.0",
          "state": {
            "_model_module": "@jupyter-widgets/base",
            "_model_module_version": "1.2.0",
            "_model_name": "LayoutModel",
            "_view_count": null,
            "_view_module": "@jupyter-widgets/base",
            "_view_module_version": "1.2.0",
            "_view_name": "LayoutView",
            "align_content": null,
            "align_items": null,
            "align_self": null,
            "border": null,
            "bottom": null,
            "display": null,
            "flex": null,
            "flex_flow": null,
            "grid_area": null,
            "grid_auto_columns": null,
            "grid_auto_flow": null,
            "grid_auto_rows": null,
            "grid_column": null,
            "grid_gap": null,
            "grid_row": null,
            "grid_template_areas": null,
            "grid_template_columns": null,
            "grid_template_rows": null,
            "height": null,
            "justify_content": null,
            "justify_items": null,
            "left": null,
            "margin": null,
            "max_height": null,
            "max_width": null,
            "min_height": null,
            "min_width": null,
            "object_fit": null,
            "object_position": null,
            "order": null,
            "overflow": null,
            "overflow_x": null,
            "overflow_y": null,
            "padding": null,
            "right": null,
            "top": null,
            "visibility": null,
            "width": null
          }
        },
        "c9ef997102c740f99660c9c1c1e3a4b6": {
          "model_module": "@jupyter-widgets/controls",
          "model_name": "DescriptionStyleModel",
          "model_module_version": "1.5.0",
          "state": {
            "_model_module": "@jupyter-widgets/controls",
            "_model_module_version": "1.5.0",
            "_model_name": "DescriptionStyleModel",
            "_view_count": null,
            "_view_module": "@jupyter-widgets/base",
            "_view_module_version": "1.2.0",
            "_view_name": "StyleView",
            "description_width": ""
          }
        },
        "d9f7ba24a3d142e1b952b92408b0370c": {
          "model_module": "@jupyter-widgets/controls",
          "model_name": "HBoxModel",
          "model_module_version": "1.5.0",
          "state": {
            "_dom_classes": [],
            "_model_module": "@jupyter-widgets/controls",
            "_model_module_version": "1.5.0",
            "_model_name": "HBoxModel",
            "_view_count": null,
            "_view_module": "@jupyter-widgets/controls",
            "_view_module_version": "1.5.0",
            "_view_name": "HBoxView",
            "box_style": "",
            "children": [
              "IPY_MODEL_32cd36fb2ee848a7890e25fe9664a4fa",
              "IPY_MODEL_8e67b1a9c36643938c6ebcf2fb81a5a3",
              "IPY_MODEL_99290e313b3048448aa167ce482296a2"
            ],
            "layout": "IPY_MODEL_1ee73db677a64971bb8c6cd0c8376fd5"
          }
        },
        "32cd36fb2ee848a7890e25fe9664a4fa": {
          "model_module": "@jupyter-widgets/controls",
          "model_name": "HTMLModel",
          "model_module_version": "1.5.0",
          "state": {
            "_dom_classes": [],
            "_model_module": "@jupyter-widgets/controls",
            "_model_module_version": "1.5.0",
            "_model_name": "HTMLModel",
            "_view_count": null,
            "_view_module": "@jupyter-widgets/controls",
            "_view_module_version": "1.5.0",
            "_view_name": "HTMLView",
            "description": "",
            "description_tooltip": null,
            "layout": "IPY_MODEL_b341b5ac57984b1eb10a6dcfbc23b0a9",
            "placeholder": "​",
            "style": "IPY_MODEL_5e05c0101bd74dc3bf8c0226a0301908",
            "value": "100%"
          }
        },
        "8e67b1a9c36643938c6ebcf2fb81a5a3": {
          "model_module": "@jupyter-widgets/controls",
          "model_name": "FloatProgressModel",
          "model_module_version": "1.5.0",
          "state": {
            "_dom_classes": [],
            "_model_module": "@jupyter-widgets/controls",
            "_model_module_version": "1.5.0",
            "_model_name": "FloatProgressModel",
            "_view_count": null,
            "_view_module": "@jupyter-widgets/controls",
            "_view_module_version": "1.5.0",
            "_view_name": "ProgressView",
            "bar_style": "success",
            "description": "",
            "description_tooltip": null,
            "layout": "IPY_MODEL_2cce1ac59ea84ab1a3cc3851dd5084e6",
            "max": 286521,
            "min": 0,
            "orientation": "horizontal",
            "style": "IPY_MODEL_c6ab4cbdebf5427ab74c8e3b76f82e4b",
            "value": 286521
          }
        },
        "99290e313b3048448aa167ce482296a2": {
          "model_module": "@jupyter-widgets/controls",
          "model_name": "HTMLModel",
          "model_module_version": "1.5.0",
          "state": {
            "_dom_classes": [],
            "_model_module": "@jupyter-widgets/controls",
            "_model_module_version": "1.5.0",
            "_model_name": "HTMLModel",
            "_view_count": null,
            "_view_module": "@jupyter-widgets/controls",
            "_view_module_version": "1.5.0",
            "_view_name": "HTMLView",
            "description": "",
            "description_tooltip": null,
            "layout": "IPY_MODEL_51631394f20245449ce8a9fcb5027f2f",
            "placeholder": "​",
            "style": "IPY_MODEL_37ad05d6f29d4b208fb16bca0df81673",
            "value": " 286521/286521 [00:00&lt;00:00, 655753.13it/s]"
          }
        },
        "1ee73db677a64971bb8c6cd0c8376fd5": {
          "model_module": "@jupyter-widgets/base",
          "model_name": "LayoutModel",
          "model_module_version": "1.2.0",
          "state": {
            "_model_module": "@jupyter-widgets/base",
            "_model_module_version": "1.2.0",
            "_model_name": "LayoutModel",
            "_view_count": null,
            "_view_module": "@jupyter-widgets/base",
            "_view_module_version": "1.2.0",
            "_view_name": "LayoutView",
            "align_content": null,
            "align_items": null,
            "align_self": null,
            "border": null,
            "bottom": null,
            "display": null,
            "flex": null,
            "flex_flow": null,
            "grid_area": null,
            "grid_auto_columns": null,
            "grid_auto_flow": null,
            "grid_auto_rows": null,
            "grid_column": null,
            "grid_gap": null,
            "grid_row": null,
            "grid_template_areas": null,
            "grid_template_columns": null,
            "grid_template_rows": null,
            "height": null,
            "justify_content": null,
            "justify_items": null,
            "left": null,
            "margin": null,
            "max_height": null,
            "max_width": null,
            "min_height": null,
            "min_width": null,
            "object_fit": null,
            "object_position": null,
            "order": null,
            "overflow": null,
            "overflow_x": null,
            "overflow_y": null,
            "padding": null,
            "right": null,
            "top": null,
            "visibility": null,
            "width": null
          }
        },
        "b341b5ac57984b1eb10a6dcfbc23b0a9": {
          "model_module": "@jupyter-widgets/base",
          "model_name": "LayoutModel",
          "model_module_version": "1.2.0",
          "state": {
            "_model_module": "@jupyter-widgets/base",
            "_model_module_version": "1.2.0",
            "_model_name": "LayoutModel",
            "_view_count": null,
            "_view_module": "@jupyter-widgets/base",
            "_view_module_version": "1.2.0",
            "_view_name": "LayoutView",
            "align_content": null,
            "align_items": null,
            "align_self": null,
            "border": null,
            "bottom": null,
            "display": null,
            "flex": null,
            "flex_flow": null,
            "grid_area": null,
            "grid_auto_columns": null,
            "grid_auto_flow": null,
            "grid_auto_rows": null,
            "grid_column": null,
            "grid_gap": null,
            "grid_row": null,
            "grid_template_areas": null,
            "grid_template_columns": null,
            "grid_template_rows": null,
            "height": null,
            "justify_content": null,
            "justify_items": null,
            "left": null,
            "margin": null,
            "max_height": null,
            "max_width": null,
            "min_height": null,
            "min_width": null,
            "object_fit": null,
            "object_position": null,
            "order": null,
            "overflow": null,
            "overflow_x": null,
            "overflow_y": null,
            "padding": null,
            "right": null,
            "top": null,
            "visibility": null,
            "width": null
          }
        },
        "5e05c0101bd74dc3bf8c0226a0301908": {
          "model_module": "@jupyter-widgets/controls",
          "model_name": "DescriptionStyleModel",
          "model_module_version": "1.5.0",
          "state": {
            "_model_module": "@jupyter-widgets/controls",
            "_model_module_version": "1.5.0",
            "_model_name": "DescriptionStyleModel",
            "_view_count": null,
            "_view_module": "@jupyter-widgets/base",
            "_view_module_version": "1.2.0",
            "_view_name": "StyleView",
            "description_width": ""
          }
        },
        "2cce1ac59ea84ab1a3cc3851dd5084e6": {
          "model_module": "@jupyter-widgets/base",
          "model_name": "LayoutModel",
          "model_module_version": "1.2.0",
          "state": {
            "_model_module": "@jupyter-widgets/base",
            "_model_module_version": "1.2.0",
            "_model_name": "LayoutModel",
            "_view_count": null,
            "_view_module": "@jupyter-widgets/base",
            "_view_module_version": "1.2.0",
            "_view_name": "LayoutView",
            "align_content": null,
            "align_items": null,
            "align_self": null,
            "border": null,
            "bottom": null,
            "display": null,
            "flex": null,
            "flex_flow": null,
            "grid_area": null,
            "grid_auto_columns": null,
            "grid_auto_flow": null,
            "grid_auto_rows": null,
            "grid_column": null,
            "grid_gap": null,
            "grid_row": null,
            "grid_template_areas": null,
            "grid_template_columns": null,
            "grid_template_rows": null,
            "height": null,
            "justify_content": null,
            "justify_items": null,
            "left": null,
            "margin": null,
            "max_height": null,
            "max_width": null,
            "min_height": null,
            "min_width": null,
            "object_fit": null,
            "object_position": null,
            "order": null,
            "overflow": null,
            "overflow_x": null,
            "overflow_y": null,
            "padding": null,
            "right": null,
            "top": null,
            "visibility": null,
            "width": null
          }
        },
        "c6ab4cbdebf5427ab74c8e3b76f82e4b": {
          "model_module": "@jupyter-widgets/controls",
          "model_name": "ProgressStyleModel",
          "model_module_version": "1.5.0",
          "state": {
            "_model_module": "@jupyter-widgets/controls",
            "_model_module_version": "1.5.0",
            "_model_name": "ProgressStyleModel",
            "_view_count": null,
            "_view_module": "@jupyter-widgets/base",
            "_view_module_version": "1.2.0",
            "_view_name": "StyleView",
            "bar_color": null,
            "description_width": ""
          }
        },
        "51631394f20245449ce8a9fcb5027f2f": {
          "model_module": "@jupyter-widgets/base",
          "model_name": "LayoutModel",
          "model_module_version": "1.2.0",
          "state": {
            "_model_module": "@jupyter-widgets/base",
            "_model_module_version": "1.2.0",
            "_model_name": "LayoutModel",
            "_view_count": null,
            "_view_module": "@jupyter-widgets/base",
            "_view_module_version": "1.2.0",
            "_view_name": "LayoutView",
            "align_content": null,
            "align_items": null,
            "align_self": null,
            "border": null,
            "bottom": null,
            "display": null,
            "flex": null,
            "flex_flow": null,
            "grid_area": null,
            "grid_auto_columns": null,
            "grid_auto_flow": null,
            "grid_auto_rows": null,
            "grid_column": null,
            "grid_gap": null,
            "grid_row": null,
            "grid_template_areas": null,
            "grid_template_columns": null,
            "grid_template_rows": null,
            "height": null,
            "justify_content": null,
            "justify_items": null,
            "left": null,
            "margin": null,
            "max_height": null,
            "max_width": null,
            "min_height": null,
            "min_width": null,
            "object_fit": null,
            "object_position": null,
            "order": null,
            "overflow": null,
            "overflow_x": null,
            "overflow_y": null,
            "padding": null,
            "right": null,
            "top": null,
            "visibility": null,
            "width": null
          }
        },
        "37ad05d6f29d4b208fb16bca0df81673": {
          "model_module": "@jupyter-widgets/controls",
          "model_name": "DescriptionStyleModel",
          "model_module_version": "1.5.0",
          "state": {
            "_model_module": "@jupyter-widgets/controls",
            "_model_module_version": "1.5.0",
            "_model_name": "DescriptionStyleModel",
            "_view_count": null,
            "_view_module": "@jupyter-widgets/base",
            "_view_module_version": "1.2.0",
            "_view_name": "StyleView",
            "description_width": ""
          }
        },
        "1d7573718508491aa58601c4966953fd": {
          "model_module": "@jupyter-widgets/controls",
          "model_name": "HBoxModel",
          "model_module_version": "1.5.0",
          "state": {
            "_dom_classes": [],
            "_model_module": "@jupyter-widgets/controls",
            "_model_module_version": "1.5.0",
            "_model_name": "HBoxModel",
            "_view_count": null,
            "_view_module": "@jupyter-widgets/controls",
            "_view_module_version": "1.5.0",
            "_view_name": "HBoxView",
            "box_style": "",
            "children": [
              "IPY_MODEL_5f59e0b6d4944c63953da768e33f0c89",
              "IPY_MODEL_79dcb1146d7d4c8c81597e66ec5b81f7",
              "IPY_MODEL_6e21fc4cafbc4e79b49f97aa9531aca2"
            ],
            "layout": "IPY_MODEL_5f789ab92b9446e8a8add8ab3045e189"
          }
        },
        "5f59e0b6d4944c63953da768e33f0c89": {
          "model_module": "@jupyter-widgets/controls",
          "model_name": "HTMLModel",
          "model_module_version": "1.5.0",
          "state": {
            "_dom_classes": [],
            "_model_module": "@jupyter-widgets/controls",
            "_model_module_version": "1.5.0",
            "_model_name": "HTMLModel",
            "_view_count": null,
            "_view_module": "@jupyter-widgets/controls",
            "_view_module_version": "1.5.0",
            "_view_name": "HTMLView",
            "description": "",
            "description_tooltip": null,
            "layout": "IPY_MODEL_71395482fd444418a37e148b8273dc1b",
            "placeholder": "​",
            "style": "IPY_MODEL_5f44058cd9a44feb89331c316fdb84fb",
            "value": "100%"
          }
        },
        "79dcb1146d7d4c8c81597e66ec5b81f7": {
          "model_module": "@jupyter-widgets/controls",
          "model_name": "FloatProgressModel",
          "model_module_version": "1.5.0",
          "state": {
            "_dom_classes": [],
            "_model_module": "@jupyter-widgets/controls",
            "_model_module_version": "1.5.0",
            "_model_name": "FloatProgressModel",
            "_view_count": null,
            "_view_module": "@jupyter-widgets/controls",
            "_view_module_version": "1.5.0",
            "_view_name": "ProgressView",
            "bar_style": "success",
            "description": "",
            "description_tooltip": null,
            "layout": "IPY_MODEL_18081c0fea4f4684a49bcbc0f497ac71",
            "max": 286521,
            "min": 0,
            "orientation": "horizontal",
            "style": "IPY_MODEL_f90a22f5dfe2416489b6f5a993ca0a46",
            "value": 286521
          }
        },
        "6e21fc4cafbc4e79b49f97aa9531aca2": {
          "model_module": "@jupyter-widgets/controls",
          "model_name": "HTMLModel",
          "model_module_version": "1.5.0",
          "state": {
            "_dom_classes": [],
            "_model_module": "@jupyter-widgets/controls",
            "_model_module_version": "1.5.0",
            "_model_name": "HTMLModel",
            "_view_count": null,
            "_view_module": "@jupyter-widgets/controls",
            "_view_module_version": "1.5.0",
            "_view_name": "HTMLView",
            "description": "",
            "description_tooltip": null,
            "layout": "IPY_MODEL_736dbf601ca842ca81afaf8a9fb29b43",
            "placeholder": "​",
            "style": "IPY_MODEL_a0631cd2e1994143bead7679864a95ab",
            "value": " 286521/286521 [00:00&lt;00:00, 342244.28it/s]"
          }
        },
        "5f789ab92b9446e8a8add8ab3045e189": {
          "model_module": "@jupyter-widgets/base",
          "model_name": "LayoutModel",
          "model_module_version": "1.2.0",
          "state": {
            "_model_module": "@jupyter-widgets/base",
            "_model_module_version": "1.2.0",
            "_model_name": "LayoutModel",
            "_view_count": null,
            "_view_module": "@jupyter-widgets/base",
            "_view_module_version": "1.2.0",
            "_view_name": "LayoutView",
            "align_content": null,
            "align_items": null,
            "align_self": null,
            "border": null,
            "bottom": null,
            "display": null,
            "flex": null,
            "flex_flow": null,
            "grid_area": null,
            "grid_auto_columns": null,
            "grid_auto_flow": null,
            "grid_auto_rows": null,
            "grid_column": null,
            "grid_gap": null,
            "grid_row": null,
            "grid_template_areas": null,
            "grid_template_columns": null,
            "grid_template_rows": null,
            "height": null,
            "justify_content": null,
            "justify_items": null,
            "left": null,
            "margin": null,
            "max_height": null,
            "max_width": null,
            "min_height": null,
            "min_width": null,
            "object_fit": null,
            "object_position": null,
            "order": null,
            "overflow": null,
            "overflow_x": null,
            "overflow_y": null,
            "padding": null,
            "right": null,
            "top": null,
            "visibility": null,
            "width": null
          }
        },
        "71395482fd444418a37e148b8273dc1b": {
          "model_module": "@jupyter-widgets/base",
          "model_name": "LayoutModel",
          "model_module_version": "1.2.0",
          "state": {
            "_model_module": "@jupyter-widgets/base",
            "_model_module_version": "1.2.0",
            "_model_name": "LayoutModel",
            "_view_count": null,
            "_view_module": "@jupyter-widgets/base",
            "_view_module_version": "1.2.0",
            "_view_name": "LayoutView",
            "align_content": null,
            "align_items": null,
            "align_self": null,
            "border": null,
            "bottom": null,
            "display": null,
            "flex": null,
            "flex_flow": null,
            "grid_area": null,
            "grid_auto_columns": null,
            "grid_auto_flow": null,
            "grid_auto_rows": null,
            "grid_column": null,
            "grid_gap": null,
            "grid_row": null,
            "grid_template_areas": null,
            "grid_template_columns": null,
            "grid_template_rows": null,
            "height": null,
            "justify_content": null,
            "justify_items": null,
            "left": null,
            "margin": null,
            "max_height": null,
            "max_width": null,
            "min_height": null,
            "min_width": null,
            "object_fit": null,
            "object_position": null,
            "order": null,
            "overflow": null,
            "overflow_x": null,
            "overflow_y": null,
            "padding": null,
            "right": null,
            "top": null,
            "visibility": null,
            "width": null
          }
        },
        "5f44058cd9a44feb89331c316fdb84fb": {
          "model_module": "@jupyter-widgets/controls",
          "model_name": "DescriptionStyleModel",
          "model_module_version": "1.5.0",
          "state": {
            "_model_module": "@jupyter-widgets/controls",
            "_model_module_version": "1.5.0",
            "_model_name": "DescriptionStyleModel",
            "_view_count": null,
            "_view_module": "@jupyter-widgets/base",
            "_view_module_version": "1.2.0",
            "_view_name": "StyleView",
            "description_width": ""
          }
        },
        "18081c0fea4f4684a49bcbc0f497ac71": {
          "model_module": "@jupyter-widgets/base",
          "model_name": "LayoutModel",
          "model_module_version": "1.2.0",
          "state": {
            "_model_module": "@jupyter-widgets/base",
            "_model_module_version": "1.2.0",
            "_model_name": "LayoutModel",
            "_view_count": null,
            "_view_module": "@jupyter-widgets/base",
            "_view_module_version": "1.2.0",
            "_view_name": "LayoutView",
            "align_content": null,
            "align_items": null,
            "align_self": null,
            "border": null,
            "bottom": null,
            "display": null,
            "flex": null,
            "flex_flow": null,
            "grid_area": null,
            "grid_auto_columns": null,
            "grid_auto_flow": null,
            "grid_auto_rows": null,
            "grid_column": null,
            "grid_gap": null,
            "grid_row": null,
            "grid_template_areas": null,
            "grid_template_columns": null,
            "grid_template_rows": null,
            "height": null,
            "justify_content": null,
            "justify_items": null,
            "left": null,
            "margin": null,
            "max_height": null,
            "max_width": null,
            "min_height": null,
            "min_width": null,
            "object_fit": null,
            "object_position": null,
            "order": null,
            "overflow": null,
            "overflow_x": null,
            "overflow_y": null,
            "padding": null,
            "right": null,
            "top": null,
            "visibility": null,
            "width": null
          }
        },
        "f90a22f5dfe2416489b6f5a993ca0a46": {
          "model_module": "@jupyter-widgets/controls",
          "model_name": "ProgressStyleModel",
          "model_module_version": "1.5.0",
          "state": {
            "_model_module": "@jupyter-widgets/controls",
            "_model_module_version": "1.5.0",
            "_model_name": "ProgressStyleModel",
            "_view_count": null,
            "_view_module": "@jupyter-widgets/base",
            "_view_module_version": "1.2.0",
            "_view_name": "StyleView",
            "bar_color": null,
            "description_width": ""
          }
        },
        "736dbf601ca842ca81afaf8a9fb29b43": {
          "model_module": "@jupyter-widgets/base",
          "model_name": "LayoutModel",
          "model_module_version": "1.2.0",
          "state": {
            "_model_module": "@jupyter-widgets/base",
            "_model_module_version": "1.2.0",
            "_model_name": "LayoutModel",
            "_view_count": null,
            "_view_module": "@jupyter-widgets/base",
            "_view_module_version": "1.2.0",
            "_view_name": "LayoutView",
            "align_content": null,
            "align_items": null,
            "align_self": null,
            "border": null,
            "bottom": null,
            "display": null,
            "flex": null,
            "flex_flow": null,
            "grid_area": null,
            "grid_auto_columns": null,
            "grid_auto_flow": null,
            "grid_auto_rows": null,
            "grid_column": null,
            "grid_gap": null,
            "grid_row": null,
            "grid_template_areas": null,
            "grid_template_columns": null,
            "grid_template_rows": null,
            "height": null,
            "justify_content": null,
            "justify_items": null,
            "left": null,
            "margin": null,
            "max_height": null,
            "max_width": null,
            "min_height": null,
            "min_width": null,
            "object_fit": null,
            "object_position": null,
            "order": null,
            "overflow": null,
            "overflow_x": null,
            "overflow_y": null,
            "padding": null,
            "right": null,
            "top": null,
            "visibility": null,
            "width": null
          }
        },
        "a0631cd2e1994143bead7679864a95ab": {
          "model_module": "@jupyter-widgets/controls",
          "model_name": "DescriptionStyleModel",
          "model_module_version": "1.5.0",
          "state": {
            "_model_module": "@jupyter-widgets/controls",
            "_model_module_version": "1.5.0",
            "_model_name": "DescriptionStyleModel",
            "_view_count": null,
            "_view_module": "@jupyter-widgets/base",
            "_view_module_version": "1.2.0",
            "_view_name": "StyleView",
            "description_width": ""
          }
        }
      }
    }
  },
  "cells": [
    {
      "cell_type": "markdown",
      "source": [
        "# Collaborative Filtering Using `implicit` library"
      ],
      "metadata": {
        "id": "PkMq-rvYm0ZX"
      }
    },
    {
      "cell_type": "code",
      "source": [
        "!pip install implicit"
      ],
      "metadata": {
        "id": "GOkaLzEGnClz",
        "colab": {
          "base_uri": "https://localhost:8080/"
        },
        "outputId": "24a83ba7-4525-48cd-e6cd-8292d850259c"
      },
      "execution_count": null,
      "outputs": [
        {
          "output_type": "stream",
          "name": "stdout",
          "text": [
            "Collecting implicit\n",
            "  Downloading implicit-0.5.2-cp37-cp37m-manylinux2014_x86_64.whl (18.5 MB)\n",
            "\u001b[K     |████████████████████████████████| 18.5 MB 237 kB/s \n",
            "\u001b[?25hRequirement already satisfied: numpy in /usr/local/lib/python3.7/dist-packages (from implicit) (1.21.6)\n",
            "Requirement already satisfied: scipy>=0.16 in /usr/local/lib/python3.7/dist-packages (from implicit) (1.4.1)\n",
            "Requirement already satisfied: tqdm>=4.27 in /usr/local/lib/python3.7/dist-packages (from implicit) (4.64.0)\n",
            "Installing collected packages: implicit\n",
            "Successfully installed implicit-0.5.2\n"
          ]
        }
      ]
    },
    {
      "cell_type": "code",
      "execution_count": null,
      "metadata": {
        "id": "h57KT3ZzmeQ9"
      },
      "outputs": [],
      "source": [
        "import sys\n",
        "import pandas as pd\n",
        "import numpy as np\n",
        "import scipy.sparse as sparse\n",
        "from scipy.sparse.linalg import spsolve\n",
        "from sklearn.preprocessing import MinMaxScaler\n",
        "import random\n",
        "import implicit\n",
        "from implicit.evaluation import ranking_metrics_at_k"
      ]
    },
    {
      "cell_type": "code",
      "source": [
        "from google.colab import drive\n",
        "import os\n",
        "drive.mount('/content/drive')\n",
        "cur_path = \"/content/drive/My Drive/social-networks-project/\"\n",
        "os.chdir(cur_path)"
      ],
      "metadata": {
        "colab": {
          "base_uri": "https://localhost:8080/"
        },
        "id": "lXT62Im0nBQa",
        "outputId": "a5de3397-9dec-4efb-c42f-4cdf31abea9c"
      },
      "execution_count": null,
      "outputs": [
        {
          "output_type": "stream",
          "name": "stdout",
          "text": [
            "Mounted at /content/drive\n"
          ]
        }
      ]
    },
    {
      "cell_type": "markdown",
      "source": [
        "# Data"
      ],
      "metadata": {
        "id": "vTR6yTDiCcwd"
      }
    },
    {
      "cell_type": "markdown",
      "source": [
        "Read in, select only necessary cols: customer_id, article_id. Add column for purchase, because rows in this df indicate purchases"
      ],
      "metadata": {
        "id": "t6h5YbqpJ30X"
      }
    },
    {
      "cell_type": "code",
      "source": [
        "# read in\n",
        "train_df = pd.read_csv(cur_path + 'training_test/train_revise.csv')\n",
        "test_df = pd.read_csv(cur_path + 'training_test/test_revise.csv')\n",
        "\n",
        "# select cols\n",
        "train_df = train_df[['customer_id','article_id']]\n",
        "test_df = test_df[['customer_id','article_id']]\n",
        "\n",
        "# add purchase col\n",
        "train_df['purchase'] = 1\n",
        "test_df['purchase'] = 1\n",
        "\n",
        "print('train',len(train_df))\n",
        "print('test',len(test_df))"
      ],
      "metadata": {
        "id": "n5zy8HkpEaR9",
        "colab": {
          "base_uri": "https://localhost:8080/"
        },
        "outputId": "5c90347f-80c4-4c34-fed8-df986bb0fa23"
      },
      "execution_count": null,
      "outputs": [
        {
          "output_type": "stream",
          "name": "stdout",
          "text": [
            "train 1781011\n",
            "test 445253\n"
          ]
        },
        {
          "output_type": "stream",
          "name": "stderr",
          "text": [
            "/usr/local/lib/python3.7/dist-packages/ipykernel_launcher.py:10: SettingWithCopyWarning: \n",
            "A value is trying to be set on a copy of a slice from a DataFrame.\n",
            "Try using .loc[row_indexer,col_indexer] = value instead\n",
            "\n",
            "See the caveats in the documentation: https://pandas.pydata.org/pandas-docs/stable/user_guide/indexing.html#returning-a-view-versus-a-copy\n",
            "  # Remove the CWD from sys.path while we load stuff.\n"
          ]
        }
      ]
    },
    {
      "cell_type": "code",
      "source": [
        "print('train', train_df['customer_id'].nunique())\n",
        "print('test', test_df['customer_id'].nunique())"
      ],
      "metadata": {
        "colab": {
          "base_uri": "https://localhost:8080/"
        },
        "id": "TtevygSO6kxd",
        "outputId": "a87cc752-d6e8-4427-ea11-90cc2c496c39"
      },
      "execution_count": null,
      "outputs": [
        {
          "output_type": "stream",
          "name": "stdout",
          "text": [
            "train 390826\n",
            "test 286521\n"
          ]
        }
      ]
    },
    {
      "cell_type": "markdown",
      "source": [
        "The overlap between the train and test set customers is the test set. This makes sense considering the test set includes customers who bought >=2 things."
      ],
      "metadata": {
        "id": "pkCAZcocFnuN"
      }
    },
    {
      "cell_type": "code",
      "source": [
        "len(set(train_df['customer_id'].unique()).intersection(test_df['customer_id'].unique()))"
      ],
      "metadata": {
        "colab": {
          "base_uri": "https://localhost:8080/"
        },
        "id": "yMFWGJyNFY1F",
        "outputId": "6b81ab32-7d85-4e4f-f848-861c48b8352f"
      },
      "execution_count": null,
      "outputs": [
        {
          "output_type": "execute_result",
          "data": {
            "text/plain": [
              "286521"
            ]
          },
          "metadata": {},
          "execution_count": 6
        }
      ]
    },
    {
      "cell_type": "markdown",
      "source": [
        "Aggregate rows where user has purchased an item more than once!"
      ],
      "metadata": {
        "id": "Ef9Yf-JpGAmw"
      }
    },
    {
      "cell_type": "code",
      "source": [
        "train_df = train_df.groupby(['customer_id', 'article_id'])['purchase'].sum().reset_index()\n",
        "test_df = test_df.groupby(['customer_id', 'article_id'])['purchase'].sum().reset_index()"
      ],
      "metadata": {
        "id": "U5IIsaFLq5PC"
      },
      "execution_count": null,
      "outputs": []
    },
    {
      "cell_type": "code",
      "source": [
        "# use a binary representation (one row for each customer X article, rmv multiple purchases)\n",
        "#train_df = train_df.drop_duplicates(['customer_id', 'article_id'], inplace=False)\n",
        "#test_df = test_df.drop_duplicates(['customer_id', 'article_id'], inplace=False)"
      ],
      "metadata": {
        "id": "T1CdSujqMqWn"
      },
      "execution_count": null,
      "outputs": []
    },
    {
      "cell_type": "markdown",
      "source": [
        "Create a numeric user_id column. article_id is already numeric"
      ],
      "metadata": {
        "id": "jm1ogAnYrRDv"
      }
    },
    {
      "cell_type": "code",
      "source": [
        "# get all customer ids\n",
        "users_df = train_df['customer_id'].append(test_df['customer_id'], ignore_index=True)\\\n",
        "           .reset_index()\\\n",
        "           .drop('index', axis=1)\\\n",
        "           .drop_duplicates('customer_id')\\\n",
        "           .reset_index()\\\n",
        "           .drop('index', axis=1)\\\n",
        "           .sort_values('customer_id')\n",
        "users_df['user'] = users_df['customer_id'].astype(\"category\")\n",
        "users_df['user_id'] = users_df['user'].cat.codes\n",
        "\n",
        "# get all item ids across both and add new ids\n",
        "items_df = train_df['article_id'].append(test_df['article_id'], ignore_index=True)\\\n",
        "           .reset_index()\\\n",
        "           .drop('index', axis=1)\\\n",
        "           .drop_duplicates('article_id')\\\n",
        "           .reset_index()\\\n",
        "           .drop('index', axis=1)\\\n",
        "           .sort_values('article_id')\n",
        "items_df['item'] = items_df['article_id'].astype(\"category\")\n",
        "items_df['item_id'] = items_df['item'].cat.codes\n",
        "\n",
        "# add user and item ids to train and test dfs\n",
        "train_df = train_df.merge(users_df, how='inner', on='customer_id')\n",
        "train_df = train_df.merge(items_df, how='inner', on='article_id')\n",
        "test_df = test_df.merge(users_df, how='inner', on='customer_id')\n",
        "test_df = test_df.merge(items_df, how='inner', on='article_id')"
      ],
      "metadata": {
        "id": "-i4fqIEt9o34"
      },
      "execution_count": null,
      "outputs": []
    },
    {
      "cell_type": "code",
      "source": [
        "# one row per customer per item\n",
        "print(len(train_df))\n",
        "print(len(test_df))"
      ],
      "metadata": {
        "colab": {
          "base_uri": "https://localhost:8080/"
        },
        "id": "CidWUzVpBTIo",
        "outputId": "836502e9-5be1-445e-f4f1-93177fe49fa0"
      },
      "execution_count": null,
      "outputs": [
        {
          "output_type": "stream",
          "name": "stdout",
          "text": [
            "1512046\n",
            "430815\n"
          ]
        }
      ]
    },
    {
      "cell_type": "code",
      "source": [
        "# add all ids straight up\n",
        "'''train_df['user'] = train_df['customer_id'].astype(\"category\")\n",
        "train_df['item'] = train_df['article_id'].astype(\"category\")\n",
        "train_df['user_id'] = train_df['user'].cat.codes\n",
        "train_df['item_id'] = train_df['item'].cat.codes\n",
        "\n",
        "test_df['user'] = test_df['customer_id'].astype(\"category\")\n",
        "test_df['item'] = test_df['article_id'].astype(\"category\")\n",
        "test_df['user_id'] = test_df['user'].cat.codes\n",
        "test_df['item_id'] = test_df['item'].cat.codes\n",
        "\n",
        "train_df.head(2)'''\n",
        "\n",
        "# create users df (all ids)\n",
        "'''users_df = train_df['customer_id'].append(test_df['customer_id'], ignore_index=True)\\\n",
        "           .reset_index()\\\n",
        "           .drop('index', axis=1)\\\n",
        "           .drop_duplicates('customer_id')\\\n",
        "           .reset_index()\\\n",
        "           .drop('index', axis=1)\\\n",
        "           .sort_values('customer_id')\n",
        "users_df['user'] = users_df['customer_id'].astype(\"category\")\n",
        "users_df['user_id'] = users_df['user'].cat.codes'''\n",
        "\n",
        "'''train_df = train_df.merge(users_df, how='inner', on='customer_id')\n",
        "train_df = train_df.merge(items_df, how='inner', on='article_id')\n",
        "test_df = test_df.merge(users_df, how='inner', on='customer_id')\n",
        "test_df = test_df.merge(items_df, how='inner', on='article_id')'''\n",
        "\n",
        "'''train_user_cust = dict(zip(train_df.user_id, train_df.customer_id))\n",
        "train_item_art = dict(zip(train_df.item_id, train_df.article_id))\n",
        "\n",
        "test_user_cust = dict(zip(test_df.user_id, test_df.customer_id))\n",
        "test_item_art = dict(zip(test_df.item_id, test_df.article_id))'''\n",
        "\n",
        "#train_user_cust = dict(zip(train_df.user_id, train_df.customer_id))\n",
        "#test_user_cust = dict(zip(test_df.user_id, test_df.customer_id))"
      ],
      "metadata": {
        "id": "_NnzOtG6rYQ1",
        "colab": {
          "base_uri": "https://localhost:8080/",
          "height": 35
        },
        "outputId": "5740f23d-d3f7-4bf5-b359-81d2f5f3a446"
      },
      "execution_count": null,
      "outputs": [
        {
          "output_type": "execute_result",
          "data": {
            "text/plain": [
              "'train_user_cust = dict(zip(train_df.user_id, train_df.customer_id))\\ntrain_item_art = dict(zip(train_df.item_id, train_df.article_id))\\n\\ntest_user_cust = dict(zip(test_df.user_id, test_df.customer_id))\\ntest_item_art = dict(zip(test_df.item_id, test_df.article_id))'"
            ],
            "application/vnd.google.colaboratory.intrinsic+json": {
              "type": "string"
            }
          },
          "metadata": {},
          "execution_count": 11
        }
      ]
    },
    {
      "cell_type": "markdown",
      "source": [
        "Save a dictionary that maps user_id back to customer_id and item_id back to article_id"
      ],
      "metadata": {
        "id": "oK3KFd0AMJi9"
      }
    },
    {
      "cell_type": "code",
      "source": [
        "user_cust = dict(zip(users_df.user_id, users_df.customer_id))\n",
        "item_art = dict(zip(items_df.item_id, items_df.article_id))"
      ],
      "metadata": {
        "id": "iSnSMVOlxXBe"
      },
      "execution_count": null,
      "outputs": []
    },
    {
      "cell_type": "markdown",
      "source": [
        "If we use the implicit library, we need a user-item matrix. So, we should create two matrices: \n",
        "\n",
        "* one for fitting the model (item-user)\n",
        "* one for recommendations (user-item)"
      ],
      "metadata": {
        "id": "dYIwqkkrrvJy"
      }
    },
    {
      "cell_type": "code",
      "source": [
        "# using train data\n",
        "train_iu = sparse.csr_matrix((train_df['purchase'].astype(float),\n",
        "                                     (train_df['item_id'], train_df['user_id'])))\n",
        "train_ui = sparse.csr_matrix((train_df['purchase'].astype(float),\n",
        "                                     (train_df['user_id'], train_df['item_id'])))\n",
        "\n",
        "# for test data, we won't be fitting model, so only create second matrix\n",
        "test_iu = sparse.csr_matrix((test_df['purchase'].astype(float),\n",
        "                                     (test_df['item_id'], test_df['user_id'])))\n",
        "test_ui = sparse.csr_matrix((test_df['purchase'].astype(float),\n",
        "                                     (test_df['user_id'], test_df['item_id'])))"
      ],
      "metadata": {
        "id": "F2nihEZ8r6G1"
      },
      "execution_count": null,
      "outputs": []
    },
    {
      "cell_type": "markdown",
      "source": [
        "# Implicit Model"
      ],
      "metadata": {
        "id": "-dJ56lUosnMN"
      }
    },
    {
      "cell_type": "markdown",
      "source": [
        "Init the model\n",
        "\n",
        "* factors: number of latent factors to compute\n",
        "* regularization: regularization factor\n",
        "* iterations: number of ALS iterations\n",
        "* calculate_training_loss: log training loss at each interation\n",
        "* random_state: random state for seeding init user and item factors"
      ],
      "metadata": {
        "id": "wY4Mhx2JspMq"
      }
    },
    {
      "cell_type": "code",
      "source": [
        "# init model\n",
        "model = implicit.als.AlternatingLeastSquares(factors=15, regularization=0.01,\n",
        "                                             iterations=50, random_state = 99,\n",
        "                                             calculate_training_loss=True)"
      ],
      "metadata": {
        "id": "hPadvKeMsp1S"
      },
      "execution_count": null,
      "outputs": []
    },
    {
      "cell_type": "markdown",
      "source": [
        "Fit model!\n",
        "\n",
        "According to the documentation, when we fit the model we need:\n",
        "* user_items: csr_matrix\n",
        "            Matrix of confidences for the liked items. This matrix should be a csr_matrix where\n",
        "            the rows of the matrix are the users, the columns are the items liked that user,\n",
        "            and the value is the confidence that the user liked the item.\n",
        "\n",
        "For some reason, as github user MDTsai pointed out in an [issue](https://github.com/benfred/implicit/issues/567), that the tutorial the creators of the package put out send sparse_iu to the model.fit() function, but the docs (above) say to do the opposite. There must have been some change after tutorials released.\n",
        "\n",
        "Therefore, I use train_ui in model.fit(), as the rows of this matrix are users and the columns are products. "
      ],
      "metadata": {
        "id": "pBUk2KQAtrEz"
      }
    },
    {
      "cell_type": "code",
      "source": [
        "train_iu.shape"
      ],
      "metadata": {
        "colab": {
          "base_uri": "https://localhost:8080/"
        },
        "id": "2xAfhx45GaGg",
        "outputId": "1fafbf9b-010a-4861-9972-b9404cfc4987"
      },
      "execution_count": null,
      "outputs": [
        {
          "output_type": "execute_result",
          "data": {
            "text/plain": [
              "(1000, 390826)"
            ]
          },
          "metadata": {},
          "execution_count": 15
        }
      ]
    },
    {
      "cell_type": "code",
      "source": [
        "train_ui.shape"
      ],
      "metadata": {
        "colab": {
          "base_uri": "https://localhost:8080/"
        },
        "id": "rBit37YNGiU6",
        "outputId": "15400c94-f99c-4425-f5a3-61e99ec66157"
      },
      "execution_count": null,
      "outputs": [
        {
          "output_type": "execute_result",
          "data": {
            "text/plain": [
              "(390826, 1000)"
            ]
          },
          "metadata": {},
          "execution_count": 16
        }
      ]
    },
    {
      "cell_type": "markdown",
      "source": [
        "Calculate confidence\n",
        "\n",
        "* alpha_val (int): The rate in which we'll increase our confidence in a preference with more interactions."
      ],
      "metadata": {
        "id": "fXFrN3fJtjCd"
      }
    },
    {
      "cell_type": "code",
      "source": [
        "alpha_val = 5 #default is 40\n",
        "# from tutorial\n",
        "#data_conf = (train_iu * alpha_val).astype('double')\n",
        "# what we should do according to documentation\n",
        "data_conf = (train_ui * alpha_val).astype('double')"
      ],
      "metadata": {
        "id": "EMWGFdP5tlhV"
      },
      "execution_count": null,
      "outputs": []
    },
    {
      "cell_type": "markdown",
      "source": [
        "Fit model"
      ],
      "metadata": {
        "id": "HqC5tY30WSj6"
      }
    },
    {
      "cell_type": "code",
      "source": [
        "model.fit(data_conf)"
      ],
      "metadata": {
        "colab": {
          "base_uri": "https://localhost:8080/",
          "height": 49,
          "referenced_widgets": [
            "a4a7da145aea4b47b93c50edab2e1d7a",
            "85550f29ae744860b28689eaa93fa6d5",
            "667721d2398b4a418056e21542c096fd",
            "78c42e51e7444dd1aeff54dfccede818",
            "1464756cf5aa4297b780360ec1ab6fd9",
            "e3e11118752f4a318f3e8db805a32bd8",
            "ac11e42ff61e4f11b8cc2e4c34f4414a",
            "64e920e3f2fc4bbab3224098a8c48b95",
            "822d83aa6d664655a23591c7dc7185b6",
            "a36facfef21e4c2faafa13a9c2cccea4",
            "c9ef997102c740f99660c9c1c1e3a4b6"
          ]
        },
        "id": "Fsd-mtOOtr4u",
        "outputId": "6094a221-3110-4a01-bf6c-a3c73e9a2220"
      },
      "execution_count": null,
      "outputs": [
        {
          "output_type": "display_data",
          "data": {
            "text/plain": [
              "  0%|          | 0/50 [00:00<?, ?it/s]"
            ],
            "application/vnd.jupyter.widget-view+json": {
              "version_major": 2,
              "version_minor": 0,
              "model_id": "a4a7da145aea4b47b93c50edab2e1d7a"
            }
          },
          "metadata": {}
        }
      ]
    },
    {
      "cell_type": "markdown",
      "source": [
        "# Find Similar Items\n",
        "\n"
      ],
      "metadata": {
        "id": "_2fEwXQjtx0A"
      }
    },
    {
      "cell_type": "code",
      "source": [
        "# Find the 10 most similar to item id\n",
        "item_id = 85 \n",
        "n_similar = 10\n",
        "\n",
        "# Use implicit to get similar items.\n",
        "similar = model.similar_items(item_id, n_similar)\n",
        "\n",
        "idx = similar[0]\n",
        "score = similar[1]\n",
        "\n",
        "# Print the names of our most similar artists\n",
        "for i in range(len(idx)):\n",
        "  print(train_df['article_id'].loc[train_df['item_id'] == idx[i]].head(1))"
      ],
      "metadata": {
        "colab": {
          "base_uri": "https://localhost:8080/"
        },
        "id": "OSB04GHztzCr",
        "outputId": "9d561a33-15d0-4002-df7f-acb48a967a2f"
      },
      "execution_count": null,
      "outputs": [
        {
          "output_type": "stream",
          "name": "stdout",
          "text": [
            "1452682    399201002\n",
            "Name: article_id, dtype: int64\n",
            "736108    399201020\n",
            "Name: article_id, dtype: int64\n",
            "364917    399201005\n",
            "Name: article_id, dtype: int64\n",
            "737940    399201026\n",
            "Name: article_id, dtype: int64\n",
            "1412647    399201023\n",
            "Name: article_id, dtype: int64\n",
            "129133    399201022\n",
            "Name: article_id, dtype: int64\n",
            "990193    399201024\n",
            "Name: article_id, dtype: int64\n",
            "605929    399136009\n",
            "Name: article_id, dtype: int64\n",
            "998296    399136061\n",
            "Name: article_id, dtype: int64\n",
            "1492674    399136033\n",
            "Name: article_id, dtype: int64\n"
          ]
        }
      ]
    },
    {
      "cell_type": "markdown",
      "source": [
        "# Recommendations"
      ],
      "metadata": {
        "id": "2D2ODFObtwyL"
      }
    },
    {
      "cell_type": "markdown",
      "source": [
        "An example using one user id. "
      ],
      "metadata": {
        "id": "9eb5pY7JyTOX"
      }
    },
    {
      "cell_type": "code",
      "source": [
        "# Create recommendations for user with id 2025\n",
        "user_id = 72945\n",
        "\n",
        "# Use the implicit recommender.\n",
        "recommended = model.recommend(user_id, train_ui[user_id],\n",
        "                              filter_already_liked_items=True)\n",
        "\n",
        "articles = []\n",
        "scores = []\n",
        "\n",
        "idx = recommended[0]\n",
        "score = recommended[1]\n",
        "\n",
        "# Get artist names from ids\n",
        "for i in range(len(idx)):\n",
        "  articles.append(train_df['article_id'].loc[train_df['item_id'] == idx[i]].iloc[0])\n",
        "  scores.append(score[i])\n",
        "\n",
        "# Create a dataframe of artist names and scores\n",
        "recommendations = pd.DataFrame({'user_id':user_id,'articles': articles, 'score': scores})\n",
        "\n",
        "print(recommendations)"
      ],
      "metadata": {
        "colab": {
          "base_uri": "https://localhost:8080/"
        },
        "id": "_KvKhz0mySU0",
        "outputId": "6c96a202-42d9-4b5c-edae-979dda7f6b1c"
      },
      "execution_count": null,
      "outputs": [
        {
          "output_type": "stream",
          "name": "stdout",
          "text": [
            "   user_id   articles     score\n",
            "0    72945  507910001  0.204355\n",
            "1    72945  568601006  0.179209\n",
            "2    72945  507909001  0.170565\n",
            "3    72945  573716012  0.161125\n",
            "4    72945  539723005  0.154264\n",
            "5    72945  507909003  0.133605\n",
            "6    72945  539723001  0.128036\n",
            "7    72945  399256001  0.115379\n",
            "8    72945  673677002  0.112244\n",
            "9    72945  568597006  0.104448\n"
          ]
        }
      ]
    },
    {
      "cell_type": "markdown",
      "source": [
        "On all train IDs"
      ],
      "metadata": {
        "id": "nwryI8v1K5_K"
      }
    },
    {
      "cell_type": "code",
      "source": [
        "# number of products to recommend\n",
        "n_recs = 10\n",
        "\n",
        "# user ids\n",
        "user_ids = np.array(train_df['user_id'])\n",
        "\n",
        "# use the implicit recommender \n",
        "recommended = model.recommend(user_ids, train_ui[user_ids], filter_already_liked_items=False)"
      ],
      "metadata": {
        "id": "fLDdiqpc0S-B"
      },
      "execution_count": null,
      "outputs": []
    },
    {
      "cell_type": "markdown",
      "source": [
        "Create dataframe to store recommendations"
      ],
      "metadata": {
        "id": "4TWgYfo9UY5n"
      }
    },
    {
      "cell_type": "code",
      "source": [
        "# convert item_id to article_id\n",
        "rec_article_ids = np.ndarray(recommended[0].shape)\n",
        "for k in item_art:\n",
        "  rec_article_ids[recommended[0] == k] = item_art[k]\n",
        "\n",
        "# get items\n",
        "item_rec_df = pd.DataFrame(rec_article_ids, columns=['rec_' + str(n+1) for n in range(n_recs)])\n",
        "item_rec_df = item_rec_df.astype({'rec_1': int, 'rec_2': int, 'rec_3': int, 'rec_4': int,\n",
        "                                  'rec_5': int, 'rec_6': int, 'rec_7': int, 'rec_8': int,\n",
        "                                  'rec_9': int, 'rec_10': int,})\n",
        "\n",
        "# add user id\n",
        "item_rec_df.insert(0, 'user_id', user_ids)\n",
        "\n",
        "# get scores in a df, add user_id\n",
        "score_rec_df = pd.DataFrame(recommended[1], columns=['score_' + str(n+1) for n in range(n_recs)])\n",
        "score_rec_df.insert(0, 'user_id', user_ids)\n",
        "\n",
        "# merge dataframes by user_id\n",
        "train_rec_df = item_rec_df.merge(score_rec_df, how=\"inner\", on=\"user_id\")\n",
        "\n",
        "# map user_id to customer_id\n",
        "train_rec_df.insert(0, 'customer_id', train_rec_df['user_id'].map(user_cust))\n",
        "train_rec_df.drop('user_id', axis=1, inplace=True)\n",
        "\n",
        "train_rec_df = train_rec_df.drop_duplicates('customer_id',inplace=False)"
      ],
      "metadata": {
        "id": "YX2uShf0OBAB"
      },
      "execution_count": null,
      "outputs": []
    },
    {
      "cell_type": "code",
      "source": [
        "len(train_rec_df)"
      ],
      "metadata": {
        "colab": {
          "base_uri": "https://localhost:8080/"
        },
        "id": "btKNriPbLm2h",
        "outputId": "5ef0999b-9826-4df3-dff3-8515021a6f94"
      },
      "execution_count": null,
      "outputs": [
        {
          "output_type": "execute_result",
          "data": {
            "text/plain": [
              "390826"
            ]
          },
          "metadata": {},
          "execution_count": 23
        }
      ]
    },
    {
      "cell_type": "code",
      "source": [
        "# above matches len for nunique users in train\n",
        "print(train_df['customer_id'].nunique())"
      ],
      "metadata": {
        "colab": {
          "base_uri": "https://localhost:8080/"
        },
        "id": "aIQZzsoTLq23",
        "outputId": "6573b6db-692c-47ef-9f51-621aaeef8ca1"
      },
      "execution_count": null,
      "outputs": [
        {
          "output_type": "stream",
          "name": "stdout",
          "text": [
            "390826\n"
          ]
        }
      ]
    },
    {
      "cell_type": "markdown",
      "source": [
        "Test"
      ],
      "metadata": {
        "id": "In-RrbiEFmw-"
      }
    },
    {
      "cell_type": "code",
      "source": [
        "# number of products to recommend\n",
        "n_recs = 5\n",
        "\n",
        "# user ids\n",
        "user_ids = np.array(test_df['user_id'].unique())\n",
        "\n",
        "# use the implicit recommender \n",
        "recommended = model.recommend(user_ids, test_ui[user_ids], N=n_recs,\n",
        "                              recalculate_user=False,\n",
        "                              filter_already_liked_items=False)\n",
        "\n",
        "#### make dataframe #####################################\n",
        "\n",
        "# convert item_id to article_id\n",
        "rec_article_ids = np.ndarray(recommended[0].shape)\n",
        "for k in item_art:\n",
        "  rec_article_ids[recommended[0] == k] = item_art[k]\n",
        "\n",
        "# get items\n",
        "item_rec_df = pd.DataFrame(rec_article_ids, columns=['rec_' + str(n+1) for n in range(n_recs)])\n",
        "item_rec_df = item_rec_df.astype({'rec_1': int, 'rec_2': int, 'rec_3': int, 'rec_4': int,\n",
        "                                  'rec_5': int, })\n",
        "                                  #'rec_6': int, 'rec_7': int, 'rec_8': int,\n",
        "                                  #'rec_9': int, 'rec_10': int,})\n",
        "                                  #'rec_11': int, 'rec_12': int,'rec_13': int, 'rec_14': int,\n",
        "                                  #'rec_15': int, 'rec_16': int, 'rec_17': int, 'rec_18': int,\n",
        "                                  #'rec_19': int, 'rec_20': int,})\n",
        "\n",
        "# add user id\n",
        "item_rec_df.insert(0, 'user_id', user_ids)\n",
        "\n",
        "# get scores in a df, add user_id\n",
        "score_rec_df = pd.DataFrame(recommended[1], columns=['score_' + str(n+1) for n in range(n_recs)])\n",
        "score_rec_df.insert(0, 'user_id', user_ids)\n",
        "\n",
        "# merge dataframes by user_id\n",
        "test_rec_df = item_rec_df.merge(score_rec_df, how=\"inner\", on=\"user_id\")\n",
        "\n",
        "# map user_id to customer_id\n",
        "test_rec_df.insert(0, 'customer_id', test_rec_df['user_id'].map(user_cust))\n",
        "test_rec_df.drop('user_id', axis=1, inplace=True)\n",
        "\n",
        "test_rec_df = test_rec_df.drop_duplicates('customer_id',inplace=False)"
      ],
      "metadata": {
        "id": "KADeVV2rFoRO"
      },
      "execution_count": null,
      "outputs": []
    },
    {
      "cell_type": "code",
      "source": [
        "len(test_rec_df)"
      ],
      "metadata": {
        "colab": {
          "base_uri": "https://localhost:8080/"
        },
        "id": "w9xE5p1tIA0M",
        "outputId": "7527338a-7920-4ece-af99-8c7f8d30bfb8"
      },
      "execution_count": null,
      "outputs": [
        {
          "output_type": "execute_result",
          "data": {
            "text/plain": [
              "286521"
            ]
          },
          "metadata": {},
          "execution_count": 26
        }
      ]
    },
    {
      "cell_type": "code",
      "source": [
        "# above matches len for nunique users in train\n",
        "print(test_df['customer_id'].nunique())"
      ],
      "metadata": {
        "colab": {
          "base_uri": "https://localhost:8080/"
        },
        "id": "t4dfodQ-IICV",
        "outputId": "30288fe9-a11f-43c3-82c0-a8b9fde41043"
      },
      "execution_count": null,
      "outputs": [
        {
          "output_type": "stream",
          "name": "stdout",
          "text": [
            "286521\n"
          ]
        }
      ]
    },
    {
      "cell_type": "markdown",
      "source": [
        "# Evaluate "
      ],
      "metadata": {
        "id": "BHRy7FUaWudv"
      }
    },
    {
      "cell_type": "markdown",
      "source": [
        "Built in function (not sure if this is exactly right)"
      ],
      "metadata": {
        "id": "ef3io684uWKf"
      }
    },
    {
      "cell_type": "code",
      "source": [
        "# k = 10\n",
        "ranking_metrics_at_k(model, train_ui, test_ui, K=10, show_progress=True, num_threads=1)"
      ],
      "metadata": {
        "id": "lQ4_c1-hWv9j",
        "colab": {
          "base_uri": "https://localhost:8080/",
          "height": 118,
          "referenced_widgets": [
            "d9f7ba24a3d142e1b952b92408b0370c",
            "32cd36fb2ee848a7890e25fe9664a4fa",
            "8e67b1a9c36643938c6ebcf2fb81a5a3",
            "99290e313b3048448aa167ce482296a2",
            "1ee73db677a64971bb8c6cd0c8376fd5",
            "b341b5ac57984b1eb10a6dcfbc23b0a9",
            "5e05c0101bd74dc3bf8c0226a0301908",
            "2cce1ac59ea84ab1a3cc3851dd5084e6",
            "c6ab4cbdebf5427ab74c8e3b76f82e4b",
            "51631394f20245449ce8a9fcb5027f2f",
            "37ad05d6f29d4b208fb16bca0df81673"
          ]
        },
        "outputId": "fb0f3f7a-7348-4422-aa57-7b6c65db05f6"
      },
      "execution_count": null,
      "outputs": [
        {
          "output_type": "display_data",
          "data": {
            "text/plain": [
              "  0%|          | 0/286521 [00:00<?, ?it/s]"
            ],
            "application/vnd.jupyter.widget-view+json": {
              "version_major": 2,
              "version_minor": 0,
              "model_id": "d9f7ba24a3d142e1b952b92408b0370c"
            }
          },
          "metadata": {}
        },
        {
          "output_type": "execute_result",
          "data": {
            "text/plain": [
              "{'auc': 0.5461308374079085,\n",
              " 'map': 0.0432126812800124,\n",
              " 'ndcg': 0.06040387611492828,\n",
              " 'precision': 0.09093211693927866}"
            ]
          },
          "metadata": {},
          "execution_count": 28
        }
      ]
    },
    {
      "cell_type": "code",
      "source": [
        "# k = 20 same, k = 100 same auc but precision increases\n",
        "ranking_metrics_at_k(model, train_ui, test_ui, K=100, show_progress=True, num_threads=1)"
      ],
      "metadata": {
        "colab": {
          "base_uri": "https://localhost:8080/",
          "height": 118,
          "referenced_widgets": [
            "1d7573718508491aa58601c4966953fd",
            "5f59e0b6d4944c63953da768e33f0c89",
            "79dcb1146d7d4c8c81597e66ec5b81f7",
            "6e21fc4cafbc4e79b49f97aa9531aca2",
            "5f789ab92b9446e8a8add8ab3045e189",
            "71395482fd444418a37e148b8273dc1b",
            "5f44058cd9a44feb89331c316fdb84fb",
            "18081c0fea4f4684a49bcbc0f497ac71",
            "f90a22f5dfe2416489b6f5a993ca0a46",
            "736dbf601ca842ca81afaf8a9fb29b43",
            "a0631cd2e1994143bead7679864a95ab"
          ]
        },
        "id": "gscd4Lw4ux3r",
        "outputId": "bdfa4901-5b24-4c51-e8a6-2e773124d502"
      },
      "execution_count": null,
      "outputs": [
        {
          "output_type": "display_data",
          "data": {
            "text/plain": [
              "  0%|          | 0/286521 [00:00<?, ?it/s]"
            ],
            "application/vnd.jupyter.widget-view+json": {
              "version_major": 2,
              "version_minor": 0,
              "model_id": "1d7573718508491aa58601c4966953fd"
            }
          },
          "metadata": {}
        },
        {
          "output_type": "execute_result",
          "data": {
            "text/plain": [
              "{'auc': 0.6084337117159164,\n",
              " 'map': 0.05038062438925609,\n",
              " 'ndcg': 0.10373796300881959,\n",
              " 'precision': 0.28602300291308336}"
            ]
          },
          "metadata": {},
          "execution_count": 29
        }
      ]
    },
    {
      "cell_type": "markdown",
      "source": [
        "Manual"
      ],
      "metadata": {
        "id": "1G4_ZRpOubGM"
      }
    },
    {
      "cell_type": "markdown",
      "source": [
        "Get df with customer_id and predictions"
      ],
      "metadata": {
        "id": "NfpDfRlK0nlF"
      }
    },
    {
      "cell_type": "code",
      "source": [
        "test_rec_df['test_recs'] = test_rec_df[['rec_'+str(n+1) for n in range(n_recs)]].values.tolist()\n",
        "train_rec_df['train_recs'] = train_rec_df[['rec_'+str(n+1) for n in range(n_recs)]].values.tolist()\n",
        "test_recs = test_rec_df[['customer_id', 'test_recs']]\n",
        "train_recs = train_rec_df[['customer_id', 'train_recs']]"
      ],
      "metadata": {
        "id": "S8gVDEIwvKhD"
      },
      "execution_count": null,
      "outputs": []
    },
    {
      "cell_type": "markdown",
      "source": [
        "Get df with customer_id and true purchases"
      ],
      "metadata": {
        "id": "t9MqI8Qa0pk9"
      }
    },
    {
      "cell_type": "code",
      "source": [
        "train_true = train_df.groupby('customer_id').agg({\"article_id\": lambda x: list(x)}).reset_index()\n",
        "test_true = test_df.groupby('customer_id').agg({\"article_id\": lambda x: list(x)}).reset_index()"
      ],
      "metadata": {
        "id": "2fDLXqjOzo8N"
      },
      "execution_count": null,
      "outputs": []
    },
    {
      "cell_type": "markdown",
      "source": [
        "Get number of correct predictions divided by total number of actual purchases"
      ],
      "metadata": {
        "id": "de34j90o0_fN"
      }
    },
    {
      "cell_type": "code",
      "source": [
        "train_acc = train_true.merge(train_recs, how = \"left\", on = \"customer_id\")\n",
        "train_acc['correct_preds'] =  [set(a).intersection(b) for a, b in zip(train_acc['article_id'], train_acc['train_recs'])]\n",
        "train_acc['num_correct'] = train_acc['correct_preds'].apply(len)\n",
        "train_acc.head()"
      ],
      "metadata": {
        "id": "iRWK7VHB1HFZ",
        "colab": {
          "base_uri": "https://localhost:8080/",
          "height": 206
        },
        "outputId": "d9fb60f9-4598-4c4c-9edf-f45fe191296b"
      },
      "execution_count": null,
      "outputs": [
        {
          "output_type": "execute_result",
          "data": {
            "text/plain": [
              "                                         customer_id  \\\n",
              "0  0000423b00ade91418cceaf3b26c6af3dd342b51fd051e...   \n",
              "1  00007d2de826758b65a93dd24ce629ed66842531df6699...   \n",
              "2  00008469a21b50b3d147c97135e25b4201a8c58997f787...   \n",
              "3  00009d946eec3ea54add5ba56d5210ea898def4b46c685...   \n",
              "4  0000b2f1829e23b24feec422ef13df3ccedaedc85368e6...   \n",
              "\n",
              "                                          article_id  \\\n",
              "0                             [666448006, 673677002]   \n",
              "1  [351933001, 444325004, 478549001, 572187001, 6...   \n",
              "2                             [673677001, 673677004]   \n",
              "3  [573085010, 573085028, 573716053, 573716054, 6...   \n",
              "4                                        [591334019]   \n",
              "\n",
              "                                          train_recs correct_preds  \\\n",
              "0  [673677002, 507910001, 372860001, 537116001, 5...   {673677002}   \n",
              "1  [355072002, 615141002, 355569001, 589222001, 3...            {}   \n",
              "2  [673677002, 507910001, 537116001, 507909001, 3...            {}   \n",
              "3  [706016001, 706016002, 539723005, 712587003, 5...            {}   \n",
              "4  [507910001, 673677002, 507909001, 579541001, 6...            {}   \n",
              "\n",
              "   num_correct  \n",
              "0            1  \n",
              "1            0  \n",
              "2            0  \n",
              "3            0  \n",
              "4            0  "
            ],
            "text/html": [
              "\n",
              "  <div id=\"df-c204677a-421e-4a84-9125-0a69ed23e4c4\">\n",
              "    <div class=\"colab-df-container\">\n",
              "      <div>\n",
              "<style scoped>\n",
              "    .dataframe tbody tr th:only-of-type {\n",
              "        vertical-align: middle;\n",
              "    }\n",
              "\n",
              "    .dataframe tbody tr th {\n",
              "        vertical-align: top;\n",
              "    }\n",
              "\n",
              "    .dataframe thead th {\n",
              "        text-align: right;\n",
              "    }\n",
              "</style>\n",
              "<table border=\"1\" class=\"dataframe\">\n",
              "  <thead>\n",
              "    <tr style=\"text-align: right;\">\n",
              "      <th></th>\n",
              "      <th>customer_id</th>\n",
              "      <th>article_id</th>\n",
              "      <th>train_recs</th>\n",
              "      <th>correct_preds</th>\n",
              "      <th>num_correct</th>\n",
              "    </tr>\n",
              "  </thead>\n",
              "  <tbody>\n",
              "    <tr>\n",
              "      <th>0</th>\n",
              "      <td>0000423b00ade91418cceaf3b26c6af3dd342b51fd051e...</td>\n",
              "      <td>[666448006, 673677002]</td>\n",
              "      <td>[673677002, 507910001, 372860001, 537116001, 5...</td>\n",
              "      <td>{673677002}</td>\n",
              "      <td>1</td>\n",
              "    </tr>\n",
              "    <tr>\n",
              "      <th>1</th>\n",
              "      <td>00007d2de826758b65a93dd24ce629ed66842531df6699...</td>\n",
              "      <td>[351933001, 444325004, 478549001, 572187001, 6...</td>\n",
              "      <td>[355072002, 615141002, 355569001, 589222001, 3...</td>\n",
              "      <td>{}</td>\n",
              "      <td>0</td>\n",
              "    </tr>\n",
              "    <tr>\n",
              "      <th>2</th>\n",
              "      <td>00008469a21b50b3d147c97135e25b4201a8c58997f787...</td>\n",
              "      <td>[673677001, 673677004]</td>\n",
              "      <td>[673677002, 507910001, 537116001, 507909001, 3...</td>\n",
              "      <td>{}</td>\n",
              "      <td>0</td>\n",
              "    </tr>\n",
              "    <tr>\n",
              "      <th>3</th>\n",
              "      <td>00009d946eec3ea54add5ba56d5210ea898def4b46c685...</td>\n",
              "      <td>[573085010, 573085028, 573716053, 573716054, 6...</td>\n",
              "      <td>[706016001, 706016002, 539723005, 712587003, 5...</td>\n",
              "      <td>{}</td>\n",
              "      <td>0</td>\n",
              "    </tr>\n",
              "    <tr>\n",
              "      <th>4</th>\n",
              "      <td>0000b2f1829e23b24feec422ef13df3ccedaedc85368e6...</td>\n",
              "      <td>[591334019]</td>\n",
              "      <td>[507910001, 673677002, 507909001, 579541001, 6...</td>\n",
              "      <td>{}</td>\n",
              "      <td>0</td>\n",
              "    </tr>\n",
              "  </tbody>\n",
              "</table>\n",
              "</div>\n",
              "      <button class=\"colab-df-convert\" onclick=\"convertToInteractive('df-c204677a-421e-4a84-9125-0a69ed23e4c4')\"\n",
              "              title=\"Convert this dataframe to an interactive table.\"\n",
              "              style=\"display:none;\">\n",
              "        \n",
              "  <svg xmlns=\"http://www.w3.org/2000/svg\" height=\"24px\"viewBox=\"0 0 24 24\"\n",
              "       width=\"24px\">\n",
              "    <path d=\"M0 0h24v24H0V0z\" fill=\"none\"/>\n",
              "    <path d=\"M18.56 5.44l.94 2.06.94-2.06 2.06-.94-2.06-.94-.94-2.06-.94 2.06-2.06.94zm-11 1L8.5 8.5l.94-2.06 2.06-.94-2.06-.94L8.5 2.5l-.94 2.06-2.06.94zm10 10l.94 2.06.94-2.06 2.06-.94-2.06-.94-.94-2.06-.94 2.06-2.06.94z\"/><path d=\"M17.41 7.96l-1.37-1.37c-.4-.4-.92-.59-1.43-.59-.52 0-1.04.2-1.43.59L10.3 9.45l-7.72 7.72c-.78.78-.78 2.05 0 2.83L4 21.41c.39.39.9.59 1.41.59.51 0 1.02-.2 1.41-.59l7.78-7.78 2.81-2.81c.8-.78.8-2.07 0-2.86zM5.41 20L4 18.59l7.72-7.72 1.47 1.35L5.41 20z\"/>\n",
              "  </svg>\n",
              "      </button>\n",
              "      \n",
              "  <style>\n",
              "    .colab-df-container {\n",
              "      display:flex;\n",
              "      flex-wrap:wrap;\n",
              "      gap: 12px;\n",
              "    }\n",
              "\n",
              "    .colab-df-convert {\n",
              "      background-color: #E8F0FE;\n",
              "      border: none;\n",
              "      border-radius: 50%;\n",
              "      cursor: pointer;\n",
              "      display: none;\n",
              "      fill: #1967D2;\n",
              "      height: 32px;\n",
              "      padding: 0 0 0 0;\n",
              "      width: 32px;\n",
              "    }\n",
              "\n",
              "    .colab-df-convert:hover {\n",
              "      background-color: #E2EBFA;\n",
              "      box-shadow: 0px 1px 2px rgba(60, 64, 67, 0.3), 0px 1px 3px 1px rgba(60, 64, 67, 0.15);\n",
              "      fill: #174EA6;\n",
              "    }\n",
              "\n",
              "    [theme=dark] .colab-df-convert {\n",
              "      background-color: #3B4455;\n",
              "      fill: #D2E3FC;\n",
              "    }\n",
              "\n",
              "    [theme=dark] .colab-df-convert:hover {\n",
              "      background-color: #434B5C;\n",
              "      box-shadow: 0px 1px 3px 1px rgba(0, 0, 0, 0.15);\n",
              "      filter: drop-shadow(0px 1px 2px rgba(0, 0, 0, 0.3));\n",
              "      fill: #FFFFFF;\n",
              "    }\n",
              "  </style>\n",
              "\n",
              "      <script>\n",
              "        const buttonEl =\n",
              "          document.querySelector('#df-c204677a-421e-4a84-9125-0a69ed23e4c4 button.colab-df-convert');\n",
              "        buttonEl.style.display =\n",
              "          google.colab.kernel.accessAllowed ? 'block' : 'none';\n",
              "\n",
              "        async function convertToInteractive(key) {\n",
              "          const element = document.querySelector('#df-c204677a-421e-4a84-9125-0a69ed23e4c4');\n",
              "          const dataTable =\n",
              "            await google.colab.kernel.invokeFunction('convertToInteractive',\n",
              "                                                     [key], {});\n",
              "          if (!dataTable) return;\n",
              "\n",
              "          const docLinkHtml = 'Like what you see? Visit the ' +\n",
              "            '<a target=\"_blank\" href=https://colab.research.google.com/notebooks/data_table.ipynb>data table notebook</a>'\n",
              "            + ' to learn more about interactive tables.';\n",
              "          element.innerHTML = '';\n",
              "          dataTable['output_type'] = 'display_data';\n",
              "          await google.colab.output.renderOutput(dataTable, element);\n",
              "          const docLink = document.createElement('div');\n",
              "          docLink.innerHTML = docLinkHtml;\n",
              "          element.appendChild(docLink);\n",
              "        }\n",
              "      </script>\n",
              "    </div>\n",
              "  </div>\n",
              "  "
            ]
          },
          "metadata": {},
          "execution_count": 32
        }
      ]
    },
    {
      "cell_type": "markdown",
      "source": [
        "Metrics\n",
        "\n",
        "* number of correct recommendations\n",
        "* precision (num correct recs / total purchases)\n",
        "* recall (num correct recs / total recs)"
      ],
      "metadata": {
        "id": "W6BdESYR7FYD"
      }
    },
    {
      "cell_type": "code",
      "source": [
        "print('avg number of correct recs:', train_acc['num_correct'].mean())\n",
        "train_acc['corr'] = (train_acc['num_correct']>0)*1\n",
        "print('accuracy', train_acc['corr'].sum()/len(train_acc))\n",
        "print('precision:', train_acc['num_correct'].sum() / sum(train_acc['article_id'].map(len)))\n",
        "print('recall:', train_acc['num_correct'].sum() / sum(train_acc['train_recs'].map(len)))"
      ],
      "metadata": {
        "colab": {
          "base_uri": "https://localhost:8080/"
        },
        "id": "eC-N6UGQ7CRD",
        "outputId": "acf15d68-fe27-4d2e-f16a-76b646d78954"
      },
      "execution_count": null,
      "outputs": [
        {
          "output_type": "stream",
          "name": "stdout",
          "text": [
            "avg number of correct recs: 0.7910527958733554\n",
            "accuracy 0.5958150174246339\n",
            "precision: 0.20446732440679716\n",
            "recall: 0.15821055917467108\n"
          ]
        }
      ]
    },
    {
      "cell_type": "markdown",
      "source": [
        "For test"
      ],
      "metadata": {
        "id": "p5jiW7E58sR8"
      }
    },
    {
      "cell_type": "code",
      "source": [
        "test_acc = test_true.merge(test_recs, how = \"left\", on = \"customer_id\")\n",
        "test_acc['correct_preds'] =  [set(a).intersection(b) for a, b in zip(test_acc['article_id'], test_acc['test_recs'])]\n",
        "test_acc['num_correct'] = test_acc['correct_preds'].apply(len)\n",
        "test_acc.head()"
      ],
      "metadata": {
        "colab": {
          "base_uri": "https://localhost:8080/",
          "height": 206
        },
        "id": "UQLdhv2U4bhg",
        "outputId": "79595e30-07f5-443a-8108-4dae72c6fa78"
      },
      "execution_count": null,
      "outputs": [
        {
          "output_type": "execute_result",
          "data": {
            "text/plain": [
              "                                         customer_id  \\\n",
              "0  0000423b00ade91418cceaf3b26c6af3dd342b51fd051e...   \n",
              "1  00007d2de826758b65a93dd24ce629ed66842531df6699...   \n",
              "2  00009d946eec3ea54add5ba56d5210ea898def4b46c685...   \n",
              "3  0000f1c71aafe5963c3d195cf273f7bfd50bbf17761c91...   \n",
              "4  0000f2ea26b7f0a9175f428c8cf7743e9e10e193465ecd...   \n",
              "\n",
              "                          article_id  \\\n",
              "0                        [666448006]   \n",
              "1  [671502001, 681376001, 685687001]   \n",
              "2  [573085010, 636455003, 684210001]   \n",
              "3                        [632982036]   \n",
              "4                        [562245059]   \n",
              "\n",
              "                                           test_recs correct_preds  \\\n",
              "0  [673677002, 507910001, 372860001, 537116001, 5...            {}   \n",
              "1  [355072002, 615141002, 355569001, 589222001, 3...            {}   \n",
              "2  [706016001, 706016002, 539723005, 712587003, 5...            {}   \n",
              "3  [673677002, 372860001, 537116001, 673396002, 6...            {}   \n",
              "4  [615141002, 673396002, 708352001, 692454002, 6...            {}   \n",
              "\n",
              "   num_correct  \n",
              "0            0  \n",
              "1            0  \n",
              "2            0  \n",
              "3            0  \n",
              "4            0  "
            ],
            "text/html": [
              "\n",
              "  <div id=\"df-067380e2-4f58-4995-94bb-d931fa8a5417\">\n",
              "    <div class=\"colab-df-container\">\n",
              "      <div>\n",
              "<style scoped>\n",
              "    .dataframe tbody tr th:only-of-type {\n",
              "        vertical-align: middle;\n",
              "    }\n",
              "\n",
              "    .dataframe tbody tr th {\n",
              "        vertical-align: top;\n",
              "    }\n",
              "\n",
              "    .dataframe thead th {\n",
              "        text-align: right;\n",
              "    }\n",
              "</style>\n",
              "<table border=\"1\" class=\"dataframe\">\n",
              "  <thead>\n",
              "    <tr style=\"text-align: right;\">\n",
              "      <th></th>\n",
              "      <th>customer_id</th>\n",
              "      <th>article_id</th>\n",
              "      <th>test_recs</th>\n",
              "      <th>correct_preds</th>\n",
              "      <th>num_correct</th>\n",
              "    </tr>\n",
              "  </thead>\n",
              "  <tbody>\n",
              "    <tr>\n",
              "      <th>0</th>\n",
              "      <td>0000423b00ade91418cceaf3b26c6af3dd342b51fd051e...</td>\n",
              "      <td>[666448006]</td>\n",
              "      <td>[673677002, 507910001, 372860001, 537116001, 5...</td>\n",
              "      <td>{}</td>\n",
              "      <td>0</td>\n",
              "    </tr>\n",
              "    <tr>\n",
              "      <th>1</th>\n",
              "      <td>00007d2de826758b65a93dd24ce629ed66842531df6699...</td>\n",
              "      <td>[671502001, 681376001, 685687001]</td>\n",
              "      <td>[355072002, 615141002, 355569001, 589222001, 3...</td>\n",
              "      <td>{}</td>\n",
              "      <td>0</td>\n",
              "    </tr>\n",
              "    <tr>\n",
              "      <th>2</th>\n",
              "      <td>00009d946eec3ea54add5ba56d5210ea898def4b46c685...</td>\n",
              "      <td>[573085010, 636455003, 684210001]</td>\n",
              "      <td>[706016001, 706016002, 539723005, 712587003, 5...</td>\n",
              "      <td>{}</td>\n",
              "      <td>0</td>\n",
              "    </tr>\n",
              "    <tr>\n",
              "      <th>3</th>\n",
              "      <td>0000f1c71aafe5963c3d195cf273f7bfd50bbf17761c91...</td>\n",
              "      <td>[632982036]</td>\n",
              "      <td>[673677002, 372860001, 537116001, 673396002, 6...</td>\n",
              "      <td>{}</td>\n",
              "      <td>0</td>\n",
              "    </tr>\n",
              "    <tr>\n",
              "      <th>4</th>\n",
              "      <td>0000f2ea26b7f0a9175f428c8cf7743e9e10e193465ecd...</td>\n",
              "      <td>[562245059]</td>\n",
              "      <td>[615141002, 673396002, 708352001, 692454002, 6...</td>\n",
              "      <td>{}</td>\n",
              "      <td>0</td>\n",
              "    </tr>\n",
              "  </tbody>\n",
              "</table>\n",
              "</div>\n",
              "      <button class=\"colab-df-convert\" onclick=\"convertToInteractive('df-067380e2-4f58-4995-94bb-d931fa8a5417')\"\n",
              "              title=\"Convert this dataframe to an interactive table.\"\n",
              "              style=\"display:none;\">\n",
              "        \n",
              "  <svg xmlns=\"http://www.w3.org/2000/svg\" height=\"24px\"viewBox=\"0 0 24 24\"\n",
              "       width=\"24px\">\n",
              "    <path d=\"M0 0h24v24H0V0z\" fill=\"none\"/>\n",
              "    <path d=\"M18.56 5.44l.94 2.06.94-2.06 2.06-.94-2.06-.94-.94-2.06-.94 2.06-2.06.94zm-11 1L8.5 8.5l.94-2.06 2.06-.94-2.06-.94L8.5 2.5l-.94 2.06-2.06.94zm10 10l.94 2.06.94-2.06 2.06-.94-2.06-.94-.94-2.06-.94 2.06-2.06.94z\"/><path d=\"M17.41 7.96l-1.37-1.37c-.4-.4-.92-.59-1.43-.59-.52 0-1.04.2-1.43.59L10.3 9.45l-7.72 7.72c-.78.78-.78 2.05 0 2.83L4 21.41c.39.39.9.59 1.41.59.51 0 1.02-.2 1.41-.59l7.78-7.78 2.81-2.81c.8-.78.8-2.07 0-2.86zM5.41 20L4 18.59l7.72-7.72 1.47 1.35L5.41 20z\"/>\n",
              "  </svg>\n",
              "      </button>\n",
              "      \n",
              "  <style>\n",
              "    .colab-df-container {\n",
              "      display:flex;\n",
              "      flex-wrap:wrap;\n",
              "      gap: 12px;\n",
              "    }\n",
              "\n",
              "    .colab-df-convert {\n",
              "      background-color: #E8F0FE;\n",
              "      border: none;\n",
              "      border-radius: 50%;\n",
              "      cursor: pointer;\n",
              "      display: none;\n",
              "      fill: #1967D2;\n",
              "      height: 32px;\n",
              "      padding: 0 0 0 0;\n",
              "      width: 32px;\n",
              "    }\n",
              "\n",
              "    .colab-df-convert:hover {\n",
              "      background-color: #E2EBFA;\n",
              "      box-shadow: 0px 1px 2px rgba(60, 64, 67, 0.3), 0px 1px 3px 1px rgba(60, 64, 67, 0.15);\n",
              "      fill: #174EA6;\n",
              "    }\n",
              "\n",
              "    [theme=dark] .colab-df-convert {\n",
              "      background-color: #3B4455;\n",
              "      fill: #D2E3FC;\n",
              "    }\n",
              "\n",
              "    [theme=dark] .colab-df-convert:hover {\n",
              "      background-color: #434B5C;\n",
              "      box-shadow: 0px 1px 3px 1px rgba(0, 0, 0, 0.15);\n",
              "      filter: drop-shadow(0px 1px 2px rgba(0, 0, 0, 0.3));\n",
              "      fill: #FFFFFF;\n",
              "    }\n",
              "  </style>\n",
              "\n",
              "      <script>\n",
              "        const buttonEl =\n",
              "          document.querySelector('#df-067380e2-4f58-4995-94bb-d931fa8a5417 button.colab-df-convert');\n",
              "        buttonEl.style.display =\n",
              "          google.colab.kernel.accessAllowed ? 'block' : 'none';\n",
              "\n",
              "        async function convertToInteractive(key) {\n",
              "          const element = document.querySelector('#df-067380e2-4f58-4995-94bb-d931fa8a5417');\n",
              "          const dataTable =\n",
              "            await google.colab.kernel.invokeFunction('convertToInteractive',\n",
              "                                                     [key], {});\n",
              "          if (!dataTable) return;\n",
              "\n",
              "          const docLinkHtml = 'Like what you see? Visit the ' +\n",
              "            '<a target=\"_blank\" href=https://colab.research.google.com/notebooks/data_table.ipynb>data table notebook</a>'\n",
              "            + ' to learn more about interactive tables.';\n",
              "          element.innerHTML = '';\n",
              "          dataTable['output_type'] = 'display_data';\n",
              "          await google.colab.output.renderOutput(dataTable, element);\n",
              "          const docLink = document.createElement('div');\n",
              "          docLink.innerHTML = docLinkHtml;\n",
              "          element.appendChild(docLink);\n",
              "        }\n",
              "      </script>\n",
              "    </div>\n",
              "  </div>\n",
              "  "
            ]
          },
          "metadata": {},
          "execution_count": 34
        }
      ]
    },
    {
      "cell_type": "code",
      "source": [
        "test_acc['correct_preds'] =  [set(a).intersection(b) for a, b in zip(test_acc['article_id'], test_acc['test_recs'])]\n",
        "test_acc['num_correct'] = test_acc['correct_preds'].apply(len)\n",
        "print('avg number of correct recs:', test_acc['num_correct'].mean())\n",
        "test_acc['corr'] = (test_acc['num_correct']>0)*1\n",
        "print('accuracy', test_acc['num_correct'].sum()/445253)\n",
        "print('precision:', test_acc['num_correct'].sum() / sum(test_acc['article_id'].map(len)))\n",
        "print('recall:', test_acc['num_correct'].sum() / sum(test_acc['test_recs'].map(len)))"
      ],
      "metadata": {
        "colab": {
          "base_uri": "https://localhost:8080/"
        },
        "id": "v9EFafEz6i8C",
        "outputId": "983548b6-393a-4b88-def6-993fc4efb84c"
      },
      "execution_count": null,
      "outputs": [
        {
          "output_type": "stream",
          "name": "stdout",
          "text": [
            "avg number of correct recs: 0.20222601484707928\n",
            "accuracy 0.13013275598367668\n",
            "precision: 0.13449392430625676\n",
            "recall: 0.04044520296941585\n"
          ]
        }
      ]
    },
    {
      "cell_type": "markdown",
      "source": [
        "Save"
      ],
      "metadata": {
        "id": "zBYQRbmnzD9e"
      }
    },
    {
      "cell_type": "code",
      "source": [
        "final_res = test_acc[['customer_id', 'article_id', 'test_recs']]\n",
        "final_res.rename({'test_recs': 'cf_recs', 'article_id':'purchases'}, axis=1, inplace=True)\n",
        "final_res.to_csv(\"top5_collaborative_filtering_results.csv\", index=False)"
      ],
      "metadata": {
        "colab": {
          "base_uri": "https://localhost:8080/"
        },
        "id": "RY1C982QxKa9",
        "outputId": "1a003979-6cc6-4876-866c-b383525ee8a2"
      },
      "execution_count": null,
      "outputs": [
        {
          "output_type": "stream",
          "name": "stderr",
          "text": [
            "/usr/local/lib/python3.7/dist-packages/pandas/core/frame.py:5047: SettingWithCopyWarning: \n",
            "A value is trying to be set on a copy of a slice from a DataFrame\n",
            "\n",
            "See the caveats in the documentation: https://pandas.pydata.org/pandas-docs/stable/user_guide/indexing.html#returning-a-view-versus-a-copy\n",
            "  errors=errors,\n"
          ]
        }
      ]
    },
    {
      "cell_type": "code",
      "source": [
        "[float(i.rstrip()) for i in str(model.item_factors[0]).replace('[','').replace(']','').split(' ') if i != '' ]\n"
      ],
      "metadata": {
        "colab": {
          "base_uri": "https://localhost:8080/"
        },
        "id": "eLV4FTkJFpbr",
        "outputId": "95784b4d-3543-402b-bddd-bef1356a4ffc"
      },
      "execution_count": null,
      "outputs": [
        {
          "output_type": "execute_result",
          "data": {
            "text/plain": [
              "[-0.06226186,\n",
              " -0.06586203,\n",
              " -0.03584025,\n",
              " 0.03642365,\n",
              " 0.24569519,\n",
              " 0.0306516,\n",
              " 0.04594054,\n",
              " -0.00867645,\n",
              " 0.03291946,\n",
              " -0.05255023,\n",
              " -0.01077794,\n",
              " -0.15198345,\n",
              " 0.15606453,\n",
              " 0.03707664,\n",
              " -0.08060411]"
            ]
          },
          "metadata": {},
          "execution_count": 60
        }
      ]
    },
    {
      "cell_type": "code",
      "source": [
        "[[float(i.rstrip()) for i in str(model.item_factors[j]).replace('[','').replace(']','').split(' ') if i != '' ] for j in range(model.item_factors.shape[0])]"
      ],
      "metadata": {
        "id": "pdD9KRl2I9n2"
      },
      "execution_count": null,
      "outputs": []
    },
    {
      "cell_type": "code",
      "source": [
        ""
      ],
      "metadata": {
        "id": "J6EEX3k3JTrj"
      },
      "execution_count": null,
      "outputs": []
    }
  ]
}