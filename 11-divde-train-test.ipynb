{
  "nbformat": 4,
  "nbformat_minor": 0,
  "metadata": {
    "colab": {
      "name": "11-divde-train-test.ipynb",
      "provenance": [],
      "collapsed_sections": []
    },
    "kernelspec": {
      "name": "python3",
      "display_name": "Python 3"
    },
    "language_info": {
      "name": "python"
    }
  },
  "cells": [
    {
      "cell_type": "markdown",
      "source": [
        "#11-divide-train-test\n",
        "In this notebook, we subset the origianl merged dataset from the previous notebook. We selected the most 1000 populart products and 1000 customers who purchased the most. After subsetting the data, we divided it into train and test data using \"StratifiedShuffleSplit\" package. The 80% of the same customers belong to train data, and the rest of them goes to the test data. With this method, both training data and test data can share the same customers."
      ],
      "metadata": {
        "id": "SoigjS8J1wmG"
      }
    },
    {
      "cell_type": "code",
      "execution_count": 2,
      "metadata": {
        "colab": {
          "base_uri": "https://localhost:8080/"
        },
        "id": "p7HR09Rj3fX8",
        "outputId": "4dcb9789-58fa-4726-b612-d9b21b48b1cd"
      },
      "outputs": [
        {
          "output_type": "stream",
          "name": "stdout",
          "text": [
            "Mounted at /content/drive\n"
          ]
        }
      ],
      "source": [
        "from google.colab import drive\n",
        "drive.mount('/content/drive')                              "
      ]
    },
    {
      "cell_type": "code",
      "source": [
        "# import data\n",
        "import pandas as pd \n",
        "final_df = pd.read_csv('/content/drive/MyDrive/Colab_sized_data.csv')"
      ],
      "metadata": {
        "id": "1YuzXpwP3isi"
      },
      "execution_count": null,
      "outputs": []
    },
    {
      "cell_type": "code",
      "source": [
        "# Drop unnecessary columns\n",
        "final_df = final_df.drop(['Unnamed: 0', 'Unnamed: 0.1'], axis = 1)\n",
        "final_df = final_df.reset_index(drop = True)"
      ],
      "metadata": {
        "id": "KKsonh_lyx_J"
      },
      "execution_count": null,
      "outputs": []
    },
    {
      "cell_type": "markdown",
      "source": [
        "## Subset data"
      ],
      "metadata": {
        "id": "H3MkoQ-22f8k"
      }
    },
    {
      "cell_type": "code",
      "source": [
        "# Select the 1000 most popular products which was purchased during the 2 years.\n",
        "arciticle_count = final_df['article_id'].value_counts()\n",
        "\n",
        "article_list = arciticle_count.keys().tolist()\n",
        "count_list = arciticle_count.values.tolist()\n",
        "\n",
        "article_count_df = pd.DataFrame({'id': article_list, 'count': count_list})\n",
        "article_count_df= article_count_df.sort_values('count', ascending = False)\n",
        "article_count_df = article_count_df[:1000]\n",
        "\n",
        "used_id = article_count_df.id.unique()\n",
        "\n",
        "final_df = final_df[final_df['article_id'].isin(used_id)]"
      ],
      "metadata": {
        "id": "l1mnWrLdNFiz"
      },
      "execution_count": null,
      "outputs": []
    },
    {
      "cell_type": "code",
      "source": [
        "# Select customers\n",
        "id_count = final_df['customer_id'].value_counts()\n",
        "\n",
        "id_list = id_count.keys().tolist()\n",
        "count_list = id_count.values.tolist()\n",
        "\n",
        "id_count_df = pd.DataFrame({'id': id_list, 'count': count_list})\n",
        "\n",
        "# filter out customers of which transaction history is less than 2.\n",
        "used_id = id_count_df[id_count_df['count'] > 1].id.unique().tolist()\n",
        "\n",
        "final_df = final_df[final_df['customer_id'].isin(used_id)]"
      ],
      "metadata": {
        "id": "Z0ySnzVD4Etu"
      },
      "execution_count": null,
      "outputs": []
    },
    {
      "cell_type": "code",
      "source": [
        "final_df.head()"
      ],
      "metadata": {
        "id": "0xUc7z0sJIl5",
        "colab": {
          "base_uri": "https://localhost:8080/",
          "height": 577
        },
        "outputId": "cfda1a0e-5818-4d82-9086-7312eaba75dc"
      },
      "execution_count": null,
      "outputs": [
        {
          "output_type": "execute_result",
          "data": {
            "text/plain": [
              "    Unnamed: 0  Unnamed: 0.1       t_dat  \\\n",
              "3            3             3  2018-09-20   \n",
              "4            4             4  2018-09-20   \n",
              "5            5             5  2018-09-20   \n",
              "7            7             7  2018-09-20   \n",
              "11          11            11  2018-09-20   \n",
              "\n",
              "                                          customer_id  article_id     price  \\\n",
              "3   00007d2de826758b65a93dd24ce629ed66842531df6699...   685687003  0.016932   \n",
              "4   00007d2de826758b65a93dd24ce629ed66842531df6699...   685687004  0.016932   \n",
              "5   00007d2de826758b65a93dd24ce629ed66842531df6699...   685687001  0.016932   \n",
              "7   00083cda041544b2fbb0e0d2905ad17da7cf1007526fb4...   688873012  0.030492   \n",
              "11  00083cda041544b2fbb0e0d2905ad17da7cf1007526fb4...   688873011  0.030492   \n",
              "\n",
              "    sales_channel_id   FN  Active club_member_status  ... department_name  \\\n",
              "3                  2  1.0     1.0             ACTIVE  ...       Campaigns   \n",
              "4                  2  1.0     1.0             ACTIVE  ...       Campaigns   \n",
              "5                  2  1.0     1.0             ACTIVE  ...       Campaigns   \n",
              "7                  1  NaN     NaN             ACTIVE  ...          Blouse   \n",
              "11                 1  NaN     NaN             ACTIVE  ...          Blouse   \n",
              "\n",
              "    index_code  index_name  index_group_no index_group_name  section_no  \\\n",
              "3            A  Ladieswear               1       Ladieswear          15   \n",
              "4            A  Ladieswear               1       Ladieswear          15   \n",
              "5            A  Ladieswear               1       Ladieswear          15   \n",
              "7            A  Ladieswear               1       Ladieswear          11   \n",
              "11           A  Ladieswear               1       Ladieswear          11   \n",
              "\n",
              "                  section_name garment_group_no  garment_group_name  \\\n",
              "3   Womens Everyday Collection             1023      Special Offers   \n",
              "4   Womens Everyday Collection             1023      Special Offers   \n",
              "5   Womens Everyday Collection             1023      Special Offers   \n",
              "7             Womens Tailoring             1010             Blouses   \n",
              "11            Womens Tailoring             1010             Blouses   \n",
              "\n",
              "                                          detail_desc  \n",
              "3   V-neck knitted jumper with long sleeves and ri...  \n",
              "4   V-neck knitted jumper with long sleeves and ri...  \n",
              "5   V-neck knitted jumper with long sleeves and ri...  \n",
              "7   Blouse in a soft weave with a narrow collar, c...  \n",
              "11  Blouse in a soft weave with a narrow collar, c...  \n",
              "\n",
              "[5 rows x 37 columns]"
            ],
            "text/html": [
              "\n",
              "  <div id=\"df-2021d195-5bf7-49cc-9463-8d2b9e452c98\">\n",
              "    <div class=\"colab-df-container\">\n",
              "      <div>\n",
              "<style scoped>\n",
              "    .dataframe tbody tr th:only-of-type {\n",
              "        vertical-align: middle;\n",
              "    }\n",
              "\n",
              "    .dataframe tbody tr th {\n",
              "        vertical-align: top;\n",
              "    }\n",
              "\n",
              "    .dataframe thead th {\n",
              "        text-align: right;\n",
              "    }\n",
              "</style>\n",
              "<table border=\"1\" class=\"dataframe\">\n",
              "  <thead>\n",
              "    <tr style=\"text-align: right;\">\n",
              "      <th></th>\n",
              "      <th>Unnamed: 0</th>\n",
              "      <th>Unnamed: 0.1</th>\n",
              "      <th>t_dat</th>\n",
              "      <th>customer_id</th>\n",
              "      <th>article_id</th>\n",
              "      <th>price</th>\n",
              "      <th>sales_channel_id</th>\n",
              "      <th>FN</th>\n",
              "      <th>Active</th>\n",
              "      <th>club_member_status</th>\n",
              "      <th>...</th>\n",
              "      <th>department_name</th>\n",
              "      <th>index_code</th>\n",
              "      <th>index_name</th>\n",
              "      <th>index_group_no</th>\n",
              "      <th>index_group_name</th>\n",
              "      <th>section_no</th>\n",
              "      <th>section_name</th>\n",
              "      <th>garment_group_no</th>\n",
              "      <th>garment_group_name</th>\n",
              "      <th>detail_desc</th>\n",
              "    </tr>\n",
              "  </thead>\n",
              "  <tbody>\n",
              "    <tr>\n",
              "      <th>3</th>\n",
              "      <td>3</td>\n",
              "      <td>3</td>\n",
              "      <td>2018-09-20</td>\n",
              "      <td>00007d2de826758b65a93dd24ce629ed66842531df6699...</td>\n",
              "      <td>685687003</td>\n",
              "      <td>0.016932</td>\n",
              "      <td>2</td>\n",
              "      <td>1.0</td>\n",
              "      <td>1.0</td>\n",
              "      <td>ACTIVE</td>\n",
              "      <td>...</td>\n",
              "      <td>Campaigns</td>\n",
              "      <td>A</td>\n",
              "      <td>Ladieswear</td>\n",
              "      <td>1</td>\n",
              "      <td>Ladieswear</td>\n",
              "      <td>15</td>\n",
              "      <td>Womens Everyday Collection</td>\n",
              "      <td>1023</td>\n",
              "      <td>Special Offers</td>\n",
              "      <td>V-neck knitted jumper with long sleeves and ri...</td>\n",
              "    </tr>\n",
              "    <tr>\n",
              "      <th>4</th>\n",
              "      <td>4</td>\n",
              "      <td>4</td>\n",
              "      <td>2018-09-20</td>\n",
              "      <td>00007d2de826758b65a93dd24ce629ed66842531df6699...</td>\n",
              "      <td>685687004</td>\n",
              "      <td>0.016932</td>\n",
              "      <td>2</td>\n",
              "      <td>1.0</td>\n",
              "      <td>1.0</td>\n",
              "      <td>ACTIVE</td>\n",
              "      <td>...</td>\n",
              "      <td>Campaigns</td>\n",
              "      <td>A</td>\n",
              "      <td>Ladieswear</td>\n",
              "      <td>1</td>\n",
              "      <td>Ladieswear</td>\n",
              "      <td>15</td>\n",
              "      <td>Womens Everyday Collection</td>\n",
              "      <td>1023</td>\n",
              "      <td>Special Offers</td>\n",
              "      <td>V-neck knitted jumper with long sleeves and ri...</td>\n",
              "    </tr>\n",
              "    <tr>\n",
              "      <th>5</th>\n",
              "      <td>5</td>\n",
              "      <td>5</td>\n",
              "      <td>2018-09-20</td>\n",
              "      <td>00007d2de826758b65a93dd24ce629ed66842531df6699...</td>\n",
              "      <td>685687001</td>\n",
              "      <td>0.016932</td>\n",
              "      <td>2</td>\n",
              "      <td>1.0</td>\n",
              "      <td>1.0</td>\n",
              "      <td>ACTIVE</td>\n",
              "      <td>...</td>\n",
              "      <td>Campaigns</td>\n",
              "      <td>A</td>\n",
              "      <td>Ladieswear</td>\n",
              "      <td>1</td>\n",
              "      <td>Ladieswear</td>\n",
              "      <td>15</td>\n",
              "      <td>Womens Everyday Collection</td>\n",
              "      <td>1023</td>\n",
              "      <td>Special Offers</td>\n",
              "      <td>V-neck knitted jumper with long sleeves and ri...</td>\n",
              "    </tr>\n",
              "    <tr>\n",
              "      <th>7</th>\n",
              "      <td>7</td>\n",
              "      <td>7</td>\n",
              "      <td>2018-09-20</td>\n",
              "      <td>00083cda041544b2fbb0e0d2905ad17da7cf1007526fb4...</td>\n",
              "      <td>688873012</td>\n",
              "      <td>0.030492</td>\n",
              "      <td>1</td>\n",
              "      <td>NaN</td>\n",
              "      <td>NaN</td>\n",
              "      <td>ACTIVE</td>\n",
              "      <td>...</td>\n",
              "      <td>Blouse</td>\n",
              "      <td>A</td>\n",
              "      <td>Ladieswear</td>\n",
              "      <td>1</td>\n",
              "      <td>Ladieswear</td>\n",
              "      <td>11</td>\n",
              "      <td>Womens Tailoring</td>\n",
              "      <td>1010</td>\n",
              "      <td>Blouses</td>\n",
              "      <td>Blouse in a soft weave with a narrow collar, c...</td>\n",
              "    </tr>\n",
              "    <tr>\n",
              "      <th>11</th>\n",
              "      <td>11</td>\n",
              "      <td>11</td>\n",
              "      <td>2018-09-20</td>\n",
              "      <td>00083cda041544b2fbb0e0d2905ad17da7cf1007526fb4...</td>\n",
              "      <td>688873011</td>\n",
              "      <td>0.030492</td>\n",
              "      <td>1</td>\n",
              "      <td>NaN</td>\n",
              "      <td>NaN</td>\n",
              "      <td>ACTIVE</td>\n",
              "      <td>...</td>\n",
              "      <td>Blouse</td>\n",
              "      <td>A</td>\n",
              "      <td>Ladieswear</td>\n",
              "      <td>1</td>\n",
              "      <td>Ladieswear</td>\n",
              "      <td>11</td>\n",
              "      <td>Womens Tailoring</td>\n",
              "      <td>1010</td>\n",
              "      <td>Blouses</td>\n",
              "      <td>Blouse in a soft weave with a narrow collar, c...</td>\n",
              "    </tr>\n",
              "  </tbody>\n",
              "</table>\n",
              "<p>5 rows × 37 columns</p>\n",
              "</div>\n",
              "      <button class=\"colab-df-convert\" onclick=\"convertToInteractive('df-2021d195-5bf7-49cc-9463-8d2b9e452c98')\"\n",
              "              title=\"Convert this dataframe to an interactive table.\"\n",
              "              style=\"display:none;\">\n",
              "        \n",
              "  <svg xmlns=\"http://www.w3.org/2000/svg\" height=\"24px\"viewBox=\"0 0 24 24\"\n",
              "       width=\"24px\">\n",
              "    <path d=\"M0 0h24v24H0V0z\" fill=\"none\"/>\n",
              "    <path d=\"M18.56 5.44l.94 2.06.94-2.06 2.06-.94-2.06-.94-.94-2.06-.94 2.06-2.06.94zm-11 1L8.5 8.5l.94-2.06 2.06-.94-2.06-.94L8.5 2.5l-.94 2.06-2.06.94zm10 10l.94 2.06.94-2.06 2.06-.94-2.06-.94-.94-2.06-.94 2.06-2.06.94z\"/><path d=\"M17.41 7.96l-1.37-1.37c-.4-.4-.92-.59-1.43-.59-.52 0-1.04.2-1.43.59L10.3 9.45l-7.72 7.72c-.78.78-.78 2.05 0 2.83L4 21.41c.39.39.9.59 1.41.59.51 0 1.02-.2 1.41-.59l7.78-7.78 2.81-2.81c.8-.78.8-2.07 0-2.86zM5.41 20L4 18.59l7.72-7.72 1.47 1.35L5.41 20z\"/>\n",
              "  </svg>\n",
              "      </button>\n",
              "      \n",
              "  <style>\n",
              "    .colab-df-container {\n",
              "      display:flex;\n",
              "      flex-wrap:wrap;\n",
              "      gap: 12px;\n",
              "    }\n",
              "\n",
              "    .colab-df-convert {\n",
              "      background-color: #E8F0FE;\n",
              "      border: none;\n",
              "      border-radius: 50%;\n",
              "      cursor: pointer;\n",
              "      display: none;\n",
              "      fill: #1967D2;\n",
              "      height: 32px;\n",
              "      padding: 0 0 0 0;\n",
              "      width: 32px;\n",
              "    }\n",
              "\n",
              "    .colab-df-convert:hover {\n",
              "      background-color: #E2EBFA;\n",
              "      box-shadow: 0px 1px 2px rgba(60, 64, 67, 0.3), 0px 1px 3px 1px rgba(60, 64, 67, 0.15);\n",
              "      fill: #174EA6;\n",
              "    }\n",
              "\n",
              "    [theme=dark] .colab-df-convert {\n",
              "      background-color: #3B4455;\n",
              "      fill: #D2E3FC;\n",
              "    }\n",
              "\n",
              "    [theme=dark] .colab-df-convert:hover {\n",
              "      background-color: #434B5C;\n",
              "      box-shadow: 0px 1px 3px 1px rgba(0, 0, 0, 0.15);\n",
              "      filter: drop-shadow(0px 1px 2px rgba(0, 0, 0, 0.3));\n",
              "      fill: #FFFFFF;\n",
              "    }\n",
              "  </style>\n",
              "\n",
              "      <script>\n",
              "        const buttonEl =\n",
              "          document.querySelector('#df-2021d195-5bf7-49cc-9463-8d2b9e452c98 button.colab-df-convert');\n",
              "        buttonEl.style.display =\n",
              "          google.colab.kernel.accessAllowed ? 'block' : 'none';\n",
              "\n",
              "        async function convertToInteractive(key) {\n",
              "          const element = document.querySelector('#df-2021d195-5bf7-49cc-9463-8d2b9e452c98');\n",
              "          const dataTable =\n",
              "            await google.colab.kernel.invokeFunction('convertToInteractive',\n",
              "                                                     [key], {});\n",
              "          if (!dataTable) return;\n",
              "\n",
              "          const docLinkHtml = 'Like what you see? Visit the ' +\n",
              "            '<a target=\"_blank\" href=https://colab.research.google.com/notebooks/data_table.ipynb>data table notebook</a>'\n",
              "            + ' to learn more about interactive tables.';\n",
              "          element.innerHTML = '';\n",
              "          dataTable['output_type'] = 'display_data';\n",
              "          await google.colab.output.renderOutput(dataTable, element);\n",
              "          const docLink = document.createElement('div');\n",
              "          docLink.innerHTML = docLinkHtml;\n",
              "          element.appendChild(docLink);\n",
              "        }\n",
              "      </script>\n",
              "    </div>\n",
              "  </div>\n",
              "  "
            ]
          },
          "metadata": {},
          "execution_count": 5
        }
      ]
    },
    {
      "cell_type": "markdown",
      "source": [
        "## Split data into training and test"
      ],
      "metadata": {
        "id": "5BWHi__Q3MsK"
      }
    },
    {
      "cell_type": "code",
      "source": [
        "from sklearn.model_selection import StratifiedShuffleSplit\n",
        "import numpy as np\n",
        "\n",
        "splitter = StratifiedShuffleSplit(n_splits = 2, test_size = .2, random_state= 7)\n",
        "\n",
        "for train_index, test_index in splitter.split(np.zeros(final_df.shape[0]), final_df['customer_id'].to_numpy()):\n",
        "  train = final_df.iloc[train_index]\n",
        "  test = final_df.iloc[test_index]"
      ],
      "metadata": {
        "id": "x3W3_zwA308x"
      },
      "execution_count": null,
      "outputs": []
    },
    {
      "cell_type": "markdown",
      "source": [
        "## Sanity check\n",
        "After splitting data, let's see the size of training and test data. Also, we need to check how many unique customers in each dataset."
      ],
      "metadata": {
        "id": "O4xT4Z_T3aYc"
      }
    },
    {
      "cell_type": "code",
      "source": [
        "train.shape"
      ],
      "metadata": {
        "colab": {
          "base_uri": "https://localhost:8080/"
        },
        "id": "72vRL6R_PqTH",
        "outputId": "672ea7e6-66b8-4e82-df36-a5d081fe2dde"
      },
      "execution_count": null,
      "outputs": [
        {
          "output_type": "execute_result",
          "data": {
            "text/plain": [
              "(1781011, 35)"
            ]
          },
          "metadata": {},
          "execution_count": 27
        }
      ]
    },
    {
      "cell_type": "code",
      "source": [
        "test.shape"
      ],
      "metadata": {
        "colab": {
          "base_uri": "https://localhost:8080/"
        },
        "id": "7MPaegrqPrvs",
        "outputId": "3cd8ed3d-0712-4f24-a05c-98dc03882ca9"
      },
      "execution_count": null,
      "outputs": [
        {
          "output_type": "execute_result",
          "data": {
            "text/plain": [
              "(445253, 35)"
            ]
          },
          "metadata": {},
          "execution_count": 28
        }
      ]
    },
    {
      "cell_type": "code",
      "source": [
        "len(test['customer_id'].unique())"
      ],
      "metadata": {
        "colab": {
          "base_uri": "https://localhost:8080/"
        },
        "id": "WW4KnrQYIoTq",
        "outputId": "24f121dc-e830-4d3d-8b88-64458698ded3"
      },
      "execution_count": null,
      "outputs": [
        {
          "output_type": "execute_result",
          "data": {
            "text/plain": [
              "286521"
            ]
          },
          "metadata": {},
          "execution_count": 36
        }
      ]
    },
    {
      "cell_type": "code",
      "source": [
        "len(train['customer_id'].unique())"
      ],
      "metadata": {
        "colab": {
          "base_uri": "https://localhost:8080/"
        },
        "id": "We6yAc4PQGyE",
        "outputId": "3bfe5480-4deb-4db3-d4ac-35b93fdc2351"
      },
      "execution_count": null,
      "outputs": [
        {
          "output_type": "execute_result",
          "data": {
            "text/plain": [
              "390826"
            ]
          },
          "metadata": {},
          "execution_count": 37
        }
      ]
    },
    {
      "cell_type": "markdown",
      "source": [
        "## Save training and test data"
      ],
      "metadata": {
        "id": "Ig5yrWY23oIz"
      }
    },
    {
      "cell_type": "code",
      "source": [
        "train.to_csv('/content/drive/MyDrive/training_test/train_revise.csv')"
      ],
      "metadata": {
        "id": "xJn_ucgd9vKo"
      },
      "execution_count": null,
      "outputs": []
    },
    {
      "cell_type": "code",
      "source": [
        "test.to_csv('/content/drive/MyDrive/training_test/test_revise.csv')"
      ],
      "metadata": {
        "id": "tRh9r3T2zrPU"
      },
      "execution_count": null,
      "outputs": []
    }
  ]
}