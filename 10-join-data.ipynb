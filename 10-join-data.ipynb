{
  "nbformat": 4,
  "nbformat_minor": 0,
  "metadata": {
    "colab": {
      "name": "10-join-data.ipynb",
      "provenance": []
    },
    "kernelspec": {
      "name": "python3",
      "display_name": "Python 3"
    },
    "language_info": {
      "name": "python"
    }
  },
  "cells": [
    {
      "cell_type": "code",
      "execution_count": null,
      "metadata": {
        "id": "31-d79pRcKtC"
      },
      "outputs": [],
      "source": [
        "import pandas as pd\n",
        "\n",
        "articles = pd.read_csv('articles.csv')\n",
        "customers = pd.read_csv('customers.csv')\n",
        "transactions = pd.read_csv('transactions_train.csv')\n",
        "\n",
        "full_data = transactions.merge(customers,on = 'customer_id', how = 'left')\n",
        "full_data = full_data.merge(articles, on= 'article_id',how = 'left')\n",
        "\n",
        "full_data.to_csv('joined_data.csv')"
      ]
    }
  ]
}